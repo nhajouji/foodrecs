{
 "cells": [
  {
   "cell_type": "code",
   "execution_count": 1,
   "metadata": {},
   "outputs": [],
   "source": [
    "import pandas as pd\n",
    "import numpy as np\n",
    "import matplotlib.pyplot as plt"
   ]
  },
  {
   "cell_type": "markdown",
   "metadata": {},
   "source": [
    "## First Pass"
   ]
  },
  {
   "cell_type": "code",
   "execution_count": 42,
   "metadata": {},
   "outputs": [],
   "source": [
    "keyword_df_old = pd.read_pickle('../data/keywords.pk')\n",
    "keyword_df = pd.read_parquet('../data/clean_columns/keywords_clean.parquet')\n",
    "\n",
    "keyword_df['Name'] = keyword_df['Name'].str.lower()\n"
   ]
  },
  {
   "cell_type": "code",
   "execution_count": 14,
   "metadata": {},
   "outputs": [
    {
     "data": {
      "text/plain": [
       "376"
      ]
     },
     "execution_count": 14,
     "metadata": {},
     "output_type": "execute_result"
    }
   ],
   "source": [
    "keyword_list_orig = []\n",
    "for kwl in keyword_df.KeywordsClean:\n",
    "    keyword_list_orig+=list(kwl)\n",
    "\n",
    "keyword_list_orig_nr = list(set(keyword_list_orig))\n",
    "len(keyword_list_orig_nr)"
   ]
  },
  {
   "cell_type": "code",
<<<<<<< HEAD
   "execution_count": 4,
=======
   "execution_count": 15,
>>>>>>> f05b7f84a270acb670c2f2322e6083a974e42245
   "metadata": {},
   "outputs": [],
   "source": [
    "def region_check(word):\n",
    "    for ending in ['ian','ino','can','lan']:\n",
    "        if word[-3:]==ending:\n",
    "            return True\n",
    "    if word[-3:]=='ish' and word[-4]!='f':\n",
    "        return True\n",
    "    elif word[-3:]=='ese' and word[-4]!='e':\n",
    "        return True\n",
    "    elif 'west'in word:\n",
    "        return True\n",
    "    return False\n",
    "\n",
    "regions = [w for w in keyword_list_orig_nr if region_check(w)]\n",
    "regions+=['thai', 'new zealand','iraqi', 'creole', 'welsh','szechuan', 'hunan','korean',\n",
    "          'european', 'icelandic', 'pennsylvania dutch','pakistani', 'honduran', 'dutch',\n",
    "          'ecuadorean','chilean','czech','swiss','cuban', 'tex mex','greek','caribbean',\n",
    "          'cajun']"
   ]
  },
  {
   "cell_type": "code",
<<<<<<< HEAD
   "execution_count": 5,
=======
   "execution_count": 16,
>>>>>>> f05b7f84a270acb670c2f2322e6083a974e42245
   "metadata": {},
   "outputs": [
    {
     "data": {
      "text/plain": [
       "615"
      ]
     },
<<<<<<< HEAD
     "execution_count": 5,
=======
     "execution_count": 16,
>>>>>>> f05b7f84a270acb670c2f2322e6083a974e42245
     "metadata": {},
     "output_type": "execute_result"
    }
   ],
   "source": [
    "len([r for r in keyword_df.index if 'english' in keyword_df['Name'][r]])"
   ]
  },
  {
   "cell_type": "markdown",
   "metadata": {},
   "source": [
    "Most of the region keywords indicate country of origin, while others only indicate continent. To make everything consistent, we will make sure that whenever a country appears as a keyword, the continent that contains it also appears as a keyword. \n",
    "\n",
    "Note that a few continents don't appear as keywords in the original dataframe; we will add these to the list of keywords."
   ]
  },
  {
   "cell_type": "code",
<<<<<<< HEAD
   "execution_count": 6,
=======
   "execution_count": 37,
>>>>>>> f05b7f84a270acb670c2f2322e6083a974e42245
   "metadata": {},
   "outputs": [],
   "source": [
    "newkeywords = []\n",
    "\n",
    "missing_regions = ['english','british','american','french']\n",
    "\n",
    "for r in keyword_df.index:\n",
    "    newkeywords.append(list(keyword_df['KeywordsClean'][r])+[w for w in missing_regions if w in keyword_df['Name'][r]])\n",
    "\n",
    "keyword_df['Keywords_ext'] = newkeywords"
   ]
  },
  {
   "cell_type": "code",
<<<<<<< HEAD
   "execution_count": 7,
=======
   "execution_count": 38,
>>>>>>> f05b7f84a270acb670c2f2322e6083a974e42245
   "metadata": {},
   "outputs": [],
   "source": [
    "regions+=missing_regions"
   ]
  },
  {
   "cell_type": "code",
<<<<<<< HEAD
   "execution_count": 32,
   "metadata": {},
   "outputs": [],
   "source": [
    "keyword_df['RegionList'] = [list(set(regions).intersection(set(kws))) for kws in keyword_df.Keywords]"
=======
   "execution_count": 40,
   "metadata": {},
   "outputs": [],
   "source": [
    "keyword_df['RegionExt'] = [set(regions).intersection(set(kws)) for kws in keyword_df.KeywordsClean]"
   ]
  },
  {
   "cell_type": "code",
   "execution_count": 41,
   "metadata": {},
   "outputs": [
    {
     "ename": "KeyError",
     "evalue": "'RegionList'",
     "output_type": "error",
     "traceback": [
      "\u001b[0;31m---------------------------------------------------------------------------\u001b[0m",
      "\u001b[0;31mKeyError\u001b[0m                                  Traceback (most recent call last)",
      "File \u001b[0;32m~/anaconda3/envs/erdos_sp_2024/lib/python3.11/site-packages/pandas/core/indexes/base.py:3791\u001b[0m, in \u001b[0;36mIndex.get_loc\u001b[0;34m(self, key)\u001b[0m\n\u001b[1;32m   3790\u001b[0m \u001b[38;5;28;01mtry\u001b[39;00m:\n\u001b[0;32m-> 3791\u001b[0m     \u001b[38;5;28;01mreturn\u001b[39;00m \u001b[38;5;28;43mself\u001b[39;49m\u001b[38;5;241;43m.\u001b[39;49m\u001b[43m_engine\u001b[49m\u001b[38;5;241;43m.\u001b[39;49m\u001b[43mget_loc\u001b[49m\u001b[43m(\u001b[49m\u001b[43mcasted_key\u001b[49m\u001b[43m)\u001b[49m\n\u001b[1;32m   3792\u001b[0m \u001b[38;5;28;01mexcept\u001b[39;00m \u001b[38;5;167;01mKeyError\u001b[39;00m \u001b[38;5;28;01mas\u001b[39;00m err:\n",
      "File \u001b[0;32mindex.pyx:152\u001b[0m, in \u001b[0;36mpandas._libs.index.IndexEngine.get_loc\u001b[0;34m()\u001b[0m\n",
      "File \u001b[0;32mindex.pyx:181\u001b[0m, in \u001b[0;36mpandas._libs.index.IndexEngine.get_loc\u001b[0;34m()\u001b[0m\n",
      "File \u001b[0;32mpandas/_libs/hashtable_class_helper.pxi:7080\u001b[0m, in \u001b[0;36mpandas._libs.hashtable.PyObjectHashTable.get_item\u001b[0;34m()\u001b[0m\n",
      "File \u001b[0;32mpandas/_libs/hashtable_class_helper.pxi:7088\u001b[0m, in \u001b[0;36mpandas._libs.hashtable.PyObjectHashTable.get_item\u001b[0;34m()\u001b[0m\n",
      "\u001b[0;31mKeyError\u001b[0m: 'RegionList'",
      "\nThe above exception was the direct cause of the following exception:\n",
      "\u001b[0;31mKeyError\u001b[0m                                  Traceback (most recent call last)",
      "Cell \u001b[0;32mIn[41], line 1\u001b[0m\n\u001b[0;32m----> 1\u001b[0m region_df \u001b[38;5;241m=\u001b[39m keyword_df\u001b[38;5;241m.\u001b[39mloc[\u001b[43mkeyword_df\u001b[49m\u001b[43m[\u001b[49m\u001b[38;5;124;43m'\u001b[39;49m\u001b[38;5;124;43mRegionList\u001b[39;49m\u001b[38;5;124;43m'\u001b[39;49m\u001b[43m]\u001b[49m\u001b[38;5;241m.\u001b[39mapply(\u001b[38;5;28mlen\u001b[39m)\u001b[38;5;241m>\u001b[39m\u001b[38;5;241m0\u001b[39m][[\u001b[38;5;124m'\u001b[39m\u001b[38;5;124mName\u001b[39m\u001b[38;5;124m'\u001b[39m,\u001b[38;5;124m'\u001b[39m\u001b[38;5;124mRegionList\u001b[39m\u001b[38;5;124m'\u001b[39m]]\u001b[38;5;241m.\u001b[39mcopy()\n",
      "File \u001b[0;32m~/anaconda3/envs/erdos_sp_2024/lib/python3.11/site-packages/pandas/core/frame.py:3893\u001b[0m, in \u001b[0;36mDataFrame.__getitem__\u001b[0;34m(self, key)\u001b[0m\n\u001b[1;32m   3891\u001b[0m \u001b[38;5;28;01mif\u001b[39;00m \u001b[38;5;28mself\u001b[39m\u001b[38;5;241m.\u001b[39mcolumns\u001b[38;5;241m.\u001b[39mnlevels \u001b[38;5;241m>\u001b[39m \u001b[38;5;241m1\u001b[39m:\n\u001b[1;32m   3892\u001b[0m     \u001b[38;5;28;01mreturn\u001b[39;00m \u001b[38;5;28mself\u001b[39m\u001b[38;5;241m.\u001b[39m_getitem_multilevel(key)\n\u001b[0;32m-> 3893\u001b[0m indexer \u001b[38;5;241m=\u001b[39m \u001b[38;5;28;43mself\u001b[39;49m\u001b[38;5;241;43m.\u001b[39;49m\u001b[43mcolumns\u001b[49m\u001b[38;5;241;43m.\u001b[39;49m\u001b[43mget_loc\u001b[49m\u001b[43m(\u001b[49m\u001b[43mkey\u001b[49m\u001b[43m)\u001b[49m\n\u001b[1;32m   3894\u001b[0m \u001b[38;5;28;01mif\u001b[39;00m is_integer(indexer):\n\u001b[1;32m   3895\u001b[0m     indexer \u001b[38;5;241m=\u001b[39m [indexer]\n",
      "File \u001b[0;32m~/anaconda3/envs/erdos_sp_2024/lib/python3.11/site-packages/pandas/core/indexes/base.py:3798\u001b[0m, in \u001b[0;36mIndex.get_loc\u001b[0;34m(self, key)\u001b[0m\n\u001b[1;32m   3793\u001b[0m     \u001b[38;5;28;01mif\u001b[39;00m \u001b[38;5;28misinstance\u001b[39m(casted_key, \u001b[38;5;28mslice\u001b[39m) \u001b[38;5;129;01mor\u001b[39;00m (\n\u001b[1;32m   3794\u001b[0m         \u001b[38;5;28misinstance\u001b[39m(casted_key, abc\u001b[38;5;241m.\u001b[39mIterable)\n\u001b[1;32m   3795\u001b[0m         \u001b[38;5;129;01mand\u001b[39;00m \u001b[38;5;28many\u001b[39m(\u001b[38;5;28misinstance\u001b[39m(x, \u001b[38;5;28mslice\u001b[39m) \u001b[38;5;28;01mfor\u001b[39;00m x \u001b[38;5;129;01min\u001b[39;00m casted_key)\n\u001b[1;32m   3796\u001b[0m     ):\n\u001b[1;32m   3797\u001b[0m         \u001b[38;5;28;01mraise\u001b[39;00m InvalidIndexError(key)\n\u001b[0;32m-> 3798\u001b[0m     \u001b[38;5;28;01mraise\u001b[39;00m \u001b[38;5;167;01mKeyError\u001b[39;00m(key) \u001b[38;5;28;01mfrom\u001b[39;00m \u001b[38;5;21;01merr\u001b[39;00m\n\u001b[1;32m   3799\u001b[0m \u001b[38;5;28;01mexcept\u001b[39;00m \u001b[38;5;167;01mTypeError\u001b[39;00m:\n\u001b[1;32m   3800\u001b[0m     \u001b[38;5;66;03m# If we have a listlike key, _check_indexing_error will raise\u001b[39;00m\n\u001b[1;32m   3801\u001b[0m     \u001b[38;5;66;03m#  InvalidIndexError. Otherwise we fall through and re-raise\u001b[39;00m\n\u001b[1;32m   3802\u001b[0m     \u001b[38;5;66;03m#  the TypeError.\u001b[39;00m\n\u001b[1;32m   3803\u001b[0m     \u001b[38;5;28mself\u001b[39m\u001b[38;5;241m.\u001b[39m_check_indexing_error(key)\n",
      "\u001b[0;31mKeyError\u001b[0m: 'RegionList'"
     ]
    }
   ],
   "source": [
    "region_df = keyword_df.loc[keyword_df['RegionList'].apply(len)>0][['Name','RegionList']].copy()"
   ]
  },
  {
   "cell_type": "code",
   "execution_count": 432,
   "metadata": {},
   "outputs": [],
   "source": [
    "unknown_region = keyword_df.loc[keyword_df['RegionList'].apply(len)==0][['Name']].copy()"
   ]
  },
  {
   "cell_type": "code",
   "execution_count": 91,
   "metadata": {},
   "outputs": [],
   "source": [
    "region_df['RegionKeywords'] = [list(set(region_df['Continents'][r]+region_df['RegionList'][r])) for r in region_df.index]"
   ]
  },
  {
   "cell_type": "code",
   "execution_count": 124,
   "metadata": {},
   "outputs": [],
   "source": [
    "by_region= {}\n",
    "by_region['us/canada'] = ['canadian','pennsylvania dutch','native american', 'tex mex', 'southwestern u.s.','creole','cajun']\n",
    "by_region['central america'] = ['honduran','guatemalan','mexican','costa rican','tex mex']\n",
    "by_region['caribbean'] = ['cuban','puerto rican']\n",
    "by_region['scandinavian'] = ['finnish','swedish','danish','icelandic']\n",
    "by_region['british'] = ['scottish','welsh','english']\n",
    "by_region['arab'] = ['southwest asia (middle east)','lebanese','palestinian','egyptian','moroccan','iraqi']\n",
    "by_region['mediterranean'] = ['italian','greek','turkish','moroccan','egyptian']\n",
    "by_region['east_asia'] = ['japanese','cantonese','chinese','hunan','korean','szechuan']\n"
>>>>>>> f05b7f84a270acb670c2f2322e6083a974e42245
   ]
  },
  {
   "cell_type": "code",
   "execution_count": null,
   "metadata": {},
   "outputs": [],
   "source": [
    "def region_vec(rkwl:list)->list:\n",
    "    vec = [0]*len(regions)\n",
    "    for i in range(len(regions)):\n",
    "        if regions[i] in rkwl:\n",
    "            vec[i]+=1\n",
    "    return vec\n"
   ]
  },
  {
   "cell_type": "code",
   "execution_count": 25,
   "metadata": {},
   "outputs": [],
   "source": [
    "italian_words= ['italy','lasagna','spaghetti','pasta','pizza','pesto','bruschetta','caprese','penne','linguini','alfredo','bolognese',\n",
    "                     'risotto','gnocchi','tuscan','lombardi','ziti','tiramisu','tetrazzini','osso bucco','milanese','cacciatore',\n",
    "                     'sicilian','biscotti','focaccia','tortellini','stromboli','mozzarella','calzone','cavatelli','marinara','orecchiette',\n",
    "                     'limoncello','piccata','manicotti','pomodoro','crostini','ravioli', 'mostaccioli','saltimbocca','fettuccini','linguine',\n",
    "                     'minestrone','parmigian','scarpariello']\n",
    "chinese_words = ['chang']\n",
    "english_words = ['bubble and squeak','shepherd','yorkshire','devonshire','faggots','trifle','meat pie']\n",
    "irish_words = ['irish','dublin','guinness','blarney','st. patrick','st patty','st. patty']\n",
    "german_words = ['german','schnitzel','wurst','suppe','barvarian','bavarian','spaetzle','schwein','sauer','rahmapfelkuchen',\n",
    "                'tropfkrapfen','kartoffelpfannkuchen','rindergulasch','gedunstet',' mit ']\n",
    "french_words = ['creme brulee','boulangere','bourguignonne','escargot','hollandaise','bouillabaisse','burgundy','parisienne','ratatouille',\n",
    "                'crepe','gratin','croute','lyonnaise','de chou','quiche','en bleu']\n",
    "indian_words = ['marsala','tandoori','chutney']\n",
    "jamaican_words = ['jamaica']\n",
    "american_words = ['n. y. c.','u.s.','new york','new england','amish']\n",
    "russian_words = ['russia','stroganoff']\n",
    "ukrainian_words = ['ukrainian']\n",
    "austrian_words = ['austrian','wolfgang puck']\n",
    "caribbean_words = ['caribbean']\n",
    "\n",
    "def classify_reg(name):\n",
    "    poss_regs = []\n",
    "    for w in italian_words:\n",
    "        if w in name:\n",
    "            poss_regs.append('italian')\n",
    "    for w in chinese_words:\n",
    "        if w in name:\n",
    "            poss_regs.append('chinese')\n",
    "    for w in english_words:\n",
    "        if w in name:\n",
    "            poss_regs.append('english')\n",
    "    for w in irish_words:\n",
    "        if w in name:\n",
    "            poss_regs.append('irish')\n",
    "    for w in german_words:\n",
    "        if w in name:\n",
    "            poss_regs.append('german')\n",
    "    for w in french_words:\n",
    "        if w in name:\n",
    "            poss_regs.append('french')\n",
    "    for w in indian_words:\n",
    "        if w in name:\n",
    "            poss_regs.append('indian')\n",
    "    for w in jamaican_words:\n",
    "        if w in name:\n",
    "            poss_regs.append('jamaican')\n",
    "    for w in american_words:\n",
    "        if w in name:\n",
    "            poss_regs.append('usa')\n",
    "    for w in ukrainian_words:\n",
    "        if w in name:\n",
    "            poss_regs.append('ukrainian')\n",
    "    for w in russian_words:\n",
    "        if w in name:\n",
    "            poss_regs.append('russian')\n",
    "    for w in austrian_words:\n",
    "        if w in name:\n",
    "            poss_regs.append('austrian')\n",
    "    for w in caribbean_words:\n",
    "        if w in name:\n",
    "            poss_regs.append('caribbean')\n",
    "    return list(set(poss_regs))"
   ]
  },
  {
   "cell_type": "code",
   "execution_count": 33,
   "metadata": {},
   "outputs": [],
   "source": [
    "keywords_ext = []\n",
    "for rec in keyword_df.index:\n",
    "    regs0 = keyword_df['RegionList'][rec]\n",
    "    keywords_ext.append(list(set(regs0+classify_reg(keyword_df['Name'][rec]))))\n",
    "\n",
    "keyword_df['RegionKeywords']=keywords_ext\n",
    "\n",
    "keyword_df.loc[keyword_df['RegionExt'].apply(len)>0]\n",
    "region_df = keyword_df.loc[keyword_df['RegionKeywords'].apply(len)>0][['Name','RegionKeywords']].copy()"
   ]
  },
  {
   "cell_type": "code",
   "execution_count": 34,
   "metadata": {},
   "outputs": [
    {
     "data": {
      "text/html": [
       "<div>\n",
       "<style scoped>\n",
       "    .dataframe tbody tr th:only-of-type {\n",
       "        vertical-align: middle;\n",
       "    }\n",
       "\n",
       "    .dataframe tbody tr th {\n",
       "        vertical-align: top;\n",
       "    }\n",
       "\n",
       "    .dataframe thead th {\n",
       "        text-align: right;\n",
       "    }\n",
       "</style>\n",
       "<table border=\"1\" class=\"dataframe\">\n",
       "  <thead>\n",
       "    <tr style=\"text-align: right;\">\n",
       "      <th></th>\n",
       "      <th>Name</th>\n",
       "      <th>RegionKeywords</th>\n",
       "    </tr>\n",
       "    <tr>\n",
       "      <th>RecipeId</th>\n",
       "      <th></th>\n",
       "      <th></th>\n",
       "    </tr>\n",
       "  </thead>\n",
       "  <tbody>\n",
       "    <tr>\n",
       "      <th>49</th>\n",
       "      <td>chicken breasts lombardi</td>\n",
       "      <td>[italian, european]</td>\n",
       "    </tr>\n",
       "    <tr>\n",
       "      <th>55</th>\n",
       "      <td>betty crocker's southwestern guacamole dip</td>\n",
       "      <td>[southwestern u.s., mexican]</td>\n",
       "    </tr>\n",
       "    <tr>\n",
       "      <th>58</th>\n",
       "      <td>low-fat burgundy beef &amp; vegetable stew</td>\n",
       "      <td>[french]</td>\n",
       "    </tr>\n",
       "    <tr>\n",
       "      <th>59</th>\n",
       "      <td>lou's fabulous bruschetta</td>\n",
       "      <td>[italian, european]</td>\n",
       "    </tr>\n",
       "    <tr>\n",
       "      <th>62</th>\n",
       "      <td>black bean, corn, and tomato salad</td>\n",
       "      <td>[polish]</td>\n",
       "    </tr>\n",
       "    <tr>\n",
       "      <th>...</th>\n",
       "      <td>...</td>\n",
       "      <td>...</td>\n",
       "    </tr>\n",
       "    <tr>\n",
       "      <th>539115</th>\n",
       "      <td>dutch fried potatoes (gebakken aardappelen)</td>\n",
       "      <td>[dutch, european]</td>\n",
       "    </tr>\n",
       "    <tr>\n",
       "      <th>539152</th>\n",
       "      <td>stir fried noodles (mie goreng)</td>\n",
       "      <td>[dutch, asian, european, indonesian]</td>\n",
       "    </tr>\n",
       "    <tr>\n",
       "      <th>539182</th>\n",
       "      <td>cinnamony sweet moroccan orange salad</td>\n",
       "      <td>[african, moroccan]</td>\n",
       "    </tr>\n",
       "    <tr>\n",
       "      <th>539184</th>\n",
       "      <td>belgian chocolate-fudge sauce</td>\n",
       "      <td>[european, belgian]</td>\n",
       "    </tr>\n",
       "    <tr>\n",
       "      <th>540263</th>\n",
       "      <td>ho chi minh limeade</td>\n",
       "      <td>[vietnamese]</td>\n",
       "    </tr>\n",
       "  </tbody>\n",
       "</table>\n",
       "<p>42836 rows × 2 columns</p>\n",
       "</div>"
      ],
      "text/plain": [
       "                                                 Name  \\\n",
       "RecipeId                                                \n",
       "49                           chicken breasts lombardi   \n",
       "55         betty crocker's southwestern guacamole dip   \n",
       "58             low-fat burgundy beef & vegetable stew   \n",
       "59                          lou's fabulous bruschetta   \n",
       "62                 black bean, corn, and tomato salad   \n",
       "...                                               ...   \n",
       "539115    dutch fried potatoes (gebakken aardappelen)   \n",
       "539152                stir fried noodles (mie goreng)   \n",
       "539182          cinnamony sweet moroccan orange salad   \n",
       "539184                  belgian chocolate-fudge sauce   \n",
       "540263                            ho chi minh limeade   \n",
       "\n",
       "                                RegionKeywords  \n",
       "RecipeId                                        \n",
       "49                         [italian, european]  \n",
       "55                [southwestern u.s., mexican]  \n",
       "58                                    [french]  \n",
       "59                         [italian, european]  \n",
       "62                                    [polish]  \n",
       "...                                        ...  \n",
       "539115                       [dutch, european]  \n",
       "539152    [dutch, asian, european, indonesian]  \n",
       "539182                     [african, moroccan]  \n",
       "539184                     [european, belgian]  \n",
       "540263                            [vietnamese]  \n",
       "\n",
       "[42836 rows x 2 columns]"
      ]
     },
     "execution_count": 34,
     "metadata": {},
     "output_type": "execute_result"
    }
   ],
   "source": [
    "region_df"
   ]
  },
  {
   "cell_type": "code",
   "execution_count": 36,
   "metadata": {},
   "outputs": [],
   "source": [
    "by_continent = {}\n",
    "\n",
    "by_continent['north american'] = ['mexican','canadian', 'guatemalan', 'southwestern u.s.','creole', 'pennsylvania dutch','honduran',\n",
    " 'tex mex', 'native american','costa rican','cajun','usa','american']\n",
    "by_continent['south american'] = ['brazilian','ecuadorean','chilean','peruvian','colombian','venezuelan']\n",
    "by_continent['european'] = ['finnish','swedish','scandinavian','russian','spanish','portuguese', 'polish', 'georgian','danish','norwegian',\n",
    "                            'belgian','welsh','icelandic','dutch','czech','swiss','hungarian','scottish','turkish','austrian','italian','greek',\n",
    "                            'french','english','british','irish','german','ukrainian']\n",
    "by_continent['asian'] = ['cambodian','malaysian','indonesian','southwest asia (middle east)','filipino','chinese','indian','vietnamese','lebanese',\n",
    "                         'japanese','cantonese','thai','iraqi','szechuan','hunan', 'korean','pakistani','turkish','nepalese','mongolian','palestinian']\n",
    "by_continent['african'] = ['nigerian','somalian','south african','moroccan','egyptian','sudanese','ethiopian']\n",
    "by_continent['oceania/islands'] = ['polynesian','hawaiian','new zealand','australian','caribbean','cuban','puerto rican','jamaican']\n",
    "\n",
    "continents = list(by_continent.keys())\n",
    "countries = []\n",
    "for c in continents:\n",
    "    countries+=by_continent[c]\n",
    "\n",
    "countries = list(set(countries))\n",
    "\n",
    "country_to_continents = {country:[] for country in countries}\n",
    "for continent in continents:\n",
    "    for country in by_continent[continent]:\n",
    "        country_to_continents[country].append(continent)\n",
    "\n",
    "def get_continents(rkws:list)->list:\n",
    "    conts0 = list(set(continents).intersection(rkws))\n",
    "    for country in set(rkws).intersection(set(countries)):\n",
    "        conts0+=country_to_continents[country]\n",
    "    conts0 = list(set(conts0))\n",
    "    return conts0\n"
   ]
  },
  {
   "cell_type": "code",
   "execution_count": 35,
   "metadata": {},
   "outputs": [
    {
     "data": {
      "text/html": [
       "<div>\n",
       "<style scoped>\n",
       "    .dataframe tbody tr th:only-of-type {\n",
       "        vertical-align: middle;\n",
       "    }\n",
       "\n",
       "    .dataframe tbody tr th {\n",
       "        vertical-align: top;\n",
       "    }\n",
       "\n",
       "    .dataframe thead th {\n",
       "        text-align: right;\n",
       "    }\n",
       "</style>\n",
       "<table border=\"1\" class=\"dataframe\">\n",
       "  <thead>\n",
       "    <tr style=\"text-align: right;\">\n",
       "      <th></th>\n",
       "      <th>Name</th>\n",
       "      <th>RegionKeywords</th>\n",
       "    </tr>\n",
       "    <tr>\n",
       "      <th>RecipeId</th>\n",
       "      <th></th>\n",
       "      <th></th>\n",
       "    </tr>\n",
       "  </thead>\n",
       "  <tbody>\n",
       "    <tr>\n",
       "      <th>49</th>\n",
       "      <td>chicken breasts lombardi</td>\n",
       "      <td>[italian, european]</td>\n",
       "    </tr>\n",
       "    <tr>\n",
       "      <th>55</th>\n",
       "      <td>betty crocker's southwestern guacamole dip</td>\n",
       "      <td>[southwestern u.s., mexican]</td>\n",
       "    </tr>\n",
       "    <tr>\n",
       "      <th>58</th>\n",
       "      <td>low-fat burgundy beef &amp; vegetable stew</td>\n",
       "      <td>[french]</td>\n",
       "    </tr>\n",
       "    <tr>\n",
       "      <th>59</th>\n",
       "      <td>lou's fabulous bruschetta</td>\n",
       "      <td>[italian, european]</td>\n",
       "    </tr>\n",
       "    <tr>\n",
       "      <th>62</th>\n",
       "      <td>black bean, corn, and tomato salad</td>\n",
       "      <td>[polish]</td>\n",
       "    </tr>\n",
       "    <tr>\n",
       "      <th>...</th>\n",
       "      <td>...</td>\n",
       "      <td>...</td>\n",
       "    </tr>\n",
       "    <tr>\n",
       "      <th>539115</th>\n",
       "      <td>dutch fried potatoes (gebakken aardappelen)</td>\n",
       "      <td>[dutch, european]</td>\n",
       "    </tr>\n",
       "    <tr>\n",
       "      <th>539152</th>\n",
       "      <td>stir fried noodles (mie goreng)</td>\n",
       "      <td>[dutch, asian, european, indonesian]</td>\n",
       "    </tr>\n",
       "    <tr>\n",
       "      <th>539182</th>\n",
       "      <td>cinnamony sweet moroccan orange salad</td>\n",
       "      <td>[african, moroccan]</td>\n",
       "    </tr>\n",
       "    <tr>\n",
       "      <th>539184</th>\n",
       "      <td>belgian chocolate-fudge sauce</td>\n",
       "      <td>[european, belgian]</td>\n",
       "    </tr>\n",
       "    <tr>\n",
       "      <th>540263</th>\n",
       "      <td>ho chi minh limeade</td>\n",
       "      <td>[vietnamese]</td>\n",
       "    </tr>\n",
       "  </tbody>\n",
       "</table>\n",
       "<p>42836 rows × 2 columns</p>\n",
       "</div>"
      ],
      "text/plain": [
       "                                                 Name  \\\n",
       "RecipeId                                                \n",
       "49                           chicken breasts lombardi   \n",
       "55         betty crocker's southwestern guacamole dip   \n",
       "58             low-fat burgundy beef & vegetable stew   \n",
       "59                          lou's fabulous bruschetta   \n",
       "62                 black bean, corn, and tomato salad   \n",
       "...                                               ...   \n",
       "539115    dutch fried potatoes (gebakken aardappelen)   \n",
       "539152                stir fried noodles (mie goreng)   \n",
       "539182          cinnamony sweet moroccan orange salad   \n",
       "539184                  belgian chocolate-fudge sauce   \n",
       "540263                            ho chi minh limeade   \n",
       "\n",
       "                                RegionKeywords  \n",
       "RecipeId                                        \n",
       "49                         [italian, european]  \n",
       "55                [southwestern u.s., mexican]  \n",
       "58                                    [french]  \n",
       "59                         [italian, european]  \n",
       "62                                    [polish]  \n",
       "...                                        ...  \n",
       "539115                       [dutch, european]  \n",
       "539152    [dutch, asian, european, indonesian]  \n",
       "539182                     [african, moroccan]  \n",
       "539184                     [european, belgian]  \n",
       "540263                            [vietnamese]  \n",
       "\n",
       "[42836 rows x 2 columns]"
      ]
     },
     "execution_count": 35,
     "metadata": {},
     "output_type": "execute_result"
    }
   ],
   "source": [
    "region_df"
   ]
  },
  {
   "cell_type": "code",
   "execution_count": 37,
   "metadata": {},
   "outputs": [],
   "source": [
    "region_df['Regions'] = [[w for w in region_df['RegionKeywords'][rec] if w not in continents] for rec in region_df.index]"
   ]
  },
  {
   "cell_type": "code",
   "execution_count": 476,
   "metadata": {},
   "outputs": [],
   "source": [
    "region_df.to_pickle('../data/clean_columns/regiondatav0.pk')"
   ]
  },
  {
   "cell_type": "code",
   "execution_count": null,
   "metadata": {},
   "outputs": [],
   "source": []
  },
  {
   "cell_type": "markdown",
   "metadata": {},
   "source": [
    "## Second Pass\n",
    "We're going to add regions - something between countries and continents."
   ]
  },
  {
   "cell_type": "code",
   "execution_count": 4,
   "metadata": {},
   "outputs": [],
   "source": [
    "regions_df = pd.read_pickle('../data/regiondatav0.pk')\n"
   ]
  },
  {
   "cell_type": "code",
   "execution_count": 40,
   "metadata": {},
   "outputs": [],
   "source": [
    "country_list = []\n",
    "for cl in region_df.Regions:\n",
    "    country_list+=list(cl)\n",
    "country_list = list(set(country_list))"
   ]
  },
  {
   "cell_type": "code",
   "execution_count": 38,
   "metadata": {},
   "outputs": [],
   "source": [
    "by_region= {}\n",
    "by_region['us/canada'] = ['canadian','pennsylvania dutch','native american', 'tex mex', 'southwestern u.s.','creole','cajun','american','usa']\n",
    "by_region['central america'] = ['honduran','guatemalan','mexican','costa rican']\n",
    "by_region['caribbean'] = ['cuban','puerto rican','jamaican']\n",
    "by_region['scandinavian'] = ['finnish','swedish','danish','icelandic','norwegian']\n",
    "by_region['british'] = ['scottish','welsh','english','irish']\n",
    "by_region['eastern europe'] = ['russian','ukrainian','georgian','polish']\n",
    "by_region['central europe'] = ['german','dutch','austrian','swiss','belgian','czech','hungarian']\n",
    "by_region['arab'] = ['southwest asia (middle east)','lebanese','palestinian','egyptian','moroccan','iraqi']\n",
    "by_region['mediterranean'] = ['italian','greek','turkish','moroccan','egyptian','spanish','french','portuguese']\n",
    "by_region['east asia'] = ['japanese','cantonese','chinese','hunan', 'nepalese','korean','szechuan','vietnamese','thai','filipino','mongolian', 'cambodian']\n",
    "by_region['sotheast asia'] = ['malaysian','indonesian','indian','pakistani']\n",
    "by_region['subsaharan africa'] = ['somalian','south african','nigerian','ethiopian','sudanese']\n",
    "by_region['south america'] = ['colombian', 'chilean', 'peruvian', 'ecuadorean', 'venezuelan', 'brazilian']\n",
    "by_region['pacific island'] = ['australian','polynesian','hawaiian','new zealand','japanese','thai','filipino']\n",
    "\n",
    "country_to_regions = {region:[region] for region in by_region}\n",
    "for region in by_region:\n",
    "    for country in by_region[region]:\n",
    "        if country in country_to_regions:\n",
    "            country_to_regions[country].append(region)\n",
    "        else:\n",
    "            country_to_regions[country] = [region]"
   ]
  },
  {
   "cell_type": "code",
   "execution_count": 41,
   "metadata": {},
   "outputs": [],
   "source": [
    "region_df['Countries'] = region_df['Regions']"
   ]
  },
  {
   "cell_type": "code",
   "execution_count": 44,
   "metadata": {},
   "outputs": [],
   "source": [
    "regions= []\n",
    "for countrylist in region_df.Countries:\n",
    "    regionlist = []\n",
    "    for country in countrylist:\n",
    "        regionlist+=country_to_regions[country]\n",
    "    regions.append(list(set(regionlist)))\n",
    "region_df['Regions']=regions"
   ]
  },
  {
   "cell_type": "code",
   "execution_count": 35,
   "metadata": {},
   "outputs": [],
   "source": [
    "regions_df[['Name','Continents','Regions','Countries']].to_pickle('../data/regiondatav1.pk')"
   ]
  },
  {
   "cell_type": "code",
   "execution_count": 45,
   "metadata": {},
   "outputs": [
    {
     "data": {
      "text/html": [
       "<div>\n",
       "<style scoped>\n",
       "    .dataframe tbody tr th:only-of-type {\n",
       "        vertical-align: middle;\n",
       "    }\n",
       "\n",
       "    .dataframe tbody tr th {\n",
       "        vertical-align: top;\n",
       "    }\n",
       "\n",
       "    .dataframe thead th {\n",
       "        text-align: right;\n",
       "    }\n",
       "</style>\n",
       "<table border=\"1\" class=\"dataframe\">\n",
       "  <thead>\n",
       "    <tr style=\"text-align: right;\">\n",
       "      <th></th>\n",
       "      <th>Name</th>\n",
       "      <th>RegionKeywords</th>\n",
       "      <th>Regions</th>\n",
       "      <th>Countries</th>\n",
       "    </tr>\n",
       "    <tr>\n",
       "      <th>RecipeId</th>\n",
       "      <th></th>\n",
       "      <th></th>\n",
       "      <th></th>\n",
       "      <th></th>\n",
       "    </tr>\n",
       "  </thead>\n",
       "  <tbody>\n",
       "    <tr>\n",
       "      <th>49</th>\n",
       "      <td>chicken breasts lombardi</td>\n",
       "      <td>[italian, european]</td>\n",
       "      <td>[mediterranean]</td>\n",
       "      <td>[italian]</td>\n",
       "    </tr>\n",
       "    <tr>\n",
       "      <th>55</th>\n",
       "      <td>betty crocker's southwestern guacamole dip</td>\n",
       "      <td>[southwestern u.s., mexican]</td>\n",
       "      <td>[us/canada, central america]</td>\n",
       "      <td>[southwestern u.s., mexican]</td>\n",
       "    </tr>\n",
       "    <tr>\n",
       "      <th>58</th>\n",
       "      <td>low-fat burgundy beef &amp; vegetable stew</td>\n",
       "      <td>[french]</td>\n",
       "      <td>[mediterranean]</td>\n",
       "      <td>[french]</td>\n",
       "    </tr>\n",
       "    <tr>\n",
       "      <th>59</th>\n",
       "      <td>lou's fabulous bruschetta</td>\n",
       "      <td>[italian, european]</td>\n",
       "      <td>[mediterranean]</td>\n",
       "      <td>[italian]</td>\n",
       "    </tr>\n",
       "    <tr>\n",
       "      <th>62</th>\n",
       "      <td>black bean, corn, and tomato salad</td>\n",
       "      <td>[polish]</td>\n",
       "      <td>[eastern europe]</td>\n",
       "      <td>[polish]</td>\n",
       "    </tr>\n",
       "    <tr>\n",
       "      <th>...</th>\n",
       "      <td>...</td>\n",
       "      <td>...</td>\n",
       "      <td>...</td>\n",
       "      <td>...</td>\n",
       "    </tr>\n",
       "    <tr>\n",
       "      <th>539115</th>\n",
       "      <td>dutch fried potatoes (gebakken aardappelen)</td>\n",
       "      <td>[dutch, european]</td>\n",
       "      <td>[central europe]</td>\n",
       "      <td>[dutch]</td>\n",
       "    </tr>\n",
       "    <tr>\n",
       "      <th>539152</th>\n",
       "      <td>stir fried noodles (mie goreng)</td>\n",
       "      <td>[dutch, asian, european, indonesian]</td>\n",
       "      <td>[sotheast asia, central europe]</td>\n",
       "      <td>[dutch, indonesian]</td>\n",
       "    </tr>\n",
       "    <tr>\n",
       "      <th>539182</th>\n",
       "      <td>cinnamony sweet moroccan orange salad</td>\n",
       "      <td>[african, moroccan]</td>\n",
       "      <td>[mediterranean, arab]</td>\n",
       "      <td>[moroccan]</td>\n",
       "    </tr>\n",
       "    <tr>\n",
       "      <th>539184</th>\n",
       "      <td>belgian chocolate-fudge sauce</td>\n",
       "      <td>[european, belgian]</td>\n",
       "      <td>[central europe]</td>\n",
       "      <td>[belgian]</td>\n",
       "    </tr>\n",
       "    <tr>\n",
       "      <th>540263</th>\n",
       "      <td>ho chi minh limeade</td>\n",
       "      <td>[vietnamese]</td>\n",
       "      <td>[east asia]</td>\n",
       "      <td>[vietnamese]</td>\n",
       "    </tr>\n",
       "  </tbody>\n",
       "</table>\n",
       "<p>42836 rows × 4 columns</p>\n",
       "</div>"
      ],
      "text/plain": [
       "                                                 Name  \\\n",
       "RecipeId                                                \n",
       "49                           chicken breasts lombardi   \n",
       "55         betty crocker's southwestern guacamole dip   \n",
       "58             low-fat burgundy beef & vegetable stew   \n",
       "59                          lou's fabulous bruschetta   \n",
       "62                 black bean, corn, and tomato salad   \n",
       "...                                               ...   \n",
       "539115    dutch fried potatoes (gebakken aardappelen)   \n",
       "539152                stir fried noodles (mie goreng)   \n",
       "539182          cinnamony sweet moroccan orange salad   \n",
       "539184                  belgian chocolate-fudge sauce   \n",
       "540263                            ho chi minh limeade   \n",
       "\n",
       "                                RegionKeywords  \\\n",
       "RecipeId                                         \n",
       "49                         [italian, european]   \n",
       "55                [southwestern u.s., mexican]   \n",
       "58                                    [french]   \n",
       "59                         [italian, european]   \n",
       "62                                    [polish]   \n",
       "...                                        ...   \n",
       "539115                       [dutch, european]   \n",
       "539152    [dutch, asian, european, indonesian]   \n",
       "539182                     [african, moroccan]   \n",
       "539184                     [european, belgian]   \n",
       "540263                            [vietnamese]   \n",
       "\n",
       "                                  Regions                     Countries  \n",
       "RecipeId                                                                 \n",
       "49                        [mediterranean]                     [italian]  \n",
       "55           [us/canada, central america]  [southwestern u.s., mexican]  \n",
       "58                        [mediterranean]                      [french]  \n",
       "59                        [mediterranean]                     [italian]  \n",
       "62                       [eastern europe]                      [polish]  \n",
       "...                                   ...                           ...  \n",
       "539115                   [central europe]                       [dutch]  \n",
       "539152    [sotheast asia, central europe]           [dutch, indonesian]  \n",
       "539182              [mediterranean, arab]                    [moroccan]  \n",
       "539184                   [central europe]                     [belgian]  \n",
       "540263                        [east asia]                  [vietnamese]  \n",
       "\n",
       "[42836 rows x 4 columns]"
      ]
     },
     "execution_count": 45,
     "metadata": {},
     "output_type": "execute_result"
    }
   ],
   "source": [
    "region_df"
   ]
  },
  {
   "cell_type": "code",
   "execution_count": null,
   "metadata": {},
   "outputs": [],
   "source": []
  }
 ],
 "metadata": {
  "kernelspec": {
   "display_name": "Python 3",
   "language": "python",
   "name": "python3"
  },
  "language_info": {
   "codemirror_mode": {
    "name": "ipython",
    "version": 3
   },
   "file_extension": ".py",
   "mimetype": "text/x-python",
   "name": "python",
   "nbconvert_exporter": "python",
   "pygments_lexer": "ipython3",
   "version": "3.11.3"
  }
 },
 "nbformat": 4,
 "nbformat_minor": 2
}
