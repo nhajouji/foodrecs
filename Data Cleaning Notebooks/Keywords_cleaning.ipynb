{
 "cells": [
  {
   "cell_type": "code",
   "execution_count": 1,
   "metadata": {},
   "outputs": [],
   "source": [
    "import pandas as pd\n",
    "import numpy as np\n",
    "import matplotlib.pyplot as plt"
   ]
  },
  {
   "cell_type": "code",
   "execution_count": 6,
   "metadata": {},
   "outputs": [],
   "source": [
    "keyword_df = pd.read_pickle('../data/keywords.pk')\n",
    "words_df = pd.read_pickle('../data/recwords.pk')"
   ]
  },
  {
   "cell_type": "code",
   "execution_count": 31,
   "metadata": {},
   "outputs": [],
   "source": [
    "def lower_case_exc(something):\n",
    "    if type(something)==str:\n",
    "        return something.lower()\n",
    "    else:\n",
    "        return something"
   ]
  },
  {
   "cell_type": "code",
   "execution_count": 9,
   "metadata": {},
   "outputs": [],
   "source": [
    "recipe_ids = list(set(keyword_df.index).intersection(set(words_df.index)))\n",
    "keyword_df = keyword_df[keyword_df.index.isin(recipe_ids)]\n",
    "words_df = words_df[words_df.index.isin(recipe_ids)]"
   ]
  },
  {
   "cell_type": "code",
   "execution_count": 32,
   "metadata": {},
   "outputs": [],
   "source": [
    "for col in words_df.columns:\n",
    "    words_df[col]=words_df[col].apply(lambda x:lower_case_exc(x))"
   ]
  },
  {
   "cell_type": "code",
   "execution_count": 54,
   "metadata": {},
   "outputs": [],
   "source": [
    "words_df['Keywords_orig']=[keyword_df['Keywords'][recipe] for recipe in words_df.index]"
   ]
  },
  {
   "cell_type": "code",
   "execution_count": 35,
   "metadata": {},
   "outputs": [],
   "source": [
    "categories = list({w for w in words_df.RecipeCategory if type(w)==str})"
   ]
  },
  {
   "cell_type": "code",
   "execution_count": 37,
   "metadata": {},
   "outputs": [
    {
     "data": {
      "text/plain": [
       "272"
      ]
     },
     "execution_count": 37,
     "metadata": {},
     "output_type": "execute_result"
    }
   ],
   "source": [
    "len(words_df.RecipeCategory.unique())"
   ]
  },
  {
   "cell_type": "code",
   "execution_count": 17,
   "metadata": {},
   "outputs": [],
   "source": [
    "keyword_list_orig = []\n",
    "for kwl in keyword_df.Keywords:\n",
    "    keyword_list_orig+=list(kwl)\n",
    "\n",
    "keyword_list_orig_nr = list(set(keyword_list_orig))"
   ]
  },
  {
   "cell_type": "code",
   "execution_count": 45,
   "metadata": {},
   "outputs": [
    {
     "data": {
      "text/html": [
       "<div>\n",
       "<style scoped>\n",
       "    .dataframe tbody tr th:only-of-type {\n",
       "        vertical-align: middle;\n",
       "    }\n",
       "\n",
       "    .dataframe tbody tr th {\n",
       "        vertical-align: top;\n",
       "    }\n",
       "\n",
       "    .dataframe thead th {\n",
       "        text-align: right;\n",
       "    }\n",
       "</style>\n",
       "<table border=\"1\" class=\"dataframe\">\n",
       "  <thead>\n",
       "    <tr style=\"text-align: right;\">\n",
       "      <th></th>\n",
       "      <th>Name</th>\n",
       "      <th>Description</th>\n",
       "      <th>RecipeCategory</th>\n",
       "    </tr>\n",
       "    <tr>\n",
       "      <th>RecipeId</th>\n",
       "      <th></th>\n",
       "      <th></th>\n",
       "      <th></th>\n",
       "    </tr>\n",
       "  </thead>\n",
       "  <tbody>\n",
       "    <tr>\n",
       "      <th>38</th>\n",
       "      <td>low-fat berry blue frozen dessert</td>\n",
       "      <td>make and share this low-fat berry blue frozen ...</td>\n",
       "      <td>frozen desserts</td>\n",
       "    </tr>\n",
       "    <tr>\n",
       "      <th>40</th>\n",
       "      <td>best lemonade</td>\n",
       "      <td>this is from one of my  first good house keepi...</td>\n",
       "      <td>beverages</td>\n",
       "    </tr>\n",
       "    <tr>\n",
       "      <th>42</th>\n",
       "      <td>cabbage soup</td>\n",
       "      <td>make and share this cabbage soup recipe from f...</td>\n",
       "      <td>vegetable</td>\n",
       "    </tr>\n",
       "    <tr>\n",
       "      <th>44</th>\n",
       "      <td>warm chicken a la king</td>\n",
       "      <td>i copied this one out of a friend's book so ma...</td>\n",
       "      <td>chicken</td>\n",
       "    </tr>\n",
       "    <tr>\n",
       "      <th>45</th>\n",
       "      <td>buttermilk pie with gingersnap crumb crust</td>\n",
       "      <td>make and share this buttermilk pie with ginger...</td>\n",
       "      <td>pie</td>\n",
       "    </tr>\n",
       "  </tbody>\n",
       "</table>\n",
       "</div>"
      ],
      "text/plain": [
       "                                                Name  \\\n",
       "RecipeId                                               \n",
       "38                 low-fat berry blue frozen dessert   \n",
       "40                                     best lemonade   \n",
       "42                                      cabbage soup   \n",
       "44                            warm chicken a la king   \n",
       "45        buttermilk pie with gingersnap crumb crust   \n",
       "\n",
       "                                                Description   RecipeCategory  \n",
       "RecipeId                                                                      \n",
       "38        make and share this low-fat berry blue frozen ...  frozen desserts  \n",
       "40        this is from one of my  first good house keepi...        beverages  \n",
       "42        make and share this cabbage soup recipe from f...        vegetable  \n",
       "44        i copied this one out of a friend's book so ma...          chicken  \n",
       "45        make and share this buttermilk pie with ginger...              pie  "
      ]
     },
     "execution_count": 45,
     "metadata": {},
     "output_type": "execute_result"
    }
   ],
   "source": [
    "words_df.head()"
   ]
  },
  {
   "cell_type": "code",
   "execution_count": 38,
   "metadata": {},
   "outputs": [],
   "source": [
    "extrakeywords=['pasta','chicken','rice','cheap','simple','burger','veggie','fried','sauce','soup','chocolate','pudding','taco','hummus','healthy',\n",
    "               'cake','egg','italian','mushroom','casserole','french toast','pancake','waffle','salad','pie','noodle','ramen','pizza']"
   ]
  },
  {
   "cell_type": "code",
   "execution_count": 40,
   "metadata": {},
   "outputs": [],
   "source": [
    "keyword_list_new = list(set(keyword_list_orig_nr+extrakeywords+categories))"
   ]
  },
  {
   "cell_type": "code",
   "execution_count": 50,
   "metadata": {},
   "outputs": [],
   "source": [
    "keywords_in_titles = []\n",
    "for name in words_df.Name:\n",
    "    keywords_in_titles.append([word for word in keyword_list_new if word in name])\n",
    "words_df['KeywordsTitle']=keywords_in_titles"
   ]
  },
  {
   "cell_type": "code",
   "execution_count": 52,
   "metadata": {},
   "outputs": [],
   "source": [
    "keywords_in_desc = []\n",
    "for desc in words_df.Description:\n",
    "    keywords_in_desc.append([word for word in keyword_list_new if word in desc])\n",
    "words_df['KeywordsDesc']=keywords_in_desc"
   ]
  },
  {
   "cell_type": "code",
   "execution_count": 57,
   "metadata": {},
   "outputs": [],
   "source": [
    "new_keyword_data = []\n",
    "for rec in words_df.index:\n",
    "    kws_new = []\n",
    "    if type(words_df['RecipeCategory'][rec])==str:\n",
    "        kws_new.append(words_df['RecipeCategory'][rec])\n",
    "    for col in ['KeywordsTitle','KeywordsDesc','Keywords_orig']:\n",
    "        kws_new+=list(words_df[col][rec])\n",
    "    kws_new = list(set(kws_new))\n",
    "    new_keyword_data.append(kws_new)\n",
    "words_df['Keywords'] = new_keyword_data"
   ]
  },
  {
   "cell_type": "code",
   "execution_count": 61,
   "metadata": {},
   "outputs": [
    {
     "data": {
      "text/plain": [
       "5.70336575332915"
      ]
     },
     "execution_count": 61,
     "metadata": {},
     "output_type": "execute_result"
    }
   ],
   "source": [
    "words_df['Keywords_orig'].apply(len).mean()"
   ]
  },
  {
   "cell_type": "code",
   "execution_count": 64,
   "metadata": {},
   "outputs": [],
   "source": [
    "words_df[['Name','KeywordsTitle','Keywords']].to_pickle('../data/keywords.pk')"
   ]
  },
  {
   "cell_type": "code",
   "execution_count": 26,
   "metadata": {},
   "outputs": [],
   "source": []
  },
  {
   "cell_type": "code",
   "execution_count": 28,
   "metadata": {},
   "outputs": [],
   "source": []
  },
  {
   "cell_type": "code",
   "execution_count": 211,
   "metadata": {},
   "outputs": [
    {
     "data": {
      "text/plain": [
       "{'easy', 'meat'}"
      ]
     },
     "execution_count": 211,
     "metadata": {},
     "output_type": "execute_result"
    }
   ],
   "source": []
  }
 ],
 "metadata": {
  "kernelspec": {
   "display_name": "Python 3",
   "language": "python",
   "name": "python3"
  },
  "language_info": {
   "codemirror_mode": {
    "name": "ipython",
    "version": 3
   },
   "file_extension": ".py",
   "mimetype": "text/x-python",
   "name": "python",
   "nbconvert_exporter": "python",
   "pygments_lexer": "ipython3",
   "version": "3.11.3"
  }
 },
 "nbformat": 4,
 "nbformat_minor": 2
}
