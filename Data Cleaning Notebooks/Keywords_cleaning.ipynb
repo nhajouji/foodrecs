{
 "cells": [
  {
   "cell_type": "code",
   "execution_count": 1,
   "metadata": {},
   "outputs": [],
   "source": [
    "# Loading packages\n",
    "import pandas as pd\n",
    "import numpy as np\n",
    "import seaborn as sns\n",
    "import matplotlib.pyplot as plt"
   ]
  },
  {
   "cell_type": "code",
   "execution_count": 2,
   "metadata": {},
   "outputs": [],
   "source": [
    "# Loading data \n",
    "recipes = pd.read_parquet(\"../data/recipes.parquet\")\n",
    "recipes['RecipeId'] = recipes['RecipeId'].astype(int)\n",
    "recipes.set_index('RecipeId', inplace=True)\n",
    "\n",
    "reviews = pd.read_parquet(\"../data/reviews.parquet\")\n",
    "reviews.set_index('ReviewId', inplace=True)\n",
    "\n",
    "recipes['Description'] = recipes['Description'].fillna('')"
   ]
  },
  {
   "cell_type": "markdown",
   "metadata": {},
   "source": [
    "Retrieving keywords from different recipe attributes and adding new keywords"
   ]
  },
  {
   "cell_type": "code",
   "execution_count": 3,
   "metadata": {},
   "outputs": [],
   "source": [
    "## This is based on previous Nadir's code from `Keywords_cleaning_old.ipynb`\n",
    "\n",
    "def lower_case(value):\n",
    "    if type(value)==str:\n",
    "        return value.lower()\n",
    "    else:\n",
    "        return value\n",
    "\n",
    "# From `Keywords` attribute\n",
    "original_keywords = set()\n",
    "for keyword_list in recipes['Keywords'].values:\n",
    "    keyword_list = [s.lower() for s in keyword_list if type(s) == str]\n",
    "    original_keywords = original_keywords | set(keyword_list)\n",
    "\n",
    "# From `RecipeCategory` attribute\n",
    "categories_keywords = {w.lower() for w in recipes.RecipeCategory if type(w) == str}\n",
    "\n",
    "# Additional keywords\n",
    "extra_keywords = {'pasta','chicken','rice','cheap','simple','burger','veggie','fried','sauce','soup','chocolate','pudding','taco','hummus','healthy',\n",
    "                  'cake','egg','italian','mushroom','casserole','french toast','pancake','waffle','salad','pie','noodle','ramen','pizza','greek', 'butter',\n",
    "                  'cocktail', 'drink', 'tortilla', 'tea', 'coffee', 'cafe', 'cappuccino', 'bacon'}\n",
    "\n",
    "# Taking the union of all the keywords\n",
    "all_keywords = original_keywords | categories_keywords | extra_keywords\n",
    "\n",
    "# For simplicity I will be getting rid off the plural words. Instead I will consider their singular version\n",
    "s_exceptions = {'spreads', 'homeopathy/remedies', 'octopus', 'christmas', 'potatoes', 'beef sandwiches', \n",
    "              'for large groups', 'hummus', 'citrus', 'bass', 'swiss', 'veggies'}\n",
    "\n",
    "clean_keywords = set()\n",
    "for keyword in all_keywords:\n",
    "    if keyword.endswith('s') and keyword not in s_exceptions:\n",
    "        clean_keywords.add(keyword[:-1])\n",
    "    elif keyword.endswith('ies') and keyword not in s_exceptions:\n",
    "        clean_keywords.add(keyword[:-3]+'y')\n",
    "    else:\n",
    "        clean_keywords.add(keyword)\n"
   ]
  },
  {
   "cell_type": "code",
   "execution_count": 4,
   "metadata": {},
   "outputs": [],
   "source": [
    "# Function to extract new keywords from a row in `recipes`\n",
    "def extract_new_keywords(row):\n",
    "    new_keywords = set([s.lower() for s in row['Keywords'] if type(s) == str])\n",
    "    for word in (row['Name'] + \" \" + row['Description']).split():\n",
    "        if lower_case(word) in clean_keywords:\n",
    "            new_keywords.add(word.lower())\n",
    "    for word in ' '.join(row['RecipeInstructions']).split():\n",
    "        if lower_case(word) in clean_keywords:\n",
    "            new_keywords.add(word.lower())\n",
    "    return list(new_keywords)\n",
    "\n",
    "# Apply the function to create `KeywordsClean`\n",
    "recipes['KeywordsClean'] = recipes.apply(extract_new_keywords, axis=1)"
   ]
  },
  {
   "cell_type": "code",
   "execution_count": 5,
   "metadata": {},
   "outputs": [
    {
     "name": "stdout",
     "output_type": "stream",
     "text": [
      "We are keeping 0.999% of the data\n"
     ]
    },
    {
     "data": {
      "text/html": [
       "<div>\n",
       "<style scoped>\n",
       "    .dataframe tbody tr th:only-of-type {\n",
       "        vertical-align: middle;\n",
       "    }\n",
       "\n",
       "    .dataframe tbody tr th {\n",
       "        vertical-align: top;\n",
       "    }\n",
       "\n",
       "    .dataframe thead th {\n",
       "        text-align: right;\n",
       "    }\n",
       "</style>\n",
       "<table border=\"1\" class=\"dataframe\">\n",
       "  <thead>\n",
       "    <tr style=\"text-align: right;\">\n",
       "      <th></th>\n",
       "      <th>Name</th>\n",
       "      <th>KeywordsClean</th>\n",
       "    </tr>\n",
       "    <tr>\n",
       "      <th>RecipeId</th>\n",
       "      <th></th>\n",
       "      <th></th>\n",
       "    </tr>\n",
       "  </thead>\n",
       "  <tbody>\n",
       "    <tr>\n",
       "      <th>38</th>\n",
       "      <td>Low-Fat Berry Blue Frozen Dessert</td>\n",
       "      <td>[dessert, summer, freezer, healthy, low protei...</td>\n",
       "    </tr>\n",
       "    <tr>\n",
       "      <th>39</th>\n",
       "      <td>Biryani</td>\n",
       "      <td>[poultry, asian, meat, chicken, indian, sauce,...</td>\n",
       "    </tr>\n",
       "    <tr>\n",
       "      <th>40</th>\n",
       "      <td>Best Lemonade</td>\n",
       "      <td>[summer, shake, healthy, low protein, lemon, l...</td>\n",
       "    </tr>\n",
       "    <tr>\n",
       "      <th>41</th>\n",
       "      <td>Carina's Tofu-Vegetable Kebabs</td>\n",
       "      <td>[corn, shake, vegetable, oven, broil/grill, ba...</td>\n",
       "    </tr>\n",
       "    <tr>\n",
       "      <th>42</th>\n",
       "      <td>Cabbage Soup</td>\n",
       "      <td>[healthy, low protein, soup, vegan, winter, lo...</td>\n",
       "    </tr>\n",
       "  </tbody>\n",
       "</table>\n",
       "</div>"
      ],
      "text/plain": [
       "                                       Name  \\\n",
       "RecipeId                                      \n",
       "38        Low-Fat Berry Blue Frozen Dessert   \n",
       "39                                  Biryani   \n",
       "40                            Best Lemonade   \n",
       "41           Carina's Tofu-Vegetable Kebabs   \n",
       "42                             Cabbage Soup   \n",
       "\n",
       "                                              KeywordsClean  \n",
       "RecipeId                                                     \n",
       "38        [dessert, summer, freezer, healthy, low protei...  \n",
       "39        [poultry, asian, meat, chicken, indian, sauce,...  \n",
       "40        [summer, shake, healthy, low protein, lemon, l...  \n",
       "41        [corn, shake, vegetable, oven, broil/grill, ba...  \n",
       "42        [healthy, low protein, soup, vegan, winter, lo...  "
      ]
     },
     "execution_count": 5,
     "metadata": {},
     "output_type": "execute_result"
    }
   ],
   "source": [
    "# We consider only the recipes with at least one keyword\n",
    "clean_recipes = recipes[recipes['KeywordsClean'].apply(len) > 0]\n",
    "print(f\"We are keeping {round(len(clean_recipes)/len(recipes), 3)}% of the data\")\n",
    "\n",
    "# Saving recipes with cleaned Keywords into a file\n",
    "clean_recipes[['Name', 'KeywordsClean']].to_parquet('../data/clean_columns/keywords_clean.parquet')\n",
    "clean_recipes[['Name', 'KeywordsClean']].head()"
   ]
  }
 ],
 "metadata": {
  "kernelspec": {
   "display_name": "erdos_sp_2024",
   "language": "python",
   "name": "python3"
  },
  "language_info": {
   "codemirror_mode": {
    "name": "ipython",
    "version": 3
   },
   "file_extension": ".py",
   "mimetype": "text/x-python",
   "name": "python",
   "nbconvert_exporter": "python",
   "pygments_lexer": "ipython3",
   "version": "3.11.7"
  }
 },
 "nbformat": 4,
 "nbformat_minor": 2
}
