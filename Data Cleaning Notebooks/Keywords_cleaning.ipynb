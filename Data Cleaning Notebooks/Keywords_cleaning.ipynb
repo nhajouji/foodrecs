{
 "cells": [
  {
   "cell_type": "code",
   "execution_count": 2,
   "metadata": {},
   "outputs": [],
   "source": [
    "import pandas as pd\n",
    "import numpy as np\n",
    "import matplotlib.pyplot as plt"
   ]
  },
  {
   "cell_type": "code",
   "execution_count": 3,
   "metadata": {},
   "outputs": [],
   "source": [
    "keyword_df = pd.read_pickle('../data/keywords.pk')\n",
    "description_df = pd.read_pickle('../data/descriptions.pk')"
   ]
  },
  {
   "cell_type": "code",
   "execution_count": 4,
   "metadata": {},
   "outputs": [],
   "source": [
    "keyword_df.dropna(inplace=True)\n",
    "description_df['Type']=[type(d) for d in description_df.Description]\n",
    "description_df = description_df.loc[description_df.Type == str][['Name','Description']]"
   ]
  },
  {
   "cell_type": "code",
   "execution_count": 5,
   "metadata": {},
   "outputs": [],
   "source": [
    "common_recids = list(set(keyword_df.index).intersection(set(description_df.index)))\n",
    "keyword_df = keyword_df[keyword_df.index.isin(common_recids)]\n",
    "description_df = description_df[description_df.index.isin(common_recids)]"
   ]
  },
  {
   "cell_type": "code",
   "execution_count": 9,
   "metadata": {},
   "outputs": [],
   "source": [
    "description_df['Keywords']=[[w.lower() for w in keyword_df['Keywords'][recipe_id] if type(w)==str]\n",
    "                             for recipe_id in description_df.index]"
   ]
  },
  {
   "cell_type": "code",
   "execution_count": 25,
   "metadata": {},
   "outputs": [],
   "source": [
    "keywords_original_list = []\n",
    "for kws in description_df.Keywords:\n",
    "    keywords_original_list+=kws\n",
    "\n",
    "keywords_original_list=list(set(keywords_original_list))\n",
    "\n",
    "extrakeywords=['pasta',\n",
    " 'chicken',\n",
    " 'rice',\n",
    " 'cheap',\n",
    " 'simple',\n",
    " 'burger',\n",
    " 'veggie',\n",
    " 'fried',\n",
    " 'sauce',\n",
    " 'soup',\n",
    " 'chocolate',\n",
    " 'pudding',\n",
    " 'taco',\n",
    " 'hummus',\n",
    " 'healthy']\n",
    "\n",
    "keywords_ambiguous = [word for word in keywords_original_list if '..' in word]\n",
    "keywords_cooktimes = [word for word in keywords_original_list if '<' in word]\n",
    "keywords_nutrition = [w for w in keywords_original_list if ' low ' in ' '+w]+[w for w in keywords_original_list if ' high' in ' '+w]\n",
    "\n",
    "keywords_newlist = list(set(keywords_original_list+extrakeywords)-set(keywords_ambiguous+keywords_cooktimes+keywords_nutrition+keywords_nutrition))"
   ]
  },
  {
   "cell_type": "code",
   "execution_count": 26,
   "metadata": {},
   "outputs": [],
   "source": [
    "newkeywordlists = []\n",
    "for recipe in description_df.index:\n",
    "    newwords = []\n",
    "    for word in keywords_newlist:\n",
    "        if word in description_df['Keywords'][recipe]:\n",
    "            newwords.append(word)\n",
    "        elif word in description_df['Name'][recipe]: \n",
    "            newwords.append(word)\n",
    "        elif word in description_df['Description'][recipe].lower(): \n",
    "            newwords.append(word)\n",
    "    newkeywordlists.append(newwords)\n",
    "\n",
    "description_df['KeywordsNew'] = newkeywordlists\n"
   ]
  },
  {
   "cell_type": "code",
   "execution_count": 28,
   "metadata": {},
   "outputs": [],
   "source": [
    "description_df[['Name','Keywords']].to_pickle('../data/keywords.pk')"
   ]
  },
  {
   "cell_type": "code",
   "execution_count": 211,
   "metadata": {},
   "outputs": [
    {
     "data": {
      "text/plain": [
       "{'easy', 'meat'}"
      ]
     },
     "execution_count": 211,
     "metadata": {},
     "output_type": "execute_result"
    }
   ],
   "source": [
    "{w.lower() for w in description_df['Keywords_orig'][recs[0]] if type(w)==str}.intersection(set(keywordlist_new))"
   ]
  }
 ],
 "metadata": {
  "kernelspec": {
   "display_name": "Python 3",
   "language": "python",
   "name": "python3"
  },
  "language_info": {
   "codemirror_mode": {
    "name": "ipython",
    "version": 3
   },
   "file_extension": ".py",
   "mimetype": "text/x-python",
   "name": "python",
   "nbconvert_exporter": "python",
   "pygments_lexer": "ipython3",
   "version": "3.11.3"
  }
 },
 "nbformat": 4,
 "nbformat_minor": 2
}
