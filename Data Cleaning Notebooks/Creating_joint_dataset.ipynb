{
 "cells": [
  {
   "cell_type": "code",
   "execution_count": 1,
   "metadata": {},
   "outputs": [],
   "source": [
    "# Loading packages\n",
    "import pandas as pd\n",
    "import numpy as np\n",
    "import seaborn as sns\n",
    "import matplotlib.pyplot as plt\n",
    "# from functools import reduce"
   ]
  },
  {
   "cell_type": "code",
   "execution_count": 2,
   "metadata": {},
   "outputs": [],
   "source": [
    "# Loading raw data \n",
    "recipes_raw = pd.read_parquet(\"../data/recipes.parquet\")\n",
    "recipes_raw['RecipeId'] = recipes_raw['RecipeId'].astype(int)\n",
    "recipes_raw.set_index('RecipeId', inplace=True)\n",
    "\n",
    "reviews_raw = pd.read_parquet(\"../data/reviews.parquet\")\n",
    "reviews_raw.set_index('ReviewId', inplace=True)"
   ]
  }
 ],
 "metadata": {
  "kernelspec": {
   "display_name": "erdos_sp_2024",
   "language": "python",
   "name": "python3"
  },
  "language_info": {
   "codemirror_mode": {
    "name": "ipython",
    "version": 3
   },
   "file_extension": ".py",
   "mimetype": "text/x-python",
   "name": "python",
   "nbconvert_exporter": "python",
   "pygments_lexer": "ipython3",
   "version": "3.11.7"
  }
 },
 "nbformat": 4,
 "nbformat_minor": 2
}
