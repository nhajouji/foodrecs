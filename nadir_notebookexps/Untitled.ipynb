{
 "cells": [
  {
   "cell_type": "code",
   "execution_count": 56,
   "id": "13fa3ae5-bade-40a2-a19d-09e173dc1b79",
   "metadata": {},
   "outputs": [],
   "source": [
    "import pandas as pd\n",
    "import numpy as np\n",
    "import matplotlib.pyplot as plt"
   ]
  },
  {
   "cell_type": "code",
   "execution_count": 133,
   "id": "83d5b916-b3b4-4782-b087-22d954f57a84",
   "metadata": {},
   "outputs": [
    {
     "data": {
      "text/html": [
       "<div>\n",
       "<style scoped>\n",
       "    .dataframe tbody tr th:only-of-type {\n",
       "        vertical-align: middle;\n",
       "    }\n",
       "\n",
       "    .dataframe tbody tr th {\n",
       "        vertical-align: top;\n",
       "    }\n",
       "\n",
       "    .dataframe thead th {\n",
       "        text-align: right;\n",
       "    }\n",
       "</style>\n",
       "<table border=\"1\" class=\"dataframe\">\n",
       "  <thead>\n",
       "    <tr style=\"text-align: right;\">\n",
       "      <th></th>\n",
       "      <th>ReviewId</th>\n",
       "      <th>RecipeId</th>\n",
       "      <th>AuthorId</th>\n",
       "      <th>Rating</th>\n",
       "    </tr>\n",
       "  </thead>\n",
       "  <tbody>\n",
       "    <tr>\n",
       "      <th>1</th>\n",
       "      <td>7</td>\n",
       "      <td>4384</td>\n",
       "      <td>1634</td>\n",
       "      <td>4</td>\n",
       "    </tr>\n",
       "    <tr>\n",
       "      <th>2</th>\n",
       "      <td>9</td>\n",
       "      <td>4523</td>\n",
       "      <td>2046</td>\n",
       "      <td>2</td>\n",
       "    </tr>\n",
       "    <tr>\n",
       "      <th>3</th>\n",
       "      <td>13</td>\n",
       "      <td>7435</td>\n",
       "      <td>1773</td>\n",
       "      <td>5</td>\n",
       "    </tr>\n",
       "    <tr>\n",
       "      <th>5</th>\n",
       "      <td>17</td>\n",
       "      <td>5221</td>\n",
       "      <td>2046</td>\n",
       "      <td>4</td>\n",
       "    </tr>\n",
       "    <tr>\n",
       "      <th>6</th>\n",
       "      <td>19</td>\n",
       "      <td>13307</td>\n",
       "      <td>2046</td>\n",
       "      <td>5</td>\n",
       "    </tr>\n",
       "  </tbody>\n",
       "</table>\n",
       "</div>"
      ],
      "text/plain": [
       "   ReviewId  RecipeId  AuthorId  Rating\n",
       "1         7      4384      1634       4\n",
       "2         9      4523      2046       2\n",
       "3        13      7435      1773       5\n",
       "5        17      5221      2046       4\n",
       "6        19     13307      2046       5"
      ]
     },
     "execution_count": 133,
     "metadata": {},
     "output_type": "execute_result"
    }
   ],
   "source": [
    "reviewsdf = pd.read_pickle('../data/reviewsred.pk')\n",
    "cooktimes = pd.read_pickle('../data/cooktimesclean.pk')\n",
    "reviewsdf.head()"
   ]
  },
  {
   "cell_type": "code",
   "execution_count": 166,
   "id": "3b9ad1f6",
   "metadata": {},
   "outputs": [],
   "source": []
  },
  {
   "cell_type": "code",
   "execution_count": 67,
   "id": "01ae3d94-5bea-470d-8b68-edd6693ae869",
   "metadata": {},
   "outputs": [],
   "source": [
    "def get_dictionaries(ratingsdf:pd.core.frame.DataFrame,usercol:str,itemcol:str,ratingcol:str):\n",
    "    users = list(set(ratingsdf[usercol].values))\n",
    "    items = list(set(ratingsdf[itemcol].values))\n",
    "    ratings_by_user = {user_id:{} for user_id in users}\n",
    "    users_by_item = {item_id:[] for item_id in items}\n",
    "    for review_index in ratingsdf.index:\n",
    "        user_id = ratingsdf[usercol][review_index]\n",
    "        item_id = ratingsdf[itemcol][review_index]\n",
    "        rating = ratingsdf[ratingcol][review_index]\n",
    "        ratings_by_user[user_id][item_id] = rating\n",
    "        users_by_item[item_id].append(user_id)\n",
    "    return ratings_by_user,users_by_item\n",
    "\n",
    "user_ratings,recipe_reviewers = get_dictionaries(reviewsdf,'AuthorId','RecipeId','Rating')"
   ]
  },
  {
   "cell_type": "code",
   "execution_count": 147,
   "id": "5152ad72",
   "metadata": {},
   "outputs": [],
   "source": [
    "def convert_ratings(user_rating_dic:dict)->dict:\n",
    "    user_mean = np.mean(list(user_rating_dic.values()))\n",
    "    user_max = max(list(user_rating_dic.values()))\n",
    "    new_ratings = {}\n",
    "    for item in user_rating_dic:\n",
    "        if user_rating_dic[item]==user_max:\n",
    "            new_ratings[item]=1\n",
    "        elif user_rating_dic[item] >= user_mean:\n",
    "            new_ratings[item]=0\n",
    "        else:\n",
    "            new_ratings[item]=-1\n",
    "    return new_ratings\n",
    "\n",
    "user_ratings_var = {user:convert_ratings(user_ratings[user]) for user in user_ratings}\n",
    "\n",
    "reviewsdf['Rating0']=[user_ratings_var[reviewsdf['AuthorId'][i]][reviewsdf['RecipeId'][i]]\n",
    "                      for i in reviewsdf.index]"
   ]
  },
  {
   "cell_type": "code",
   "execution_count": 114,
   "id": "640be9dd",
   "metadata": {},
   "outputs": [
    {
     "data": {
      "text/plain": [
       "Rating0\n",
       " 1    798973\n",
       "-1    279988\n",
       " 0     23921\n",
       "Name: count, dtype: int64"
      ]
     },
     "execution_count": 114,
     "metadata": {},
     "output_type": "execute_result"
    }
   ],
   "source": [
    "reviewsdf['Rating0'].value_counts()"
   ]
  },
  {
   "cell_type": "code",
   "execution_count": 115,
   "id": "719610f5",
   "metadata": {},
   "outputs": [],
   "source": [
    "users.sort(key =lambda x:len(user_ratings[x]))"
   ]
  },
  {
   "cell_type": "code",
   "execution_count": 58,
   "id": "bada3e21",
   "metadata": {},
   "outputs": [
    {
     "data": {
      "text/plain": [
       "(array([ 37281.,   8507.,  13298.,  43706., 204775., 795315.]),\n",
       " array([0.        , 0.83333333, 1.66666667, 2.5       , 3.33333333,\n",
       "        4.16666667, 5.        ]),\n",
       " <BarContainer object of 6 artists>)"
      ]
     },
     "execution_count": 58,
     "metadata": {},
     "output_type": "execute_result"
    },
    {
     "data": {
      "image/png": "[encoded data removed]",
      "text/plain": [
       "<Figure size 640x480 with 1 Axes>"
      ]
     },
     "metadata": {},
     "output_type": "display_data"
    }
   ],
   "source": [
    "plt.hist(x=reviewsdf.Rating,bins=6)"
   ]
  },
  {
   "cell_type": "code",
   "execution_count": 59,
   "id": "ed9e1068",
   "metadata": {},
   "outputs": [
    {
     "data": {
      "text/plain": [
       "(array([279988.,  23921., 798973.]),\n",
       " array([-1.        , -0.33333333,  0.33333333,  1.        ]),\n",
       " <BarContainer object of 3 artists>)"
      ]
     },
     "execution_count": 59,
     "metadata": {},
     "output_type": "execute_result"
    },
    {
     "data": {
      "image/png": "[encoded data removed]",
      "text/plain": [
       "<Figure size 640x480 with 1 Axes>"
      ]
     },
     "metadata": {},
     "output_type": "display_data"
    }
   ],
   "source": [
    "plt.hist(x=reviewsdf.Rating0,bins=3)"
   ]
  },
  {
   "cell_type": "code",
   "execution_count": 136,
   "id": "6f9c40d3-c422-4ea0-ae6a-58348b5ca04b",
   "metadata": {},
   "outputs": [],
   "source": [
    "class RatingsData:\n",
    "    def __init__(self,ratingsdataframe:pd.core.frame.DataFrame,usercol:str,itemcol:str,ratingcol:str):\n",
    "        self.dataframe = ratingsdataframe\n",
    "        self.usercol = usercol\n",
    "        self.itemcol = itemcol\n",
    "        self.userlist = list(set(ratingsdataframe[usercol].values))\n",
    "        self.itemlist = list(set(ratingsdataframe[itemcol].values))\n",
    "        self.ratingcol = ratingcol\n",
    "        self.user_ratings = {}\n",
    "        self.users_by_item = {}\n",
    "        self.features = []\n",
    "\n",
    "    def add_feature(self,feature_df:pd.core.frame.DataFrame,feature_name:'str')->None:\n",
    "        df0 = self.dataframe\n",
    "        itemcol = self.itemcol\n",
    "        newcol = []\n",
    "        for i in df0.index:\n",
    "            item = df0[itemcol][i]\n",
    "            if item in feature_df.index:\n",
    "                newcol.append(feature_df[feature_name][item])\n",
    "            else:\n",
    "                newcol.append(None)\n",
    "        self.dataframe[feature_name] = newcol\n",
    "        self.features.append(feature_name)\n",
    "\n",
    "    def get_dicts(self,insist = False)->None:\n",
    "        if len(self.user_ratings) == 0 or insist == True:\n",
    "            user_ratings, users_by_item = get_dictionaries(self.dataframe,\n",
    "                                                           self.usercol,\n",
    "                                                           self.itemcol,\n",
    "                                                           self.ratingcol)\n",
    "            self.user_ratings = user_ratings\n",
    "            self.users_by_item = users_by_item\n",
    "    \n",
    "    def get_user_lists(self,min_revs=1,min_std=-1,max_mean = 5):\n",
    "        get_dicts()\n",
    "        user_ratings = self.user_ratings\n",
    "        user_list = []\n",
    "        for user in user_ratings:\n",
    "            vals = list(user_ratings[user].values())\n",
    "            if len(vals)>=min_revs and np.mean(vals)<= max_mean and np.std(vals)>min_std:\n",
    "                user_list.append(user)\n",
    "        return user_list\n",
    "\n",
    "\n",
    "    def restr_dataframe(self,user_list:list,item_list:list)->pd.core.frame.DataFrame:\n",
    "        df = self.dataframe\n",
    "        usercol = self.usercol\n",
    "        itemcol = self.itemcol\n",
    "        df0 = df[df[usercol].isin(user_list)]\n",
    "        df1 = df0[df0[itemcol].isin(item_list)]\n",
    "        return df1\n",
    "    \n",
    "    def user_related_dataframe(self,user,min_ratingcount_item = 0):\n",
    "        df = self.dataframe\n",
    "        usercol = self.usercol\n",
    "        df0 = df.loc[df[usercol]==user]\n",
    "        relevant_items = list(df0[self.itemcol].values)\n",
    "        df1 = df[df[self.itemcol].isin(relevant_items)]\n",
    "        relevant_users = list(set(df1[usercol].values))\n",
    "        df1 = self.restr_dataframe(relevant_users,relevant_items)\n",
    "        if min_ratingcount_item == 0:\n",
    "            return df1\n",
    "        else:\n",
    "            df1 = df1.groupby(self.itemcol).filter(lambda x: len(x) > min_ratingcount_item)\n",
    "        return df1\n",
    "        \n",
    "    \n",
    "\n",
    "    "
   ]
  },
  {
   "cell_type": "code",
   "execution_count": 148,
   "id": "610999f7",
   "metadata": {},
   "outputs": [],
   "source": [
    "rd = RatingsData(reviewsdf,usercol='AuthorId',itemcol='RecipeId',ratingcol='Rating')"
   ]
  },
  {
   "cell_type": "code",
   "execution_count": 149,
   "id": "8e48997f",
   "metadata": {},
   "outputs": [],
   "source": [
    "rd.add_feature(cooktimes,'Prep')\n",
    "rd.add_feature(cooktimes,'Cook')\n",
    "rd.add_feature(cooktimes,'Total')"
   ]
  },
  {
   "cell_type": "markdown",
   "id": "d0e10dd0",
   "metadata": {},
   "source": [
    "## Cooking time\n",
    "\n",
    "Let's add cooking time as a feature."
   ]
  },
  {
   "cell_type": "code",
   "execution_count": 150,
   "id": "4c8fd9e1",
   "metadata": {},
   "outputs": [],
   "source": [
    "df = rd.dataframe"
   ]
  },
  {
   "cell_type": "code",
   "execution_count": 151,
   "id": "f6d9b3c6",
   "metadata": {},
   "outputs": [
    {
     "data": {
      "text/html": [
       "<div>\n",
       "<style scoped>\n",
       "    .dataframe tbody tr th:only-of-type {\n",
       "        vertical-align: middle;\n",
       "    }\n",
       "\n",
       "    .dataframe tbody tr th {\n",
       "        vertical-align: top;\n",
       "    }\n",
       "\n",
       "    .dataframe thead th {\n",
       "        text-align: right;\n",
       "    }\n",
       "</style>\n",
       "<table border=\"1\" class=\"dataframe\">\n",
       "  <thead>\n",
       "    <tr style=\"text-align: right;\">\n",
       "      <th></th>\n",
       "      <th>ReviewId</th>\n",
       "      <th>RecipeId</th>\n",
       "      <th>AuthorId</th>\n",
       "      <th>Rating</th>\n",
       "      <th>Cook</th>\n",
       "      <th>Prep</th>\n",
       "      <th>Total</th>\n",
       "      <th>Rating0</th>\n",
       "    </tr>\n",
       "  </thead>\n",
       "  <tbody>\n",
       "    <tr>\n",
       "      <th>1</th>\n",
       "      <td>7</td>\n",
       "      <td>4384</td>\n",
       "      <td>1634</td>\n",
       "      <td>4</td>\n",
       "      <td>120.0</td>\n",
       "      <td>5.0</td>\n",
       "      <td>125.0</td>\n",
       "      <td>0</td>\n",
       "    </tr>\n",
       "    <tr>\n",
       "      <th>2</th>\n",
       "      <td>9</td>\n",
       "      <td>4523</td>\n",
       "      <td>2046</td>\n",
       "      <td>2</td>\n",
       "      <td>30.0</td>\n",
       "      <td>30.0</td>\n",
       "      <td>60.0</td>\n",
       "      <td>-1</td>\n",
       "    </tr>\n",
       "    <tr>\n",
       "      <th>3</th>\n",
       "      <td>13</td>\n",
       "      <td>7435</td>\n",
       "      <td>1773</td>\n",
       "      <td>5</td>\n",
       "      <td>200.0</td>\n",
       "      <td>75.0</td>\n",
       "      <td>275.0</td>\n",
       "      <td>1</td>\n",
       "    </tr>\n",
       "    <tr>\n",
       "      <th>5</th>\n",
       "      <td>17</td>\n",
       "      <td>5221</td>\n",
       "      <td>2046</td>\n",
       "      <td>4</td>\n",
       "      <td>0.0</td>\n",
       "      <td>0.0</td>\n",
       "      <td>0.0</td>\n",
       "      <td>0</td>\n",
       "    </tr>\n",
       "    <tr>\n",
       "      <th>6</th>\n",
       "      <td>19</td>\n",
       "      <td>13307</td>\n",
       "      <td>2046</td>\n",
       "      <td>5</td>\n",
       "      <td>6.0</td>\n",
       "      <td>30.0</td>\n",
       "      <td>36.0</td>\n",
       "      <td>1</td>\n",
       "    </tr>\n",
       "  </tbody>\n",
       "</table>\n",
       "</div>"
      ],
      "text/plain": [
       "   ReviewId  RecipeId  AuthorId  Rating   Cook  Prep  Total  Rating0\n",
       "1         7      4384      1634       4  120.0   5.0  125.0        0\n",
       "2         9      4523      2046       2   30.0  30.0   60.0       -1\n",
       "3        13      7435      1773       5  200.0  75.0  275.0        1\n",
       "5        17      5221      2046       4    0.0   0.0    0.0        0\n",
       "6        19     13307      2046       5    6.0  30.0   36.0        1"
      ]
     },
     "execution_count": 151,
     "metadata": {},
     "output_type": "execute_result"
    }
   ],
   "source": [
    "df.head()"
   ]
  },
  {
   "cell_type": "code",
   "execution_count": 142,
   "id": "645448b4",
   "metadata": {},
   "outputs": [
    {
     "data": {
      "text/plain": [
       "1137"
      ]
     },
     "execution_count": 142,
     "metadata": {},
     "output_type": "execute_result"
    }
   ],
   "source": [
    "len(users_top)"
   ]
  },
  {
   "cell_type": "code",
   "execution_count": 143,
   "id": "d13a7790",
   "metadata": {},
   "outputs": [],
   "source": [
    "users_top.sort(key = lambda x:np.mean(list(user_ratings_var[x].values())))"
   ]
  },
  {
   "cell_type": "code",
   "execution_count": 145,
   "id": "c2c1cdf0",
   "metadata": {},
   "outputs": [
    {
     "data": {
      "text/plain": [
       "Index(['ReviewId', 'RecipeId', 'AuthorId', 'Rating', 'Cook', 'Prep', 'Total'], dtype='object')"
      ]
     },
     "execution_count": 145,
     "metadata": {},
     "output_type": "execute_result"
    }
   ],
   "source": [
    "df.columns"
   ]
  },
  {
   "cell_type": "code",
   "execution_count": 163,
   "id": "dec3a286",
   "metadata": {},
   "outputs": [
    {
     "data": {
      "text/plain": [
       "974097     1\n",
       "974099     0\n",
       "974100    -1\n",
       "974101     0\n",
       "974102     1\n",
       "          ..\n",
       "1260697    1\n",
       "1263907    0\n",
       "1265073    0\n",
       "1265696    0\n",
       "1317674   -1\n",
       "Name: Rating0, Length: 287, dtype: int64"
      ]
     },
     "execution_count": 163,
     "metadata": {},
     "output_type": "execute_result"
    }
   ],
   "source": [
    "df.loc[df.AuthorId == users_top[70]]['Rating0']"
   ]
  },
  {
   "cell_type": "code",
   "execution_count": 183,
   "id": "3bf92c75",
   "metadata": {},
   "outputs": [
    {
     "data": {
      "text/plain": [
       "974099     2.302585\n",
       "974101     3.401197\n",
       "974107     4.174387\n",
       "974109     6.318968\n",
       "974114     4.094345\n",
       "             ...   \n",
       "1244399    3.218876\n",
       "1245971    4.007333\n",
       "1263907    2.639057\n",
       "1265073    4.174387\n",
       "1265696    4.442651\n",
       "Name: LogTotal, Length: 136, dtype: float64"
      ]
     },
     "execution_count": 183,
     "metadata": {},
     "output_type": "execute_result"
    }
   ],
   "source": [
    "df0.loc[df0.Rating0==0]['LogTotal']"
   ]
  },
  {
   "cell_type": "markdown",
   "id": "c3b0c109",
   "metadata": {},
   "source": []
  },
  {
   "cell_type": "code",
   "execution_count": 191,
   "id": "59eee15f",
   "metadata": {},
   "outputs": [
    {
     "data": {
      "image/png": "[encoded data removed]",
      "text/plain": [
       "<Figure size 640x480 with 1 Axes>"
      ]
     },
     "metadata": {},
     "output_type": "display_data"
    }
   ],
   "source": [
    "plt.hist(x = [df0.loc[df0.Rating0==-1]['LogTotal'].values,\n",
    "              df0.loc[df0.Rating0==0]['LogTotal'].values,\n",
    "              df0.loc[df0.Rating0==1]['LogTotal'].values],\n",
    "         bins=30,\n",
    "         histtype = 'barstacked',\n",
    "         color=[[1,0,0],[0,1,0],[0,0,1]])\n",
    "plt.show()"
   ]
  },
  {
   "cell_type": "code",
   "execution_count": 169,
   "id": "9d133e56",
   "metadata": {},
   "outputs": [],
   "source": [
    "df['LogTotal']=df['Total'].apply(log_ext)"
   ]
  },
  {
   "cell_type": "code",
   "execution_count": 195,
   "id": "696851c1",
   "metadata": {},
   "outputs": [
    {
     "data": {
      "image/png": "[encoded data removed]",
      "text/plain": [
       "<Figure size 640x480 with 1 Axes>"
      ]
     },
     "metadata": {},
     "output_type": "display_data"
    }
   ],
   "source": [
    "plt.hist(x = [df.loc[df.AuthorId==users_top[90]].loc[df.Rating0==-1]['LogTotal'].values,\n",
    "              df.loc[df.AuthorId==users_top[90]].loc[df.Rating0== 0]['LogTotal'].values,\n",
    "              df.loc[df.AuthorId==users_top[90]].loc[df.Rating0== 1]['LogTotal'].values],\n",
    "         bins=30,\n",
    "         histtype = 'barstacked',\n",
    "         color=[[1,0,0],[0,1,0],[0,0,1]])\n",
    "plt.show()"
   ]
  },
  {
   "cell_type": "code",
   "execution_count": 1,
   "id": "21405ac2",
   "metadata": {},
   "outputs": [
    {
     "ename": "NameError",
     "evalue": "name 'df' is not defined",
     "output_type": "error",
     "traceback": [
      "\u001b[0;31m---------------------------------------------------------------------------\u001b[0m",
      "\u001b[0;31mNameError\u001b[0m                                 Traceback (most recent call last)",
      "Cell \u001b[0;32mIn[1], line 1\u001b[0m\n\u001b[0;32m----> 1\u001b[0m df0 \u001b[38;5;241m=\u001b[39m\u001b[43mdf\u001b[49m\u001b[38;5;241m.\u001b[39mloc[df\u001b[38;5;241m.\u001b[39mAuthorId \u001b[38;5;241m==\u001b[39m users_top[\u001b[38;5;241m75\u001b[39m]]\n",
      "\u001b[0;31mNameError\u001b[0m: name 'df' is not defined"
     ]
    }
   ],
   "source": [
    "df0 =df.loc[df.AuthorId == users_top[75]]"
   ]
  },
  {
   "cell_type": "code",
   "execution_count": 178,
   "id": "65767685",
   "metadata": {},
   "outputs": [
    {
     "data": {
      "text/plain": [
       "array([list([0, 1, 0]), list([1, 0, 0]), list([0, 0, 1]), list([1, 0, 0]),\n",
       "       list([0, 1, 0]), list([0, 0, 1]), list([0, 0, 1]), list([1, 0, 0]),\n",
       "       list([1, 0, 0]), list([1, 0, 0]), list([1, 0, 0]), list([0, 0, 1]),\n",
       "       list([0, 1, 0]), list([0, 1, 0]), list([0, 0, 1]), list([1, 0, 0]),\n",
       "       list([1, 0, 0]), list([0, 1, 0]), list([0, 1, 0]), list([0, 0, 1]),\n",
       "       list([0, 0, 1]), list([1, 0, 0]), list([1, 0, 0]), list([0, 0, 1]),\n",
       "       list([1, 0, 0]), list([1, 0, 0]), list([0, 0, 1]), list([1, 0, 0]),\n",
       "       list([0, 1, 0]), list([1, 0, 0]), list([1, 0, 0]), list([0, 0, 1]),\n",
       "       list([1, 0, 0]), list([1, 0, 0]), list([1, 0, 0]), list([1, 0, 0]),\n",
       "       list([1, 0, 0]), list([1, 0, 0]), list([0, 0, 1]), list([0, 0, 1]),\n",
       "       list([1, 0, 0]), list([1, 0, 0]), list([1, 0, 0]), list([0, 1, 0]),\n",
       "       list([0, 1, 0]), list([1, 0, 0]), list([1, 0, 0]), list([0, 0, 1]),\n",
       "       list([1, 0, 0]), list([0, 0, 1]), list([0, 0, 1]), list([0, 1, 0]),\n",
       "       list([0, 1, 0]), list([0, 0, 1]), list([0, 1, 0]), list([0, 0, 1]),\n",
       "       list([1, 0, 0]), list([0, 1, 0]), list([1, 0, 0]), list([0, 1, 0]),\n",
       "       list([0, 0, 1]), list([0, 0, 1]), list([0, 0, 1]), list([1, 0, 0]),\n",
       "       list([1, 0, 0]), list([0, 0, 1]), list([1, 0, 0]), list([0, 0, 1]),\n",
       "       list([0, 1, 0]), list([0, 1, 0]), list([1, 0, 0]), list([0, 0, 1]),\n",
       "       list([0, 1, 0]), list([1, 0, 0]), list([0, 0, 1]), list([0, 0, 1]),\n",
       "       list([0, 0, 1]), list([0, 1, 0]), list([0, 0, 1]), list([0, 1, 0]),\n",
       "       list([0, 0, 1]), list([1, 0, 0]), list([1, 0, 0]), list([1, 0, 0]),\n",
       "       list([1, 0, 0]), list([0, 0, 1]), list([0, 0, 1]), list([0, 1, 0]),\n",
       "       list([1, 0, 0]), list([0, 1, 0]), list([0, 0, 1]), list([0, 0, 1]),\n",
       "       list([0, 0, 1]), list([0, 0, 1]), list([1, 0, 0]), list([0, 0, 1]),\n",
       "       list([1, 0, 0]), list([1, 0, 0]), list([1, 0, 0]), list([0, 0, 1]),\n",
       "       list([0, 0, 1]), list([0, 0, 1]), list([1, 0, 0]), list([0, 1, 0]),\n",
       "       list([0, 0, 1]), list([0, 0, 1]), list([0, 0, 1]), list([1, 0, 0]),\n",
       "       list([0, 0, 1]), list([1, 0, 0]), list([1, 0, 0]), list([1, 0, 0]),\n",
       "       list([0, 0, 1]), list([0, 0, 1]), list([1, 0, 0]), list([0, 0, 1]),\n",
       "       list([0, 0, 1]), list([1, 0, 0]), list([1, 0, 0]), list([1, 0, 0]),\n",
       "       list([0, 1, 0]), list([0, 1, 0]), list([0, 0, 1]), list([1, 0, 0]),\n",
       "       list([0, 0, 1]), list([0, 1, 0]), list([0, 0, 1]), list([0, 0, 1]),\n",
       "       list([0, 1, 0]), list([1, 0, 0]), list([0, 0, 1]), list([1, 0, 0]),\n",
       "       list([1, 0, 0]), list([1, 0, 0]), list([0, 0, 1]), list([0, 1, 0]),\n",
       "       list([0, 1, 0]), list([1, 0, 0]), list([0, 0, 1]), list([1, 0, 0]),\n",
       "       list([1, 0, 0]), list([1, 0, 0]), list([1, 0, 0]), list([1, 0, 0]),\n",
       "       list([1, 0, 0]), list([0, 0, 1]), list([1, 0, 0]), list([0, 0, 1]),\n",
       "       list([0, 1, 0]), list([0, 0, 1]), list([0, 1, 0]), list([1, 0, 0]),\n",
       "       list([0, 1, 0]), list([1, 0, 0]), list([1, 0, 0]), list([0, 0, 1]),\n",
       "       list([1, 0, 0]), list([1, 0, 0]), list([1, 0, 0]), list([0, 0, 1]),\n",
       "       list([1, 0, 0]), list([1, 0, 0]), list([0, 0, 1]), list([0, 1, 0]),\n",
       "       list([0, 1, 0]), list([0, 0, 1]), list([1, 0, 0]), list([1, 0, 0]),\n",
       "       list([0, 0, 1]), list([1, 0, 0]), list([1, 0, 0]), list([1, 0, 0]),\n",
       "       list([0, 1, 0]), list([0, 0, 1]), list([0, 1, 0]), list([1, 0, 0]),\n",
       "       list([0, 1, 0]), list([1, 0, 0]), list([1, 0, 0]), list([1, 0, 0]),\n",
       "       list([1, 0, 0]), list([1, 0, 0]), list([0, 0, 1]), list([1, 0, 0]),\n",
       "       list([1, 0, 0]), list([1, 0, 0]), list([0, 1, 0]), list([0, 0, 1]),\n",
       "       list([0, 1, 0]), list([1, 0, 0]), list([0, 1, 0]), list([1, 0, 0]),\n",
       "       list([1, 0, 0]), list([0, 0, 1]), list([1, 0, 0]), list([0, 1, 0]),\n",
       "       list([0, 1, 0]), list([1, 0, 0]), list([0, 0, 1]), list([0, 1, 0]),\n",
       "       list([1, 0, 0]), list([0, 1, 0]), list([1, 0, 0]), list([0, 0, 1]),\n",
       "       list([0, 0, 1]), list([1, 0, 0]), list([1, 0, 0]), list([0, 1, 0]),\n",
       "       list([0, 0, 1]), list([1, 0, 0]), list([1, 0, 0]), list([0, 0, 1]),\n",
       "       list([1, 0, 0]), list([0, 1, 0]), list([1, 0, 0]), list([0, 1, 0]),\n",
       "       list([0, 0, 1]), list([1, 0, 0]), list([0, 1, 0]), list([0, 1, 0]),\n",
       "       list([1, 0, 0]), list([1, 0, 0]), list([1, 0, 0]), list([0, 1, 0]),\n",
       "       list([0, 1, 0]), list([1, 0, 0]), list([0, 1, 0]), list([1, 0, 0]),\n",
       "       list([0, 1, 0]), list([1, 0, 0]), list([1, 0, 0]), list([1, 0, 0]),\n",
       "       list([1, 0, 0]), list([1, 0, 0]), list([1, 0, 0]), list([1, 0, 0]),\n",
       "       list([0, 1, 0]), list([0, 0, 1]), list([0, 1, 0]), list([1, 0, 0]),\n",
       "       list([1, 0, 0]), list([0, 1, 0]), list([0, 1, 0]), list([1, 0, 0]),\n",
       "       list([1, 0, 0]), list([0, 1, 0]), list([1, 0, 0]), list([1, 0, 0]),\n",
       "       list([1, 0, 0]), list([0, 1, 0]), list([0, 1, 0]), list([0, 1, 0]),\n",
       "       list([0, 1, 0]), list([1, 0, 0]), list([0, 1, 0]), list([1, 0, 0]),\n",
       "       list([0, 1, 0]), list([1, 0, 0]), list([0, 1, 0]), list([0, 1, 0]),\n",
       "       list([0, 0, 1]), list([1, 0, 0]), list([0, 0, 1]), list([1, 0, 0]),\n",
       "       list([0, 0, 1]), list([1, 0, 0]), list([0, 0, 1]), list([1, 0, 0]),\n",
       "       list([0, 0, 1]), list([1, 0, 0]), list([0, 0, 1]), list([0, 0, 1]),\n",
       "       list([0, 1, 0]), list([1, 0, 0]), list([0, 0, 1]), list([1, 0, 0]),\n",
       "       list([1, 0, 0]), list([1, 0, 0]), list([0, 0, 1]), list([0, 0, 1]),\n",
       "       list([1, 0, 0]), list([0, 0, 1]), list([0, 1, 0]), list([1, 0, 0]),\n",
       "       list([1, 0, 0]), list([1, 0, 0]), list([0, 0, 1])], dtype=object)"
      ]
     },
     "execution_count": 178,
     "metadata": {},
     "output_type": "execute_result"
    }
   ],
   "source": [
    "df0['Rating0'].apply(int_to_color).values"
   ]
  },
  {
   "cell_type": "code",
   "execution_count": null,
   "id": "66e02181",
   "metadata": {},
   "outputs": [],
   "source": []
  }
 ],
 "metadata": {
  "kernelspec": {
   "display_name": "Python 3 (ipykernel)",
   "language": "python",
   "name": "python3"
  },
  "language_info": {
   "codemirror_mode": {
    "name": "ipython",
    "version": 3
   },
   "file_extension": ".py",
   "mimetype": "text/x-python",
   "name": "python",
   "nbconvert_exporter": "python",
   "pygments_lexer": "ipython3",
   "version": "3.11.3"
  }
 },
 "nbformat": 4,
 "nbformat_minor": 5
}
