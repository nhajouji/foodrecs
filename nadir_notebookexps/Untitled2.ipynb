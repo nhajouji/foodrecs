{
 "cells": [
  {
   "cell_type": "code",
   "execution_count": 1,
   "id": "75bf7c51-da39-446d-9239-4aff904095e1",
   "metadata": {},
   "outputs": [],
   "source": [
    "import pandas as pd\n",
    "import numpy as np\n",
    "from sklearn.model_selection import train_test_split"
   ]
  },
  {
   "cell_type": "code",
   "execution_count": 2,
   "id": "ed4c9d39-5f43-470e-82f0-382907646940",
   "metadata": {},
   "outputs": [],
   "source": [
    "revdf = pd.read_pickle('../data/revdense.pk')\n",
    "author_ids = list(revdf.AuthorId.unique())\n",
    "recipe_ids = list(revdf.RecipeId.unique())"
   ]
  },
  {
   "cell_type": "code",
   "execution_count": 30,
   "id": "957a9f5c-cb82-48e4-83ab-598f6426872a",
   "metadata": {},
   "outputs": [],
   "source": [
    "def flatten(l):\n",
    "    newlist = []\n",
    "    for l0 in l:\n",
    "        newlist+=list(l0)\n",
    "    return newlist"
   ]
  },
  {
   "cell_type": "code",
   "execution_count": 3,
   "id": "9150c38d-d44c-436c-b24e-2994c1806076",
   "metadata": {},
   "outputs": [],
   "source": [
    "ratings_by_author = {author_id:{} for author_id in author_ids}\n",
    "ratings_by_recipe = {recipe_id:{} for recipe_id in recipe_ids}\n",
    "\n",
    "for review_index in revdf.index:\n",
    "    author_id = revdf['AuthorId'][review_index]\n",
    "    recipe_id = revdf['RecipeId'][review_index]\n",
    "    rating = revdf['Rating'][review_index]\n",
    "    ratings_by_author[author_id][recipe_id] = rating\n",
    "    ratings_by_recipe[recipe_id][author_id] = rating"
   ]
  },
  {
   "cell_type": "code",
   "execution_count": 52,
   "id": "b59b6a0c-a791-45eb-99d0-03dda37600a5",
   "metadata": {},
   "outputs": [],
   "source": [
    "mean_ratings = {author_id:np.mean(list(ratings_by_author[author_id].values())) for author_id in ratings_by_author}"
   ]
  },
  {
   "cell_type": "code",
   "execution_count": 5,
   "id": "6673b3dd-4bc6-4421-b0d5-fb41f99571be",
   "metadata": {},
   "outputs": [],
   "source": [
    "author_ids.sort(key = lambda x:len(ratings_by_author[x]))"
   ]
  },
  {
   "cell_type": "code",
   "execution_count": 28,
   "id": "2f611941-f4a7-4f74-afd3-5b254c38fed2",
   "metadata": {},
   "outputs": [],
   "source": [
    "recwordsdf = pd.read_pickle('../data/recipewords.pk')\n"
   ]
  },
  {
   "cell_type": "code",
   "execution_count": 54,
   "id": "d98894b2-526c-4193-a695-1cf286a07c81",
   "metadata": {},
   "outputs": [],
   "source": [
    "keywords = set(flatten(recwordsdf['Keywords'].values))\n",
    "keyword_counts_byauthor = {author_id:{word:0 for word in keywords} for author_id in author_ids}\n",
    "keyword_ratings_byauthor = {author_id:{word:0 for word in keywords} for author_id in author_ids}\n",
    "\n",
    "for rev_id in revdf.index:\n",
    "    recipe_id = revdf['RecipeId'][rev_id]\n",
    "    author_id = revdf['AuthorId'][rev_id]\n",
    "    words = recwordsdf['Keywords'][recipe_id]\n",
    "    for word in words:\n",
    "        keyword_counts_byauthor[author_id][word]+=1\n",
    "        keyword_ratings_byauthor[author_id][word]+=revdf['Rating'][rev_id]-mean_ratings[author_id]"
   ]
  },
  {
   "cell_type": "code",
   "execution_count": 63,
   "id": "14ecd466-bfc7-415a-b667-ff2192b20792",
   "metadata": {},
   "outputs": [],
   "source": [
    "keyword_comp_byauthor = {author_id:{} for author_id in author_ids}\n",
    "for author_id in author_ids:\n",
    "    for word in keyword_counts_byauthor[author_id]:\n",
    "        if keyword_counts_byauthor[author_id][word]>0:\n",
    "            keyword_comp_byauthor[author_id][word] = (keyword_counts_byauthor[author_id][word],keyword_ratings_byauthor[author_id][word])"
   ]
  },
  {
   "cell_type": "code",
   "execution_count": 70,
   "id": "23fd81fe-5ed3-4c5b-8c1d-0d5bc1fed3e3",
   "metadata": {},
   "outputs": [
    {
     "data": {
      "text/plain": [
       "{'Low Protein': (5, -2.6249999999999982),\n",
       " '< 4 Hours': (22, 1.0500000000000078),\n",
       " 'For Large Groups': (9, -0.5249999999999968),\n",
       " 'Pork': (5, 0.3750000000000018),\n",
       " 'Lunch/Snacks': (4, 0.10000000000000142),\n",
       " 'Stove Top': (12, -1.6999999999999957),\n",
       " 'Thanksgiving': (1, 0.27500000000000036),\n",
       " 'Beginner Cook': (11, 1.025000000000004),\n",
       " 'Summer': (3, -0.17499999999999893),\n",
       " 'Lactose Free': (1, -0.7249999999999996),\n",
       " 'Roast Beef': (2, -0.4499999999999993),\n",
       " 'Polish': (1, -0.7249999999999996),\n",
       " 'Very Low Carbs': (1, -0.7249999999999996),\n",
       " 'Winter': (5, -0.6249999999999982),\n",
       " 'Mexican': (5, 1.3750000000000018),\n",
       " 'Bread Machine': (4, 1.1000000000000014),\n",
       " 'Chicken': (2, -1.4499999999999993),\n",
       " 'High Fiber': (1, 0.27500000000000036),\n",
       " 'Greek': (1, 0.27500000000000036),\n",
       " 'Cookie & Brownie': (11, 3.025000000000004),\n",
       " 'Cheese': (4, 0.10000000000000142),\n",
       " 'Savory': (2, 0.5500000000000007),\n",
       " 'Christmas': (4, 1.1000000000000014),\n",
       " 'Black Beans': (1, 0.27500000000000036),\n",
       " '< 30 Mins': (15, 1.1250000000000053),\n",
       " 'Refrigerator': (1, 0.27500000000000036),\n",
       " 'Toddler Friendly': (2, 0.5500000000000007),\n",
       " 'Cauliflower': (1, 0.27500000000000036),\n",
       " 'Candy': (1, 0.27500000000000036),\n",
       " 'Breads': (8, 1.2000000000000028),\n",
       " 'Healthy': (6, -1.3499999999999979),\n",
       " 'Spring': (2, -0.4499999999999993),\n",
       " 'Breakfast': (1, 0.27500000000000036),\n",
       " 'Berries': (1, 0.27500000000000036),\n",
       " 'Spicy': (2, 0.5500000000000007),\n",
       " 'Vegetable': (7, 0.9250000000000025),\n",
       " 'Beans': (4, -0.8999999999999986),\n",
       " 'Camping': (1, 0.27500000000000036),\n",
       " 'Creole': (1, 0.27500000000000036),\n",
       " '< 60 Mins': (24, -3.3999999999999915),\n",
       " 'Dessert': (7, 1.9250000000000025),\n",
       " 'One Dish Meal': (3, -1.174999999999999),\n",
       " 'Grains': (1, 0.27500000000000036),\n",
       " 'Meat': (23, -3.674999999999992),\n",
       " '< 15 Mins': (12, 0.30000000000000426),\n",
       " 'Beverages': (1, 0.27500000000000036),\n",
       " 'Easy': (35, 0.6250000000000124),\n",
       " 'Lemon': (1, 0.27500000000000036),\n",
       " 'Potluck': (10, -1.2499999999999964),\n",
       " 'Low Cholesterol': (5, -1.6249999999999982),\n",
       " 'Fruit': (11, 1.025000000000004),\n",
       " 'Free Of...': (2, -0.4499999999999993),\n",
       " 'Oven': (28, -1.29999999999999),\n",
       " 'Baking': (2, 0.5500000000000007),\n",
       " 'Brunch': (5, 1.3750000000000018),\n",
       " 'High In...': (4, 0.10000000000000142),\n",
       " 'Strawberry': (1, 0.27500000000000036),\n",
       " 'Mixer': (1, 0.27500000000000036),\n",
       " 'Inexpensive': (21, -0.22499999999999254),\n",
       " 'Kid Friendly': (18, -0.049999999999993605),\n",
       " 'Sweet': (2, 0.5500000000000007),\n",
       " 'Citrus': (1, 0.27500000000000036),\n",
       " 'Poultry': (5, -0.6249999999999982),\n",
       " 'Southwestern U.S.': (2, -0.4499999999999993),\n",
       " 'Small Appliance': (7, 1.9250000000000025),\n",
       " 'Nuts': (1, 0.27500000000000036),\n",
       " 'Tropical Fruits': (1, -0.7249999999999996),\n",
       " 'Canadian': (1, 0.27500000000000036),\n",
       " 'Tex Mex': (1, -0.7249999999999996),\n",
       " 'Apple': (3, -0.17499999999999893),\n",
       " 'Weeknight': (17, -0.32499999999999396),\n",
       " 'European': (8, 0.20000000000000284)}"
      ]
     },
     "execution_count": 70,
     "metadata": {},
     "output_type": "execute_result"
    }
   ],
   "source": [
    "keyword_comp_byauthor[author_ids[-500]]"
   ]
  },
  {
   "cell_type": "code",
   "execution_count": 26,
   "id": "935935c6-4c43-440a-9c83-5416c5bc696b",
   "metadata": {},
   "outputs": [],
   "source": [
    "rt01=[(ratings_by_author[a0][x],ratings_by_author[a1][x]) for x in r01]"
   ]
  },
  {
   "cell_type": "code",
   "execution_count": 42,
   "id": "ecc808cf-725b-411e-9398-2f59230b8ea5",
   "metadata": {},
   "outputs": [],
   "source": [
    "labeldf = pd.read_pickle('../data/recipelabels.pk')"
   ]
  },
  {
   "cell_type": "code",
   "execution_count": 45,
   "id": "362a0495-f555-4ed3-8f41-b8306654cf86",
   "metadata": {},
   "outputs": [
    {
     "data": {
      "text/plain": [
       "6028"
      ]
     },
     "execution_count": 45,
     "metadata": {},
     "output_type": "execute_result"
    }
   ],
   "source": [
    "len(labeldf.Label.unique())"
   ]
  },
  {
   "cell_type": "code",
   "execution_count": null,
   "id": "d787dee5-5b45-4c03-9483-ac672d8a3c3e",
   "metadata": {},
   "outputs": [],
   "source": []
  }
 ],
 "metadata": {
  "kernelspec": {
   "display_name": "Python 3 (ipykernel)",
   "language": "python",
   "name": "python3"
  },
  "language_info": {
   "codemirror_mode": {
    "name": "ipython",
    "version": 3
   },
   "file_extension": ".py",
   "mimetype": "text/x-python",
   "name": "python",
   "nbconvert_exporter": "python",
   "pygments_lexer": "ipython3",
   "version": "3.11.6"
  }
 },
 "nbformat": 4,
 "nbformat_minor": 5
}
