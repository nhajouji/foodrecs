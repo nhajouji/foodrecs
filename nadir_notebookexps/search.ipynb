{
 "cells": [
  {
   "cell_type": "markdown",
   "metadata": {},
   "source": [
    "# User Queries\n",
    "\n",
    "Our goal in this notebook is to describe a method for handling free form user queries using a pretrained transformer.\n",
    "\n",
    "We will use the \"sentence-transformers\" package to transform strings of text to vectors. The package can be installed in VScode by running the code in the next cell in the terminal. "
   ]
  },
  {
   "cell_type": "code",
   "execution_count": null,
   "metadata": {},
   "outputs": [],
   "source": [
    "# pip install -U sentence-transformers\n"
   ]
  },
  {
   "cell_type": "markdown",
   "metadata": {},
   "source": [
    "Once the sentence-transformers package has been downloaded, we import the packages we will be using:"
   ]
  },
  {
   "cell_type": "code",
   "execution_count": 1,
   "metadata": {},
   "outputs": [
    {
     "name": "stderr",
     "output_type": "stream",
     "text": [
      "/Library/Frameworks/Python.framework/Versions/3.11/lib/python3.11/site-packages/tqdm/auto.py:21: TqdmWarning: IProgress not found. Please update jupyter and ipywidgets. See https://ipywidgets.readthedocs.io/en/stable/user_install.html\n",
      "  from .autonotebook import tqdm as notebook_tqdm\n"
     ]
    }
   ],
   "source": [
    "import pandas as pd\n",
    "import numpy as np\n",
    "from sentence_transformers import SentenceTransformer\n",
    "embedder = SentenceTransformer(\"all-MiniLM-L6-v2\")"
   ]
  },
  {
   "cell_type": "markdown",
   "metadata": {},
   "source": [
    "We also import a dataframe that contains recipe names and recipe descriptions."
   ]
  },
  {
   "cell_type": "code",
   "execution_count": 2,
   "metadata": {},
   "outputs": [],
   "source": [
    "words = pd.read_pickle('../data/recwords.pk')"
   ]
  },
  {
   "cell_type": "code",
   "execution_count": 22,
   "metadata": {},
   "outputs": [
    {
     "data": {
      "text/html": [
       "<div>\n",
       "<style scoped>\n",
       "    .dataframe tbody tr th:only-of-type {\n",
       "        vertical-align: middle;\n",
       "    }\n",
       "\n",
       "    .dataframe tbody tr th {\n",
       "        vertical-align: top;\n",
       "    }\n",
       "\n",
       "    .dataframe thead th {\n",
       "        text-align: right;\n",
       "    }\n",
       "</style>\n",
       "<table border=\"1\" class=\"dataframe\">\n",
       "  <thead>\n",
       "    <tr style=\"text-align: right;\">\n",
       "      <th></th>\n",
       "      <th>Name</th>\n",
       "      <th>Description</th>\n",
       "      <th>RecipeCategory</th>\n",
       "    </tr>\n",
       "    <tr>\n",
       "      <th>RecipeId</th>\n",
       "      <th></th>\n",
       "      <th></th>\n",
       "      <th></th>\n",
       "    </tr>\n",
       "  </thead>\n",
       "  <tbody>\n",
       "    <tr>\n",
       "      <th>38</th>\n",
       "      <td>Low-Fat Berry Blue Frozen Dessert</td>\n",
       "      <td>Make and share this Low-Fat Berry Blue Frozen ...</td>\n",
       "      <td>Frozen Desserts</td>\n",
       "    </tr>\n",
       "    <tr>\n",
       "      <th>40</th>\n",
       "      <td>Best Lemonade</td>\n",
       "      <td>This is from one of my  first Good House Keepi...</td>\n",
       "      <td>Beverages</td>\n",
       "    </tr>\n",
       "    <tr>\n",
       "      <th>42</th>\n",
       "      <td>Cabbage Soup</td>\n",
       "      <td>Make and share this Cabbage Soup recipe from F...</td>\n",
       "      <td>Vegetable</td>\n",
       "    </tr>\n",
       "    <tr>\n",
       "      <th>44</th>\n",
       "      <td>Warm Chicken A La King</td>\n",
       "      <td>I copied this one out of a friend's book so ma...</td>\n",
       "      <td>Chicken</td>\n",
       "    </tr>\n",
       "    <tr>\n",
       "      <th>45</th>\n",
       "      <td>Buttermilk Pie With Gingersnap Crumb Crust</td>\n",
       "      <td>Make and share this Buttermilk Pie With Ginger...</td>\n",
       "      <td>Pie</td>\n",
       "    </tr>\n",
       "  </tbody>\n",
       "</table>\n",
       "</div>"
      ],
      "text/plain": [
       "                                                Name  \\\n",
       "RecipeId                                               \n",
       "38                 Low-Fat Berry Blue Frozen Dessert   \n",
       "40                                     Best Lemonade   \n",
       "42                                      Cabbage Soup   \n",
       "44                            Warm Chicken A La King   \n",
       "45        Buttermilk Pie With Gingersnap Crumb Crust   \n",
       "\n",
       "                                                Description   RecipeCategory  \n",
       "RecipeId                                                                      \n",
       "38        Make and share this Low-Fat Berry Blue Frozen ...  Frozen Desserts  \n",
       "40        This is from one of my  first Good House Keepi...        Beverages  \n",
       "42        Make and share this Cabbage Soup recipe from F...        Vegetable  \n",
       "44        I copied this one out of a friend's book so ma...          Chicken  \n",
       "45        Make and share this Buttermilk Pie With Ginger...              Pie  "
      ]
     },
     "execution_count": 22,
     "metadata": {},
     "output_type": "execute_result"
    }
   ],
   "source": [
    "words.head()"
   ]
  },
  {
   "cell_type": "markdown",
   "metadata": {},
   "source": [
    "We will not use the recipe categories, but both the name and description can be fed to the sentence transformer to obtain a vector that summarizes the \"semantic content\" of a recipe. "
   ]
  },
  {
   "cell_type": "code",
   "execution_count": 4,
   "metadata": {},
   "outputs": [],
   "source": [
    "recnamevecs = embedder.encode(words.Name.values)"
   ]
  },
  {
   "cell_type": "code",
   "execution_count": 6,
   "metadata": {},
   "outputs": [],
   "source": [
    "recdescvecs = embedder.encode(words.Description.values)"
   ]
  },
  {
   "cell_type": "markdown",
   "metadata": {},
   "source": [
    "There may be duplicate names, so we will use recipe ids to refer to recipes in the code. However, once the computations have been done, we will want to see the names of the recipes we've obtained. The following dictionary will speed that up."
   ]
  },
  {
   "cell_type": "code",
   "execution_count": 11,
   "metadata": {},
   "outputs": [],
   "source": [
    "rec_id_to_name = {i:words['Name'][i] for i in words.index}"
   ]
  },
  {
   "cell_type": "code",
   "execution_count": 13,
   "metadata": {},
   "outputs": [],
   "source": [
    "rec_ids = list(words.index)\n",
    "name_vecs_dict = {rec_ids[i]:recnamevecs[i] for i in range(len(rec_ids))}\n",
    "desc_vecs_dict = {rec_ids[i]:recdescvecs[i] for i in range(len(rec_ids))}"
   ]
  },
  {
   "cell_type": "markdown",
   "metadata": {},
   "source": [
    "We now have two distinct ways of associating a vector to each recipe.\n",
    "\n",
    "A user query will consist of the following:\n",
    "* A string $s$, whose semantic content describes what the user wants.\n",
    "* An integer $k$ that tells us how many recipes to return.\n",
    "\n",
    "Given a user query:\n",
    "* We use the transformer to obtain a vector $v_s$ representing the string $s$.\n",
    "* We sort the recipes, so that the recipes whose vectors have the largest dot product with $v_s$ come up first.\n",
    "* We return the names of the top $k$ recipes after sorting. "
   ]
  },
  {
   "cell_type": "code",
   "execution_count": 14,
   "metadata": {},
   "outputs": [],
   "source": [
    "def find_rec_dot(query:str,id_to_vecs:dict,num_results:int)->list:\n",
    "    rec_ids_copy = list(id_to_vecs.keys())\n",
    "    query_vec = embedder.encode(query)\n",
    "    rec_ids_copy.sort(key = lambda x: np.dot(query_vec,id_to_vecs[x]),reverse=True)\n",
    "    return [rec_id_to_name[id] for id in rec_ids_copy[:num_results]]\n",
    "    \n"
   ]
  },
  {
   "cell_type": "markdown",
   "metadata": {},
   "source": [
    "Ok, we're ready to start searching for recipes."
   ]
  },
  {
   "cell_type": "code",
   "execution_count": 23,
   "metadata": {},
   "outputs": [
    {
     "data": {
      "text/plain": [
       "['Easy Chocolate Delight',\n",
       " 'Chocolate Lush Layered Dessert',\n",
       " 'Homemade Hot Chocolate',\n",
       " 'Fabulous Hot Chocolate',\n",
       " 'Creamy, Thick Hot Chocolate',\n",
       " 'Truly Amazing Creamy Hot Chocolate',\n",
       " 'Easy (But Elegant) Chocolate Candy',\n",
       " 'Best Ever Chocolate Cake - Recipe',\n",
       " 'Thick and Chocolatey Hot Chocolate',\n",
       " 'Ultra-Rich Hot Chocolate']"
      ]
     },
     "execution_count": 23,
     "metadata": {},
     "output_type": "execute_result"
    }
   ],
   "source": [
    "find_rec_dot('I want an elegant chocolate recipe',name_vecs_dict,10)"
   ]
  },
  {
   "cell_type": "code",
   "execution_count": 24,
   "metadata": {},
   "outputs": [
    {
     "data": {
      "text/plain": [
       "['Veal or Turkey Burgers W/Onion Gravy (Low Fat!)',\n",
       " 'Hot Chicken, Bacon &amp; Garlic Mayo',\n",
       " 'The Naughty Things I Do for Chicken Tortilla Soup',\n",
       " 'Fried Fresh Corn With Bacon Grease',\n",
       " 'Olive Mayonnaise for Hot Dogs, Burgers, Chip Dip',\n",
       " \"Kittencal's Moist Turkey Burgers for the Grill (Low Fat)\",\n",
       " 'Corn and Shrimp Soup (Low-Fat)',\n",
       " 'Wet Chicken or Turkey Burritos',\n",
       " 'Homestyle Chicken Noodle Soup',\n",
       " 'Low Fat Butter Bean and Ham Soup']"
      ]
     },
     "execution_count": 24,
     "metadata": {},
     "output_type": "execute_result"
    }
   ],
   "source": [
    "find_rec_dot('I want an greasy comfort food',name_vecs_dict,10)"
   ]
  },
  {
   "cell_type": "markdown",
   "metadata": {},
   "source": [
    "This is not good - \"low fat\" and \"greasy\" are close."
   ]
  },
  {
   "cell_type": "code",
   "execution_count": 18,
   "metadata": {},
   "outputs": [
    {
     "data": {
      "text/plain": [
       "['Southern Buttermilk Fried Chicken',\n",
       " 'Vegetarian Tortilla Soup',\n",
       " 'Yosemite Chicken Stew  With Cornmeal Dumplings  (Low Fat)',\n",
       " 'Perfect Homemade Hash Browns',\n",
       " \"Dee's Philly Cheese Steak  Burger\",\n",
       " 'Deli Macaroni Salad',\n",
       " 'Chicken Chow Mein',\n",
       " 'Dipping Oil -  Rosemary Garlic',\n",
       " 'Savory Spiced Nuts',\n",
       " 'Beef and Noodles - Crock Pot']"
      ]
     },
     "execution_count": 18,
     "metadata": {},
     "output_type": "execute_result"
    }
   ],
   "source": [
    "find_rec_dot('I want greasy comfort food',desc_vecs_dict,10)"
   ]
  },
  {
   "cell_type": "markdown",
   "metadata": {},
   "source": [
    "Using descriptions instead of recipe names seems to fix the issue."
   ]
  },
  {
   "cell_type": "code",
   "execution_count": 19,
   "metadata": {},
   "outputs": [
    {
     "data": {
      "text/plain": [
       "['Oriental Stir Fry Vegetables With Oyster Sauce',\n",
       " 'Tomato-Zucchini Gratin',\n",
       " 'Pinakbet ( Philippine Vegetable Stew)',\n",
       " 'Brown Rice and Carrot Pilaf',\n",
       " 'Carrot and Squash Stir-Fry',\n",
       " 'Healthy Bow Tie Chicken Supper',\n",
       " 'Simple Hamburger Helper',\n",
       " \"Weck's Fabulous Veggie Sandwich\",\n",
       " 'Curry Spiced Winter Squash',\n",
       " 'Oven-Roasted Vegetables']"
      ]
     },
     "execution_count": 19,
     "metadata": {},
     "output_type": "execute_result"
    }
   ],
   "source": [
    "find_rec_dot('Healthy vegetable dish',desc_vecs_dict,10)"
   ]
  },
  {
   "cell_type": "code",
   "execution_count": 20,
   "metadata": {},
   "outputs": [
    {
     "data": {
      "text/plain": [
       "['Shrimp With Red and Yellow Peppers',\n",
       " 'Spicy Shrimp With Green Beans &amp; Red Pepper',\n",
       " 'Super Bowl Sunday Seafood Dip',\n",
       " 'Northwest Creamy Smoked Salmon Fettuccine Alfredo',\n",
       " 'Shrimp With Tomatoes, Olives and Basil',\n",
       " 'Shrimp With Broccoli',\n",
       " 'Shrimp and Egg Fried Rice With Napa Cabbage - Tyler Florence',\n",
       " 'Spicy Salsa-Cilantro Shrimp',\n",
       " 'Garlic Shrimp Spaghetti',\n",
       " 'Quick Shrimp Scampi Bake']"
      ]
     },
     "execution_count": 20,
     "metadata": {},
     "output_type": "execute_result"
    }
   ],
   "source": [
    "find_rec_dot('I have bell peppers and shrimp',desc_vecs_dict,10)"
   ]
  },
  {
   "cell_type": "code",
   "execution_count": 21,
   "metadata": {},
   "outputs": [
    {
     "data": {
      "text/plain": [
       "['Easy Lazy Lasagna',\n",
       " 'Thai Noodles With Chicken',\n",
       " 'Spicy Sesame Noodles',\n",
       " 'Spicy Asian Noodles With Chicken',\n",
       " 'Spicy Szechuan Peanut Sauce',\n",
       " 'Spicy Shrimp and Noodles',\n",
       " '3 Dragon’s Szechuan Steak',\n",
       " 'Asian Creation',\n",
       " 'Spicy pepper beef with noodles',\n",
       " 'Thai Ginger Coconut Vegetable Toss']"
      ]
     },
     "execution_count": 21,
     "metadata": {},
     "output_type": "execute_result"
    }
   ],
   "source": [
    "find_rec_dot('Spicy noodles and vegetable dish',desc_vecs_dict,10)"
   ]
  },
  {
   "cell_type": "code",
   "execution_count": null,
   "metadata": {},
   "outputs": [],
   "source": []
  },
  {
   "cell_type": "markdown",
   "metadata": {},
   "source": []
  }
 ],
 "metadata": {
  "kernelspec": {
   "display_name": "Python 3",
   "language": "python",
   "name": "python3"
  },
  "language_info": {
   "codemirror_mode": {
    "name": "ipython",
    "version": 3
   },
   "file_extension": ".py",
   "mimetype": "text/x-python",
   "name": "python",
   "nbconvert_exporter": "python",
   "pygments_lexer": "ipython3",
   "version": "3.11.3"
  }
 },
 "nbformat": 4,
 "nbformat_minor": 2
}
