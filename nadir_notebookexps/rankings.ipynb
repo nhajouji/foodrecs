{
 "cells": [
  {
   "cell_type": "code",
   "execution_count": 1,
   "metadata": {},
   "outputs": [],
   "source": [
    "import numpy as np\n",
    "import pandas as pd\n",
    "import matplotlib.pyplot as plt\n",
    "import seaborn as sns"
   ]
  },
  {
   "cell_type": "markdown",
   "metadata": {},
   "source": [
    "## Set-up\n",
    "We start by defining a few functions, loading the dataframe"
   ]
  },
  {
   "cell_type": "code",
   "execution_count": 16,
   "metadata": {},
   "outputs": [],
   "source": [
    "def flatten_list(l:list)->list:\n",
    "    newl = []\n",
    "    for l0 in l:\n",
    "        newl+=l0\n",
    "    return newl\n",
    "\n",
    "def tally(l:list)->dict:\n",
    "    counts = {item:0 for item in set(l)}\n",
    "    for item in l:\n",
    "        counts[item]+=1\n",
    "    return counts"
   ]
  },
  {
   "cell_type": "code",
   "execution_count": 5,
   "metadata": {},
   "outputs": [],
   "source": [
    "revs = pd.read_pickle('../data/revdense.pk')"
   ]
  },
  {
   "cell_type": "code",
   "execution_count": 8,
   "metadata": {},
   "outputs": [],
   "source": [
    "user_list = list(revs.UserId.unique())"
   ]
  },
  {
   "cell_type": "markdown",
   "metadata": {},
   "source": [
    "## Train test split\n",
    "\n",
    "We do a train-test split on our dataframe"
   ]
  },
  {
   "cell_type": "code",
   "execution_count": 10,
   "metadata": {},
   "outputs": [],
   "source": [
    "from sklearn.model_selection import train_test_split\n",
    "\n",
    "rev_train, rev_test = train_test_split(revs,\n",
    "                                       test_size=0.2,\n",
    "                                       random_state=193,\n",
    "                                       stratify=revs['UserId'])"
   ]
  },
  {
   "cell_type": "code",
   "execution_count": 24,
   "metadata": {},
   "outputs": [],
   "source": [
    "def get_dictionaries(ratingsdf,usercol,itemcol,ratingcol):\n",
    "    users = list(set(ratingsdf[usercol].values))\n",
    "    items = list(set(ratingsdf[itemcol].values))\n",
    "    ratings_by_user = {user_id:{} for user_id in users}\n",
    "    users_by_item = {item_id:[] for item_id in items}\n",
    "    for review_index in ratingsdf.index:\n",
    "        user_id = ratingsdf[usercol][review_index]\n",
    "        item_id = ratingsdf[itemcol][review_index]\n",
    "        rating = ratingsdf[ratingcol][review_index]\n",
    "        ratings_by_user[user_id][item_id] = rating\n",
    "        users_by_item[item_id].append(user_id)\n",
    "    return ratings_by_user,users_by_item\n",
    "\n",
    "user_ratings,items_by_user = get_dictionaries(rev_train,\n",
    "                                              'UserId',\n",
    "                                              'RecipeId',\n",
    "                                              'Rating')"
   ]
  },
  {
   "cell_type": "markdown",
   "metadata": {},
   "source": [
    "## Models\n",
    "Now that we've removed our test test, we will obtain some models.\n",
    "\n",
    "A model for us will consist of the following: for each user $u$, we will obtain a ranking of the recipes by how likely it is that $u$ will interact with a given recipe."
   ]
  },
  {
   "cell_type": "markdown",
   "metadata": {},
   "source": [
    "### Popularity\n",
    "Our simplest model is to simply to rank all recipes by general popularity (using the training set), and use the same ranking for all users."
   ]
  },
  {
   "cell_type": "code",
   "execution_count": 13,
   "metadata": {},
   "outputs": [],
   "source": [
    "def series_to_ranking(value_counts):\n",
    "    index = list(value_counts.keys())\n",
    "    index.sort(key = lambda x:value_counts[x],reverse=True)\n",
    "    return {index[i]:(i+1) for i in range(len(index))}"
   ]
  },
  {
   "cell_type": "code",
   "execution_count": 15,
   "metadata": {},
   "outputs": [],
   "source": [
    "popularity_ranking = series_to_ranking(rev_train.RecipeId.value_counts())"
   ]
  },
  {
   "cell_type": "markdown",
   "metadata": {},
   "source": [
    "### Popularity among related users\n",
    "\n",
    "We can obtain more variation in the rankings by doing the following: to obtain rankings for user $u$, we again use popularity, but we compute it on a restricted dataset consisting of users we think are similar to our target user.\n",
    "\n",
    "For a toy model, we will say that two users are similar if they have at least one review in common."
   ]
  },
  {
   "cell_type": "code",
   "execution_count": 31,
   "metadata": {},
   "outputs": [],
   "source": [
    "def related_users(user:int)->dict:\n",
    "    recs = list(rev_train.loc[rev_train.UserId==user]['RecipeId'].values)\n",
    "    return tally(flatten_list([items_by_user[recipe] for recipe in recs]))\n",
    "\n",
    "def user_neighborhood(user):\n",
    "    return rev_train[rev_train['UserId'].isin(related_users(user))]\n",
    "\n",
    "def user_ranking_v0(user):\n",
    "    ranking_user = list(user_neighborhood(user)['RecipeId'].value_counts().index)\n",
    "    return {ranking_user[i]:i+1 for i in range(len(ranking_user))}\n"
   ]
  },
  {
   "cell_type": "markdown",
   "metadata": {},
   "source": [
    "### Weighted Popularity among related users\n",
    "\n",
    "We can refine the previous model by taking into account the number of common reviews."
   ]
  },
  {
   "cell_type": "code",
   "execution_count": 32,
   "metadata": {},
   "outputs": [],
   "source": [
    "def user_neighborhood_wts(user):\n",
    "    rel_user_cts = related_users(user)\n",
    "    user_df = rev_train[rev_train['UserId'].isin(related_users(user))].copy()\n",
    "    user_df['No_common_revs'] = [rel_user_cts[user0] for user0 in user_df.UserId]\n",
    "    return user_df\n",
    "\n",
    "def user_ranking_v1(user):\n",
    "    usernbhd = user_neighborhood_wts(user)\n",
    "    user_rec_list = list(usernbhd.RecipeId.unique())\n",
    "    rec_scores = {rec:0 for rec in user_rec_list}\n",
    "    for i in usernbhd.index:\n",
    "        rec_scores[usernbhd['RecipeId'][i]]+=usernbhd['No_common_revs'][i]\n",
    "    user_rec_list.sort(key = lambda x:rec_scores[x],reverse=True)\n",
    "    return {user_rec_list[i]:i+1 for i in range(len(user_rec_list))}\n"
   ]
  },
  {
   "cell_type": "markdown",
   "metadata": {},
   "source": [
    "## Making predictions\n",
    "\n",
    "Now that we've \"trained\" our models (we've defined functions that will make predicitons using the training set), we will see how they do on the test set.\n",
    "\n",
    "We will view each user as a query, and we will view the set of recipes they've reviewed as \"acceptable responses\". This will allow us to judge the collection of rankings.\n",
    "\n",
    "To quantify how well a model does, we use [mean reciprocal rank](https://en.wikipedia.org/wiki/Mean_reciprocal_rank)."
   ]
  },
  {
   "cell_type": "code",
   "execution_count": 35,
   "metadata": {},
   "outputs": [],
   "source": [
    "user_data = {'UserId':[],\n",
    "             'No_recs_user':[],\n",
    "             'No_recs_rel_users':[],\n",
    "             'ByPopularity_const_train':[],\n",
    "             'ByPopularity_us_train':[],\n",
    "             'ByPopularity_wts_train':[]}\n",
    "\n",
    "for user in user_list:\n",
    "    user_data['UserId'].append(user)\n",
    "    userrecs = list(user_ratings[user].keys())\n",
    "    user_data['No_recs_user'].append(len(userrecs))\n",
    "    rankingsv0 = user_ranking_v0(user)\n",
    "    user_data['No_recs_rel_users'].append(len(rankingsv0))\n",
    "    user_data['ByPopularity_const_train'].append([popularity_ranking[rec] for rec in userrecs])\n",
    "    user_data['ByPopularity_us_train'].append([rankingsv0[rec] for rec in userrecs])\n",
    "    rankingsv1 = user_ranking_v1(user)\n",
    "    user_data['ByPopularity_wts_train'].append([rankingsv1[rec] for rec in userrecs])\n",
    "\n",
    "\n",
    "\n"
   ]
  },
  {
   "cell_type": "code",
   "execution_count": 36,
   "metadata": {},
   "outputs": [],
   "source": [
    "user_pred_df = pd.DataFrame(user_data)\n",
    "user_pred_df.set_index('UserId',inplace=True)"
   ]
  },
  {
   "cell_type": "code",
   "execution_count": 42,
   "metadata": {},
   "outputs": [],
   "source": [
    "for col in ['ByPopularity_const_train','ByPopularity_us_train', 'ByPopularity_wts_train']:\n",
    "    user_pred_df[col] = user_pred_df[col].apply(min)"
   ]
  },
  {
   "cell_type": "code",
   "execution_count": 43,
   "metadata": {},
   "outputs": [
    {
     "data": {
      "text/html": [
       "<div>\n",
       "<style scoped>\n",
       "    .dataframe tbody tr th:only-of-type {\n",
       "        vertical-align: middle;\n",
       "    }\n",
       "\n",
       "    .dataframe tbody tr th {\n",
       "        vertical-align: top;\n",
       "    }\n",
       "\n",
       "    .dataframe thead th {\n",
       "        text-align: right;\n",
       "    }\n",
       "</style>\n",
       "<table border=\"1\" class=\"dataframe\">\n",
       "  <thead>\n",
       "    <tr style=\"text-align: right;\">\n",
       "      <th></th>\n",
       "      <th>No_recs_user</th>\n",
       "      <th>No_recs_rel_users</th>\n",
       "      <th>ByPopularity_const_train</th>\n",
       "      <th>ByPopularity_us_train</th>\n",
       "      <th>ByPopularity_wts_train</th>\n",
       "    </tr>\n",
       "    <tr>\n",
       "      <th>UserId</th>\n",
       "      <th></th>\n",
       "      <th></th>\n",
       "      <th></th>\n",
       "      <th></th>\n",
       "      <th></th>\n",
       "    </tr>\n",
       "  </thead>\n",
       "  <tbody>\n",
       "    <tr>\n",
       "      <th>7802</th>\n",
       "      <td>27</td>\n",
       "      <td>2585</td>\n",
       "      <td>21</td>\n",
       "      <td>2</td>\n",
       "      <td>2</td>\n",
       "    </tr>\n",
       "    <tr>\n",
       "      <th>9869</th>\n",
       "      <td>186</td>\n",
       "      <td>2585</td>\n",
       "      <td>1</td>\n",
       "      <td>1</td>\n",
       "      <td>1</td>\n",
       "    </tr>\n",
       "    <tr>\n",
       "      <th>6357</th>\n",
       "      <td>74</td>\n",
       "      <td>2585</td>\n",
       "      <td>22</td>\n",
       "      <td>4</td>\n",
       "      <td>2</td>\n",
       "    </tr>\n",
       "    <tr>\n",
       "      <th>11297</th>\n",
       "      <td>54</td>\n",
       "      <td>2585</td>\n",
       "      <td>6</td>\n",
       "      <td>2</td>\n",
       "      <td>2</td>\n",
       "    </tr>\n",
       "    <tr>\n",
       "      <th>4470</th>\n",
       "      <td>146</td>\n",
       "      <td>2585</td>\n",
       "      <td>1</td>\n",
       "      <td>1</td>\n",
       "      <td>1</td>\n",
       "    </tr>\n",
       "    <tr>\n",
       "      <th>...</th>\n",
       "      <td>...</td>\n",
       "      <td>...</td>\n",
       "      <td>...</td>\n",
       "      <td>...</td>\n",
       "      <td>...</td>\n",
       "    </tr>\n",
       "    <tr>\n",
       "      <th>2001330613</th>\n",
       "      <td>30</td>\n",
       "      <td>2585</td>\n",
       "      <td>25</td>\n",
       "      <td>3</td>\n",
       "      <td>2</td>\n",
       "    </tr>\n",
       "    <tr>\n",
       "      <th>2001362355</th>\n",
       "      <td>24</td>\n",
       "      <td>2585</td>\n",
       "      <td>1</td>\n",
       "      <td>1</td>\n",
       "      <td>1</td>\n",
       "    </tr>\n",
       "    <tr>\n",
       "      <th>2001102678</th>\n",
       "      <td>27</td>\n",
       "      <td>2585</td>\n",
       "      <td>59</td>\n",
       "      <td>3</td>\n",
       "      <td>2</td>\n",
       "    </tr>\n",
       "    <tr>\n",
       "      <th>2001625595</th>\n",
       "      <td>18</td>\n",
       "      <td>2585</td>\n",
       "      <td>6</td>\n",
       "      <td>1</td>\n",
       "      <td>1</td>\n",
       "    </tr>\n",
       "    <tr>\n",
       "      <th>2002256447</th>\n",
       "      <td>23</td>\n",
       "      <td>2585</td>\n",
       "      <td>97</td>\n",
       "      <td>9</td>\n",
       "      <td>5</td>\n",
       "    </tr>\n",
       "  </tbody>\n",
       "</table>\n",
       "<p>2649 rows × 5 columns</p>\n",
       "</div>"
      ],
      "text/plain": [
       "            No_recs_user  No_recs_rel_users  ByPopularity_const_train  \\\n",
       "UserId                                                                  \n",
       "7802                  27               2585                        21   \n",
       "9869                 186               2585                         1   \n",
       "6357                  74               2585                        22   \n",
       "11297                 54               2585                         6   \n",
       "4470                 146               2585                         1   \n",
       "...                  ...                ...                       ...   \n",
       "2001330613            30               2585                        25   \n",
       "2001362355            24               2585                         1   \n",
       "2001102678            27               2585                        59   \n",
       "2001625595            18               2585                         6   \n",
       "2002256447            23               2585                        97   \n",
       "\n",
       "            ByPopularity_us_train  ByPopularity_wts_train  \n",
       "UserId                                                     \n",
       "7802                            2                       2  \n",
       "9869                            1                       1  \n",
       "6357                            4                       2  \n",
       "11297                           2                       2  \n",
       "4470                            1                       1  \n",
       "...                           ...                     ...  \n",
       "2001330613                      3                       2  \n",
       "2001362355                      1                       1  \n",
       "2001102678                      3                       2  \n",
       "2001625595                      1                       1  \n",
       "2002256447                      9                       5  \n",
       "\n",
       "[2649 rows x 5 columns]"
      ]
     },
     "execution_count": 43,
     "metadata": {},
     "output_type": "execute_result"
    }
   ],
   "source": [
    "user_pred_df"
   ]
  },
  {
   "cell_type": "code",
   "execution_count": 47,
   "metadata": {},
   "outputs": [],
   "source": [
    "user_data_test = {'UserId':[],\n",
    "             'No_recs_user':[],\n",
    "             'Popularity':[],\n",
    "             'Popularity_us':[],\n",
    "             'Popularity_wt':[]}\n",
    "\n",
    "for user in user_list:\n",
    "    user_data_test['UserId'].append(user)\n",
    "    userrecs = rev_test.loc[rev_test['UserId']==user]['RecipeId'].values\n",
    "    user_data_test['No_recs_user'].append(len(userrecs))\n",
    "    rankingsv0 = user_ranking_v0(user)\n",
    "    user_data_test['Popularity'].append([popularity_ranking[rec] for rec in userrecs])\n",
    "    user_data_test['Popularity_us'].append([rankingsv0[rec] for rec in userrecs])\n",
    "    rankingsv1 = user_ranking_v1(user)\n",
    "    user_data_test['Popularity_wt'].append([rankingsv1[rec] for rec in userrecs])\n",
    "\n",
    "user_test_pred_df = pd.DataFrame(user_data_test)\n",
    "\n",
    "user_test_pred_df.set_index('UserId',inplace=True)\n"
   ]
  },
  {
   "cell_type": "code",
   "execution_count": 54,
   "metadata": {},
   "outputs": [],
   "source": [
    "user_test_pred_df['Popularity_min']=user_test_pred_df['Popularity'].apply(min)\n",
    "user_test_pred_df['Popularity_us_min']= user_test_pred_df['Popularity_us'].apply(min)\n",
    "user_test_pred_df['Popularity_wt_min']= user_test_pred_df['Popularity_wt'].apply(min)\n"
   ]
  }
 ],
 "metadata": {
  "kernelspec": {
   "display_name": "Python 3",
   "language": "python",
   "name": "python3"
  },
  "language_info": {
   "codemirror_mode": {
    "name": "ipython",
    "version": 3
   },
   "file_extension": ".py",
   "mimetype": "text/x-python",
   "name": "python",
   "nbconvert_exporter": "python",
   "pygments_lexer": "ipython3",
   "version": "3.11.3"
  }
 },
 "nbformat": 4,
 "nbformat_minor": 2
}
