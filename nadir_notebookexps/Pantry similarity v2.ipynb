{
 "cells": [
  {
   "cell_type": "markdown",
   "id": "bf5a384e-4c81-435d-acc8-338ce215a306",
   "metadata": {},
   "source": [
    "Each user has reviewed some number of recipes, and those recipes each require certain ingredients. A user's \"pantry\" is the set of ingredients that have appeared in some recipe reviewed by that author. \n",
    "\n",
    "The goal of this notebook is to determine whether a user's pantry can be used to predict their ratings."
   ]
  },
  {
   "cell_type": "code",
   "execution_count": 2,
   "id": "92d3508a-2829-49fc-94d2-54cd1fd04947",
   "metadata": {},
   "outputs": [],
   "source": [
    "import pandas as pd\n",
    "import numpy as np\n",
    "import matplotlib.pyplot as plt"
   ]
  },
  {
   "cell_type": "code",
   "execution_count": 3,
   "id": "234825a5-95e5-451f-9e9e-bcef53093b0d",
   "metadata": {},
   "outputs": [],
   "source": [
    "revdf = pd.read_pickle('data/reviewsred.pk')\n",
    "recdf = pd.read_pickle('data/rec_ingredients.pk')"
   ]
  },
  {
   "cell_type": "code",
   "execution_count": 30,
   "id": "58ed7ec8-7b0e-468a-8704-658aeca254ad",
   "metadata": {},
   "outputs": [],
   "source": [
    "def renormalize_dictionary(ratings_dic):\n",
    "    ratings = list(ratings_dic.values())\n",
    "    mean_rating = np.mean(ratings)\n",
    "    std_rating = np.std(ratings)\n",
    "    if std_rating == 0:\n",
    "        return {recipe_id:0 for recipe_id in ratings_dic}\n",
    "    else:\n",
    "        return {recipe_id:(ratings_dic[recipe_id]-mean_rating)/std_rating for recipe_id in ratings_dic}\n",
    "\n",
    "def cosine_sim_dics(dic1,dic2):\n",
    "    keys1 = set(dic1.keys())\n",
    "    keys2 = set(dic2.keys())\n",
    "    len1 = 0\n",
    "    len2 = 0\n",
    "    dot = 0\n",
    "    for common_key in keys1.intersection(keys2):\n",
    "        value1 = dic1[common_key]\n",
    "        value2 = dic2[common_key]\n",
    "        len1+=value1**2\n",
    "        len2+=value2**2\n",
    "        dot+=value1*value2\n",
    "    for key1 in keys1-keys2:\n",
    "        len1+=dic1[key1]**2\n",
    "    for key2 in keys2-keys1:\n",
    "        len2+=dic2[key2]**2\n",
    "    return dot/np.sqrt(len1*len2)\n",
    "\n",
    "def cosine_sim_dics_res(dic1,dic2):\n",
    "    keys1 = set(dic1.keys())\n",
    "    keys2 = set(dic2.keys())\n",
    "    len1 = 0\n",
    "    len2 = 0\n",
    "    dot = 0\n",
    "    for common_key in keys1.intersection(keys2):\n",
    "        value1 = dic1[common_key]\n",
    "        value2 = dic2[common_key]\n",
    "        len1+=value1**2\n",
    "        len2+=value2**2\n",
    "        dot+=value1*value2\n",
    "    return dot/np.sqrt(len1*len2)"
   ]
  },
  {
   "cell_type": "markdown",
   "id": "958b7f36-5568-48dc-9e95-5fa2d6c1f26c",
   "metadata": {},
   "source": [
    "We've imported two dataframes: 'revdf', which contains ratings, and 'recdf', which contains recipes and their ingredients.\n",
    "\n",
    "Our goal is to understand the authors of the reviews, so we're going to collect data from the dataframes and group it by author:"
   ]
  },
  {
   "cell_type": "code",
   "execution_count": 4,
   "id": "d9ef6fee-0134-48fe-b1bd-664b380f3937",
   "metadata": {},
   "outputs": [],
   "source": [
    "# We start by obtaining the list of reviewers from the dataframe. \n",
    "# It will be important that we have an ordered version of that list with no repeats.\n",
    "author_ids = list(set(revdf['AuthorId'].values))\n",
    "# We group data by author. We are interested in two types of data: \n",
    "#author_data[author]['Ratings'] returns a dictionary with ratings data,\n",
    "#autor_data[author]['Ingredients'] returns a list of the ingredients used by that author. \n",
    "# Note that the list contains repetitions: the number of occurences of an ingredient is equal to the number of times the reviewer\n",
    "# has used that ingredient. \n",
    "\n",
    "author_data = {author_id:{'Ratings':{},'Ingredients':{}} for author_id in author_ids}\n",
    "for review_index in revdf.index:\n",
    "    author_id = revdf['AuthorId'][review_index]\n",
    "    recipe_id = revdf['RecipeId'][review_index]\n",
    "    rating = revdf['Rating'][review_index]\n",
    "    ingredients = recdf['RecipeIngredientParts'][recipe_id]\n",
    "    author_data[author_id]['Ratings'][recipe_id] = rating\n",
    "    author_data[author_id]['Ingredients'][recipe_id] = ingredients"
   ]
  },
  {
   "cell_type": "code",
   "execution_count": 15,
   "id": "85c2a040-7a75-450e-b3fd-85cf97621d86",
   "metadata": {},
   "outputs": [],
   "source": [
    "# We're going to renormalize our ratings so that the mean rating for each author is 0 and the standard deviation is 1.\n",
    "# We also record the mean, the standard deviation and the number of reviews for each author.\n",
    "for author_id in author_data:\n",
    "    author_data[author_id]['Normalized_ratings'] = renormalize_dictionary(author_data[author_id]['Ratings'])"
   ]
  },
  {
   "cell_type": "markdown",
   "id": "04a36b9e-8009-42fc-9233-1cc473502769",
   "metadata": {},
   "source": [
    "We're going to count the ingredients, but weigh each occurence by the normalized rating.\n",
    "\n",
    "This will allow us to assign a number to each element in the pantry that quantifies how much that ingredient affects reviews (e.g. if the user rates recipes with onions higher than average, then onion will have a positive score; the more times that happens, the higher the score.)"
   ]
  },
  {
   "cell_type": "code",
   "execution_count": 16,
   "id": "d5942209-b198-4140-8546-214a33e6a8df",
   "metadata": {},
   "outputs": [],
   "source": [
    "for author_id in author_data:\n",
    "    normalized_ratings = author_data[author_id]['Normalized_ratings']\n",
    "    ingredients_by_recid = author_data[author_id]['Ingredients']\n",
    "    ingredient_ratings = {}\n",
    "    for recipe_id in ingredients_by_recid:\n",
    "        ingredients = ingredients_by_recid[recipe_id]\n",
    "        rating = normalized_ratings[recipe_id]\n",
    "        for ingredient in ingredients:\n",
    "            if ingredient in ingredient_ratings:\n",
    "                ingredient_ratings[ingredient]+=rating\n",
    "            else:\n",
    "                ingredient_ratings[ingredient] = rating\n",
    "    author_data[author_id]['Ingredient_ratings'] = ingredient_ratings"
   ]
  },
  {
   "cell_type": "markdown",
   "id": "a3420b1b-047e-407e-9264-b324f17330f9",
   "metadata": {},
   "source": [
    "We have over 40,000 unique reviewers, and we want to do some exploratory analysis involving pairs of reviewers.\n",
    "There are far too many pairs of reviewers to choose from, so we're going to restrict attention to a small sample of reviewers.\n",
    "\n",
    "To ensure we have a subset with lots of reviews, we're going to simply pick the authors with at least $n$ reviews (explicitly $n = 100$,\n",
    "which gives us 1724 authors)."
   ]
  },
  {
   "cell_type": "code",
   "execution_count": 20,
   "id": "8c7ed34b-5578-4373-b379-21b68b55584a",
   "metadata": {},
   "outputs": [],
   "source": [
    "auth100 = [author_id for author_id in author_ids if len(author_data[author_id]['Ratings'].keys())>99]"
   ]
  },
  {
   "cell_type": "code",
   "execution_count": 21,
   "id": "1a2ac4f9-924e-43be-ace4-dc12e52a4ff8",
   "metadata": {},
   "outputs": [
    {
     "data": {
      "text/plain": [
       "1724"
      ]
     },
     "execution_count": 21,
     "metadata": {},
     "output_type": "execute_result"
    }
   ],
   "source": [
    "len(auth100)"
   ]
  },
  {
   "cell_type": "markdown",
   "id": "523aedb5-9811-46f4-9197-8b85140f6390",
   "metadata": {},
   "source": [
    "Now, for each pair of reviewers, we compute the set of recipes reviewed by both reviewers. If that intersection is nonempty, we record the pair and the intersection in a dictionary for subsequent use.\n",
    "\n",
    "The keys of this dictionary are the pairs (author1, author2) consisting of pairs of authors that have reviewed at least one common recipe.\n",
    "The value associated to that pair is the nonempty set of recipeids of recipes reviewed by both."
   ]
  },
  {
   "cell_type": "code",
   "execution_count": 22,
   "id": "08941893-37d1-4b19-853c-1887cef77e7d",
   "metadata": {},
   "outputs": [],
   "source": [
    "auth100pairs = {}\n",
    "for i in range(len(auth100)-1):\n",
    "    author_id1 = auth100[i]\n",
    "    recipe_ids1 = set(author_data[author_id1]['Normalized_ratings'].keys())\n",
    "    for j in range(i+1,len(auth100)):\n",
    "        author_id2 = auth100[j]\n",
    "        recipe_ids2 = set(author_data[author_id2]['Normalized_ratings'].keys())\n",
    "        if len(recipe_ids1.intersection(recipe_ids2))>0:\n",
    "            auth100pairs[(author_id1,author_id2)] = list(recipe_ids1.intersection(recipe_ids2))"
   ]
  },
  {
   "cell_type": "markdown",
   "id": "a018cc30-7d31-49c2-bd99-705663b76674",
   "metadata": {},
   "source": [
    "Given two authors, we want to quantify:\n",
    "* How similar the authors' pantries are.\n",
    "* How similar the authors reviews are.\n",
    "\n",
    "I've written down functions that attempt to do that:\n",
    "* The pantry similarity is going to be a number between 0, 1: similarity is 0 if the pantries are disjoint and similarity is 1 if they're equal. The closer to 1 the score is, the more similar the pantries.\n",
    "* To compare ratings, we're only going to look at the set of recipes reviewed by both authors. Each author's reviews of those recipes can be encoded as a vector; we're going to compute the cosine similarity of those vectors to obtain a number between -1 and 1."
   ]
  },
  {
   "cell_type": "code",
   "execution_count": 33,
   "id": "a80480f1-003c-4ebe-a2ab-2c77ba304163",
   "metadata": {},
   "outputs": [],
   "source": [
    "def pantry_review_similarity(authorpair):\n",
    "    author_id0 = authorpair[0]\n",
    "    author_id1 = authorpair[1]\n",
    "    ratings0 = author_data[author_id0]['Normalized_ratings']\n",
    "    ratings1 = author_data[author_id1]['Normalized_ratings']\n",
    "    ingredient_ratings0 = author_data[author_id0]['Ingredient_ratings']\n",
    "    ingredient_ratings1 = author_data[author_id1]['Ingredient_ratings']\n",
    "    pantry_sim = cosine_sim_dics(ingredient_ratings0,ingredient_ratings1)\n",
    "    rating_sim = cosine_sim_dics_res(ratings0,ratings1)\n",
    "    return [pantry_sim,rating_sim]"
   ]
  },
  {
   "cell_type": "code",
   "execution_count": 47,
   "id": "98143fe5-6d76-4982-b5f1-1dc8fd3db6d0",
   "metadata": {},
   "outputs": [],
   "source": [
    "test = np.array([pantry_review_similarity(pair) for pair in pairlist50])"
   ]
  },
  {
   "cell_type": "code",
   "execution_count": 25,
   "id": "c8b970bf-e94b-49fb-b3e8-01249867892d",
   "metadata": {},
   "outputs": [],
   "source": [
    "pairlist100 = [pair for pair in auth100pairs if len(auth100pairs[pair])>100]\n",
    "pairlist50 = [pair for pair in auth100pairs if len(auth100pairs[pair])>50]\n",
    "pairlist10 = [pair for pair in auth100pairs if len(auth100pairs[pair])>10]"
   ]
  },
  {
   "cell_type": "code",
   "execution_count": 18,
   "id": "0c150c36-3e54-4fd9-a7ba-49579d53156c",
   "metadata": {},
   "outputs": [],
   "source": [
    "pantry_rating_m10 = np.array([[pantry_similarity(pair),rating_similarity(pair)] for pair in pairlist10])\n",
    "pantry_rating_m100 = np.array([[pantry_similarity(pair),rating_similarity(pair)] for pair in pairlist100])"
   ]
  },
  {
   "cell_type": "code",
   "execution_count": 44,
   "id": "6e97f833-03fb-4149-8141-5bcf8c8183b7",
   "metadata": {},
   "outputs": [
    {
     "data": {
      "text/plain": [
       "array([[1.        , 0.04182584],\n",
       "       [0.04182584, 1.        ]])"
      ]
     },
     "execution_count": 44,
     "metadata": {},
     "output_type": "execute_result"
    }
   ],
   "source": [
    "np.corrcoef(test[:,0],test[:,1])"
   ]
  },
  {
   "cell_type": "code",
   "execution_count": 48,
   "id": "fe820bd7-5b30-47c8-ae7b-f59e6ae811d2",
   "metadata": {},
   "outputs": [
    {
     "data": {
      "image/png": "[encoded data removed]",
      "text/plain": [
       "<Figure size 640x480 with 1 Axes>"
      ]
     },
     "metadata": {},
     "output_type": "display_data"
    }
   ],
   "source": [
    "plt.scatter(test[:,0],test[:,1])\n",
    "plt.show()"
   ]
  },
  {
   "cell_type": "markdown",
   "id": "86e53d83-23cd-48e9-a994-a2eed0107624",
   "metadata": {},
   "source": [
    "## Observations\n",
    "* If we restrict to pairs authors with lots of recipes in common, and the authors have reviewed those recipes similarly, then they probably have similar pantries.\n",
    "* The converse is false, however: just because two authors have lots of recipes in common and they have a similar pantry, the ratings vectors could be orthogonal."
   ]
  },
  {
   "cell_type": "markdown",
   "id": "c96cdefa-abcc-4af6-94fd-296ba00174b3",
   "metadata": {},
   "source": [
    "## Next steps\n",
    "* Experiment with other pantry similarity scores\n",
    "* Experiment with other notions of similarity between users (e.g. nutrition, recipe difficulty)"
   ]
  },
  {
   "cell_type": "code",
   "execution_count": null,
   "id": "0a572f40-b3e3-4e8c-b68c-3f3027f25b83",
   "metadata": {},
   "outputs": [],
   "source": [
    "def pantry_vec(author_id):\n",
    "    author_reviews = "
   ]
  }
 ],
 "metadata": {
  "kernelspec": {
   "display_name": "Python 3 (ipykernel)",
   "language": "python",
   "name": "python3"
  },
  "language_info": {
   "codemirror_mode": {
    "name": "ipython",
    "version": 3
   },
   "file_extension": ".py",
   "mimetype": "text/x-python",
   "name": "python",
   "nbconvert_exporter": "python",
   "pygments_lexer": "ipython3",
   "version": "3.11.6"
  }
 },
 "nbformat": 4,
 "nbformat_minor": 5
}
