{
 "cells": [
  {
   "cell_type": "markdown",
   "id": "bf5a384e-4c81-435d-acc8-338ce215a306",
   "metadata": {},
   "source": [
    "Each user has reviewed some number of recipes, and those recipes each require certain ingredients. A user's \"pantry\" is the set of ingredients that have appeared in some recipe reviewed by that author. \n",
    "\n",
    "The goal of this notebook is to determine whether a user's pantry can be used to predict their ratings."
   ]
  },
  {
   "cell_type": "code",
   "execution_count": 1,
   "id": "92d3508a-2829-49fc-94d2-54cd1fd04947",
   "metadata": {},
   "outputs": [],
   "source": [
    "import pandas as pd\n",
    "import numpy as np\n",
    "import matplotlib.pyplot as plt"
   ]
  },
  {
   "cell_type": "code",
   "execution_count": 3,
   "id": "234825a5-95e5-451f-9e9e-bcef53093b0d",
   "metadata": {},
   "outputs": [],
   "source": [
    "revdf = pd.read_pickle('../data/reviewsred.pk')\n",
    "recdf = pd.read_pickle('../data/rec_ingredients.pk')"
   ]
  },
  {
   "cell_type": "code",
   "execution_count": 7,
   "id": "58ed7ec8-7b0e-468a-8704-658aeca254ad",
   "metadata": {},
   "outputs": [],
   "source": [
    "ingredients_list = []\n",
    "for l in recdf['RecipeIngredientParts'].values:\n",
    "    ingredients_list+=l"
   ]
  },
  {
   "cell_type": "code",
   "execution_count": 14,
   "id": "5fcdef9d",
   "metadata": {},
   "outputs": [],
   "source": [
    "ingredients_nr = [name.lower() for name in set(ingredients_list)]"
   ]
  },
  {
   "cell_type": "code",
   "execution_count": 23,
   "id": "a7d8f67a",
   "metadata": {},
   "outputs": [],
   "source": [
    "posssubs = {w:[] for w in ingredients_nr}\n",
    "\n",
    "for w in ingredients_nr:\n",
    "    for w2 in ingredients_nr:\n",
    "        if w!=w2 and w in w2:\n",
    "            posssubs[w].append(w2)\n",
    "\n",
    "posssubs = {w:posssubs[w] for w in ingredients_nr if len(posssubs[w])>0}\n"
   ]
  },
  {
   "cell_type": "code",
   "execution_count": 27,
   "id": "371fcf8c",
   "metadata": {},
   "outputs": [],
   "source": [
    "shortwords = list(posssubs.keys())\n",
    "longwords = []\n",
    "for l in posssubs.values():\n",
    "    longwords+=l\n",
    "longwords = list(set(longwords))\n",
    "shortwords_0 = list(set(shortwords)-set(longwords))"
   ]
  },
  {
   "cell_type": "code",
   "execution_count": 39,
   "id": "27197a70",
   "metadata": {},
   "outputs": [],
   "source": [
    "oils = [w for w in ingredients_nr if 'oil' in w and 'olive' in w]"
   ]
  },
  {
   "cell_type": "code",
   "execution_count": 95,
   "id": "94f103ea",
   "metadata": {},
   "outputs": [
    {
     "data": {
      "text/plain": [
       "['nestle chocolate milk', '1% low-fat chocolate milk']"
      ]
     },
     "execution_count": 95,
     "metadata": {},
     "output_type": "execute_result"
    }
   ],
   "source": [
    "posssubs[shortwords[13]]"
   ]
  },
  {
   "cell_type": "code",
   "execution_count": 90,
   "id": "7b4ea2b1",
   "metadata": {},
   "outputs": [
    {
     "data": {
      "text/plain": [
       "'ground mustard'"
      ]
     },
     "execution_count": 90,
     "metadata": {},
     "output_type": "execute_result"
    }
   ],
   "source": [
    "shortwords[9]"
   ]
  },
  {
   "cell_type": "code",
   "execution_count": 57,
   "id": "af647aab",
   "metadata": {},
   "outputs": [],
   "source": [
    "words = []\n",
    "for ing in ingredients_nr:\n",
    "    words+=ing.split(' ')"
   ]
  },
  {
   "cell_type": "code",
   "execution_count": 93,
   "id": "19a66012",
   "metadata": {},
   "outputs": [],
   "source": [
    "def clean(w,wordlist):\n",
    "    if 'best' in w:\n",
    "        if 'simply the best' in w:\n",
    "            w = w.replace('simply the best ','')\n",
    "        elif 'best ever' in w:\n",
    "            w = w.replace('best ever ','')\n",
    "        elif 'the best' in w:\n",
    "            w = w.replace('the best ','')\n",
    "        elif 'best foods' in w:\n",
    "            w = w.replace('best foods ','')\n",
    "        else:\n",
    "            w = w.replace('best ','')\n",
    "    if ' lite ' in w:\n",
    "        w = w.replace(' lite ','light')\n",
    "    for w0 in wordlist:\n",
    "        if w0 in w:\n",
    "            w = w.replace(w0,'')\n",
    "    if \"'s\" in w:\n",
    "        wnew = ''\n",
    "        for w0 in w.split(' '):\n",
    "            if \"'s\" not in w0:\n",
    "                wnew+=w0+' '\n",
    "        w = wnew\n",
    "    w = w.strip()\n",
    "    w.replace('  ',' ')\n",
    "    return w"
   ]
  },
  {
   "cell_type": "code",
   "execution_count": null,
   "id": "b99c5969",
   "metadata": {},
   "outputs": [],
   "source": []
  },
  {
   "cell_type": "code",
   "execution_count": 97,
   "id": "7bfea2a8",
   "metadata": {},
   "outputs": [],
   "source": [
    "unnecessarywords = ['extra virgin','plain','substitute','xxxx','store ','real','other','nestle']"
   ]
  },
  {
   "cell_type": "code",
   "execution_count": 58,
   "id": "1dd40b6a",
   "metadata": {},
   "outputs": [
    {
     "data": {
      "text/plain": [
       "2941"
      ]
     },
     "execution_count": 58,
     "metadata": {},
     "output_type": "execute_result"
    }
   ],
   "source": [
    "len(set(words))"
   ]
  },
  {
   "cell_type": "code",
   "execution_count": 98,
   "id": "5b486a19",
   "metadata": {},
   "outputs": [],
   "source": [
    "ingredients_nr2 = list(set([clean(w,unnecessarywords) for w in ingredients_nr]))"
   ]
  },
  {
   "cell_type": "code",
   "execution_count": 99,
   "id": "7321db31",
   "metadata": {},
   "outputs": [
    {
     "data": {
      "text/plain": [
       "5142"
      ]
     },
     "execution_count": 99,
     "metadata": {},
     "output_type": "execute_result"
    }
   ],
   "source": [
    "len(ingredients_nr2)"
   ]
  },
  {
   "cell_type": "code",
   "execution_count": 66,
   "id": "6df7a6df",
   "metadata": {},
   "outputs": [],
   "source": []
  },
  {
   "cell_type": "code",
   "execution_count": 67,
   "id": "81df49e0",
   "metadata": {},
   "outputs": [
    {
     "data": {
      "text/plain": [
       "[\"guadalupe's\",\n",
       " \"devil's\",\n",
       " \"kittencal's\",\n",
       " \"peter's\",\n",
       " \"lawry's\",\n",
       " \"devil's\",\n",
       " \"(reese's)\",\n",
       " \"america's\",\n",
       " \"kittencal's\",\n",
       " \"kittencal's\",\n",
       " \"resort's\",\n",
       " \"gram's\",\n",
       " \"baker's\",\n",
       " \"german's\",\n",
       " \"gramma's\",\n",
       " \"planter's\",\n",
       " \"jeff's\",\n",
       " \"stewart's\",\n",
       " \"it's\",\n",
       " \"hershey's\",\n",
       " \"roger's\",\n",
       " \"kittencal's\",\n",
       " \"jane's\",\n",
       " \"wyler's\",\n",
       " \"kittencal's\",\n",
       " \"lipton's\",\n",
       " \"libby's\",\n",
       " \"neely's\",\n",
       " \"john's\",\n",
       " \"nan's\",\n",
       " \"knapp's\",\n",
       " \"reichl's\",\n",
       " \"nif's\",\n",
       " \"kittencal's\",\n",
       " \"minado's\",\n",
       " \"neely's\",\n",
       " \"kittencal's\",\n",
       " \"2bleu's\",\n",
       " \"bek's\",\n",
       " \"kittencal's\",\n",
       " \"grandma's\",\n",
       " \"morton's\",\n",
       " \"morgan's\",\n",
       " \"hunt's\",\n",
       " \"linda's\",\n",
       " \"kittencal's\",\n",
       " \"kittencal's\",\n",
       " \"chef's\",\n",
       " \"mom's\",\n",
       " \"baker's\",\n",
       " \"kittencal's\",\n",
       " \"hellmann's\",\n",
       " \"ben's\",\n",
       " \"maureen's\",\n",
       " \"rj's\",\n",
       " \"buddha's\",\n",
       " \"baker's\",\n",
       " \"bird's\",\n",
       " \"mama's\",\n",
       " \"buddha's\",\n",
       " \"kittencal's\",\n",
       " \"spago's\",\n",
       " \"dad's\",\n",
       " \"sooz's\",\n",
       " \"jeni's\",\n",
       " \"marsha's\",\n",
       " \"gebhardt's\",\n",
       " \"hunt's\",\n",
       " \"ben's\",\n",
       " \"george's\",\n",
       " \"mom's\",\n",
       " \"coleman's\",\n",
       " \"farmer's\",\n",
       " \"julia's\",\n",
       " \"tammy's\",\n",
       " \"kittencal's\",\n",
       " \"kittencal's\",\n",
       " \"2bleu's\",\n",
       " \"chelle's\",\n",
       " \"kraft's\",\n",
       " \"zatarain's\",\n",
       " \"kittencal's\",\n",
       " \"it's\",\n",
       " \"granny's\",\n",
       " \"deen's\",\n",
       " \"well's\",\n",
       " \"linda's\",\n",
       " \"prudhomme's\",\n",
       " \"kittencal's\",\n",
       " \"maxine's\",\n",
       " \"emeril's\",\n",
       " \"jalapeno's\",\n",
       " \"kittencal's\",\n",
       " \"it's\",\n",
       " \"bergie's\",\n",
       " \"grey's\",\n",
       " \"baker's\",\n",
       " \"2bleu's\",\n",
       " \"kittencal's\",\n",
       " \"campbell's\",\n",
       " \"bartender's\",\n",
       " \"k-jon's\",\n",
       " \"baker's\",\n",
       " \"bill's\",\n",
       " \"kittencal's\",\n",
       " \"kittencal's\",\n",
       " \"julie's\",\n",
       " \"it's\",\n",
       " \"brewer's\",\n",
       " \"kittencal's\",\n",
       " \"keen's\",\n",
       " \"kemp's\",\n",
       " \"lagasse's\",\n",
       " \"emeril's\",\n",
       " \"fleischmann's\",\n",
       " \"emeril's\",\n",
       " \"laurel's\",\n",
       " \"carla's\",\n",
       " \"kittencal's\",\n",
       " \"kittencal's\",\n",
       " \"kittencal's\",\n",
       " \"neely's\",\n",
       " \"meyer's\",\n",
       " \"irma's\",\n",
       " \"don's\",\n",
       " \"kittencal's\",\n",
       " \"amy's\",\n",
       " \"kittencal's\",\n",
       " \"that's\",\n",
       " \"lorilyn's\"]"
      ]
     },
     "execution_count": 67,
     "metadata": {},
     "output_type": "execute_result"
    }
   ],
   "source": [
    "possessives"
   ]
  },
  {
   "cell_type": "code",
   "execution_count": 69,
   "id": "d578f24c",
   "metadata": {},
   "outputs": [
    {
     "data": {
      "text/plain": [
       "130"
      ]
     },
     "execution_count": 69,
     "metadata": {},
     "output_type": "execute_result"
    }
   ],
   "source": [
    "len(possessives)"
   ]
  },
  {
   "cell_type": "code",
   "execution_count": null,
   "id": "799afc57",
   "metadata": {},
   "outputs": [],
   "source": []
  }
 ],
 "metadata": {
  "kernelspec": {
   "display_name": "Python 3 (ipykernel)",
   "language": "python",
   "name": "python3"
  },
  "language_info": {
   "codemirror_mode": {
    "name": "ipython",
    "version": 3
   },
   "file_extension": ".py",
   "mimetype": "text/x-python",
   "name": "python",
   "nbconvert_exporter": "python",
   "pygments_lexer": "ipython3",
   "version": "3.11.3"
  }
 },
 "nbformat": 4,
 "nbformat_minor": 5
}
