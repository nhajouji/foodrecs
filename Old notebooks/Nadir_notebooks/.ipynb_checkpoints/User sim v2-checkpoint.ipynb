{
 "cells": [
  {
   "cell_type": "code",
   "execution_count": 1,
   "id": "75bf7c51-da39-446d-9239-4aff904095e1",
   "metadata": {},
   "outputs": [],
   "source": [
    "import pandas as pd\n",
    "import numpy as np\n",
    "from sklearn.model_selection import train_test_split"
   ]
  },
  {
   "cell_type": "code",
   "execution_count": 41,
   "id": "d6f3317b-ee60-4ea3-bbbc-840d93e63995",
   "metadata": {},
   "outputs": [],
   "source": [
    "def get_dictionaries(ratingsdf,usercol,itemcol,ratingcol):\n",
    "    users = list(set(ratingsdf[usercol].values))\n",
    "    items = list(set(ratingsdf[itemcol].values))\n",
    "    ratings_by_user = {user_id:{} for user_id in users}\n",
    "    users_by_item = {item_id:[] for item_id in items}\n",
    "    for review_index in ratingsdf.index:\n",
    "        user_id = ratingsdf[usercol][review_index]\n",
    "        item_id = ratingsdf[itemcol][review_index]\n",
    "        rating = ratingsdf[ratingcol][review_index]\n",
    "        ratings_by_user[user_id][item_id] = rating\n",
    "        users_by_item[item_id].append(user_id)\n",
    "    return ratings_by_user,users_by_item\n",
    "\n",
    "def normalize(data):\n",
    "    value = data[0]\n",
    "    mean = data[1]\n",
    "    std = data[2]\n",
    "    if std == 0:\n",
    "        return 0\n",
    "    else:\n",
    "        return (value-mean)/std\n",
    "\n",
    "def similarity(ratings1,ratings2):\n",
    "    common_recipes = set(ratings1.keys()).intersection(set(ratings2.keys()))\n",
    "    if len(common_recipes)== 0:\n",
    "        return 0\n",
    "    l1 = 0\n",
    "    l2 = 0\n",
    "    dot = 0\n",
    "    for recipe_id in common_recipes:\n",
    "        r1 = ratings1[recipe_id]\n",
    "        r2 = ratings2[recipe_id]\n",
    "        l1+=r1**2\n",
    "        l2+=r2**2\n",
    "        dot+=r1*r2\n",
    "    # If the normalized ratings are all 0 for one of the users,\n",
    "    # the corresponding length will be 0. We may as well return 0.\n",
    "    if l1*l2 == 0:\n",
    "        return 0\n",
    "    else:\n",
    "        return dot/np.sqrt(l1*l2)"
   ]
  },
  {
   "cell_type": "code",
   "execution_count": 27,
   "id": "ed4c9d39-5f43-470e-82f0-382907646940",
   "metadata": {},
   "outputs": [],
   "source": [
    "revdf = pd.read_pickle('../data/revdense.pk')"
   ]
  },
  {
   "cell_type": "code",
   "execution_count": 66,
   "id": "f42acc6e-1cc8-4da6-9f92-663a2277ab8a",
   "metadata": {},
   "outputs": [],
   "source": [
    "rev_train, rev_test = train_test_split(revdf,test_size=0.5, random_state=1729,stratify = revdf.UserId.values)"
   ]
  },
  {
   "cell_type": "code",
   "execution_count": 76,
   "id": "b5441fd8-2705-4895-8353-039e9713136d",
   "metadata": {},
   "outputs": [],
   "source": [
    "user_ratings,users_by_recipe = get_dictionaries(rev_train,'UserId','RecipeId','Rating')\n",
    "mean_ratings = {user_id:np.mean(list(user_ratings[user_id].values())) for user_id in user_ratings}\n",
    "std_ratings = {user_id:np.std(list(user_ratings[user_id].values())) for user_id in user_ratings}\n",
    "rev_train['UserMeanTrain'] = [mean_ratings[user] for user in rev_train.UserId]\n",
    "rev_test['UserMeanTrain'] = [mean_ratings[user] for user in rev_test.UserId]\n",
    "rev_train['UserStdTrain'] = [std_ratings[user] for user in rev_train.UserId]\n",
    "rev_test['UserStdTrain'] = [std_ratings[user] for user in rev_test.UserId]\n",
    "rev_train['NormalizedRating'] = [normalize(data) for data in rev_train[['Rating','UserMeanTrain','UserStdTrain']].values]\n",
    "rev_test['NormalizedRating'] = [normalize(data) for data in rev_test[['Rating','UserMeanTrain','UserStdTrain']].values]"
   ]
  },
  {
   "cell_type": "code",
   "execution_count": 83,
   "id": "a4593a94-6fba-48d1-aff7-a39e8a546352",
   "metadata": {},
   "outputs": [],
   "source": [
    "user_ratings_norm,users_by_recipe = get_dictionaries(rev_train,'UserId','RecipeId','NormalizedRating')"
   ]
  },
  {
   "cell_type": "code",
   "execution_count": 89,
   "id": "b59b6a0c-a791-45eb-99d0-03dda37600a5",
   "metadata": {},
   "outputs": [],
   "source": [
    "def make_prediction(pair,users_dic,recipes_dic,min_sim):\n",
    "    user_id = pair[0]\n",
    "    recipe_id = pair[1]\n",
    "    if recipe_id not in recipes_dic:\n",
    "        return 'No prediction'\n",
    "    rating_dic = users_dic[user_id]\n",
    "    other_recipes = set(rating_dic.keys())\n",
    "    recipe_reviewers = recipes_dic[recipe_id]\n",
    "    weights = []\n",
    "    ratings = []\n",
    "    for user_id2 in recipe_reviewers:\n",
    "        rating_dic1 = users_dic[user_id2]\n",
    "        no_common_recipes = len(set(rating_dic1.keys()).intersection(other_recipes))\n",
    "        if no_common_recipes>0:\n",
    "            simscore = similarity(rating_dic,rating_dic1)\n",
    "            if simscore>= min_sim:\n",
    "                weights.append(simscore*no_common_recipes)\n",
    "                ratings.append(rating_dic1[recipe_id])\n",
    "    if len(ratings)>0:\n",
    "        return np.average(ratings,weights = weights)\n",
    "    else:\n",
    "        return 'No prediction'"
   ]
  },
  {
   "cell_type": "code",
   "execution_count": 117,
   "id": "9150c38d-d44c-436c-b24e-2994c1806076",
   "metadata": {},
   "outputs": [],
   "source": [
    "rev_test['Pred'] = [make_prediction((rev_test['UserId'][i],rev_test['RecipeId'][i]),\n",
    "                                    user_ratings_norm,\n",
    "                                    users_by_recipe,\n",
    "                                    0.01) for i in rev_test.index]"
   ]
  },
  {
   "cell_type": "code",
   "execution_count": 103,
   "id": "8b677166-faca-4437-bf04-2a85c2dacb4d",
   "metadata": {},
   "outputs": [],
   "source": [
    "rev_train['Pred'] = [make_prediction((rev_train['UserId'][i],rev_train['RecipeId'][i]),\n",
    "                                    user_ratings_norm,\n",
    "                                    users_by_recipe,\n",
    "                                    0.2) for i in rev_train.index]"
   ]
  },
  {
   "cell_type": "code",
   "execution_count": 115,
   "id": "2f611941-f4a7-4f74-afd3-5b254c38fed2",
   "metadata": {},
   "outputs": [],
   "source": [
    "def get_mean_sq_err(pairs):\n",
    "    return np.mean([(pair[0]-pair[1])**2 for pair in pairs])"
   ]
  },
  {
   "cell_type": "code",
   "execution_count": 118,
   "id": "d98894b2-526c-4193-a695-1cf286a07c81",
   "metadata": {},
   "outputs": [
    {
     "data": {
      "text/plain": [
       "4.083552517342434"
      ]
     },
     "execution_count": 118,
     "metadata": {},
     "output_type": "execute_result"
    }
   ],
   "source": [
    "get_mean_sq_err(rev_test.loc[rev_test.Pred!='No prediction'][['NormalizedRating','Pred']].values)"
   ]
  },
  {
   "cell_type": "code",
   "execution_count": 119,
   "id": "f1c3ce64-82eb-426a-9702-9d305206e2d1",
   "metadata": {},
   "outputs": [
    {
     "data": {
      "text/plain": [
       "3.578167112416195"
      ]
     },
     "execution_count": 119,
     "metadata": {},
     "output_type": "execute_result"
    }
   ],
   "source": [
    "get_mean_sq_err([[0,x] for x in rev_test.loc[rev_test.Pred!='No prediction']['NormalizedRating']])"
   ]
  },
  {
   "cell_type": "code",
   "execution_count": null,
   "id": "d787dee5-5b45-4c03-9483-ac672d8a3c3e",
   "metadata": {},
   "outputs": [],
   "source": []
  }
 ],
 "metadata": {
  "kernelspec": {
   "display_name": "Python 3 (ipykernel)",
   "language": "python",
   "name": "python3"
  },
  "language_info": {
   "codemirror_mode": {
    "name": "ipython",
    "version": 3
   },
   "file_extension": ".py",
   "mimetype": "text/x-python",
   "name": "python",
   "nbconvert_exporter": "python",
   "pygments_lexer": "ipython3",
   "version": "3.11.6"
  }
 },
 "nbformat": 4,
 "nbformat_minor": 5
}
