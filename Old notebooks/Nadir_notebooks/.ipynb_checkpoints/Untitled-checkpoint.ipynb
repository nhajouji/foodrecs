{
 "cells": [
  {
   "cell_type": "code",
   "execution_count": 1,
   "id": "13fa3ae5-bade-40a2-a19d-09e173dc1b79",
   "metadata": {},
   "outputs": [],
   "source": [
    "import pandas as pd\n",
    "import numpy as np"
   ]
  },
  {
   "cell_type": "code",
   "execution_count": 12,
   "id": "01ae3d94-5bea-470d-8b68-edd6693ae869",
   "metadata": {},
   "outputs": [],
   "source": [
    "def flatten(l):\n",
    "    lnew = []\n",
    "    for l0 in l:\n",
    "        lnew+=l0\n",
    "    return list(set(lnew))\n"
   ]
  },
  {
   "cell_type": "code",
   "execution_count": 17,
   "id": "3d6f207a-b4af-438b-9e2d-4b7cf7ba4058",
   "metadata": {},
   "outputs": [],
   "source": [
    "def tovec(subset,basis):\n",
    "    d = {b:0 for b in basis}\n",
    "    for s in subset:\n",
    "        d[s]+=1\n",
    "    return [d[b] for b in basis]"
   ]
  },
  {
   "cell_type": "code",
   "execution_count": 20,
   "id": "83d5b916-b3b4-4782-b087-22d954f57a84",
   "metadata": {},
   "outputs": [],
   "source": [
    "recipesdf = pd.read_pickle('data/recmini.pk')\n",
    "reviewsdf = pd.read_pickle('data/reviewsred.pk')"
   ]
  },
  {
   "cell_type": "code",
   "execution_count": 21,
   "id": "6f9c40d3-c422-4ea0-ae6a-58348b5ca04b",
   "metadata": {},
   "outputs": [
    {
     "data": {
      "text/html": [
       "<div>\n",
       "<style scoped>\n",
       "    .dataframe tbody tr th:only-of-type {\n",
       "        vertical-align: middle;\n",
       "    }\n",
       "\n",
       "    .dataframe tbody tr th {\n",
       "        vertical-align: top;\n",
       "    }\n",
       "\n",
       "    .dataframe thead th {\n",
       "        text-align: right;\n",
       "    }\n",
       "</style>\n",
       "<table border=\"1\" class=\"dataframe\">\n",
       "  <thead>\n",
       "    <tr style=\"text-align: right;\">\n",
       "      <th></th>\n",
       "      <th>Name</th>\n",
       "      <th>RecipeCategory</th>\n",
       "      <th>RecipeIngredientParts</th>\n",
       "    </tr>\n",
       "    <tr>\n",
       "      <th>RecipeId</th>\n",
       "      <th></th>\n",
       "      <th></th>\n",
       "      <th></th>\n",
       "    </tr>\n",
       "  </thead>\n",
       "  <tbody>\n",
       "    <tr>\n",
       "      <th>524289</th>\n",
       "      <td>Apple-Glazed Stuffed Pork Chops</td>\n",
       "      <td>Pork</td>\n",
       "      <td>[bacon, leek, dry white wine, thyme, salt, pep...</td>\n",
       "    </tr>\n",
       "    <tr>\n",
       "      <th>524301</th>\n",
       "      <td>Bob's Taco Soup With Pasta</td>\n",
       "      <td>One Dish Meal</td>\n",
       "      <td>[ground beef, onion, diced tomatoes, red kidne...</td>\n",
       "    </tr>\n",
       "    <tr>\n",
       "      <th>524315</th>\n",
       "      <td>Crispy Chicken Thighs in Convection Oven</td>\n",
       "      <td>Poultry</td>\n",
       "      <td>[boneless skinless chicken thighs, light sour ...</td>\n",
       "    </tr>\n",
       "    <tr>\n",
       "      <th>38</th>\n",
       "      <td>Low-Fat Berry Blue Frozen Dessert</td>\n",
       "      <td>Frozen Desserts</td>\n",
       "      <td>[blueberries, granulated sugar, vanilla yogurt...</td>\n",
       "    </tr>\n",
       "    <tr>\n",
       "      <th>39</th>\n",
       "      <td>Biryani</td>\n",
       "      <td>Chicken Breast</td>\n",
       "      <td>[saffron, milk, hot green chili peppers, onion...</td>\n",
       "    </tr>\n",
       "    <tr>\n",
       "      <th>...</th>\n",
       "      <td>...</td>\n",
       "      <td>...</td>\n",
       "      <td>...</td>\n",
       "    </tr>\n",
       "    <tr>\n",
       "      <th>524149</th>\n",
       "      <td>Hidden Veggie Mac and Cheese</td>\n",
       "      <td>&lt; 60 Mins</td>\n",
       "      <td>[carrots, cauliflower, low-fat milk, salt, che...</td>\n",
       "    </tr>\n",
       "    <tr>\n",
       "      <th>524197</th>\n",
       "      <td>Refreshing Ice Cubes</td>\n",
       "      <td>Very Low Carbs</td>\n",
       "      <td>[water, water]</td>\n",
       "    </tr>\n",
       "    <tr>\n",
       "      <th>524229</th>\n",
       "      <td>Coconut Curried Butternut Squash Soup</td>\n",
       "      <td>Lactose Free</td>\n",
       "      <td>[olive oil, salt, ground black pepper, carrot,...</td>\n",
       "    </tr>\n",
       "    <tr>\n",
       "      <th>524235</th>\n",
       "      <td>Paleo Party Pork Carnitas</td>\n",
       "      <td>Pork</td>\n",
       "      <td>[canola oil, dried oregano, garlic cloves, car...</td>\n",
       "    </tr>\n",
       "    <tr>\n",
       "      <th>524236</th>\n",
       "      <td>Paleo Pork Chili Verde</td>\n",
       "      <td>Pork</td>\n",
       "      <td>[onion, green bell pepper, canola oil, garlic ...</td>\n",
       "    </tr>\n",
       "  </tbody>\n",
       "</table>\n",
       "<p>271674 rows × 3 columns</p>\n",
       "</div>"
      ],
      "text/plain": [
       "                                              Name   RecipeCategory  \\\n",
       "RecipeId                                                              \n",
       "524289             Apple-Glazed Stuffed Pork Chops             Pork   \n",
       "524301                  Bob's Taco Soup With Pasta    One Dish Meal   \n",
       "524315    Crispy Chicken Thighs in Convection Oven          Poultry   \n",
       "38               Low-Fat Berry Blue Frozen Dessert  Frozen Desserts   \n",
       "39                                         Biryani   Chicken Breast   \n",
       "...                                            ...              ...   \n",
       "524149                Hidden Veggie Mac and Cheese        < 60 Mins   \n",
       "524197                        Refreshing Ice Cubes   Very Low Carbs   \n",
       "524229       Coconut Curried Butternut Squash Soup     Lactose Free   \n",
       "524235                   Paleo Party Pork Carnitas             Pork   \n",
       "524236                      Paleo Pork Chili Verde             Pork   \n",
       "\n",
       "                                      RecipeIngredientParts  \n",
       "RecipeId                                                     \n",
       "524289    [bacon, leek, dry white wine, thyme, salt, pep...  \n",
       "524301    [ground beef, onion, diced tomatoes, red kidne...  \n",
       "524315    [boneless skinless chicken thighs, light sour ...  \n",
       "38        [blueberries, granulated sugar, vanilla yogurt...  \n",
       "39        [saffron, milk, hot green chili peppers, onion...  \n",
       "...                                                     ...  \n",
       "524149    [carrots, cauliflower, low-fat milk, salt, che...  \n",
       "524197                                       [water, water]  \n",
       "524229    [olive oil, salt, ground black pepper, carrot,...  \n",
       "524235    [canola oil, dried oregano, garlic cloves, car...  \n",
       "524236    [onion, green bell pepper, canola oil, garlic ...  \n",
       "\n",
       "[271674 rows x 3 columns]"
      ]
     },
     "execution_count": 21,
     "metadata": {},
     "output_type": "execute_result"
    }
   ],
   "source": [
    "recipesdf"
   ]
  },
  {
   "cell_type": "code",
   "execution_count": 6,
   "id": "58a8510a-c36f-4fa0-b1ea-c4235f61ce61",
   "metadata": {},
   "outputs": [],
   "source": [
    "authors = list(set(reviewsdf['AuthorId'].values))\n",
    "data_by_author = {a:{'ratings':[],'recids':[]} for a in authors}\n",
    "for i in reviewsdf.index:\n",
    "    ai = reviewsdf['AuthorId'][i]\n",
    "    data_by_author[ai]['ratings'].append(reviewsdf['Rating'][i])\n",
    "    data_by_author[ai]['recids'].append(reviewsdf['RecipeId'][i])\n",
    "    \n",
    "for a in authors:\n",
    "    data_by_author[a]['No_ratings'] = len(data_by_author[a]['ratings'])\n",
    "    data_by_author[a]['Mean_rating'] = np.mean(data_by_author[a]['ratings'])\n",
    "    data_by_author[a]['Std_ratings'] = np.std(data_by_author[a]['ratings'])\n",
    "\n",
    "reviewsdf['Auth_No_Ratings'] = [len(data_by_author[a]['ratings']) for a in reviewsdf['AuthorId'].values]\n",
    "reviewsdf['Auth_Std_Ratings'] = [np.std(data_by_author[a]['ratings']) for a in reviewsdf['AuthorId'].values]\n",
    "reviewsdf['Auth_Avg_Rating'] = [np.mean(data_by_author[a]['ratings']) for a in reviewsdf['AuthorId'].values]"
   ]
  },
  {
   "cell_type": "code",
   "execution_count": 13,
   "id": "62d73f9a-dcc4-45c4-bd0c-52f1f1fac5b5",
   "metadata": {},
   "outputs": [],
   "source": [
    "def get_authors(min_rev,min_std):\n",
    "    return [a for a in authors if data_by_author[a]['No_ratings'] >= min_rev and data_by_author[a]['Std_ratings'] > min_std]"
   ]
  },
  {
   "cell_type": "code",
   "execution_count": 14,
   "id": "fc15649c-f0c9-461e-aa03-21a993fd7c28",
   "metadata": {},
   "outputs": [],
   "source": [
    "author_subset = get_authors(50,0)"
   ]
  },
  {
   "cell_type": "code",
   "execution_count": 15,
   "id": "391216de-7091-4007-9cb6-980e8bf04c45",
   "metadata": {},
   "outputs": [],
   "source": [
    "def summarize(authorlist):\n",
    "    no_authors = len(authorlist)\n",
    "    recids = []\n",
    "    for a in authorlist:\n",
    "        recids+=data_by_author[a]['recids']\n",
    "    norevs = len(recids)\n",
    "    norecs = len(set(recids))\n",
    "    return {'Reviewers':no_authors,'Recipes':norecs,'Ratings':norevs,'Avg_no_by_rec':norevs/norecs}"
   ]
  },
  {
   "cell_type": "code",
   "execution_count": 16,
   "id": "56c5aa49-90a1-4046-b565-9c5abc4593eb",
   "metadata": {},
   "outputs": [
    {
     "data": {
      "text/plain": [
       "{'Reviewers': 3382,\n",
       " 'Recipes': 221276,\n",
       " 'Ratings': 764847,\n",
       " 'Avg_no_by_rec': 3.4565294021945445}"
      ]
     },
     "execution_count": 16,
     "metadata": {},
     "output_type": "execute_result"
    }
   ],
   "source": [
    "summarize(author_subset)"
   ]
  },
  {
   "cell_type": "code",
   "execution_count": 35,
   "id": "a18f5a05-0d01-4eca-b97b-386746bc47f6",
   "metadata": {},
   "outputs": [
    {
     "data": {
      "text/plain": [
       "{'Reviewers': 1724,\n",
       " 'Recipes': 208761,\n",
       " 'Ratings': 650005,\n",
       " 'Avg_no_by_rec': 3.1136323355416002}"
      ]
     },
     "execution_count": 35,
     "metadata": {},
     "output_type": "execute_result"
    }
   ],
   "source": [
    "summarize(get_authors(100,0))"
   ]
  },
  {
   "cell_type": "code",
   "execution_count": null,
   "id": "7d50ef39-5c31-409b-bce0-1fdaf17d7774",
   "metadata": {},
   "outputs": [],
   "source": []
  },
  {
   "cell_type": "code",
   "execution_count": null,
   "id": "6461caf9-c837-47bc-ad6f-d558e3c73d16",
   "metadata": {},
   "outputs": [],
   "source": []
  },
  {
   "cell_type": "code",
   "execution_count": null,
   "id": "230057e5-62cf-4c5d-9733-edde14b861c9",
   "metadata": {},
   "outputs": [],
   "source": []
  },
  {
   "cell_type": "code",
   "execution_count": null,
   "id": "75d96776-65b7-420d-a474-b352f24ea74e",
   "metadata": {},
   "outputs": [],
   "source": []
  },
  {
   "cell_type": "markdown",
   "id": "f8c07a3f-7be4-4feb-b330-955ab1f5b417",
   "metadata": {},
   "source": [
    "# Similar Recipes by Name\n",
    "\n",
    "We will try to group together recipes with similar names."
   ]
  },
  {
   "cell_type": "markdown",
   "id": "5aaaeb5d-425b-46b4-9468-531ae3524975",
   "metadata": {},
   "source": [
    "To speed things up, we do the grouping within each recipe category first."
   ]
  },
  {
   "cell_type": "code",
   "execution_count": 28,
   "id": "dced4c8e-4add-4edc-a27b-8a37aa1f2ab3",
   "metadata": {},
   "outputs": [],
   "source": [
    "recipenames = list(recipesdf['Name'].values)\n",
    "recipecategories = list(set(recipesdf['RecipeCategory'].values))\n",
    "\n",
    "category_to_recnames = {c:[] for c in recipecategories}\n",
    "category_to_recids = {c:[] for c in recipecategories}\n",
    "for i in recipesdf.index:\n",
    "    c = recipesdf['RecipeCategory'][i]\n",
    "    n = recipesdf['Name'][i]\n",
    "    category_to_recnames[c].append(n)\n",
    "    category_to_recids[c].append(i)"
   ]
  },
  {
   "cell_type": "markdown",
   "id": "f138ed1e-1dae-481d-8dc7-ca7b04c6d469",
   "metadata": {},
   "source": [
    "We will use a sentence transformer to embed the recipe names as vectors and then cluster the names using the embedding."
   ]
  },
  {
   "cell_type": "code",
   "execution_count": 30,
   "id": "7c26cdfb-33b1-477e-83ef-e4e73bcbc5e3",
   "metadata": {},
   "outputs": [],
   "source": [
    "from sentence_transformers import SentenceTransformer\n",
    "embedder = SentenceTransformer(\"all-MiniLM-L6-v2\")\n",
    "\n",
    "from sklearn.cluster import KMeans, DBSCAN\n",
    "\n",
    "def kmeans(sentences,k):\n",
    "    clustering_model = KMeans(n_clusters = k)\n",
    "    vecs = embedder.encode(sentences)\n",
    "    clustering_model.fit(vecs)\n",
    "    cluster_assignment = clustering_model.labels_\n",
    "    clusters = {i:[] for i in range(max(cluster_assignment)+1)}\n",
    "    for i in range(len(cluster_assignment)):\n",
    "        clusters[cluster_assignment[i]].append(sentences[i])\n",
    "    return clusters\n",
    "\n",
    "def dbscan(sentences,ep,msam):\n",
    "    clustering_model = DBSCAN(eps=ep, min_samples=msam, metric='euclidean')\n",
    "    vecs = embedder.encode(sentences)\n",
    "    clustering_model.fit(vecs)\n",
    "    cluster_assignment = clustering_model.labels_\n",
    "    clusters = {i:[] for i in range(-1,max(cluster_assignment)+1)}\n",
    "    for i in range(len(cluster_assignment)):\n",
    "        clusters[cluster_assignment[i]].append(sentences[i])\n",
    "    return clusters\n",
    "\n",
    "def dbscan_no(sentences,ep,msam):\n",
    "    clustering_model = DBSCAN(eps=ep, min_samples=msam, metric='euclidean')\n",
    "    vecs = embedder.encode(sentences)\n",
    "    clustering_model.fit(vecs)\n",
    "    cluster_assignment = clustering_model.labels_\n",
    "    clusters = {i:[] for i in range(max(cluster_assignment)+1)}\n",
    "    for i in range(len(cluster_assignment)):\n",
    "        if cluster_assignment[i]>=0:\n",
    "            clusters[cluster_assignment[i]].append(sentences[i])\n",
    "    return clusters\n",
    "\n",
    "def closest(words,target):\n",
    "    vecs = embedder.encode([target]+words)\n",
    "    wvs = vecs[1:]\n",
    "    tv = vecs[0]\n",
    "    w0 = words[0]\n",
    "    d0 = np.linalg.norm(tv-wvs[0])\n",
    "    for i in range(1,len(words)):\n",
    "        vi = wvs[i]\n",
    "        di = np.linalg.norm(tv-vi)\n",
    "        if di < d0:\n",
    "            d0 = di\n",
    "            w0 = words[i]\n",
    "    return w0\n",
    "\n",
    "def closest_to_center(words):\n",
    "    if len(words)==1:\n",
    "        return words[0]\n",
    "    vecs = embedder.encode(words)\n",
    "    true_center = (1/len(vecs))*sum(vecs)\n",
    "    w0 = words[0]\n",
    "    d0 = np.linalg.norm(vecs[0]-true_center)\n",
    "    for i in range(1,len(words)):\n",
    "        di = np.linalg.norm(vecs[i]-true_center)\n",
    "        if di < d0:\n",
    "            w0 = words[i]\n",
    "            d0 = di\n",
    "    return w0\n",
    "\n",
    "def dbscan_reorg(clusters):\n",
    "    m =max(list(clusters.keys()))\n",
    "    newclusters = {i:clusters[i] for i in range(m)}\n",
    "    for x in clusters[-1]:\n",
    "        newclusters[m] = [x]\n",
    "        m+=1\n",
    "    return newclusters\n",
    "    \n",
    "def relabel_clusters(clusters):\n",
    "    return {closest_to_center(clusters[c]):clusters[c] for c in clusters}\n",
    "\n",
    "def dbscan_nice(sentences,ep,msam):\n",
    "    clus0 = dbscan(sentences,ep,msam)\n",
    "    clus1 = dbscan_reorg(clus0)\n",
    "    return relabel_clusters(clus1)"
   ]
  },
  {
   "cell_type": "code",
   "execution_count": 33,
   "id": "454f604f-5062-405a-8e06-bc25538dc4a5",
   "metadata": {},
   "outputs": [],
   "source": [
    "recipe_labels = {}\n",
    "\n",
    "for c in category_to_recnames:\n",
    "    rs = category_to_recnames[c]\n",
    "    if len(rs)>2:\n",
    "        clus = dbscan_nice(rs,0.4,2)\n",
    "        for c in clus:\n",
    "            if c in recipe_labels:\n",
    "                recipe_labels[c]+=clus[c]\n",
    "            else:\n",
    "                recipe_labels[c] = clus[c]"
   ]
  },
  {
   "cell_type": "code",
   "execution_count": 37,
   "id": "863f3008-4758-4f0e-8124-f3ec9974fc58",
   "metadata": {},
   "outputs": [],
   "source": [
    "recipe_labels_inv = {n:l for l in recipe_labels for n in recipe_labels[l]}"
   ]
  },
  {
   "cell_type": "code",
   "execution_count": 39,
   "id": "09236f49-157e-469c-862a-8a3a4ece57c9",
   "metadata": {},
   "outputs": [
    {
     "ename": "KeyError",
     "evalue": "'Deep Fried Chicken Livers'",
     "output_type": "error",
     "traceback": [
      "\u001b[0;31m---------------------------------------------------------------------------\u001b[0m",
      "\u001b[0;31mKeyError\u001b[0m                                  Traceback (most recent call last)",
      "Cell \u001b[0;32mIn[39], line 1\u001b[0m\n\u001b[0;32m----> 1\u001b[0m recipesdf[\u001b[38;5;124m'\u001b[39m\u001b[38;5;124mLabel\u001b[39m\u001b[38;5;124m'\u001b[39m] \u001b[38;5;241m=\u001b[39m [recipe_labels_inv[r] \u001b[38;5;28;01mfor\u001b[39;00m r \u001b[38;5;129;01min\u001b[39;00m recipesdf[\u001b[38;5;124m'\u001b[39m\u001b[38;5;124mName\u001b[39m\u001b[38;5;124m'\u001b[39m]\u001b[38;5;241m.\u001b[39mvalues]\n",
      "Cell \u001b[0;32mIn[39], line 1\u001b[0m, in \u001b[0;36m<listcomp>\u001b[0;34m(.0)\u001b[0m\n\u001b[0;32m----> 1\u001b[0m recipesdf[\u001b[38;5;124m'\u001b[39m\u001b[38;5;124mLabel\u001b[39m\u001b[38;5;124m'\u001b[39m] \u001b[38;5;241m=\u001b[39m [recipe_labels_inv[r] \u001b[38;5;28;01mfor\u001b[39;00m r \u001b[38;5;129;01min\u001b[39;00m recipesdf[\u001b[38;5;124m'\u001b[39m\u001b[38;5;124mName\u001b[39m\u001b[38;5;124m'\u001b[39m]\u001b[38;5;241m.\u001b[39mvalues]\n",
      "\u001b[0;31mKeyError\u001b[0m: 'Deep Fried Chicken Livers'"
     ]
    }
   ],
   "source": []
  },
  {
   "cell_type": "code",
   "execution_count": 40,
   "id": "3f29a666-74d5-4f25-b766-7baa4b121367",
   "metadata": {},
   "outputs": [
    {
     "data": {
      "text/html": [
       "<div>\n",
       "<style scoped>\n",
       "    .dataframe tbody tr th:only-of-type {\n",
       "        vertical-align: middle;\n",
       "    }\n",
       "\n",
       "    .dataframe tbody tr th {\n",
       "        vertical-align: top;\n",
       "    }\n",
       "\n",
       "    .dataframe thead th {\n",
       "        text-align: right;\n",
       "    }\n",
       "</style>\n",
       "<table border=\"1\" class=\"dataframe\">\n",
       "  <thead>\n",
       "    <tr style=\"text-align: right;\">\n",
       "      <th></th>\n",
       "      <th>Name</th>\n",
       "      <th>RecipeCategory</th>\n",
       "      <th>RecipeIngredientParts</th>\n",
       "    </tr>\n",
       "    <tr>\n",
       "      <th>RecipeId</th>\n",
       "      <th></th>\n",
       "      <th></th>\n",
       "      <th></th>\n",
       "    </tr>\n",
       "  </thead>\n",
       "  <tbody>\n",
       "    <tr>\n",
       "      <th>524289</th>\n",
       "      <td>Apple-Glazed Stuffed Pork Chops</td>\n",
       "      <td>Pork</td>\n",
       "      <td>[bacon, leek, dry white wine, thyme, salt, pep...</td>\n",
       "    </tr>\n",
       "    <tr>\n",
       "      <th>524301</th>\n",
       "      <td>Bob's Taco Soup With Pasta</td>\n",
       "      <td>One Dish Meal</td>\n",
       "      <td>[ground beef, onion, diced tomatoes, red kidne...</td>\n",
       "    </tr>\n",
       "    <tr>\n",
       "      <th>524315</th>\n",
       "      <td>Crispy Chicken Thighs in Convection Oven</td>\n",
       "      <td>Poultry</td>\n",
       "      <td>[boneless skinless chicken thighs, light sour ...</td>\n",
       "    </tr>\n",
       "    <tr>\n",
       "      <th>38</th>\n",
       "      <td>Low-Fat Berry Blue Frozen Dessert</td>\n",
       "      <td>Frozen Desserts</td>\n",
       "      <td>[blueberries, granulated sugar, vanilla yogurt...</td>\n",
       "    </tr>\n",
       "    <tr>\n",
       "      <th>39</th>\n",
       "      <td>Biryani</td>\n",
       "      <td>Chicken Breast</td>\n",
       "      <td>[saffron, milk, hot green chili peppers, onion...</td>\n",
       "    </tr>\n",
       "    <tr>\n",
       "      <th>...</th>\n",
       "      <td>...</td>\n",
       "      <td>...</td>\n",
       "      <td>...</td>\n",
       "    </tr>\n",
       "    <tr>\n",
       "      <th>524149</th>\n",
       "      <td>Hidden Veggie Mac and Cheese</td>\n",
       "      <td>&lt; 60 Mins</td>\n",
       "      <td>[carrots, cauliflower, low-fat milk, salt, che...</td>\n",
       "    </tr>\n",
       "    <tr>\n",
       "      <th>524197</th>\n",
       "      <td>Refreshing Ice Cubes</td>\n",
       "      <td>Very Low Carbs</td>\n",
       "      <td>[water, water]</td>\n",
       "    </tr>\n",
       "    <tr>\n",
       "      <th>524229</th>\n",
       "      <td>Coconut Curried Butternut Squash Soup</td>\n",
       "      <td>Lactose Free</td>\n",
       "      <td>[olive oil, salt, ground black pepper, carrot,...</td>\n",
       "    </tr>\n",
       "    <tr>\n",
       "      <th>524235</th>\n",
       "      <td>Paleo Party Pork Carnitas</td>\n",
       "      <td>Pork</td>\n",
       "      <td>[canola oil, dried oregano, garlic cloves, car...</td>\n",
       "    </tr>\n",
       "    <tr>\n",
       "      <th>524236</th>\n",
       "      <td>Paleo Pork Chili Verde</td>\n",
       "      <td>Pork</td>\n",
       "      <td>[onion, green bell pepper, canola oil, garlic ...</td>\n",
       "    </tr>\n",
       "  </tbody>\n",
       "</table>\n",
       "<p>271674 rows × 3 columns</p>\n",
       "</div>"
      ],
      "text/plain": [
       "                                              Name   RecipeCategory  \\\n",
       "RecipeId                                                              \n",
       "524289             Apple-Glazed Stuffed Pork Chops             Pork   \n",
       "524301                  Bob's Taco Soup With Pasta    One Dish Meal   \n",
       "524315    Crispy Chicken Thighs in Convection Oven          Poultry   \n",
       "38               Low-Fat Berry Blue Frozen Dessert  Frozen Desserts   \n",
       "39                                         Biryani   Chicken Breast   \n",
       "...                                            ...              ...   \n",
       "524149                Hidden Veggie Mac and Cheese        < 60 Mins   \n",
       "524197                        Refreshing Ice Cubes   Very Low Carbs   \n",
       "524229       Coconut Curried Butternut Squash Soup     Lactose Free   \n",
       "524235                   Paleo Party Pork Carnitas             Pork   \n",
       "524236                      Paleo Pork Chili Verde             Pork   \n",
       "\n",
       "                                      RecipeIngredientParts  \n",
       "RecipeId                                                     \n",
       "524289    [bacon, leek, dry white wine, thyme, salt, pep...  \n",
       "524301    [ground beef, onion, diced tomatoes, red kidne...  \n",
       "524315    [boneless skinless chicken thighs, light sour ...  \n",
       "38        [blueberries, granulated sugar, vanilla yogurt...  \n",
       "39        [saffron, milk, hot green chili peppers, onion...  \n",
       "...                                                     ...  \n",
       "524149    [carrots, cauliflower, low-fat milk, salt, che...  \n",
       "524197                                       [water, water]  \n",
       "524229    [olive oil, salt, ground black pepper, carrot,...  \n",
       "524235    [canola oil, dried oregano, garlic cloves, car...  \n",
       "524236    [onion, green bell pepper, canola oil, garlic ...  \n",
       "\n",
       "[271674 rows x 3 columns]"
      ]
     },
     "execution_count": 40,
     "metadata": {},
     "output_type": "execute_result"
    }
   ],
   "source": [
    "recipesdf"
   ]
  },
  {
   "cell_type": "code",
   "execution_count": 41,
   "id": "332d2483-564b-4bd8-bbc7-1411538d85ad",
   "metadata": {},
   "outputs": [],
   "source": [
    "ingredients = flatten([list(l) for l in recipesdf['RecipeIngredientParts'].values])"
   ]
  },
  {
   "cell_type": "code",
   "execution_count": 44,
   "id": "5a34c994-c29a-45ab-a95a-6f3fd6047182",
   "metadata": {},
   "outputs": [
    {
     "data": {
      "text/plain": [
       "array([array(['bacon', 'leek', 'dry white wine', 'thyme', 'salt', 'pepper',\n",
       "              'dijon-style mustard', 'boneless pork loin chops'], dtype=object),\n",
       "       array(['ground beef', 'onion', 'diced tomatoes', 'red kidney beans',\n",
       "              'corn', 'green chilies', 'bow tie pasta', 'sour cream'],\n",
       "             dtype=object)                                                 ,\n",
       "       array(['boneless skinless chicken thighs', 'light sour cream',\n",
       "              'garlic cloves', 'harissa', 'salt', 'pepper', 'onion powder',\n",
       "              'paprika', 'panko breadcrumbs', 'parmesan cheese', 'butter'],\n",
       "             dtype=object)                                                 ,\n",
       "       ...,\n",
       "       array(['olive oil', 'salt', 'ground black pepper', 'carrot', 'celery',\n",
       "              'curry powder', 'garlic cloves', 'onion', 'coconut milk',\n",
       "              'flat leaf parsley'], dtype=object)                            ,\n",
       "       array(['canola oil', 'dried oregano', 'garlic cloves', 'carrots',\n",
       "              'celery', 'bay leaves', 'lemon', 'onion', 'avocados',\n",
       "              'boston lettuce', 'limes', 'cilantro', 'red onion'], dtype=object),\n",
       "       array(['onion', 'green bell pepper', 'canola oil', 'garlic cloves',\n",
       "              'dried oregano', 'whole bay leaf', 'diced tomato',\n",
       "              'fresh cilantro'], dtype=object)                            ],\n",
       "      dtype=object)"
      ]
     },
     "execution_count": 44,
     "metadata": {},
     "output_type": "execute_result"
    }
   ],
   "source": [
    "recipesdf['RecipeIngredientParts'].values"
   ]
  },
  {
   "cell_type": "code",
   "execution_count": null,
   "id": "d3abc360-7878-42ad-ba5c-474fa029f3fe",
   "metadata": {},
   "outputs": [],
   "source": []
  }
 ],
 "metadata": {
  "kernelspec": {
   "display_name": "Python 3 (ipykernel)",
   "language": "python",
   "name": "python3"
  },
  "language_info": {
   "codemirror_mode": {
    "name": "ipython",
    "version": 3
   },
   "file_extension": ".py",
   "mimetype": "text/x-python",
   "name": "python",
   "nbconvert_exporter": "python",
   "pygments_lexer": "ipython3",
   "version": "3.11.6"
  }
 },
 "nbformat": 4,
 "nbformat_minor": 5
}
