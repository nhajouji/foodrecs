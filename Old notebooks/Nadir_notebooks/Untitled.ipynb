{
 "cells": [
  {
   "cell_type": "code",
   "execution_count": 1,
   "id": "13fa3ae5-bade-40a2-a19d-09e173dc1b79",
   "metadata": {},
   "outputs": [],
   "source": [
    "import pandas as pd\n",
    "import numpy as np\n",
    "import matplotlib.pyplot as plt"
   ]
  },
  {
   "cell_type": "code",
   "execution_count": null,
   "id": "e75816f7",
   "metadata": {},
   "outputs": [],
   "source": [
    "import os\n",
    "os.chdir('../code/')\n",
    "from dataclasses import *"
   ]
  },
  {
   "cell_type": "code",
   "execution_count": 2,
   "id": "3b9ad1f6",
   "metadata": {},
   "outputs": [],
   "source": [
    "reviewsdf = pd.read_pickle('../data/reviewsred.pk')\n",
    "cooktimes = pd.read_pickle('../data/cooktimesclean.pk')\n",
    "keywords =  pd.read_pickle('../data/keywords.pk')"
   ]
  },
  {
   "cell_type": "code",
   "execution_count": 3,
   "id": "01ae3d94-5bea-470d-8b68-edd6693ae869",
   "metadata": {},
   "outputs": [],
   "source": [
    "user_ratings,recipe_reviewers = get_dictionaries(reviewsdf,'AuthorId','RecipeId','Rating')\n",
    "\n",
    "user_ratings_var = {user:convert_ratings(user_ratings[user]) for user in user_ratings}\n",
    "\n",
    "reviewsdf['Rating0']=[user_ratings_var[reviewsdf['AuthorId'][i]][reviewsdf['RecipeId'][i]]\n",
    "                      for i in reviewsdf.index]"
   ]
  },
  {
   "cell_type": "code",
   "execution_count": 7,
   "id": "5152ad72",
   "metadata": {},
   "outputs": [],
   "source": [
    "users_all = list(user_ratings.keys())\n",
    "users_top = [user for user in users_all if len(user_ratings[user])>99]"
   ]
  },
  {
   "cell_type": "code",
   "execution_count": 42,
   "id": "640be9dd",
   "metadata": {},
   "outputs": [],
   "source": [
    "reclabels = pd.read_pickle('../data/recipelabels.pk')"
   ]
  },
  {
   "cell_type": "code",
   "execution_count": 14,
   "id": "719610f5",
   "metadata": {},
   "outputs": [],
   "source": [
    "ingredientsdf = pd.read_pickle('../data/rec_ingredients.pk')"
   ]
  },
  {
   "cell_type": "code",
   "execution_count": 44,
   "id": "bada3e21",
   "metadata": {},
   "outputs": [
    {
     "data": {
      "text/html": [
       "<div>\n",
       "<style scoped>\n",
       "    .dataframe tbody tr th:only-of-type {\n",
       "        vertical-align: middle;\n",
       "    }\n",
       "\n",
       "    .dataframe tbody tr th {\n",
       "        vertical-align: top;\n",
       "    }\n",
       "\n",
       "    .dataframe thead th {\n",
       "        text-align: right;\n",
       "    }\n",
       "</style>\n",
       "<table border=\"1\" class=\"dataframe\">\n",
       "  <thead>\n",
       "    <tr style=\"text-align: right;\">\n",
       "      <th></th>\n",
       "      <th>Name</th>\n",
       "      <th>RecipeIngredientParts</th>\n",
       "      <th>RecipeIngredientQuantities</th>\n",
       "    </tr>\n",
       "    <tr>\n",
       "      <th>RecipeId</th>\n",
       "      <th></th>\n",
       "      <th></th>\n",
       "      <th></th>\n",
       "    </tr>\n",
       "  </thead>\n",
       "  <tbody>\n",
       "    <tr>\n",
       "      <th>524289</th>\n",
       "      <td>Apple-Glazed Stuffed Pork Chops</td>\n",
       "      <td>[bacon, leeks, other dry white wine, thyme, sa...</td>\n",
       "      <td>[6, 1, 1⁄4, 1⁄2, 1, 1, 1⁄4, 1, 4]</td>\n",
       "    </tr>\n",
       "    <tr>\n",
       "      <th>524301</th>\n",
       "      <td>Bob's Taco Soup With Pasta</td>\n",
       "      <td>[ground beef, onion, diced tomatoes, red kidne...</td>\n",
       "      <td>[1 1⁄2, 1, 29, 15 1⁄2, 1, 1, 1, 1, 1⁄2, 1⁄2, 16]</td>\n",
       "    </tr>\n",
       "    <tr>\n",
       "      <th>524315</th>\n",
       "      <td>Crispy Chicken Thighs in Convection Oven</td>\n",
       "      <td>[skinless chicken thighs, light sour cream, mi...</td>\n",
       "      <td>[1, 3⁄4, 3, 1⁄2, 1⁄4, 1⁄16, 1⁄2, 1⁄4, 1, 1⁄2, ...</td>\n",
       "    </tr>\n",
       "    <tr>\n",
       "      <th>38</th>\n",
       "      <td>Low-Fat Berry Blue Frozen Dessert</td>\n",
       "      <td>[blueberries, granulated sugar, vanilla yogurt...</td>\n",
       "      <td>[4, 1⁄4, 1, 1]</td>\n",
       "    </tr>\n",
       "    <tr>\n",
       "      <th>39</th>\n",
       "      <td>Biryani</td>\n",
       "      <td>[saffron, milk, green chili peppers, onions, g...</td>\n",
       "      <td>[1, 4, 2, 2, 8, 1⁄4, 8, 1⁄2, 1, 1, 1⁄4, 1⁄4, 1...</td>\n",
       "    </tr>\n",
       "    <tr>\n",
       "      <th>...</th>\n",
       "      <td>...</td>\n",
       "      <td>...</td>\n",
       "      <td>...</td>\n",
       "    </tr>\n",
       "    <tr>\n",
       "      <th>524149</th>\n",
       "      <td>Hidden Veggie Mac and Cheese</td>\n",
       "      <td>[carrots, cauliflower, low-fat milk, salt, che...</td>\n",
       "      <td>[3, 1, 2, 1⁄2, 1, 2, 8, 4, 16]</td>\n",
       "    </tr>\n",
       "    <tr>\n",
       "      <th>524197</th>\n",
       "      <td>Refreshing Ice Cubes</td>\n",
       "      <td>[water, water]</td>\n",
       "      <td>[2, 1]</td>\n",
       "    </tr>\n",
       "    <tr>\n",
       "      <th>524229</th>\n",
       "      <td>Coconut Curried Butternut Squash Soup</td>\n",
       "      <td>[olive oil, salt, ground white pepper, carrot,...</td>\n",
       "      <td>[1, 2, 1, 1, 1⁄2, 1⁄2, 1⁄2, 3, 1⁄2, 2, 6, 1]</td>\n",
       "    </tr>\n",
       "    <tr>\n",
       "      <th>524235</th>\n",
       "      <td>Paleo Party Pork Carnitas</td>\n",
       "      <td>[canola oil, dried oregano, minced  fresh garl...</td>\n",
       "      <td>[1, None, 1 1⁄2, 1 1⁄2, 1 1⁄2, 2, 6, 3, 3, 2, ...</td>\n",
       "    </tr>\n",
       "    <tr>\n",
       "      <th>524236</th>\n",
       "      <td>Paleo Pork Chili Verde</td>\n",
       "      <td>[onion, green bell pepper, canola oil, minced ...</td>\n",
       "      <td>[1, 1, 1, 1, 1, 6, 1⁄2, 1, 3, None, 1⁄2, 2]</td>\n",
       "    </tr>\n",
       "  </tbody>\n",
       "</table>\n",
       "<p>271674 rows × 3 columns</p>\n",
       "</div>"
      ],
      "text/plain": [
       "                                              Name  \\\n",
       "RecipeId                                             \n",
       "524289             Apple-Glazed Stuffed Pork Chops   \n",
       "524301                  Bob's Taco Soup With Pasta   \n",
       "524315    Crispy Chicken Thighs in Convection Oven   \n",
       "38               Low-Fat Berry Blue Frozen Dessert   \n",
       "39                                         Biryani   \n",
       "...                                            ...   \n",
       "524149                Hidden Veggie Mac and Cheese   \n",
       "524197                        Refreshing Ice Cubes   \n",
       "524229       Coconut Curried Butternut Squash Soup   \n",
       "524235                   Paleo Party Pork Carnitas   \n",
       "524236                      Paleo Pork Chili Verde   \n",
       "\n",
       "                                      RecipeIngredientParts  \\\n",
       "RecipeId                                                      \n",
       "524289    [bacon, leeks, other dry white wine, thyme, sa...   \n",
       "524301    [ground beef, onion, diced tomatoes, red kidne...   \n",
       "524315    [skinless chicken thighs, light sour cream, mi...   \n",
       "38        [blueberries, granulated sugar, vanilla yogurt...   \n",
       "39        [saffron, milk, green chili peppers, onions, g...   \n",
       "...                                                     ...   \n",
       "524149    [carrots, cauliflower, low-fat milk, salt, che...   \n",
       "524197                                       [water, water]   \n",
       "524229    [olive oil, salt, ground white pepper, carrot,...   \n",
       "524235    [canola oil, dried oregano, minced  fresh garl...   \n",
       "524236    [onion, green bell pepper, canola oil, minced ...   \n",
       "\n",
       "                                 RecipeIngredientQuantities  \n",
       "RecipeId                                                     \n",
       "524289                    [6, 1, 1⁄4, 1⁄2, 1, 1, 1⁄4, 1, 4]  \n",
       "524301     [1 1⁄2, 1, 29, 15 1⁄2, 1, 1, 1, 1, 1⁄2, 1⁄2, 16]  \n",
       "524315    [1, 3⁄4, 3, 1⁄2, 1⁄4, 1⁄16, 1⁄2, 1⁄4, 1, 1⁄2, ...  \n",
       "38                                           [4, 1⁄4, 1, 1]  \n",
       "39        [1, 4, 2, 2, 8, 1⁄4, 8, 1⁄2, 1, 1, 1⁄4, 1⁄4, 1...  \n",
       "...                                                     ...  \n",
       "524149                       [3, 1, 2, 1⁄2, 1, 2, 8, 4, 16]  \n",
       "524197                                               [2, 1]  \n",
       "524229         [1, 2, 1, 1, 1⁄2, 1⁄2, 1⁄2, 3, 1⁄2, 2, 6, 1]  \n",
       "524235    [1, None, 1 1⁄2, 1 1⁄2, 1 1⁄2, 2, 6, 3, 3, 2, ...  \n",
       "524236          [1, 1, 1, 1, 1, 6, 1⁄2, 1, 3, None, 1⁄2, 2]  \n",
       "\n",
       "[271674 rows x 3 columns]"
      ]
     },
     "execution_count": 44,
     "metadata": {},
     "output_type": "execute_result"
    }
   ],
   "source": [
    "ingredientsdf"
   ]
  },
  {
   "cell_type": "code",
   "execution_count": 59,
   "id": "ed9e1068",
   "metadata": {},
   "outputs": [
    {
     "data": {
      "text/plain": [
       "(array([279988.,  23921., 798973.]),\n",
       " array([-1.        , -0.33333333,  0.33333333,  1.        ]),\n",
       " <BarContainer object of 3 artists>)"
      ]
     },
     "execution_count": 59,
     "metadata": {},
     "output_type": "execute_result"
    },
    {
     "data": {
      "image/png": "[encoded data removed]",
      "text/plain": [
       "<Figure size 640x480 with 1 Axes>"
      ]
     },
     "metadata": {},
     "output_type": "display_data"
    }
   ],
   "source": [
    "plt.hist(x=reviewsdf.Rating0,bins=3)"
   ]
  },
  {
   "cell_type": "code",
   "execution_count": 12,
   "id": "979098d0",
   "metadata": {},
   "outputs": [
    {
     "data": {
      "image/png": "[encoded data removed]",
      "text/plain": [
       "<Figure size 640x480 with 1 Axes>"
      ]
     },
     "metadata": {},
     "output_type": "display_data"
    }
   ],
   "source": [
    "plt.hist(x=reviewsdf.loc[reviewsdf['AuthorId'].isin(users_top)].Rating0,bins=3)\n",
    "plt.show()"
   ]
  },
  {
   "cell_type": "code",
   "execution_count": 136,
   "id": "6f9c40d3-c422-4ea0-ae6a-58348b5ca04b",
   "metadata": {},
   "outputs": [],
   "source": []
  },
  {
   "cell_type": "code",
   "execution_count": 149,
   "id": "8e48997f",
   "metadata": {},
   "outputs": [],
   "source": [
    "rd = \n",
    "rd.add_feature(cooktimes,'Prep')\n",
    "rd.add_feature(cooktimes,'Cook')\n",
    "rd.add_feature(cooktimes,'Total')"
   ]
  },
  {
   "cell_type": "markdown",
   "id": "d0e10dd0",
   "metadata": {},
   "source": [
    "## Cooking time\n",
    "\n",
    "Let's add cooking time as a feature."
   ]
  },
  {
   "cell_type": "code",
   "execution_count": 11,
   "id": "4c8fd9e1",
   "metadata": {},
   "outputs": [
    {
     "data": {
      "text/plain": [
       "(array([154133.,   8864., 486999.]),\n",
       " array([-1.        , -0.33333333,  0.33333333,  1.        ]),\n",
       " <BarContainer object of 3 artists>)"
      ]
     },
     "execution_count": 11,
     "metadata": {},
     "output_type": "execute_result"
    },
    {
     "data": {
      "image/png": "[encoded data removed]",
      "text/plain": [
       "<Figure size 640x480 with 1 Axes>"
      ]
     },
     "metadata": {},
     "output_type": "display_data"
    }
   ],
   "source": []
  },
  {
   "cell_type": "code",
   "execution_count": 151,
   "id": "f6d9b3c6",
   "metadata": {},
   "outputs": [
    {
     "data": {
      "text/html": [
       "<div>\n",
       "<style scoped>\n",
       "    .dataframe tbody tr th:only-of-type {\n",
       "        vertical-align: middle;\n",
       "    }\n",
       "\n",
       "    .dataframe tbody tr th {\n",
       "        vertical-align: top;\n",
       "    }\n",
       "\n",
       "    .dataframe thead th {\n",
       "        text-align: right;\n",
       "    }\n",
       "</style>\n",
       "<table border=\"1\" class=\"dataframe\">\n",
       "  <thead>\n",
       "    <tr style=\"text-align: right;\">\n",
       "      <th></th>\n",
       "      <th>ReviewId</th>\n",
       "      <th>RecipeId</th>\n",
       "      <th>AuthorId</th>\n",
       "      <th>Rating</th>\n",
       "      <th>Cook</th>\n",
       "      <th>Prep</th>\n",
       "      <th>Total</th>\n",
       "      <th>Rating0</th>\n",
       "    </tr>\n",
       "  </thead>\n",
       "  <tbody>\n",
       "    <tr>\n",
       "      <th>1</th>\n",
       "      <td>7</td>\n",
       "      <td>4384</td>\n",
       "      <td>1634</td>\n",
       "      <td>4</td>\n",
       "      <td>120.0</td>\n",
       "      <td>5.0</td>\n",
       "      <td>125.0</td>\n",
       "      <td>0</td>\n",
       "    </tr>\n",
       "    <tr>\n",
       "      <th>2</th>\n",
       "      <td>9</td>\n",
       "      <td>4523</td>\n",
       "      <td>2046</td>\n",
       "      <td>2</td>\n",
       "      <td>30.0</td>\n",
       "      <td>30.0</td>\n",
       "      <td>60.0</td>\n",
       "      <td>-1</td>\n",
       "    </tr>\n",
       "    <tr>\n",
       "      <th>3</th>\n",
       "      <td>13</td>\n",
       "      <td>7435</td>\n",
       "      <td>1773</td>\n",
       "      <td>5</td>\n",
       "      <td>200.0</td>\n",
       "      <td>75.0</td>\n",
       "      <td>275.0</td>\n",
       "      <td>1</td>\n",
       "    </tr>\n",
       "    <tr>\n",
       "      <th>5</th>\n",
       "      <td>17</td>\n",
       "      <td>5221</td>\n",
       "      <td>2046</td>\n",
       "      <td>4</td>\n",
       "      <td>0.0</td>\n",
       "      <td>0.0</td>\n",
       "      <td>0.0</td>\n",
       "      <td>0</td>\n",
       "    </tr>\n",
       "    <tr>\n",
       "      <th>6</th>\n",
       "      <td>19</td>\n",
       "      <td>13307</td>\n",
       "      <td>2046</td>\n",
       "      <td>5</td>\n",
       "      <td>6.0</td>\n",
       "      <td>30.0</td>\n",
       "      <td>36.0</td>\n",
       "      <td>1</td>\n",
       "    </tr>\n",
       "  </tbody>\n",
       "</table>\n",
       "</div>"
      ],
      "text/plain": [
       "   ReviewId  RecipeId  AuthorId  Rating   Cook  Prep  Total  Rating0\n",
       "1         7      4384      1634       4  120.0   5.0  125.0        0\n",
       "2         9      4523      2046       2   30.0  30.0   60.0       -1\n",
       "3        13      7435      1773       5  200.0  75.0  275.0        1\n",
       "5        17      5221      2046       4    0.0   0.0    0.0        0\n",
       "6        19     13307      2046       5    6.0  30.0   36.0        1"
      ]
     },
     "execution_count": 151,
     "metadata": {},
     "output_type": "execute_result"
    }
   ],
   "source": []
  },
  {
   "cell_type": "code",
   "execution_count": 142,
   "id": "645448b4",
   "metadata": {},
   "outputs": [
    {
     "data": {
      "text/plain": [
       "1137"
      ]
     },
     "execution_count": 142,
     "metadata": {},
     "output_type": "execute_result"
    }
   ],
   "source": [
    "len(users_top)"
   ]
  },
  {
   "cell_type": "code",
   "execution_count": 143,
   "id": "d13a7790",
   "metadata": {},
   "outputs": [],
   "source": [
    "users_top.sort(key = lambda x:np.mean(list(user_ratings_var[x].values())))"
   ]
  },
  {
   "cell_type": "code",
   "execution_count": 145,
   "id": "c2c1cdf0",
   "metadata": {},
   "outputs": [
    {
     "data": {
      "text/plain": [
       "Index(['ReviewId', 'RecipeId', 'AuthorId', 'Rating', 'Cook', 'Prep', 'Total'], dtype='object')"
      ]
     },
     "execution_count": 145,
     "metadata": {},
     "output_type": "execute_result"
    }
   ],
   "source": [
    "df.columns"
   ]
  },
  {
   "cell_type": "code",
   "execution_count": 163,
   "id": "dec3a286",
   "metadata": {},
   "outputs": [
    {
     "data": {
      "text/plain": [
       "974097     1\n",
       "974099     0\n",
       "974100    -1\n",
       "974101     0\n",
       "974102     1\n",
       "          ..\n",
       "1260697    1\n",
       "1263907    0\n",
       "1265073    0\n",
       "1265696    0\n",
       "1317674   -1\n",
       "Name: Rating0, Length: 287, dtype: int64"
      ]
     },
     "execution_count": 163,
     "metadata": {},
     "output_type": "execute_result"
    }
   ],
   "source": [
    "df.loc[df.AuthorId == users_top[70]]['Rating0']"
   ]
  },
  {
   "cell_type": "code",
   "execution_count": 183,
   "id": "3bf92c75",
   "metadata": {},
   "outputs": [
    {
     "data": {
      "text/plain": [
       "974099     2.302585\n",
       "974101     3.401197\n",
       "974107     4.174387\n",
       "974109     6.318968\n",
       "974114     4.094345\n",
       "             ...   \n",
       "1244399    3.218876\n",
       "1245971    4.007333\n",
       "1263907    2.639057\n",
       "1265073    4.174387\n",
       "1265696    4.442651\n",
       "Name: LogTotal, Length: 136, dtype: float64"
      ]
     },
     "execution_count": 183,
     "metadata": {},
     "output_type": "execute_result"
    }
   ],
   "source": [
    "df0.loc[df0.Rating0==0]['LogTotal']"
   ]
  },
  {
   "cell_type": "markdown",
   "id": "c3b0c109",
   "metadata": {},
   "source": []
  },
  {
   "cell_type": "code",
   "execution_count": 191,
   "id": "59eee15f",
   "metadata": {},
   "outputs": [
    {
     "data": {
      "image/png": "[encoded data removed]",
      "text/plain": [
       "<Figure size 640x480 with 1 Axes>"
      ]
     },
     "metadata": {},
     "output_type": "display_data"
    }
   ],
   "source": [
    "plt.hist(x = [df0.loc[df0.Rating0==-1]['LogTotal'].values,\n",
    "              df0.loc[df0.Rating0==0]['LogTotal'].values,\n",
    "              df0.loc[df0.Rating0==1]['LogTotal'].values],\n",
    "         bins=30,\n",
    "         histtype = 'barstacked',\n",
    "         color=[[1,0,0],[0,1,0],[0,0,1]])\n",
    "plt.show()"
   ]
  },
  {
   "cell_type": "code",
   "execution_count": 169,
   "id": "9d133e56",
   "metadata": {},
   "outputs": [],
   "source": [
    "df['LogTotal']=df['Total'].apply(log_ext)"
   ]
  },
  {
   "cell_type": "code",
   "execution_count": 195,
   "id": "696851c1",
   "metadata": {},
   "outputs": [
    {
     "data": {
      "image/png": "[encoded data removed]",
      "text/plain": [
       "<Figure size 640x480 with 1 Axes>"
      ]
     },
     "metadata": {},
     "output_type": "display_data"
    }
   ],
   "source": [
    "plt.hist(x = [df.loc[df.AuthorId==users_top[90]].loc[df.Rating0==-1]['LogTotal'].values,\n",
    "              df.loc[df.AuthorId==users_top[90]].loc[df.Rating0== 0]['LogTotal'].values,\n",
    "              df.loc[df.AuthorId==users_top[90]].loc[df.Rating0== 1]['LogTotal'].values],\n",
    "         bins=30,\n",
    "         histtype = 'barstacked',\n",
    "         color=[[1,0,0],[0,1,0],[0,0,1]])\n",
    "plt.show()"
   ]
  },
  {
   "cell_type": "code",
   "execution_count": 1,
   "id": "21405ac2",
   "metadata": {},
   "outputs": [
    {
     "ename": "NameError",
     "evalue": "name 'df' is not defined",
     "output_type": "error",
     "traceback": [
      "\u001b[0;31m---------------------------------------------------------------------------\u001b[0m",
      "\u001b[0;31mNameError\u001b[0m                                 Traceback (most recent call last)",
      "Cell \u001b[0;32mIn[1], line 1\u001b[0m\n\u001b[0;32m----> 1\u001b[0m df0 \u001b[38;5;241m=\u001b[39m\u001b[43mdf\u001b[49m\u001b[38;5;241m.\u001b[39mloc[df\u001b[38;5;241m.\u001b[39mAuthorId \u001b[38;5;241m==\u001b[39m users_top[\u001b[38;5;241m75\u001b[39m]]\n",
      "\u001b[0;31mNameError\u001b[0m: name 'df' is not defined"
     ]
    }
   ],
   "source": [
    "df0 =df.loc[df.AuthorId == users_top[75]]"
   ]
  },
  {
   "cell_type": "code",
   "execution_count": 178,
   "id": "65767685",
   "metadata": {},
   "outputs": [
    {
     "data": {
      "text/plain": [
       "array([list([0, 1, 0]), list([1, 0, 0]), list([0, 0, 1]), list([1, 0, 0]),\n",
       "       list([0, 1, 0]), list([0, 0, 1]), list([0, 0, 1]), list([1, 0, 0]),\n",
       "       list([1, 0, 0]), list([1, 0, 0]), list([1, 0, 0]), list([0, 0, 1]),\n",
       "       list([0, 1, 0]), list([0, 1, 0]), list([0, 0, 1]), list([1, 0, 0]),\n",
       "       list([1, 0, 0]), list([0, 1, 0]), list([0, 1, 0]), list([0, 0, 1]),\n",
       "       list([0, 0, 1]), list([1, 0, 0]), list([1, 0, 0]), list([0, 0, 1]),\n",
       "       list([1, 0, 0]), list([1, 0, 0]), list([0, 0, 1]), list([1, 0, 0]),\n",
       "       list([0, 1, 0]), list([1, 0, 0]), list([1, 0, 0]), list([0, 0, 1]),\n",
       "       list([1, 0, 0]), list([1, 0, 0]), list([1, 0, 0]), list([1, 0, 0]),\n",
       "       list([1, 0, 0]), list([1, 0, 0]), list([0, 0, 1]), list([0, 0, 1]),\n",
       "       list([1, 0, 0]), list([1, 0, 0]), list([1, 0, 0]), list([0, 1, 0]),\n",
       "       list([0, 1, 0]), list([1, 0, 0]), list([1, 0, 0]), list([0, 0, 1]),\n",
       "       list([1, 0, 0]), list([0, 0, 1]), list([0, 0, 1]), list([0, 1, 0]),\n",
       "       list([0, 1, 0]), list([0, 0, 1]), list([0, 1, 0]), list([0, 0, 1]),\n",
       "       list([1, 0, 0]), list([0, 1, 0]), list([1, 0, 0]), list([0, 1, 0]),\n",
       "       list([0, 0, 1]), list([0, 0, 1]), list([0, 0, 1]), list([1, 0, 0]),\n",
       "       list([1, 0, 0]), list([0, 0, 1]), list([1, 0, 0]), list([0, 0, 1]),\n",
       "       list([0, 1, 0]), list([0, 1, 0]), list([1, 0, 0]), list([0, 0, 1]),\n",
       "       list([0, 1, 0]), list([1, 0, 0]), list([0, 0, 1]), list([0, 0, 1]),\n",
       "       list([0, 0, 1]), list([0, 1, 0]), list([0, 0, 1]), list([0, 1, 0]),\n",
       "       list([0, 0, 1]), list([1, 0, 0]), list([1, 0, 0]), list([1, 0, 0]),\n",
       "       list([1, 0, 0]), list([0, 0, 1]), list([0, 0, 1]), list([0, 1, 0]),\n",
       "       list([1, 0, 0]), list([0, 1, 0]), list([0, 0, 1]), list([0, 0, 1]),\n",
       "       list([0, 0, 1]), list([0, 0, 1]), list([1, 0, 0]), list([0, 0, 1]),\n",
       "       list([1, 0, 0]), list([1, 0, 0]), list([1, 0, 0]), list([0, 0, 1]),\n",
       "       list([0, 0, 1]), list([0, 0, 1]), list([1, 0, 0]), list([0, 1, 0]),\n",
       "       list([0, 0, 1]), list([0, 0, 1]), list([0, 0, 1]), list([1, 0, 0]),\n",
       "       list([0, 0, 1]), list([1, 0, 0]), list([1, 0, 0]), list([1, 0, 0]),\n",
       "       list([0, 0, 1]), list([0, 0, 1]), list([1, 0, 0]), list([0, 0, 1]),\n",
       "       list([0, 0, 1]), list([1, 0, 0]), list([1, 0, 0]), list([1, 0, 0]),\n",
       "       list([0, 1, 0]), list([0, 1, 0]), list([0, 0, 1]), list([1, 0, 0]),\n",
       "       list([0, 0, 1]), list([0, 1, 0]), list([0, 0, 1]), list([0, 0, 1]),\n",
       "       list([0, 1, 0]), list([1, 0, 0]), list([0, 0, 1]), list([1, 0, 0]),\n",
       "       list([1, 0, 0]), list([1, 0, 0]), list([0, 0, 1]), list([0, 1, 0]),\n",
       "       list([0, 1, 0]), list([1, 0, 0]), list([0, 0, 1]), list([1, 0, 0]),\n",
       "       list([1, 0, 0]), list([1, 0, 0]), list([1, 0, 0]), list([1, 0, 0]),\n",
       "       list([1, 0, 0]), list([0, 0, 1]), list([1, 0, 0]), list([0, 0, 1]),\n",
       "       list([0, 1, 0]), list([0, 0, 1]), list([0, 1, 0]), list([1, 0, 0]),\n",
       "       list([0, 1, 0]), list([1, 0, 0]), list([1, 0, 0]), list([0, 0, 1]),\n",
       "       list([1, 0, 0]), list([1, 0, 0]), list([1, 0, 0]), list([0, 0, 1]),\n",
       "       list([1, 0, 0]), list([1, 0, 0]), list([0, 0, 1]), list([0, 1, 0]),\n",
       "       list([0, 1, 0]), list([0, 0, 1]), list([1, 0, 0]), list([1, 0, 0]),\n",
       "       list([0, 0, 1]), list([1, 0, 0]), list([1, 0, 0]), list([1, 0, 0]),\n",
       "       list([0, 1, 0]), list([0, 0, 1]), list([0, 1, 0]), list([1, 0, 0]),\n",
       "       list([0, 1, 0]), list([1, 0, 0]), list([1, 0, 0]), list([1, 0, 0]),\n",
       "       list([1, 0, 0]), list([1, 0, 0]), list([0, 0, 1]), list([1, 0, 0]),\n",
       "       list([1, 0, 0]), list([1, 0, 0]), list([0, 1, 0]), list([0, 0, 1]),\n",
       "       list([0, 1, 0]), list([1, 0, 0]), list([0, 1, 0]), list([1, 0, 0]),\n",
       "       list([1, 0, 0]), list([0, 0, 1]), list([1, 0, 0]), list([0, 1, 0]),\n",
       "       list([0, 1, 0]), list([1, 0, 0]), list([0, 0, 1]), list([0, 1, 0]),\n",
       "       list([1, 0, 0]), list([0, 1, 0]), list([1, 0, 0]), list([0, 0, 1]),\n",
       "       list([0, 0, 1]), list([1, 0, 0]), list([1, 0, 0]), list([0, 1, 0]),\n",
       "       list([0, 0, 1]), list([1, 0, 0]), list([1, 0, 0]), list([0, 0, 1]),\n",
       "       list([1, 0, 0]), list([0, 1, 0]), list([1, 0, 0]), list([0, 1, 0]),\n",
       "       list([0, 0, 1]), list([1, 0, 0]), list([0, 1, 0]), list([0, 1, 0]),\n",
       "       list([1, 0, 0]), list([1, 0, 0]), list([1, 0, 0]), list([0, 1, 0]),\n",
       "       list([0, 1, 0]), list([1, 0, 0]), list([0, 1, 0]), list([1, 0, 0]),\n",
       "       list([0, 1, 0]), list([1, 0, 0]), list([1, 0, 0]), list([1, 0, 0]),\n",
       "       list([1, 0, 0]), list([1, 0, 0]), list([1, 0, 0]), list([1, 0, 0]),\n",
       "       list([0, 1, 0]), list([0, 0, 1]), list([0, 1, 0]), list([1, 0, 0]),\n",
       "       list([1, 0, 0]), list([0, 1, 0]), list([0, 1, 0]), list([1, 0, 0]),\n",
       "       list([1, 0, 0]), list([0, 1, 0]), list([1, 0, 0]), list([1, 0, 0]),\n",
       "       list([1, 0, 0]), list([0, 1, 0]), list([0, 1, 0]), list([0, 1, 0]),\n",
       "       list([0, 1, 0]), list([1, 0, 0]), list([0, 1, 0]), list([1, 0, 0]),\n",
       "       list([0, 1, 0]), list([1, 0, 0]), list([0, 1, 0]), list([0, 1, 0]),\n",
       "       list([0, 0, 1]), list([1, 0, 0]), list([0, 0, 1]), list([1, 0, 0]),\n",
       "       list([0, 0, 1]), list([1, 0, 0]), list([0, 0, 1]), list([1, 0, 0]),\n",
       "       list([0, 0, 1]), list([1, 0, 0]), list([0, 0, 1]), list([0, 0, 1]),\n",
       "       list([0, 1, 0]), list([1, 0, 0]), list([0, 0, 1]), list([1, 0, 0]),\n",
       "       list([1, 0, 0]), list([1, 0, 0]), list([0, 0, 1]), list([0, 0, 1]),\n",
       "       list([1, 0, 0]), list([0, 0, 1]), list([0, 1, 0]), list([1, 0, 0]),\n",
       "       list([1, 0, 0]), list([1, 0, 0]), list([0, 0, 1])], dtype=object)"
      ]
     },
     "execution_count": 178,
     "metadata": {},
     "output_type": "execute_result"
    }
   ],
   "source": [
    "df0['Rating0'].apply(int_to_color).values"
   ]
  },
  {
   "cell_type": "code",
   "execution_count": 18,
   "id": "66e02181",
   "metadata": {},
   "outputs": [
    {
     "data": {
      "text/plain": [
       "array([list(['bacon', 'leeks', 'other dry white wine', 'thyme', 'salt', 'pepper', 'dijon-style mustard', 'boneless pork loin chops']),\n",
       "       list(['ground beef', 'onion', 'diced tomatoes', 'red kidney beans', 'corn', 'green chili', 'bow tie pasta', 'sour cream']),\n",
       "       list(['skinless chicken thighs', 'light sour cream', 'minced  fresh garlic cloves', 'harissa', 'salt', 'pepper', 'onion powder', 'paprika', 'panko breadcrumbs', 'fresh parmesan cheese', 'butter']),\n",
       "       ...,\n",
       "       list(['olive oil', 'salt', 'ground white pepper', 'carrot', 'celery', 'curry powder', 'minced  fresh garlic cloves', 'onion', 'coconut milk', 'flat leaf parsley']),\n",
       "       list(['canola oil', 'dried oregano', 'minced  fresh garlic cloves', 'carrots', 'celery', 'bay leaves', 'lemon', 'onion', 'avocados', 'boston lettuce', 'limes', 'cilantro', 'red onions']),\n",
       "       list(['onion', 'green bell pepper', 'canola oil', 'minced  fresh garlic cloves', 'dried oregano', 'whole bay leaf', 'diced tomatoes', 'fresh cilantro'])],\n",
       "      dtype=object)"
      ]
     },
     "execution_count": 18,
     "metadata": {},
     "output_type": "execute_result"
    }
   ],
   "source": [
    "ingredientsdf['RecipeIngredientParts'].values"
   ]
  },
  {
   "cell_type": "code",
   "execution_count": 19,
   "id": "ac37c576",
   "metadata": {},
   "outputs": [],
   "source": [
    "ingredientslist = []\n",
    "for l in ingredientsdf['RecipeIngredientParts'].values:\n",
    "    ingredientslist+=l\n",
    "ingredientslist_nr = list(set(ingredientslist))"
   ]
  },
  {
   "cell_type": "code",
   "execution_count": 23,
   "id": "19c14ed0",
   "metadata": {},
   "outputs": [],
   "source": [
    "ingredientslist_nr = list(set(ingredientslist))"
   ]
  },
  {
   "cell_type": "code",
   "execution_count": 26,
   "id": "a32b1804",
   "metadata": {},
   "outputs": [
    {
     "data": {
      "text/plain": [
       "['red pear shaped cherry tomatoes',\n",
       " 'jicama',\n",
       " 'green sweet peppers',\n",
       " 'umeboshi plum paste',\n",
       " 'Oatmeal Cookie Mix',\n",
       " 'creamy peanut butter',\n",
       " 'light sour cream',\n",
       " 'sweet peas',\n",
       " 'cooking pears',\n",
       " 'light boursin cheese']"
      ]
     },
     "execution_count": 26,
     "metadata": {},
     "output_type": "execute_result"
    }
   ],
   "source": [
    "ingredientslist_nr[250:260]"
   ]
  },
  {
   "cell_type": "code",
   "execution_count": 28,
   "id": "c5d318f2",
   "metadata": {},
   "outputs": [
    {
     "data": {
      "text/plain": [
       "5184"
      ]
     },
     "execution_count": 28,
     "metadata": {},
     "output_type": "execute_result"
    }
   ],
   "source": [
    "len(ingredientslist_nr)"
   ]
  },
  {
   "cell_type": "code",
   "execution_count": null,
   "id": "15fe01f3",
   "metadata": {},
   "outputs": [],
   "source": []
  }
 ],
 "metadata": {
  "kernelspec": {
   "display_name": "Python 3 (ipykernel)",
   "language": "python",
   "name": "python3"
  },
  "language_info": {
   "codemirror_mode": {
    "name": "ipython",
    "version": 3
   },
   "file_extension": ".py",
   "mimetype": "text/x-python",
   "name": "python",
   "nbconvert_exporter": "python",
   "pygments_lexer": "ipython3",
   "version": "3.11.3"
  }
 },
 "nbformat": 4,
 "nbformat_minor": 5
}
