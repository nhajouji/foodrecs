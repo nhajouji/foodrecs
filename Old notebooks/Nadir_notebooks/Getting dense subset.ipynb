{
 "cells": [
  {
   "cell_type": "code",
   "execution_count": 1,
   "id": "2749c7f0-440c-4f03-b617-58957d4afbb0",
   "metadata": {},
   "outputs": [],
   "source": [
    "import pandas as pd\n",
    "import numpy as np"
   ]
  },
  {
   "cell_type": "code",
   "execution_count": 4,
   "id": "09e45b18",
   "metadata": {},
   "outputs": [],
   "source": [
    "reviews = pd.read_pickle('../data/reviewsred.pk')"
   ]
  },
  {
   "cell_type": "markdown",
   "id": "0e7cecdb",
   "metadata": {},
   "source": [
    "We will drop recipes and users that appear too infrequently in the dataset. \n",
    "\n",
    "Note that we can't insist on both a minimum number of appearances for both user and item: if we drop the unpopular recipes, and then we drop the unpopular users, some of the recipes that are left in the dataframe may now be below the \"popularity\" threshold."
   ]
  },
  {
   "cell_type": "code",
   "execution_count": 5,
   "id": "b922caaa",
   "metadata": {},
   "outputs": [],
   "source": [
    "rev_df = (reviews.groupby('UserId').filter(lambda x: len(x) > 29))\n",
    "rev_df = (rev_df.groupby('RecipeId').filter(lambda x: len(x) > 29))\n",
    "rev_df = (rev_df.groupby('UserId').filter(lambda x: len(x) > 19)).copy()"
   ]
  },
  {
   "cell_type": "code",
   "execution_count": null,
   "id": "2a9b6989",
   "metadata": {},
   "outputs": [],
   "source": [
    "def density(df):\n",
    "    no_users = len(df.AuthorId.unique())\n",
    "    no_recs = len(df.RecipeId.unique())\n",
    "    no_revs = len(df)\n",
    "    return {'Users':no_users,'Recipes':no_recs,'Ratings':no_revs,'Density':(no_revs)/(no_users*no_recs)}\n"
   ]
  },
  {
   "cell_type": "code",
   "execution_count": 6,
   "id": "17188ba8",
   "metadata": {},
   "outputs": [],
   "source": [
    "rev_df.to_pickle('../data/revdense.pk')"
   ]
  },
  {
   "cell_type": "code",
   "execution_count": null,
   "id": "11070386",
   "metadata": {},
   "outputs": [
    {
     "data": {
      "text/plain": [
       "{'Users': 44084,\n",
       " 'Recipes': 251937,\n",
       " 'Ratings': 1102882,\n",
       " 'Density': 9.930156690828349e-05}"
      ]
     },
     "metadata": {},
     "output_type": "display_data"
    }
   ],
   "source": [
    "density(reviews)"
   ]
  },
  {
   "cell_type": "markdown",
   "id": "bc8963fe",
   "metadata": {},
   "source": [
    "By working with this restricted dataset, we are only using using 10 percent of the available data but the density of the available ratings increases from roughly $10^{-4}$ to $2 \\cdot 10^{-2}$."
   ]
  },
  {
   "cell_type": "code",
   "execution_count": 58,
   "id": "7d21cc47-1faf-4119-8e1c-ade3a6111883",
   "metadata": {},
   "outputs": [
    {
     "data": {
      "text/plain": [
       "126893"
      ]
     },
     "execution_count": 58,
     "metadata": {},
     "output_type": "execute_result"
    }
   ],
   "source": [
    "len(revdf.loc[revdf.AuthorCount>1000].RecipeId.unique())"
   ]
  },
  {
   "cell_type": "code",
   "execution_count": 5,
   "id": "1d171cee-aab3-47f9-b1c9-af1347ee9d69",
   "metadata": {},
   "outputs": [],
   "source": [
    "def get_dictionaries(ratingsdf,usercol,itemcol,ratingcol):\n",
    "    users = list(set(ratingsdf[usercol].values))\n",
    "    items = list(set(ratingsdf[itemcol].values))\n",
    "    ratings_by_user = {user_id:{} for user_id in users}\n",
    "    users_by_item = {item_id:[] for item_id in items}\n",
    "    for review_index in ratingsdf.index:\n",
    "        user_id = ratingsdf[usercol][review_index]\n",
    "        item_id = ratingsdf[itemcol][review_index]\n",
    "        rating = ratingsdf[ratingcol][review_index]\n",
    "        ratings_by_user[user_id][item_id] = rating\n",
    "        users_by_item[item_id].append(user_id)\n",
    "    return ratings_by_user,users_by_item"
   ]
  },
  {
   "cell_type": "code",
   "execution_count": 40,
   "id": "80d8f0e8-e624-42d9-93ae-1c383a24be5f",
   "metadata": {},
   "outputs": [],
   "source": [
    "user_ratings,item_reviewers = get_dictionaries(revdf,'AuthorId','RecipeId','Rating')"
   ]
  },
  {
   "cell_type": "code",
   "execution_count": 44,
   "id": "a4abf5c1-8265-4f4b-9d38-4a47adbac675",
   "metadata": {},
   "outputs": [],
   "source": [
    "users = list(user_ratings.keys())\n",
    "users.sort(key = lambda x:len(user_ratings[x]))"
   ]
  },
  {
   "cell_type": "code",
   "execution_count": 60,
   "id": "1f2ba26e-8a99-44eb-9311-4e66bf8e3c6c",
   "metadata": {},
   "outputs": [
    {
     "data": {
      "text/plain": [
       "array([4, 2, 5, 1, 3, 0], dtype=int32)"
      ]
     },
     "execution_count": 60,
     "metadata": {},
     "output_type": "execute_result"
    }
   ],
   "source": [
    "revdf.Rating.unique()"
   ]
  },
  {
   "cell_type": "code",
   "execution_count": 69,
   "id": "6f24d806-3637-4284-978b-aab71cf1a654",
   "metadata": {},
   "outputs": [],
   "source": [
    "def user_rating_desc(user):\n",
    "    ratings = user_ratings[user]\n",
    "    value_counts = {n:0 for n in range(6)}\n",
    "    if len(ratings)==0:\n",
    "        return value_counts\n",
    "    for item in ratings:\n",
    "        value_counts[ratings[item]]+=1\n",
    "    for n in value_counts:\n",
    "        value_counts[n] = value_counts[n]/len(ratings)\n",
    "    description = {'Number':len(ratings),\n",
    "                   'Mean':np.mean(list(ratings.values())),\n",
    "                   'Std':np.std(list(ratings.values())),\n",
    "                   'RatingCounts':value_counts\n",
    "                  }\n",
    "    return description"
   ]
  },
  {
   "cell_type": "code",
   "execution_count": 77,
   "id": "4c10ec7e-44a2-4844-8b32-a538ab31d93d",
   "metadata": {},
   "outputs": [],
   "source": [
    "user_sublist = [user for user in users if user_rating_desc(user)['Std']>1 and user_rating_desc(user)['Number']>50]"
   ]
  },
  {
   "cell_type": "code",
   "execution_count": 82,
   "id": "c327b320-e240-4c4d-afef-276af6a8066b",
   "metadata": {},
   "outputs": [],
   "source": [
    "revdf['AuthorStd'] = [np.std(list(user_ratings[user].values())) for user in revdf.AuthorId]\n"
   ]
  },
  {
   "cell_type": "code",
   "execution_count": 91,
   "id": "1e865e9a-8fbe-4d37-981e-1f6a16b8084c",
   "metadata": {},
   "outputs": [
    {
     "data": {
      "text/plain": [
       "1933"
      ]
     },
     "execution_count": 91,
     "metadata": {},
     "output_type": "execute_result"
    }
   ],
   "source": [
    "len(revdf.loc[revdf.RecipeCount>49].RecipeId.unique())"
   ]
  },
  {
   "cell_type": "code",
   "execution_count": 120,
   "id": "9fe1082e-ab60-40ba-86c9-2f324cf01963",
   "metadata": {},
   "outputs": [
    {
     "data": {
      "text/plain": [
       "1933"
      ]
     },
     "execution_count": 120,
     "metadata": {},
     "output_type": "execute_result"
    }
   ],
   "source": [
    "len(revdense.loc[revdense.AuthorStd>1].loc[revdense.AuthorCount>9].RecipeId.unique())"
   ]
  },
  {
   "cell_type": "code",
   "execution_count": 107,
   "id": "2932d9c6-f552-4f39-a57e-986d0bb051b8",
   "metadata": {},
   "outputs": [],
   "source": [
    "user_ratings_d,item_reviewers_d = get_dictionaries(revdense,'AuthorId','RecipeId','Rating')"
   ]
  },
  {
   "cell_type": "code",
   "execution_count": 19,
   "id": "d56154b3-60b8-4942-94f6-cd98d53336aa",
   "metadata": {},
   "outputs": [],
   "source": [
    "revdf['AuthorCount'] = [len(user_ratings[user]) for user in revdf.AuthorId]\n",
    "revdf['RecipeCount'] = [len(item_reviewers[item]) for item in revdf.RecipeId]"
   ]
  },
  {
   "cell_type": "code",
   "execution_count": 113,
   "id": "d498d4b4-4741-4b97-8737-19671188d256",
   "metadata": {},
   "outputs": [],
   "source": [
    "revdense['AuthorStd'] = [np.std(list(user_ratings_d[user].values())) for user in revdense.AuthorId]\n",
    "revdense['AuthorCount'] = [len(list(user_ratings[user].values())) for user in revdense.AuthorId]"
   ]
  },
  {
   "cell_type": "code",
   "execution_count": 125,
   "id": "da083127-44a8-4218-b5d3-6b47b8cbd3fc",
   "metadata": {},
   "outputs": [],
   "source": [
    "revdense.loc[revdense.AuthorStd>1].loc[revdense.AuthorCount>9].to_pickle('../data/revdense.pk')"
   ]
  },
  {
   "cell_type": "code",
   "execution_count": 122,
   "id": "438c165d-453a-4aa7-aab8-5af683ffe6af",
   "metadata": {},
   "outputs": [
    {
     "data": {
      "text/plain": [
       "2095"
      ]
     },
     "execution_count": 122,
     "metadata": {},
     "output_type": "execute_result"
    }
   ],
   "source": [
    "len(revdense.loc[revdense.AuthorStd>1].loc[revdense.AuthorCount>19].AuthorId.unique())"
   ]
  },
  {
   "cell_type": "code",
   "execution_count": 38,
   "id": "2942308a-e438-4e3d-a086-4725221ce2ef",
   "metadata": {},
   "outputs": [
    {
     "data": {
      "text/plain": [
       "29378"
      ]
     },
     "execution_count": 38,
     "metadata": {},
     "output_type": "execute_result"
    }
   ],
   "source": [
    "len(revdf.loc[revdf.Popularity>20000].RecipeId.unique())"
   ]
  },
  {
   "cell_type": "code",
   "execution_count": 39,
   "id": "94dd9f5e-d011-4f35-a5b2-1a5c29a1f5a2",
   "metadata": {},
   "outputs": [
    {
     "data": {
      "text/html": [
       "<div>\n",
       "<style scoped>\n",
       "    .dataframe tbody tr th:only-of-type {\n",
       "        vertical-align: middle;\n",
       "    }\n",
       "\n",
       "    .dataframe tbody tr th {\n",
       "        vertical-align: top;\n",
       "    }\n",
       "\n",
       "    .dataframe thead th {\n",
       "        text-align: right;\n",
       "    }\n",
       "</style>\n",
       "<table border=\"1\" class=\"dataframe\">\n",
       "  <thead>\n",
       "    <tr style=\"text-align: right;\">\n",
       "      <th></th>\n",
       "      <th>ReviewId</th>\n",
       "      <th>RecipeId</th>\n",
       "      <th>AuthorId</th>\n",
       "      <th>Rating</th>\n",
       "      <th>AuthorCount</th>\n",
       "      <th>RecipeCount</th>\n",
       "      <th>Popularity</th>\n",
       "    </tr>\n",
       "  </thead>\n",
       "  <tbody>\n",
       "    <tr>\n",
       "      <th>1</th>\n",
       "      <td>7</td>\n",
       "      <td>4384</td>\n",
       "      <td>1634</td>\n",
       "      <td>4</td>\n",
       "      <td>79</td>\n",
       "      <td>2</td>\n",
       "      <td>158</td>\n",
       "    </tr>\n",
       "    <tr>\n",
       "      <th>2</th>\n",
       "      <td>9</td>\n",
       "      <td>4523</td>\n",
       "      <td>2046</td>\n",
       "      <td>2</td>\n",
       "      <td>8</td>\n",
       "      <td>5</td>\n",
       "      <td>40</td>\n",
       "    </tr>\n",
       "    <tr>\n",
       "      <th>3</th>\n",
       "      <td>13</td>\n",
       "      <td>7435</td>\n",
       "      <td>1773</td>\n",
       "      <td>5</td>\n",
       "      <td>5</td>\n",
       "      <td>32</td>\n",
       "      <td>160</td>\n",
       "    </tr>\n",
       "    <tr>\n",
       "      <th>5</th>\n",
       "      <td>17</td>\n",
       "      <td>5221</td>\n",
       "      <td>2046</td>\n",
       "      <td>4</td>\n",
       "      <td>8</td>\n",
       "      <td>9</td>\n",
       "      <td>72</td>\n",
       "    </tr>\n",
       "    <tr>\n",
       "      <th>6</th>\n",
       "      <td>19</td>\n",
       "      <td>13307</td>\n",
       "      <td>2046</td>\n",
       "      <td>5</td>\n",
       "      <td>8</td>\n",
       "      <td>95</td>\n",
       "      <td>760</td>\n",
       "    </tr>\n",
       "    <tr>\n",
       "      <th>...</th>\n",
       "      <td>...</td>\n",
       "      <td>...</td>\n",
       "      <td>...</td>\n",
       "      <td>...</td>\n",
       "      <td>...</td>\n",
       "      <td>...</td>\n",
       "      <td>...</td>\n",
       "    </tr>\n",
       "    <tr>\n",
       "      <th>1401933</th>\n",
       "      <td>2090292</td>\n",
       "      <td>188578</td>\n",
       "      <td>2002871210</td>\n",
       "      <td>5</td>\n",
       "      <td>2</td>\n",
       "      <td>10</td>\n",
       "      <td>20</td>\n",
       "    </tr>\n",
       "    <tr>\n",
       "      <th>1401942</th>\n",
       "      <td>2090301</td>\n",
       "      <td>339905</td>\n",
       "      <td>35251</td>\n",
       "      <td>5</td>\n",
       "      <td>45</td>\n",
       "      <td>49</td>\n",
       "      <td>2205</td>\n",
       "    </tr>\n",
       "    <tr>\n",
       "      <th>1401943</th>\n",
       "      <td>2090302</td>\n",
       "      <td>537541</td>\n",
       "      <td>2002323049</td>\n",
       "      <td>3</td>\n",
       "      <td>2</td>\n",
       "      <td>1</td>\n",
       "      <td>2</td>\n",
       "    </tr>\n",
       "    <tr>\n",
       "      <th>1401968</th>\n",
       "      <td>2090329</td>\n",
       "      <td>103772</td>\n",
       "      <td>2002553884</td>\n",
       "      <td>2</td>\n",
       "      <td>2</td>\n",
       "      <td>6</td>\n",
       "      <td>12</td>\n",
       "    </tr>\n",
       "    <tr>\n",
       "      <th>1401971</th>\n",
       "      <td>2090332</td>\n",
       "      <td>230339</td>\n",
       "      <td>628753</td>\n",
       "      <td>5</td>\n",
       "      <td>37</td>\n",
       "      <td>1</td>\n",
       "      <td>37</td>\n",
       "    </tr>\n",
       "  </tbody>\n",
       "</table>\n",
       "<p>1102882 rows × 7 columns</p>\n",
       "</div>"
      ],
      "text/plain": [
       "         ReviewId  RecipeId    AuthorId  Rating  AuthorCount  RecipeCount  \\\n",
       "1               7      4384        1634       4           79            2   \n",
       "2               9      4523        2046       2            8            5   \n",
       "3              13      7435        1773       5            5           32   \n",
       "5              17      5221        2046       4            8            9   \n",
       "6              19     13307        2046       5            8           95   \n",
       "...           ...       ...         ...     ...          ...          ...   \n",
       "1401933   2090292    188578  2002871210       5            2           10   \n",
       "1401942   2090301    339905       35251       5           45           49   \n",
       "1401943   2090302    537541  2002323049       3            2            1   \n",
       "1401968   2090329    103772  2002553884       2            2            6   \n",
       "1401971   2090332    230339      628753       5           37            1   \n",
       "\n",
       "         Popularity  \n",
       "1               158  \n",
       "2                40  \n",
       "3               160  \n",
       "5                72  \n",
       "6               760  \n",
       "...             ...  \n",
       "1401933          20  \n",
       "1401942        2205  \n",
       "1401943           2  \n",
       "1401968          12  \n",
       "1401971          37  \n",
       "\n",
       "[1102882 rows x 7 columns]"
      ]
     },
     "execution_count": 39,
     "metadata": {},
     "output_type": "execute_result"
    }
   ],
   "source": [
    "revdf"
   ]
  },
  {
   "cell_type": "code",
   "execution_count": null,
   "id": "9a4e370d-7f76-4f1f-b58c-facd90d8428e",
   "metadata": {},
   "outputs": [],
   "source": []
  },
  {
   "cell_type": "code",
   "execution_count": 218,
   "id": "6b25b189-4a08-4f14-a680-3c70ac7d14a8",
   "metadata": {},
   "outputs": [],
   "source": [
    "authors0std = [author_id for author_id in ratings_by_author if np.std(list(ratings_by_author[author_id].values())) == 0]"
   ]
  }
 ],
 "metadata": {
  "kernelspec": {
   "display_name": "Python 3 (ipykernel)",
   "language": "python",
   "name": "python3"
  },
  "language_info": {
   "codemirror_mode": {
    "name": "ipython",
    "version": 3
   },
   "file_extension": ".py",
   "mimetype": "text/x-python",
   "name": "python",
   "nbconvert_exporter": "python",
   "pygments_lexer": "ipython3",
   "version": "3.11.3"
  }
 },
 "nbformat": 4,
 "nbformat_minor": 5
}
