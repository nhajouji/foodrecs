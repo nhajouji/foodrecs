{
 "cells": [
  {
   "cell_type": "code",
   "execution_count": 2,
   "metadata": {},
   "outputs": [],
   "source": [
    "import numpy as np\n",
    "import pandas as pd\n",
    "import matplotlib.pyplot as plt\n",
    "import seaborn as sns"
   ]
  },
  {
   "cell_type": "code",
   "execution_count": 13,
   "metadata": {},
   "outputs": [],
   "source": [
    "revtimes = pd.read_pickle('../data/revs_timedata.pk')\n",
    "rectimes =pd.read_pickle('../data/rec_timedata.pk')\n",
    "recipe_ids = list(set(rectimes.index).intersection(set(revtimes.RecipeId.values)))\n",
    "revtimes = revtimes[revtimes['RecipeId'].isin(recipe_ids)]\n",
    "revtimes['RecipeDate'] = [rectimes[r] for r in revtimes.RecipeId]\n",
    "\n"
   ]
  },
  {
   "cell_type": "code",
   "execution_count": 14,
   "metadata": {},
   "outputs": [
    {
     "data": {
      "text/html": [
       "<div>\n",
       "<style scoped>\n",
       "    .dataframe tbody tr th:only-of-type {\n",
       "        vertical-align: middle;\n",
       "    }\n",
       "\n",
       "    .dataframe tbody tr th {\n",
       "        vertical-align: top;\n",
       "    }\n",
       "\n",
       "    .dataframe thead th {\n",
       "        text-align: right;\n",
       "    }\n",
       "</style>\n",
       "<table border=\"1\" class=\"dataframe\">\n",
       "  <thead>\n",
       "    <tr style=\"text-align: right;\">\n",
       "      <th></th>\n",
       "      <th>UserId</th>\n",
       "      <th>RecipeId</th>\n",
       "      <th>DateSubmitted</th>\n",
       "      <th>DateModified</th>\n",
       "      <th>Rating</th>\n",
       "      <th>RecipeDate</th>\n",
       "    </tr>\n",
       "  </thead>\n",
       "  <tbody>\n",
       "    <tr>\n",
       "      <th>0</th>\n",
       "      <td>2008</td>\n",
       "      <td>992</td>\n",
       "      <td>2000-01-25 21:44:00+00:00</td>\n",
       "      <td>2000-01-25 21:44:00+00:00</td>\n",
       "      <td>5</td>\n",
       "      <td>1999-09-06 04:28:00+00:00</td>\n",
       "    </tr>\n",
       "    <tr>\n",
       "      <th>1</th>\n",
       "      <td>1634</td>\n",
       "      <td>4384</td>\n",
       "      <td>2001-10-17 16:49:59+00:00</td>\n",
       "      <td>2001-10-17 16:49:59+00:00</td>\n",
       "      <td>4</td>\n",
       "      <td>1999-11-29 23:41:00+00:00</td>\n",
       "    </tr>\n",
       "    <tr>\n",
       "      <th>2</th>\n",
       "      <td>2046</td>\n",
       "      <td>4523</td>\n",
       "      <td>2000-02-25 09:00:00+00:00</td>\n",
       "      <td>2000-02-25 09:00:00+00:00</td>\n",
       "      <td>2</td>\n",
       "      <td>1999-11-15 05:00:00+00:00</td>\n",
       "    </tr>\n",
       "    <tr>\n",
       "      <th>3</th>\n",
       "      <td>1773</td>\n",
       "      <td>7435</td>\n",
       "      <td>2000-03-13 21:15:00+00:00</td>\n",
       "      <td>2000-03-13 21:15:00+00:00</td>\n",
       "      <td>5</td>\n",
       "      <td>2000-03-11 15:27:00+00:00</td>\n",
       "    </tr>\n",
       "    <tr>\n",
       "      <th>4</th>\n",
       "      <td>2085</td>\n",
       "      <td>44</td>\n",
       "      <td>2000-03-28 12:51:00+00:00</td>\n",
       "      <td>2000-03-28 12:51:00+00:00</td>\n",
       "      <td>5</td>\n",
       "      <td>1999-09-17 04:47:00+00:00</td>\n",
       "    </tr>\n",
       "    <tr>\n",
       "      <th>...</th>\n",
       "      <td>...</td>\n",
       "      <td>...</td>\n",
       "      <td>...</td>\n",
       "      <td>...</td>\n",
       "      <td>...</td>\n",
       "      <td>...</td>\n",
       "    </tr>\n",
       "    <tr>\n",
       "      <th>1401977</th>\n",
       "      <td>2002080368</td>\n",
       "      <td>139499</td>\n",
       "      <td>2020-12-27 23:57:54+00:00</td>\n",
       "      <td>2020-12-27 23:57:54+00:00</td>\n",
       "      <td>2</td>\n",
       "      <td>2005-09-29 18:30:00+00:00</td>\n",
       "    </tr>\n",
       "    <tr>\n",
       "      <th>1401978</th>\n",
       "      <td>41805321</td>\n",
       "      <td>148484</td>\n",
       "      <td>2020-12-28 00:44:42+00:00</td>\n",
       "      <td>2020-12-28 00:44:42+00:00</td>\n",
       "      <td>5</td>\n",
       "      <td>2005-12-18 14:15:00+00:00</td>\n",
       "    </tr>\n",
       "    <tr>\n",
       "      <th>1401979</th>\n",
       "      <td>2002901848</td>\n",
       "      <td>264191</td>\n",
       "      <td>2020-12-28 01:04:43+00:00</td>\n",
       "      <td>2020-12-28 01:04:43+00:00</td>\n",
       "      <td>5</td>\n",
       "      <td>2007-11-07 16:43:00+00:00</td>\n",
       "    </tr>\n",
       "    <tr>\n",
       "      <th>1401980</th>\n",
       "      <td>2002901938</td>\n",
       "      <td>411791</td>\n",
       "      <td>2020-12-28 03:07:10+00:00</td>\n",
       "      <td>2020-12-28 03:07:10+00:00</td>\n",
       "      <td>5</td>\n",
       "      <td>2010-02-04 16:14:00+00:00</td>\n",
       "    </tr>\n",
       "    <tr>\n",
       "      <th>1401981</th>\n",
       "      <td>2002812127</td>\n",
       "      <td>352686</td>\n",
       "      <td>2020-12-28 03:23:48+00:00</td>\n",
       "      <td>2020-12-28 03:23:48+00:00</td>\n",
       "      <td>5</td>\n",
       "      <td>2009-01-28 16:39:00+00:00</td>\n",
       "    </tr>\n",
       "  </tbody>\n",
       "</table>\n",
       "<p>1401963 rows × 6 columns</p>\n",
       "</div>"
      ],
      "text/plain": [
       "             UserId  RecipeId             DateSubmitted  \\\n",
       "0              2008       992 2000-01-25 21:44:00+00:00   \n",
       "1              1634      4384 2001-10-17 16:49:59+00:00   \n",
       "2              2046      4523 2000-02-25 09:00:00+00:00   \n",
       "3              1773      7435 2000-03-13 21:15:00+00:00   \n",
       "4              2085        44 2000-03-28 12:51:00+00:00   \n",
       "...             ...       ...                       ...   \n",
       "1401977  2002080368    139499 2020-12-27 23:57:54+00:00   \n",
       "1401978    41805321    148484 2020-12-28 00:44:42+00:00   \n",
       "1401979  2002901848    264191 2020-12-28 01:04:43+00:00   \n",
       "1401980  2002901938    411791 2020-12-28 03:07:10+00:00   \n",
       "1401981  2002812127    352686 2020-12-28 03:23:48+00:00   \n",
       "\n",
       "                     DateModified  Rating                RecipeDate  \n",
       "0       2000-01-25 21:44:00+00:00       5 1999-09-06 04:28:00+00:00  \n",
       "1       2001-10-17 16:49:59+00:00       4 1999-11-29 23:41:00+00:00  \n",
       "2       2000-02-25 09:00:00+00:00       2 1999-11-15 05:00:00+00:00  \n",
       "3       2000-03-13 21:15:00+00:00       5 2000-03-11 15:27:00+00:00  \n",
       "4       2000-03-28 12:51:00+00:00       5 1999-09-17 04:47:00+00:00  \n",
       "...                           ...     ...                       ...  \n",
       "1401977 2020-12-27 23:57:54+00:00       2 2005-09-29 18:30:00+00:00  \n",
       "1401978 2020-12-28 00:44:42+00:00       5 2005-12-18 14:15:00+00:00  \n",
       "1401979 2020-12-28 01:04:43+00:00       5 2007-11-07 16:43:00+00:00  \n",
       "1401980 2020-12-28 03:07:10+00:00       5 2010-02-04 16:14:00+00:00  \n",
       "1401981 2020-12-28 03:23:48+00:00       5 2009-01-28 16:39:00+00:00  \n",
       "\n",
       "[1401963 rows x 6 columns]"
      ]
     },
     "execution_count": 14,
     "metadata": {},
     "output_type": "execute_result"
    }
   ],
   "source": [
    "revtimes"
   ]
  },
  {
   "cell_type": "code",
   "execution_count": 27,
   "metadata": {},
   "outputs": [
    {
     "data": {
      "text/plain": [
       "-631"
      ]
     },
     "execution_count": 27,
     "metadata": {},
     "output_type": "execute_result"
    }
   ],
   "source": [
    "pd.Timedelta(datelist[0]-datelist[1]).days"
   ]
  },
  {
   "cell_type": "code",
   "execution_count": 29,
   "metadata": {},
   "outputs": [],
   "source": [
    "revtimes['TimeToReview']=[td.days for td in revtimes.DateSubmitted-revtimes.RecipeDate]"
   ]
  },
  {
   "cell_type": "code",
   "execution_count": 37,
   "metadata": {},
   "outputs": [
    {
     "data": {
      "text/html": [
       "<div>\n",
       "<style scoped>\n",
       "    .dataframe tbody tr th:only-of-type {\n",
       "        vertical-align: middle;\n",
       "    }\n",
       "\n",
       "    .dataframe tbody tr th {\n",
       "        vertical-align: top;\n",
       "    }\n",
       "\n",
       "    .dataframe thead th {\n",
       "        text-align: right;\n",
       "    }\n",
       "</style>\n",
       "<table border=\"1\" class=\"dataframe\">\n",
       "  <thead>\n",
       "    <tr style=\"text-align: right;\">\n",
       "      <th></th>\n",
       "      <th>UserId</th>\n",
       "      <th>RecipeId</th>\n",
       "      <th>DateSubmitted</th>\n",
       "      <th>DateModified</th>\n",
       "      <th>Rating</th>\n",
       "      <th>RecipeDate</th>\n",
       "      <th>TimeToReview</th>\n",
       "    </tr>\n",
       "  </thead>\n",
       "  <tbody>\n",
       "    <tr>\n",
       "      <th>0</th>\n",
       "      <td>2008</td>\n",
       "      <td>992</td>\n",
       "      <td>2000-01-25 21:44:00+00:00</td>\n",
       "      <td>2000-01-25 21:44:00+00:00</td>\n",
       "      <td>5</td>\n",
       "      <td>1999-09-06 04:28:00+00:00</td>\n",
       "      <td>141</td>\n",
       "    </tr>\n",
       "    <tr>\n",
       "      <th>1</th>\n",
       "      <td>1634</td>\n",
       "      <td>4384</td>\n",
       "      <td>2001-10-17 16:49:59+00:00</td>\n",
       "      <td>2001-10-17 16:49:59+00:00</td>\n",
       "      <td>4</td>\n",
       "      <td>1999-11-29 23:41:00+00:00</td>\n",
       "      <td>687</td>\n",
       "    </tr>\n",
       "    <tr>\n",
       "      <th>2</th>\n",
       "      <td>2046</td>\n",
       "      <td>4523</td>\n",
       "      <td>2000-02-25 09:00:00+00:00</td>\n",
       "      <td>2000-02-25 09:00:00+00:00</td>\n",
       "      <td>2</td>\n",
       "      <td>1999-11-15 05:00:00+00:00</td>\n",
       "      <td>102</td>\n",
       "    </tr>\n",
       "    <tr>\n",
       "      <th>3</th>\n",
       "      <td>1773</td>\n",
       "      <td>7435</td>\n",
       "      <td>2000-03-13 21:15:00+00:00</td>\n",
       "      <td>2000-03-13 21:15:00+00:00</td>\n",
       "      <td>5</td>\n",
       "      <td>2000-03-11 15:27:00+00:00</td>\n",
       "      <td>2</td>\n",
       "    </tr>\n",
       "    <tr>\n",
       "      <th>4</th>\n",
       "      <td>2085</td>\n",
       "      <td>44</td>\n",
       "      <td>2000-03-28 12:51:00+00:00</td>\n",
       "      <td>2000-03-28 12:51:00+00:00</td>\n",
       "      <td>5</td>\n",
       "      <td>1999-09-17 04:47:00+00:00</td>\n",
       "      <td>193</td>\n",
       "    </tr>\n",
       "    <tr>\n",
       "      <th>...</th>\n",
       "      <td>...</td>\n",
       "      <td>...</td>\n",
       "      <td>...</td>\n",
       "      <td>...</td>\n",
       "      <td>...</td>\n",
       "      <td>...</td>\n",
       "      <td>...</td>\n",
       "    </tr>\n",
       "    <tr>\n",
       "      <th>1390779</th>\n",
       "      <td>2002601149</td>\n",
       "      <td>465490</td>\n",
       "      <td>2019-12-31 21:11:41+00:00</td>\n",
       "      <td>2019-12-31 21:11:41+00:00</td>\n",
       "      <td>5</td>\n",
       "      <td>2011-10-04 23:15:00+00:00</td>\n",
       "      <td>3009</td>\n",
       "    </tr>\n",
       "    <tr>\n",
       "      <th>1390780</th>\n",
       "      <td>2002601182</td>\n",
       "      <td>208188</td>\n",
       "      <td>2019-12-31 21:41:11+00:00</td>\n",
       "      <td>2019-12-31 21:41:11+00:00</td>\n",
       "      <td>5</td>\n",
       "      <td>2007-01-30 17:14:00+00:00</td>\n",
       "      <td>4718</td>\n",
       "    </tr>\n",
       "    <tr>\n",
       "      <th>1390781</th>\n",
       "      <td>2002601233</td>\n",
       "      <td>72826</td>\n",
       "      <td>2019-12-31 22:15:09+00:00</td>\n",
       "      <td>2019-12-31 22:15:09+00:00</td>\n",
       "      <td>5</td>\n",
       "      <td>2003-10-08 20:00:00+00:00</td>\n",
       "      <td>5928</td>\n",
       "    </tr>\n",
       "    <tr>\n",
       "      <th>1390782</th>\n",
       "      <td>208158</td>\n",
       "      <td>50589</td>\n",
       "      <td>2019-12-31 22:44:49+00:00</td>\n",
       "      <td>2019-12-31 22:44:49+00:00</td>\n",
       "      <td>5</td>\n",
       "      <td>2003-01-10 20:11:00+00:00</td>\n",
       "      <td>6199</td>\n",
       "    </tr>\n",
       "    <tr>\n",
       "      <th>1390783</th>\n",
       "      <td>2002601321</td>\n",
       "      <td>108048</td>\n",
       "      <td>2019-12-31 23:28:35+00:00</td>\n",
       "      <td>2019-12-31 23:28:35+00:00</td>\n",
       "      <td>5</td>\n",
       "      <td>2005-01-11 20:00:00+00:00</td>\n",
       "      <td>5467</td>\n",
       "    </tr>\n",
       "  </tbody>\n",
       "</table>\n",
       "<p>1390671 rows × 7 columns</p>\n",
       "</div>"
      ],
      "text/plain": [
       "             UserId  RecipeId             DateSubmitted  \\\n",
       "0              2008       992 2000-01-25 21:44:00+00:00   \n",
       "1              1634      4384 2001-10-17 16:49:59+00:00   \n",
       "2              2046      4523 2000-02-25 09:00:00+00:00   \n",
       "3              1773      7435 2000-03-13 21:15:00+00:00   \n",
       "4              2085        44 2000-03-28 12:51:00+00:00   \n",
       "...             ...       ...                       ...   \n",
       "1390779  2002601149    465490 2019-12-31 21:11:41+00:00   \n",
       "1390780  2002601182    208188 2019-12-31 21:41:11+00:00   \n",
       "1390781  2002601233     72826 2019-12-31 22:15:09+00:00   \n",
       "1390782      208158     50589 2019-12-31 22:44:49+00:00   \n",
       "1390783  2002601321    108048 2019-12-31 23:28:35+00:00   \n",
       "\n",
       "                     DateModified  Rating                RecipeDate  \\\n",
       "0       2000-01-25 21:44:00+00:00       5 1999-09-06 04:28:00+00:00   \n",
       "1       2001-10-17 16:49:59+00:00       4 1999-11-29 23:41:00+00:00   \n",
       "2       2000-02-25 09:00:00+00:00       2 1999-11-15 05:00:00+00:00   \n",
       "3       2000-03-13 21:15:00+00:00       5 2000-03-11 15:27:00+00:00   \n",
       "4       2000-03-28 12:51:00+00:00       5 1999-09-17 04:47:00+00:00   \n",
       "...                           ...     ...                       ...   \n",
       "1390779 2019-12-31 21:11:41+00:00       5 2011-10-04 23:15:00+00:00   \n",
       "1390780 2019-12-31 21:41:11+00:00       5 2007-01-30 17:14:00+00:00   \n",
       "1390781 2019-12-31 22:15:09+00:00       5 2003-10-08 20:00:00+00:00   \n",
       "1390782 2019-12-31 22:44:49+00:00       5 2003-01-10 20:11:00+00:00   \n",
       "1390783 2019-12-31 23:28:35+00:00       5 2005-01-11 20:00:00+00:00   \n",
       "\n",
       "         TimeToReview  \n",
       "0                 141  \n",
       "1                 687  \n",
       "2                 102  \n",
       "3                   2  \n",
       "4                 193  \n",
       "...               ...  \n",
       "1390779          3009  \n",
       "1390780          4718  \n",
       "1390781          5928  \n",
       "1390782          6199  \n",
       "1390783          5467  \n",
       "\n",
       "[1390671 rows x 7 columns]"
      ]
     },
     "execution_count": 37,
     "metadata": {},
     "output_type": "execute_result"
    }
   ],
   "source": [
    "revtimes.loc[revtimes.DateModified.apply(lambda x : x.year)<2020]"
   ]
  },
  {
   "cell_type": "code",
   "execution_count": 58,
   "metadata": {},
   "outputs": [
    {
     "data": {
      "text/plain": [
       "UserId\n",
       "424680        8842\n",
       "37449         6605\n",
       "383346        5438\n",
       "128473        4693\n",
       "169430        4586\n",
       "              ... \n",
       "1701969          1\n",
       "1585419          1\n",
       "1704446          1\n",
       "1417548          1\n",
       "2002812127       1\n",
       "Name: count, Length: 271906, dtype: int64"
      ]
     },
     "execution_count": 58,
     "metadata": {},
     "output_type": "execute_result"
    }
   ],
   "source": [
    "revtimes['UserId'].value_counts()"
   ]
  },
  {
   "cell_type": "code",
   "execution_count": 57,
   "metadata": {},
   "outputs": [
    {
     "data": {
      "text/plain": [
       "<Axes: >"
      ]
     },
     "execution_count": 57,
     "metadata": {},
     "output_type": "execute_result"
    },
    {
     "data": {
      "image/png": "[encoded data removed]",
      "text/plain": [
       "<Figure size 640x480 with 1 Axes>"
      ]
     },
     "metadata": {},
     "output_type": "display_data"
    }
   ],
   "source": [
    "revtimes.loc[revtimes.RecipeId == 39087].DateSubmitted.hist()"
   ]
  },
  {
   "cell_type": "code",
   "execution_count": null,
   "metadata": {},
   "outputs": [],
   "source": [
    "revtimes.loc[revtimes.RecipeId == 39087].DateSubmitted.hist()"
   ]
  },
  {
   "cell_type": "code",
   "execution_count": 31,
   "metadata": {},
   "outputs": [
    {
     "data": {
      "text/plain": [
       "Date\n",
       "2008-01-02 00:00:00+00:00    909\n",
       "2008-01-28 00:00:00+00:00    863\n",
       "2009-01-02 00:00:00+00:00    852\n",
       "2009-01-11 00:00:00+00:00    833\n",
       "2008-02-04 00:00:00+00:00    827\n",
       "                            ... \n",
       "2001-02-14 00:00:00+00:00      1\n",
       "2000-08-27 00:00:00+00:00      1\n",
       "2000-08-02 00:00:00+00:00      1\n",
       "2000-07-19 00:00:00+00:00      1\n",
       "2000-01-26 00:00:00+00:00      1\n",
       "Name: count, Length: 7127, dtype: int64"
      ]
     },
     "execution_count": 31,
     "metadata": {},
     "output_type": "execute_result"
    }
   ],
   "source": [
    "revtimes['Date'].value_counts()"
   ]
  },
  {
   "cell_type": "code",
   "execution_count": 62,
   "metadata": {},
   "outputs": [],
   "source": [
    "user_list = list(revtimes.UserId.unique())\n",
    "user_counts = revtimes['UserId'].value_counts()"
   ]
  },
  {
   "cell_type": "code",
   "execution_count": 63,
   "metadata": {},
   "outputs": [],
   "source": [
    "user_list.sort(key = lambda x: user_counts[x])"
   ]
  },
  {
   "cell_type": "code",
   "execution_count": 64,
   "metadata": {},
   "outputs": [
    {
     "data": {
      "text/plain": [
       "[305531, 133174, 199848, 58104, 89831, 169430, 128473, 383346, 37449, 424680]"
      ]
     },
     "execution_count": 64,
     "metadata": {},
     "output_type": "execute_result"
    }
   ],
   "source": [
    "user_list[-10:]"
   ]
  },
  {
   "cell_type": "code",
   "execution_count": 78,
   "metadata": {},
   "outputs": [
    {
     "data": {
      "text/plain": [
       "<Axes: >"
      ]
     },
     "execution_count": 78,
     "metadata": {},
     "output_type": "execute_result"
    },
    {
     "data": {
      "image/png": "[encoded data removed]",
      "text/plain": [
       "<Figure size 640x480 with 1 Axes>"
      ]
     },
     "metadata": {},
     "output_type": "display_data"
    }
   ],
   "source": [
    "revtimes.loc[revtimes.UserId == user_list[-60]].TimeToReview.hist()"
   ]
  },
  {
   "cell_type": "code",
   "execution_count": 79,
   "metadata": {},
   "outputs": [
    {
     "data": {
      "text/plain": [
       "<Axes: >"
      ]
     },
     "execution_count": 79,
     "metadata": {},
     "output_type": "execute_result"
    },
    {
     "data": {
      "image/png": "[encoded data removed]",
      "text/plain": [
       "<Figure size 640x480 with 1 Axes>"
      ]
     },
     "metadata": {},
     "output_type": "display_data"
    }
   ],
   "source": [
    "revtimes.DateModified.hist()"
   ]
  },
  {
   "cell_type": "code",
   "execution_count": 80,
   "metadata": {},
   "outputs": [
    {
     "data": {
      "text/plain": [
       "<Axes: >"
      ]
     },
     "execution_count": 80,
     "metadata": {},
     "output_type": "execute_result"
    },
    {
     "data": {
      "image/png": "[encoded data removed]",
      "text/plain": [
       "<Figure size 640x480 with 1 Axes>"
      ]
     },
     "metadata": {},
     "output_type": "display_data"
    }
   ],
   "source": [
    "revtimes.RecipeDate.hist()"
   ]
  },
  {
   "cell_type": "code",
   "execution_count": null,
   "metadata": {},
   "outputs": [],
   "source": []
  }
 ],
 "metadata": {
  "kernelspec": {
   "display_name": "Python 3",
   "language": "python",
   "name": "python3"
  },
  "language_info": {
   "codemirror_mode": {
    "name": "ipython",
    "version": 3
   },
   "file_extension": ".py",
   "mimetype": "text/x-python",
   "name": "python",
   "nbconvert_exporter": "python",
   "pygments_lexer": "ipython3",
   "version": "3.11.3"
  }
 },
 "nbformat": 4,
 "nbformat_minor": 2
}
