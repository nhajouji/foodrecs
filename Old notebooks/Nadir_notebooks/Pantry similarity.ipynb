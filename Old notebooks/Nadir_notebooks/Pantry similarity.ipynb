{
 "cells": [
  {
   "cell_type": "markdown",
   "id": "bf5a384e-4c81-435d-acc8-338ce215a306",
   "metadata": {},
   "source": [
    "Each user has reviewed some number of recipes, and those recipes each require certain ingredients. A user's \"pantry\" is the set of ingredients that have appeared in some recipe reviewed by that author. \n",
    "\n",
    "The goal of this notebook is to determine whether a user's pantry can be used to predict their ratings."
   ]
  },
  {
   "cell_type": "code",
   "execution_count": 1,
   "id": "92d3508a-2829-49fc-94d2-54cd1fd04947",
   "metadata": {},
   "outputs": [],
   "source": [
    "import pandas as pd\n",
    "import numpy as np\n",
    "import matplotlib.pyplot as plt"
   ]
  },
  {
   "cell_type": "code",
   "execution_count": 2,
   "id": "234825a5-95e5-451f-9e9e-bcef53093b0d",
   "metadata": {},
   "outputs": [],
   "source": [
    "revdf = pd.read_pickle('data/reviewsred.pk')\n",
    "recdf = pd.read_pickle('data/rec_ingredients.pk')"
   ]
  },
  {
   "cell_type": "markdown",
   "id": "958b7f36-5568-48dc-9e95-5fa2d6c1f26c",
   "metadata": {},
   "source": [
    "We've imported two dataframes: 'revdf', which contains ratings, and 'recdf', which contains recipes and their ingredients.\n",
    "\n",
    "Our goal is to understand the authors of the reviews, so we're going to collect data from the dataframes and group it by author:"
   ]
  },
  {
   "cell_type": "code",
   "execution_count": 3,
   "id": "85c2a040-7a75-450e-b3fd-85cf97621d86",
   "metadata": {},
   "outputs": [],
   "source": [
    "# We start by obtaining the list of reviewers from the dataframe. \n",
    "# It will be important that we have an ordered version of that list with no repeats.\n",
    "author_ids = list(set(revdf['AuthorId'].values))\n",
    "# We group data by author. We are interested in two types of data: \n",
    "#author_data[author]['Ratings'] returns a dictionary with ratings data,\n",
    "#autor_data[author]['Ingredients'] returns a list of the ingredients used by that author. \n",
    "# Note that the list contains repetitions: the number of occurences of an ingredient is equal to the number of times the reviewer\n",
    "# has used that ingredient. \n",
    "author_data = {author_id:{'Ratings':{},'Ingredients':[]} for author_id in author_ids}\n",
    "for review_index in revdf.index:\n",
    "    author_id = revdf['AuthorId'][review_index]\n",
    "    recipe_id = revdf['RecipeId'][review_index]\n",
    "    author_data[author_id]['Ratings'][recipe_id]=revdf['Rating'][review_index]\n",
    "    author_data[author_id]['Ingredients']+=(recdf['RecipeIngredientParts'][recipe_id])\n",
    "\n",
    "# Once all of the data has been collected, we can process it further.\n",
    "\n",
    "# We're going to renormalize our ratings so that the mean rating for each author is 0 and the standard deviation is 1.\n",
    "# We also record the mean, the standard deviation and the number of reviews for each author.\n",
    "for author_id in author_data:\n",
    "    ratings = list(author_data[author_id]['Ratings'].values())\n",
    "    avg = np.mean(ratings)\n",
    "    std = np.std(ratings)\n",
    "    author_data[author_id]['No_ratings'] = len(ratings)\n",
    "    author_data[author_id]['Average_rating'] = avg\n",
    "    author_data[author_id]['Std_rating'] = std\n",
    "    author_data[author_id]['Normalized_ratings'] = {recipe_id:(author_data[author_id]['Ratings'][recipe_id]-avg)/std \n",
    "                                                    for recipe_id in author_data[author_id]['Ratings']}\n",
    "\n",
    "# We construct dictionaries that whose keys are the ingredients in the user's pantry,\n",
    "# and the values record the number of times each ingredient is used.\n",
    "# This will be more useful than the list we currently have.\n",
    "for author_id in author_data:\n",
    "    ingredients_a = author_data[author_id]['Ingredients']\n",
    "    ingredient_counts = {ingredient:0 for ingredient in ingredients_a}\n",
    "    for ingredient in ingredients_a:\n",
    "        ingredient_counts[ingredient]+=1\n",
    "    author_data[author_id]['Ingredient_counts']=ingredient_counts"
   ]
  },
  {
   "cell_type": "markdown",
   "id": "a3420b1b-047e-407e-9264-b324f17330f9",
   "metadata": {},
   "source": [
    "We have over 40,000 unique reviewers, and we want to do some exploratory analysis involving pairs of reviewers.\n",
    "There are far too many pairs of reviewers to choose from, so we're going to restrict attention to a small sample of reviewers.\n",
    "\n",
    "To ensure we have a subset with lots of reviews, we're going to simply pick the authors with at least $n$ reviews (explicitly $n = 100$,\n",
    "which gives us 1724 authors)."
   ]
  },
  {
   "cell_type": "code",
   "execution_count": 4,
   "id": "8c7ed34b-5578-4373-b379-21b68b55584a",
   "metadata": {},
   "outputs": [],
   "source": [
    "auth100 = [a for a in author_ids if author_data[a]['No_ratings']>99]"
   ]
  },
  {
   "cell_type": "markdown",
   "id": "523aedb5-9811-46f4-9197-8b85140f6390",
   "metadata": {},
   "source": [
    "Now, for each pair of reviewers, we compute the set of recipes reviewed by both reviewers. If that intersection is nonempty, we record the pair and the intersection in a dictionary for subsequent use.\n",
    "\n",
    "The keys of this dictionary are the pairs (author1, author2) consisting of pairs of authors that have reviewed at least one common recipe.\n",
    "The value associated to that pair is the nonempty set of recipeids of recipes reviewed by both."
   ]
  },
  {
   "cell_type": "code",
   "execution_count": 5,
   "id": "08941893-37d1-4b19-853c-1887cef77e7d",
   "metadata": {},
   "outputs": [],
   "source": [
    "auth100pairs = {}\n",
    "for i in range(len(auth100)-1):\n",
    "    author_id1 = auth100[i]\n",
    "    recipe_ids1 = set(author_data[author_id1]['Normalized_ratings'].keys())\n",
    "    for j in range(i+1,len(auth100)):\n",
    "        author_id2 = auth100[j]\n",
    "        recipe_ids2 = set(author_data[author_id2]['Normalized_ratings'].keys())\n",
    "        if len(recipe_ids1.intersection(recipe_ids2))>0:\n",
    "            auth100pairs[(author_id1,author_id2)] = list(recipe_ids1.intersection(recipe_ids2))"
   ]
  },
  {
   "cell_type": "markdown",
   "id": "a018cc30-7d31-49c2-bd99-705663b76674",
   "metadata": {},
   "source": [
    "Given two authors, we want to quantify:\n",
    "* How similar the authors' pantries are.\n",
    "* How similar the authors reviews are.\n",
    "\n",
    "I've written down functions that attempt to do that:\n",
    "* The pantry similarity is going to be a number between 0, 1: similarity is 0 if the pantries are disjoint and similarity is 1 if they're equal. The closer to 1 the score is, the more similar the pantries.\n",
    "* To compare ratings, we're only going to look at the set of recipes reviewed by both authors. Each author's reviews of those recipes can be encoded as a vector; we're going to compute the cosine similarity of those vectors to obtain a number between -1 and 1."
   ]
  },
  {
   "cell_type": "code",
   "execution_count": 11,
   "id": "a80480f1-003c-4ebe-a2ab-2c77ba304163",
   "metadata": {},
   "outputs": [],
   "source": [
    "def pantry_similarity(pair):\n",
    "    a0 = pair[0]\n",
    "    a1 = pair[1]\n",
    "    rijs = auth100pairs[pair]\n",
    "    pantry0 = set(author_data[a0]['Ingredients'])\n",
    "    pantry1 = set(author_data[a1]['Ingredients'])\n",
    "    return len(pantry0.intersection(pantry1))/len(pantry0.union(pantry1))\n",
    "\n",
    "def rating_similarity(pair):\n",
    "    a0 = pair[0]\n",
    "    a1 = pair[1]\n",
    "    rijs = auth100pairs[pair]\n",
    "    if len(rijs)==0:\n",
    "        return 0\n",
    "    ratings0 = author_data[a0]['Normalized_ratings']\n",
    "    ratings1 = author_data[a1]['Normalized_ratings']\n",
    "    dotprod = 0\n",
    "    len0 = 0\n",
    "    len1 = 0\n",
    "    for ri in rijs:\n",
    "        r0 = ratings0[ri]\n",
    "        r1 = ratings1[ri]\n",
    "        dotprod+=r0*r1\n",
    "        len0+=r0*r0\n",
    "        len1+= r1*r1\n",
    "    sim = dotprod/(np.sqrt(len0*len1))\n",
    "    return sim"
   ]
  },
  {
   "cell_type": "code",
   "execution_count": 15,
   "id": "98143fe5-6d76-4982-b5f1-1dc8fd3db6d0",
   "metadata": {},
   "outputs": [
    {
     "data": {
      "text/plain": [
       "1064641"
      ]
     },
     "execution_count": 15,
     "metadata": {},
     "output_type": "execute_result"
    }
   ],
   "source": [
    "len(auth100pairs)"
   ]
  },
  {
   "cell_type": "code",
   "execution_count": 13,
   "id": "c8b970bf-e94b-49fb-b3e8-01249867892d",
   "metadata": {},
   "outputs": [],
   "source": [
    "pairlist100 = [pair for pair in auth100pairs if len(auth100pairs[pair])>100]\n",
    "pairlist50 = [pair for pair in auth100pairs if len(auth100pairs[pair])>50]\n",
    "pairlist10 = [pair for pair in auth100pairs if len(auth100pairs[pair])>10]"
   ]
  },
  {
   "cell_type": "code",
   "execution_count": 18,
   "id": "0c150c36-3e54-4fd9-a7ba-49579d53156c",
   "metadata": {},
   "outputs": [],
   "source": [
    "pantry_rating_m10 = np.array([[pantry_similarity(pair),rating_similarity(pair)] for pair in pairlist10])\n",
    "pantry_rating_m100 = np.array([[pantry_similarity(pair),rating_similarity(pair)] for pair in pairlist100])"
   ]
  },
  {
   "cell_type": "code",
   "execution_count": null,
   "id": "6e97f833-03fb-4149-8141-5bcf8c8183b7",
   "metadata": {},
   "outputs": [],
   "source": []
  },
  {
   "cell_type": "code",
   "execution_count": 21,
   "id": "fe820bd7-5b30-47c8-ae7b-f59e6ae811d2",
   "metadata": {},
   "outputs": [
    {
     "data": {
      "image/png": "[encoded data removed]",
      "text/plain": [
       "<Figure size 640x480 with 1 Axes>"
      ]
     },
     "metadata": {},
     "output_type": "display_data"
    }
   ],
   "source": [
    "plt.scatter(pantry_rating_m100[:,0],pantry_rating_m100[:,1])\n",
    "plt.show()"
   ]
  },
  {
   "cell_type": "markdown",
   "id": "86e53d83-23cd-48e9-a994-a2eed0107624",
   "metadata": {},
   "source": [
    "## Observations\n",
    "* If we restrict to pairs authors with lots of recipes in common, and the authors have reviewed those recipes similarly, then they probably have similar pantries.\n",
    "* The converse is false, however: just because two authors have lots of recipes in common and they have a similar pantry, the ratings vectors could be orthogonal."
   ]
  },
  {
   "cell_type": "markdown",
   "id": "c96cdefa-abcc-4af6-94fd-296ba00174b3",
   "metadata": {},
   "source": [
    "## Next steps\n",
    "* Experiment with other pantry similarity scores\n",
    "* Experiment with other notions of similarity between users (e.g. nutrition, recipe difficulty)"
   ]
  },
  {
   "cell_type": "code",
   "execution_count": null,
   "id": "0a572f40-b3e3-4e8c-b68c-3f3027f25b83",
   "metadata": {},
   "outputs": [],
   "source": []
  }
 ],
 "metadata": {
  "kernelspec": {
   "display_name": "Python 3 (ipykernel)",
   "language": "python",
   "name": "python3"
  },
  "language_info": {
   "codemirror_mode": {
    "name": "ipython",
    "version": 3
   },
   "file_extension": ".py",
   "mimetype": "text/x-python",
   "name": "python",
   "nbconvert_exporter": "python",
   "pygments_lexer": "ipython3",
   "version": "3.11.6"
  }
 },
 "nbformat": 4,
 "nbformat_minor": 5
}
