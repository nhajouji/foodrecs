{
 "cells": [
  {
   "cell_type": "code",
   "execution_count": 203,
   "metadata": {},
   "outputs": [],
   "source": [
    "import numpy as np\n",
    "import pandas as pd\n",
    "import matplotlib.pyplot as plt\n",
    "import seaborn as sns"
   ]
  },
  {
   "cell_type": "code",
   "execution_count": 204,
   "metadata": {},
   "outputs": [],
   "source": [
    "def get_dictionaries(ratingsdf,usercol,itemcol,ratingcol):\n",
    "    users = list(set(ratingsdf[usercol].values))\n",
    "    items = list(set(ratingsdf[itemcol].values))\n",
    "    ratings_by_user = {user_id:{} for user_id in users}\n",
    "    users_by_item = {item_id:[] for item_id in items}\n",
    "    for review_index in ratingsdf.index:\n",
    "        user_id = ratingsdf[usercol][review_index]\n",
    "        item_id = ratingsdf[itemcol][review_index]\n",
    "        rating = ratingsdf[ratingcol][review_index]\n",
    "        ratings_by_user[user_id][item_id] = rating\n",
    "        users_by_item[item_id].append(user_id)\n",
    "    return ratings_by_user,users_by_item\n",
    "\n",
    "def flatten_list(l:list)->list:\n",
    "    newl = []\n",
    "    for l0 in l:\n",
    "        newl+=l0\n",
    "    return newl\n",
    "\n",
    "def tally(l:list)->dict:\n",
    "    counts = {item:0 for item in set(l)}\n",
    "    for item in l:\n",
    "        counts[item]+=1\n",
    "    return counts\n"
   ]
  },
  {
   "cell_type": "code",
   "execution_count": 205,
   "metadata": {},
   "outputs": [],
   "source": [
    "reviews = pd.read_pickle('../data/revdense.pk')\n",
    "keywords =  pd.read_pickle('../data/keywords.pk')\n",
    "recipe_ids = list(set(keywords.index).intersection(set(reviews.RecipeId.values)))\n",
    "keywords = keywords[keywords.index.isin(recipe_ids)]\n",
    "reviews = reviews[reviews['RecipeId'].isin(recipe_ids)]\n",
    "\n"
   ]
  },
  {
   "cell_type": "code",
   "execution_count": 206,
   "metadata": {},
   "outputs": [],
   "source": [
    "keywords_w_rep = []\n",
    "for kws in keywords.Keywords:\n",
    "    keywords_w_rep+=list(kws)\n",
    "\n",
    "keyword_counts = {word:0 for word in set(keywords_w_rep)}\n",
    "for word in keywords_w_rep:\n",
    "    keyword_counts[word]+=1\n",
    "\n",
    "keyword_list_master = list(keyword_counts.keys())\n",
    "keyword_index = {keyword_list_master[i]:i for \n",
    "                 i in range(len(keyword_list_master))}\n",
    "\n",
    "def kwlist_to_vec(keywordlist:list)->list:\n",
    "    vec = np.zeros(len(keyword_list_master))\n",
    "    for w in keywordlist:\n",
    "        vec[keyword_index[w]]+=1\n",
    "    return vec"
   ]
  },
  {
   "cell_type": "code",
   "execution_count": 207,
   "metadata": {},
   "outputs": [],
   "source": [
    "from sklearn.model_selection import train_test_split"
   ]
  },
  {
   "cell_type": "code",
   "execution_count": 208,
   "metadata": {},
   "outputs": [],
   "source": [
    "rev_train, rev_test = train_test_split(rev_df,\n",
    "                                       test_size=0.2,\n",
    "                                       random_state=193,\n",
    "                                       stratify=rev_df['UserId'])"
   ]
  },
  {
   "cell_type": "code",
   "execution_count": 209,
   "metadata": {},
   "outputs": [],
   "source": [
    "user_ratings,items_by_user = get_dictionaries(rev_train,\n",
    "                                              'UserId',\n",
    "                                              'RecipeId',\n",
    "                                              'Rating')"
   ]
  },
  {
   "cell_type": "code",
   "execution_count": 210,
   "metadata": {},
   "outputs": [],
   "source": [
    "def related_users(user:int)->list:\n",
    "    recs = list(user_ratings[user].keys())\n",
    "    return tally(flatten_list([items_by_user[recipe] for recipe in recs]))\n",
    "\n",
    "def user_neighborhood(user):\n",
    "    return rev_train[rev_train['UserId'].isin(related_users(user))]\n",
    "\n",
    "def user_ranking_v0(user):\n",
    "    ranking_user = list(user_neighborhood(user)['RecipeId'].value_counts().index)\n",
    "    return {ranking_user[i]:i for i in range(len(ranking_user))}\n"
   ]
  },
  {
   "cell_type": "code",
   "execution_count": 211,
   "metadata": {},
   "outputs": [
    {
     "ename": "KeyboardInterrupt",
     "evalue": "",
     "output_type": "error",
     "traceback": [
      "\u001b[0;31m---------------------------------------------------------------------------\u001b[0m",
      "\u001b[0;31mKeyboardInterrupt\u001b[0m                         Traceback (most recent call last)",
      "Cell \u001b[0;32mIn[211], line 1\u001b[0m\n\u001b[0;32m----> 1\u001b[0m user_rankings \u001b[38;5;241m=\u001b[39m \u001b[43m{\u001b[49m\u001b[43muser\u001b[49m\u001b[43m:\u001b[49m\u001b[43muser_ranking_v0\u001b[49m\u001b[43m(\u001b[49m\u001b[43muser\u001b[49m\u001b[43m)\u001b[49m\u001b[43m \u001b[49m\u001b[38;5;28;43;01mfor\u001b[39;49;00m\u001b[43m \u001b[49m\u001b[43muser\u001b[49m\u001b[43m \u001b[49m\u001b[38;5;129;43;01min\u001b[39;49;00m\u001b[43m \u001b[49m\u001b[43muser_list\u001b[49m\u001b[43m}\u001b[49m\n\u001b[1;32m      2\u001b[0m baseline_ranking \u001b[38;5;241m=\u001b[39m rev_train_baseline_ranking\n\u001b[1;32m      4\u001b[0m train_mean_rankings_v0 \u001b[38;5;241m=\u001b[39m {}\n",
      "Cell \u001b[0;32mIn[211], line 1\u001b[0m, in \u001b[0;36m<dictcomp>\u001b[0;34m(.0)\u001b[0m\n\u001b[0;32m----> 1\u001b[0m user_rankings \u001b[38;5;241m=\u001b[39m {user:\u001b[43muser_ranking_v0\u001b[49m\u001b[43m(\u001b[49m\u001b[43muser\u001b[49m\u001b[43m)\u001b[49m \u001b[38;5;28;01mfor\u001b[39;00m user \u001b[38;5;129;01min\u001b[39;00m user_list}\n\u001b[1;32m      2\u001b[0m baseline_ranking \u001b[38;5;241m=\u001b[39m rev_train_baseline_ranking\n\u001b[1;32m      4\u001b[0m train_mean_rankings_v0 \u001b[38;5;241m=\u001b[39m {}\n",
      "Cell \u001b[0;32mIn[210], line 9\u001b[0m, in \u001b[0;36muser_ranking_v0\u001b[0;34m(user)\u001b[0m\n\u001b[1;32m      8\u001b[0m \u001b[38;5;28;01mdef\u001b[39;00m \u001b[38;5;21muser_ranking_v0\u001b[39m(user):\n\u001b[0;32m----> 9\u001b[0m     ranking_user \u001b[38;5;241m=\u001b[39m \u001b[38;5;28mlist\u001b[39m(\u001b[43muser_neighborhood\u001b[49m\u001b[43m(\u001b[49m\u001b[43muser\u001b[49m\u001b[43m)\u001b[49m[\u001b[38;5;124m'\u001b[39m\u001b[38;5;124mRecipeId\u001b[39m\u001b[38;5;124m'\u001b[39m]\u001b[38;5;241m.\u001b[39mvalue_counts()\u001b[38;5;241m.\u001b[39mindex)\n\u001b[1;32m     10\u001b[0m     \u001b[38;5;28;01mreturn\u001b[39;00m {ranking_user[i]:i \u001b[38;5;28;01mfor\u001b[39;00m i \u001b[38;5;129;01min\u001b[39;00m \u001b[38;5;28mrange\u001b[39m(\u001b[38;5;28mlen\u001b[39m(ranking_user))}\n",
      "Cell \u001b[0;32mIn[210], line 6\u001b[0m, in \u001b[0;36muser_neighborhood\u001b[0;34m(user)\u001b[0m\n\u001b[1;32m      5\u001b[0m \u001b[38;5;28;01mdef\u001b[39;00m \u001b[38;5;21muser_neighborhood\u001b[39m(user):\n\u001b[0;32m----> 6\u001b[0m     \u001b[38;5;28;01mreturn\u001b[39;00m \u001b[43mrev_train\u001b[49m\u001b[43m[\u001b[49m\u001b[43mrev_train\u001b[49m\u001b[43m[\u001b[49m\u001b[38;5;124;43m'\u001b[39;49m\u001b[38;5;124;43mUserId\u001b[39;49m\u001b[38;5;124;43m'\u001b[39;49m\u001b[43m]\u001b[49m\u001b[38;5;241;43m.\u001b[39;49m\u001b[43misin\u001b[49m\u001b[43m(\u001b[49m\u001b[43mrelated_users\u001b[49m\u001b[43m(\u001b[49m\u001b[43muser\u001b[49m\u001b[43m)\u001b[49m\u001b[43m)\u001b[49m\u001b[43m]\u001b[49m\n",
      "File \u001b[0;32m/Library/Frameworks/Python.framework/Versions/3.11/lib/python3.11/site-packages/pandas/core/frame.py:3752\u001b[0m, in \u001b[0;36mDataFrame.__getitem__\u001b[0;34m(self, key)\u001b[0m\n\u001b[1;32m   3750\u001b[0m \u001b[38;5;66;03m# Do we have a (boolean) 1d indexer?\u001b[39;00m\n\u001b[1;32m   3751\u001b[0m \u001b[38;5;28;01mif\u001b[39;00m com\u001b[38;5;241m.\u001b[39mis_bool_indexer(key):\n\u001b[0;32m-> 3752\u001b[0m     \u001b[38;5;28;01mreturn\u001b[39;00m \u001b[38;5;28;43mself\u001b[39;49m\u001b[38;5;241;43m.\u001b[39;49m\u001b[43m_getitem_bool_array\u001b[49m\u001b[43m(\u001b[49m\u001b[43mkey\u001b[49m\u001b[43m)\u001b[49m\n\u001b[1;32m   3754\u001b[0m \u001b[38;5;66;03m# We are left with two options: a single key, and a collection of keys,\u001b[39;00m\n\u001b[1;32m   3755\u001b[0m \u001b[38;5;66;03m# We interpret tuples as collections only for non-MultiIndex\u001b[39;00m\n\u001b[1;32m   3756\u001b[0m is_single_key \u001b[38;5;241m=\u001b[39m \u001b[38;5;28misinstance\u001b[39m(key, \u001b[38;5;28mtuple\u001b[39m) \u001b[38;5;129;01mor\u001b[39;00m \u001b[38;5;129;01mnot\u001b[39;00m is_list_like(key)\n",
      "File \u001b[0;32m/Library/Frameworks/Python.framework/Versions/3.11/lib/python3.11/site-packages/pandas/core/frame.py:3811\u001b[0m, in \u001b[0;36mDataFrame._getitem_bool_array\u001b[0;34m(self, key)\u001b[0m\n\u001b[1;32m   3808\u001b[0m     \u001b[38;5;28;01mreturn\u001b[39;00m \u001b[38;5;28mself\u001b[39m\u001b[38;5;241m.\u001b[39mcopy(deep\u001b[38;5;241m=\u001b[39m\u001b[38;5;28;01mNone\u001b[39;00m)\n\u001b[1;32m   3810\u001b[0m indexer \u001b[38;5;241m=\u001b[39m key\u001b[38;5;241m.\u001b[39mnonzero()[\u001b[38;5;241m0\u001b[39m]\n\u001b[0;32m-> 3811\u001b[0m \u001b[38;5;28;01mreturn\u001b[39;00m \u001b[38;5;28;43mself\u001b[39;49m\u001b[38;5;241;43m.\u001b[39;49m\u001b[43m_take_with_is_copy\u001b[49m\u001b[43m(\u001b[49m\u001b[43mindexer\u001b[49m\u001b[43m,\u001b[49m\u001b[43m \u001b[49m\u001b[43maxis\u001b[49m\u001b[38;5;241;43m=\u001b[39;49m\u001b[38;5;241;43m0\u001b[39;49m\u001b[43m)\u001b[49m\n",
      "File \u001b[0;32m/Library/Frameworks/Python.framework/Versions/3.11/lib/python3.11/site-packages/pandas/core/generic.py:3948\u001b[0m, in \u001b[0;36mNDFrame._take_with_is_copy\u001b[0;34m(self, indices, axis)\u001b[0m\n\u001b[1;32m   3940\u001b[0m \u001b[38;5;28;01mdef\u001b[39;00m \u001b[38;5;21m_take_with_is_copy\u001b[39m(\u001b[38;5;28mself\u001b[39m: NDFrameT, indices, axis: Axis \u001b[38;5;241m=\u001b[39m \u001b[38;5;241m0\u001b[39m) \u001b[38;5;241m-\u001b[39m\u001b[38;5;241m>\u001b[39m NDFrameT:\n\u001b[1;32m   3941\u001b[0m \u001b[38;5;250m    \u001b[39m\u001b[38;5;124;03m\"\"\"\u001b[39;00m\n\u001b[1;32m   3942\u001b[0m \u001b[38;5;124;03m    Internal version of the `take` method that sets the `_is_copy`\u001b[39;00m\n\u001b[1;32m   3943\u001b[0m \u001b[38;5;124;03m    attribute to keep track of the parent dataframe (using in indexing\u001b[39;00m\n\u001b[0;32m   (...)\u001b[0m\n\u001b[1;32m   3946\u001b[0m \u001b[38;5;124;03m    See the docstring of `take` for full explanation of the parameters.\u001b[39;00m\n\u001b[1;32m   3947\u001b[0m \u001b[38;5;124;03m    \"\"\"\u001b[39;00m\n\u001b[0;32m-> 3948\u001b[0m     result \u001b[38;5;241m=\u001b[39m \u001b[38;5;28;43mself\u001b[39;49m\u001b[38;5;241;43m.\u001b[39;49m\u001b[43m_take\u001b[49m\u001b[43m(\u001b[49m\u001b[43mindices\u001b[49m\u001b[38;5;241;43m=\u001b[39;49m\u001b[43mindices\u001b[49m\u001b[43m,\u001b[49m\u001b[43m \u001b[49m\u001b[43maxis\u001b[49m\u001b[38;5;241;43m=\u001b[39;49m\u001b[43maxis\u001b[49m\u001b[43m)\u001b[49m\n\u001b[1;32m   3949\u001b[0m     \u001b[38;5;66;03m# Maybe set copy if we didn't actually change the index.\u001b[39;00m\n\u001b[1;32m   3950\u001b[0m     \u001b[38;5;28;01mif\u001b[39;00m \u001b[38;5;129;01mnot\u001b[39;00m result\u001b[38;5;241m.\u001b[39m_get_axis(axis)\u001b[38;5;241m.\u001b[39mequals(\u001b[38;5;28mself\u001b[39m\u001b[38;5;241m.\u001b[39m_get_axis(axis)):\n",
      "File \u001b[0;32m/Library/Frameworks/Python.framework/Versions/3.11/lib/python3.11/site-packages/pandas/core/generic.py:3932\u001b[0m, in \u001b[0;36mNDFrame._take\u001b[0;34m(self, indices, axis, convert_indices)\u001b[0m\n\u001b[1;32m   3924\u001b[0m     \u001b[38;5;28;01mif\u001b[39;00m (\n\u001b[1;32m   3925\u001b[0m         axis \u001b[38;5;241m==\u001b[39m \u001b[38;5;241m0\u001b[39m\n\u001b[1;32m   3926\u001b[0m         \u001b[38;5;129;01mand\u001b[39;00m indices\u001b[38;5;241m.\u001b[39mndim \u001b[38;5;241m==\u001b[39m \u001b[38;5;241m1\u001b[39m\n\u001b[1;32m   3927\u001b[0m         \u001b[38;5;129;01mand\u001b[39;00m using_copy_on_write()\n\u001b[1;32m   3928\u001b[0m         \u001b[38;5;129;01mand\u001b[39;00m is_range_indexer(indices, \u001b[38;5;28mlen\u001b[39m(\u001b[38;5;28mself\u001b[39m))\n\u001b[1;32m   3929\u001b[0m     ):\n\u001b[1;32m   3930\u001b[0m         \u001b[38;5;28;01mreturn\u001b[39;00m \u001b[38;5;28mself\u001b[39m\u001b[38;5;241m.\u001b[39mcopy(deep\u001b[38;5;241m=\u001b[39m\u001b[38;5;28;01mNone\u001b[39;00m)\n\u001b[0;32m-> 3932\u001b[0m new_data \u001b[38;5;241m=\u001b[39m \u001b[38;5;28;43mself\u001b[39;49m\u001b[38;5;241;43m.\u001b[39;49m\u001b[43m_mgr\u001b[49m\u001b[38;5;241;43m.\u001b[39;49m\u001b[43mtake\u001b[49m\u001b[43m(\u001b[49m\n\u001b[1;32m   3933\u001b[0m \u001b[43m    \u001b[49m\u001b[43mindices\u001b[49m\u001b[43m,\u001b[49m\n\u001b[1;32m   3934\u001b[0m \u001b[43m    \u001b[49m\u001b[43maxis\u001b[49m\u001b[38;5;241;43m=\u001b[39;49m\u001b[38;5;28;43mself\u001b[39;49m\u001b[38;5;241;43m.\u001b[39;49m\u001b[43m_get_block_manager_axis\u001b[49m\u001b[43m(\u001b[49m\u001b[43maxis\u001b[49m\u001b[43m)\u001b[49m\u001b[43m,\u001b[49m\n\u001b[1;32m   3935\u001b[0m \u001b[43m    \u001b[49m\u001b[43mverify\u001b[49m\u001b[38;5;241;43m=\u001b[39;49m\u001b[38;5;28;43;01mTrue\u001b[39;49;00m\u001b[43m,\u001b[49m\n\u001b[1;32m   3936\u001b[0m \u001b[43m    \u001b[49m\u001b[43mconvert_indices\u001b[49m\u001b[38;5;241;43m=\u001b[39;49m\u001b[43mconvert_indices\u001b[49m\u001b[43m,\u001b[49m\n\u001b[1;32m   3937\u001b[0m \u001b[43m\u001b[49m\u001b[43m)\u001b[49m\n\u001b[1;32m   3938\u001b[0m \u001b[38;5;28;01mreturn\u001b[39;00m \u001b[38;5;28mself\u001b[39m\u001b[38;5;241m.\u001b[39m_constructor(new_data)\u001b[38;5;241m.\u001b[39m__finalize__(\u001b[38;5;28mself\u001b[39m, method\u001b[38;5;241m=\u001b[39m\u001b[38;5;124m\"\u001b[39m\u001b[38;5;124mtake\u001b[39m\u001b[38;5;124m\"\u001b[39m)\n",
      "File \u001b[0;32m/Library/Frameworks/Python.framework/Versions/3.11/lib/python3.11/site-packages/pandas/core/internals/managers.py:963\u001b[0m, in \u001b[0;36mBaseBlockManager.take\u001b[0;34m(self, indexer, axis, verify, convert_indices)\u001b[0m\n\u001b[1;32m    960\u001b[0m     indexer \u001b[38;5;241m=\u001b[39m maybe_convert_indices(indexer, n, verify\u001b[38;5;241m=\u001b[39mverify)\n\u001b[1;32m    962\u001b[0m new_labels \u001b[38;5;241m=\u001b[39m \u001b[38;5;28mself\u001b[39m\u001b[38;5;241m.\u001b[39maxes[axis]\u001b[38;5;241m.\u001b[39mtake(indexer)\n\u001b[0;32m--> 963\u001b[0m \u001b[38;5;28;01mreturn\u001b[39;00m \u001b[38;5;28;43mself\u001b[39;49m\u001b[38;5;241;43m.\u001b[39;49m\u001b[43mreindex_indexer\u001b[49m\u001b[43m(\u001b[49m\n\u001b[1;32m    964\u001b[0m \u001b[43m    \u001b[49m\u001b[43mnew_axis\u001b[49m\u001b[38;5;241;43m=\u001b[39;49m\u001b[43mnew_labels\u001b[49m\u001b[43m,\u001b[49m\n\u001b[1;32m    965\u001b[0m \u001b[43m    \u001b[49m\u001b[43mindexer\u001b[49m\u001b[38;5;241;43m=\u001b[39;49m\u001b[43mindexer\u001b[49m\u001b[43m,\u001b[49m\n\u001b[1;32m    966\u001b[0m \u001b[43m    \u001b[49m\u001b[43maxis\u001b[49m\u001b[38;5;241;43m=\u001b[39;49m\u001b[43maxis\u001b[49m\u001b[43m,\u001b[49m\n\u001b[1;32m    967\u001b[0m \u001b[43m    \u001b[49m\u001b[43mallow_dups\u001b[49m\u001b[38;5;241;43m=\u001b[39;49m\u001b[38;5;28;43;01mTrue\u001b[39;49;00m\u001b[43m,\u001b[49m\n\u001b[1;32m    968\u001b[0m \u001b[43m    \u001b[49m\u001b[43mcopy\u001b[49m\u001b[38;5;241;43m=\u001b[39;49m\u001b[38;5;28;43;01mNone\u001b[39;49;00m\u001b[43m,\u001b[49m\n\u001b[1;32m    969\u001b[0m \u001b[43m\u001b[49m\u001b[43m)\u001b[49m\n",
      "File \u001b[0;32m/Library/Frameworks/Python.framework/Versions/3.11/lib/python3.11/site-packages/pandas/core/internals/managers.py:747\u001b[0m, in \u001b[0;36mBaseBlockManager.reindex_indexer\u001b[0;34m(self, new_axis, indexer, axis, fill_value, allow_dups, copy, only_slice, use_na_proxy)\u001b[0m\n\u001b[1;32m    740\u001b[0m     new_blocks \u001b[38;5;241m=\u001b[39m \u001b[38;5;28mself\u001b[39m\u001b[38;5;241m.\u001b[39m_slice_take_blocks_ax0(\n\u001b[1;32m    741\u001b[0m         indexer,\n\u001b[1;32m    742\u001b[0m         fill_value\u001b[38;5;241m=\u001b[39mfill_value,\n\u001b[1;32m    743\u001b[0m         only_slice\u001b[38;5;241m=\u001b[39monly_slice,\n\u001b[1;32m    744\u001b[0m         use_na_proxy\u001b[38;5;241m=\u001b[39muse_na_proxy,\n\u001b[1;32m    745\u001b[0m     )\n\u001b[1;32m    746\u001b[0m \u001b[38;5;28;01melse\u001b[39;00m:\n\u001b[0;32m--> 747\u001b[0m     new_blocks \u001b[38;5;241m=\u001b[39m \u001b[43m[\u001b[49m\n\u001b[1;32m    748\u001b[0m \u001b[43m        \u001b[49m\u001b[43mblk\u001b[49m\u001b[38;5;241;43m.\u001b[39;49m\u001b[43mtake_nd\u001b[49m\u001b[43m(\u001b[49m\n\u001b[1;32m    749\u001b[0m \u001b[43m            \u001b[49m\u001b[43mindexer\u001b[49m\u001b[43m,\u001b[49m\n\u001b[1;32m    750\u001b[0m \u001b[43m            \u001b[49m\u001b[43maxis\u001b[49m\u001b[38;5;241;43m=\u001b[39;49m\u001b[38;5;241;43m1\u001b[39;49m\u001b[43m,\u001b[49m\n\u001b[1;32m    751\u001b[0m \u001b[43m            \u001b[49m\u001b[43mfill_value\u001b[49m\u001b[38;5;241;43m=\u001b[39;49m\u001b[43m(\u001b[49m\n\u001b[1;32m    752\u001b[0m \u001b[43m                \u001b[49m\u001b[43mfill_value\u001b[49m\u001b[43m \u001b[49m\u001b[38;5;28;43;01mif\u001b[39;49;00m\u001b[43m \u001b[49m\u001b[43mfill_value\u001b[49m\u001b[43m \u001b[49m\u001b[38;5;129;43;01mis\u001b[39;49;00m\u001b[43m \u001b[49m\u001b[38;5;129;43;01mnot\u001b[39;49;00m\u001b[43m \u001b[49m\u001b[38;5;28;43;01mNone\u001b[39;49;00m\u001b[43m \u001b[49m\u001b[38;5;28;43;01melse\u001b[39;49;00m\u001b[43m \u001b[49m\u001b[43mblk\u001b[49m\u001b[38;5;241;43m.\u001b[39;49m\u001b[43mfill_value\u001b[49m\n\u001b[1;32m    753\u001b[0m \u001b[43m            \u001b[49m\u001b[43m)\u001b[49m\u001b[43m,\u001b[49m\n\u001b[1;32m    754\u001b[0m \u001b[43m        \u001b[49m\u001b[43m)\u001b[49m\n\u001b[1;32m    755\u001b[0m \u001b[43m        \u001b[49m\u001b[38;5;28;43;01mfor\u001b[39;49;00m\u001b[43m \u001b[49m\u001b[43mblk\u001b[49m\u001b[43m \u001b[49m\u001b[38;5;129;43;01min\u001b[39;49;00m\u001b[43m \u001b[49m\u001b[38;5;28;43mself\u001b[39;49m\u001b[38;5;241;43m.\u001b[39;49m\u001b[43mblocks\u001b[49m\n\u001b[1;32m    756\u001b[0m \u001b[43m    \u001b[49m\u001b[43m]\u001b[49m\n\u001b[1;32m    758\u001b[0m new_axes \u001b[38;5;241m=\u001b[39m \u001b[38;5;28mlist\u001b[39m(\u001b[38;5;28mself\u001b[39m\u001b[38;5;241m.\u001b[39maxes)\n\u001b[1;32m    759\u001b[0m new_axes[axis] \u001b[38;5;241m=\u001b[39m new_axis\n",
      "File \u001b[0;32m/Library/Frameworks/Python.framework/Versions/3.11/lib/python3.11/site-packages/pandas/core/internals/managers.py:748\u001b[0m, in \u001b[0;36m<listcomp>\u001b[0;34m(.0)\u001b[0m\n\u001b[1;32m    740\u001b[0m     new_blocks \u001b[38;5;241m=\u001b[39m \u001b[38;5;28mself\u001b[39m\u001b[38;5;241m.\u001b[39m_slice_take_blocks_ax0(\n\u001b[1;32m    741\u001b[0m         indexer,\n\u001b[1;32m    742\u001b[0m         fill_value\u001b[38;5;241m=\u001b[39mfill_value,\n\u001b[1;32m    743\u001b[0m         only_slice\u001b[38;5;241m=\u001b[39monly_slice,\n\u001b[1;32m    744\u001b[0m         use_na_proxy\u001b[38;5;241m=\u001b[39muse_na_proxy,\n\u001b[1;32m    745\u001b[0m     )\n\u001b[1;32m    746\u001b[0m \u001b[38;5;28;01melse\u001b[39;00m:\n\u001b[1;32m    747\u001b[0m     new_blocks \u001b[38;5;241m=\u001b[39m [\n\u001b[0;32m--> 748\u001b[0m         \u001b[43mblk\u001b[49m\u001b[38;5;241;43m.\u001b[39;49m\u001b[43mtake_nd\u001b[49m\u001b[43m(\u001b[49m\n\u001b[1;32m    749\u001b[0m \u001b[43m            \u001b[49m\u001b[43mindexer\u001b[49m\u001b[43m,\u001b[49m\n\u001b[1;32m    750\u001b[0m \u001b[43m            \u001b[49m\u001b[43maxis\u001b[49m\u001b[38;5;241;43m=\u001b[39;49m\u001b[38;5;241;43m1\u001b[39;49m\u001b[43m,\u001b[49m\n\u001b[1;32m    751\u001b[0m \u001b[43m            \u001b[49m\u001b[43mfill_value\u001b[49m\u001b[38;5;241;43m=\u001b[39;49m\u001b[43m(\u001b[49m\n\u001b[1;32m    752\u001b[0m \u001b[43m                \u001b[49m\u001b[43mfill_value\u001b[49m\u001b[43m \u001b[49m\u001b[38;5;28;43;01mif\u001b[39;49;00m\u001b[43m \u001b[49m\u001b[43mfill_value\u001b[49m\u001b[43m \u001b[49m\u001b[38;5;129;43;01mis\u001b[39;49;00m\u001b[43m \u001b[49m\u001b[38;5;129;43;01mnot\u001b[39;49;00m\u001b[43m \u001b[49m\u001b[38;5;28;43;01mNone\u001b[39;49;00m\u001b[43m \u001b[49m\u001b[38;5;28;43;01melse\u001b[39;49;00m\u001b[43m \u001b[49m\u001b[43mblk\u001b[49m\u001b[38;5;241;43m.\u001b[39;49m\u001b[43mfill_value\u001b[49m\n\u001b[1;32m    753\u001b[0m \u001b[43m            \u001b[49m\u001b[43m)\u001b[49m\u001b[43m,\u001b[49m\n\u001b[1;32m    754\u001b[0m \u001b[43m        \u001b[49m\u001b[43m)\u001b[49m\n\u001b[1;32m    755\u001b[0m         \u001b[38;5;28;01mfor\u001b[39;00m blk \u001b[38;5;129;01min\u001b[39;00m \u001b[38;5;28mself\u001b[39m\u001b[38;5;241m.\u001b[39mblocks\n\u001b[1;32m    756\u001b[0m     ]\n\u001b[1;32m    758\u001b[0m new_axes \u001b[38;5;241m=\u001b[39m \u001b[38;5;28mlist\u001b[39m(\u001b[38;5;28mself\u001b[39m\u001b[38;5;241m.\u001b[39maxes)\n\u001b[1;32m    759\u001b[0m new_axes[axis] \u001b[38;5;241m=\u001b[39m new_axis\n",
      "File \u001b[0;32m/Library/Frameworks/Python.framework/Versions/3.11/lib/python3.11/site-packages/pandas/core/internals/blocks.py:963\u001b[0m, in \u001b[0;36mBlock.take_nd\u001b[0;34m(self, indexer, axis, new_mgr_locs, fill_value)\u001b[0m\n\u001b[1;32m    961\u001b[0m     \u001b[38;5;28;01mreturn\u001b[39;00m \u001b[38;5;28mself\u001b[39m\u001b[38;5;241m.\u001b[39mmake_block(new_values, new_mgr_locs)\n\u001b[1;32m    962\u001b[0m \u001b[38;5;28;01melse\u001b[39;00m:\n\u001b[0;32m--> 963\u001b[0m     \u001b[38;5;28;01mreturn\u001b[39;00m \u001b[38;5;28;43mself\u001b[39;49m\u001b[38;5;241;43m.\u001b[39;49m\u001b[43mmake_block_same_class\u001b[49m\u001b[43m(\u001b[49m\u001b[43mnew_values\u001b[49m\u001b[43m,\u001b[49m\u001b[43m \u001b[49m\u001b[43mnew_mgr_locs\u001b[49m\u001b[43m)\u001b[49m\n",
      "File \u001b[0;32m/Library/Frameworks/Python.framework/Versions/3.11/lib/python3.11/site-packages/pandas/core/internals/blocks.py:244\u001b[0m, in \u001b[0;36mBlock.make_block_same_class\u001b[0;34m(self, values, placement, refs)\u001b[0m\n\u001b[1;32m    241\u001b[0m     placement \u001b[38;5;241m=\u001b[39m \u001b[38;5;28mself\u001b[39m\u001b[38;5;241m.\u001b[39m_mgr_locs\n\u001b[1;32m    243\u001b[0m \u001b[38;5;66;03m# We assume maybe_coerce_values has already been called\u001b[39;00m\n\u001b[0;32m--> 244\u001b[0m \u001b[38;5;28;01mreturn\u001b[39;00m \u001b[38;5;28;43mtype\u001b[39;49m\u001b[43m(\u001b[49m\u001b[38;5;28;43mself\u001b[39;49m\u001b[43m)\u001b[49m\u001b[43m(\u001b[49m\u001b[43mvalues\u001b[49m\u001b[43m,\u001b[49m\u001b[43m \u001b[49m\u001b[43mplacement\u001b[49m\u001b[38;5;241;43m=\u001b[39;49m\u001b[43mplacement\u001b[49m\u001b[43m,\u001b[49m\u001b[43m \u001b[49m\u001b[43mndim\u001b[49m\u001b[38;5;241;43m=\u001b[39;49m\u001b[38;5;28;43mself\u001b[39;49m\u001b[38;5;241;43m.\u001b[39;49m\u001b[43mndim\u001b[49m\u001b[43m,\u001b[49m\u001b[43m \u001b[49m\u001b[43mrefs\u001b[49m\u001b[38;5;241;43m=\u001b[39;49m\u001b[43mrefs\u001b[49m\u001b[43m)\u001b[49m\n",
      "\u001b[0;31mKeyboardInterrupt\u001b[0m: "
     ]
    }
   ],
   "source": [
    "user_rankings = {user:user_ranking_v0(user) for user in user_list}\n",
    "baseline_ranking = rev_train_baseline_ranking\n",
    "\n",
    "train_mean_rankings_v0 = {}\n",
    "train_mean_rankings_bl = {}\n",
    "test_mean_rankings_v0 = {}\n",
    "test_mean_rankings_bl = {}\n",
    "\n",
    "for user in user_list:\n",
    "    user_recs_train = rev_train.loc[rev_train.UserId == user]['RecipeId'].values\n",
    "    train_mean_rankings_v0[user] = np.mean([user_rankings[user][rec] for rec in user_recs_train])\n",
    "    train_mean_rankings_bl[user] = np.mean([baseline_ranking[rec] for rec in user_recs_train])\n",
    "    user_recs_test = rev_test.loc[rev_test.UserId == user]['RecipeId'].values\n",
    "    test_mean_rankings_v0[user] = np.mean([user_rankings[user][rec] for rec in user_recs_test])\n",
    "    test_mean_rankings_bl[user] = np.mean([baseline_ranking[rec] for rec in user_recs_test])"
   ]
  },
  {
   "cell_type": "code",
   "execution_count": null,
   "metadata": {},
   "outputs": [],
   "source": [
    "def mean_rec(l):\n",
    "    return np.mean([1/(r+1) for r in l])\n"
   ]
  },
  {
   "cell_type": "code",
   "execution_count": null,
   "metadata": {},
   "outputs": [],
   "source": [
    "train_meanrec_rankings_v0 = {}\n",
    "train_meanrec_rankings_bl = {}\n",
    "test_meanrec_rankings_v0 = {}\n",
    "test_meanrec_rankings_bl = {}\n",
    "\n",
    "\n",
    "for user in user_list:\n",
    "    user_recs_train = rev_train.loc[rev_train.UserId == user]['RecipeId'].values\n",
    "    train_meanrec_rankings_v0_f[user] = mean_rec([user_rankings[user][rec] for rec in user_recs_train])\n",
    "    train_meanrec_rankings_bl_f[user] = mean_rec([baseline_ranking[rec] for rec in user_recs_train])\n",
    "    user_recs_test = rev_test.loc[rev_test.UserId == user]['RecipeId'].values\n",
    "    test_meanrec_rankings_v0_f[user] = mean_rec([user_rankings[user][rec] for rec in user_recs_test])\n",
    "    test_meanrec_rankings_bl_f[user] = mean_rec([baseline_ranking[rec] for rec in user_recs_test])"
   ]
  },
  {
   "cell_type": "code",
   "execution_count": null,
   "metadata": {},
   "outputs": [],
   "source": [
    "train_meanrec_rankings_v0_0 = {}\n",
    "train_meanrec_rankings_bl_0 = {}\n",
    "test_meanrec_rankings_v0_0 = {}\n",
    "test_meanrec_rankings_bl_0 = {}\n",
    "\n",
    "\n",
    "for user in user_list:\n",
    "    user_recs_train = rev_train.loc[rev_train.UserId == user]['RecipeId'].values\n",
    "    train_meanrec_rankings_v0_0[user] = 1/(1+min([user_rankings[user][rec] for rec in user_recs_train]))\n",
    "    train_meanrec_rankings_bl_0[user] = 1/(1+min([baseline_ranking[rec] for rec in user_recs_train]))\n",
    "    user_recs_test = rev_test.loc[rev_test.UserId == user]['RecipeId'].values\n",
    "    test_meanrec_rankings_v0_0[user] = 1/(1+min([user_rankings[user][rec] for rec in user_recs_test]))\n",
    "    test_meanrec_rankings_bl_0[user] = 1/(1+min([baseline_ranking[rec] for rec in user_recs_test]))"
   ]
  },
  {
   "cell_type": "code",
   "execution_count": null,
   "metadata": {},
   "outputs": [],
   "source": [
    "mean_rankings = pd.DataFrame({'UserId':user_list,\n",
    "                 'Train_v0':[train_mean_rankings_v0[user] for user in user_list],\n",
    "                 'Train_bl':[train_mean_rankings_bl[user] for user in user_list],\n",
    "                 'Test_v0':[test_mean_rankings_v0[user] for user in user_list],\n",
    "                 'Test_bl':[test_mean_rankings_bl[user] for user in user_list],\n",
    "                 'Train_v0_r':[train_meanrec_rankings_v0_0[user] for user in user_list],\n",
    "                 'Train_bl_r':[train_meanrec_rankings_bl_0[user] for user in user_list],\n",
    "                 'Test_v0_r':[test_meanrec_rankings_v0_0[user] for user in user_list],\n",
    "                 'Test_bl_r':[test_meanrec_rankings_bl_0[user] for user in user_list],\n",
    "                 'Train_v0_r':[train_meanrec_rankings_v0_0[user] for user in user_list],\n",
    "                 'Train_bl_r':[train_meanrec_rankings_bl_0[user] for user in user_list],\n",
    "                 'Test_v0_r':[test_meanrec_rankings_v0_0[user] for user in user_list],\n",
    "                 'Test_bl_r':[test_meanrec_rankings_bl_0[user] for user in user_list]})\n",
    "\n",
    "mean_rankings = mean_rankings.set_index('UserId')"
   ]
  },
  {
   "cell_type": "code",
   "execution_count": null,
   "metadata": {},
   "outputs": [
    {
     "data": {
      "text/plain": [
       "0.1220155657011023"
      ]
     },
     "execution_count": 180,
     "metadata": {},
     "output_type": "execute_result"
    }
   ],
   "source": []
  },
  {
   "cell_type": "markdown",
   "metadata": {},
   "source": [
    "## Keywords"
   ]
  },
  {
   "cell_type": "code",
   "execution_count": null,
   "metadata": {},
   "outputs": [
    {
     "data": {
      "text/html": [
       "<div>\n",
       "<style scoped>\n",
       "    .dataframe tbody tr th:only-of-type {\n",
       "        vertical-align: middle;\n",
       "    }\n",
       "\n",
       "    .dataframe tbody tr th {\n",
       "        vertical-align: top;\n",
       "    }\n",
       "\n",
       "    .dataframe thead th {\n",
       "        text-align: right;\n",
       "    }\n",
       "</style>\n",
       "<table border=\"1\" class=\"dataframe\">\n",
       "  <thead>\n",
       "    <tr style=\"text-align: right;\">\n",
       "      <th></th>\n",
       "      <th>UserId</th>\n",
       "      <th>RecipeId</th>\n",
       "      <th>Rating</th>\n",
       "      <th>Rating_old</th>\n",
       "      <th>Keywords</th>\n",
       "    </tr>\n",
       "    <tr>\n",
       "      <th>ReviewId</th>\n",
       "      <th></th>\n",
       "      <th></th>\n",
       "      <th></th>\n",
       "      <th></th>\n",
       "      <th></th>\n",
       "    </tr>\n",
       "  </thead>\n",
       "  <tbody>\n",
       "    <tr>\n",
       "      <th>193829</th>\n",
       "      <td>160974</td>\n",
       "      <td>119804</td>\n",
       "      <td>1</td>\n",
       "      <td>5</td>\n",
       "      <td>[fruit, brunch, tropical fruits, easy, lunch/s...</td>\n",
       "    </tr>\n",
       "    <tr>\n",
       "      <th>741876</th>\n",
       "      <td>765437</td>\n",
       "      <td>32607</td>\n",
       "      <td>1</td>\n",
       "      <td>5</td>\n",
       "      <td>[healthy, kid friendly, weeknight, inexpensive...</td>\n",
       "    </tr>\n",
       "    <tr>\n",
       "      <th>497583</th>\n",
       "      <td>467341</td>\n",
       "      <td>141789</td>\n",
       "      <td>1</td>\n",
       "      <td>5</td>\n",
       "      <td>[pork, easy, vegetable, rice, oven, meat]</td>\n",
       "    </tr>\n",
       "    <tr>\n",
       "      <th>965678</th>\n",
       "      <td>140132</td>\n",
       "      <td>3294</td>\n",
       "      <td>1</td>\n",
       "      <td>5</td>\n",
       "      <td>[chicken, fried, deep fried, meat, poultry]</td>\n",
       "    </tr>\n",
       "    <tr>\n",
       "      <th>1158117</th>\n",
       "      <td>253706</td>\n",
       "      <td>43850</td>\n",
       "      <td>1</td>\n",
       "      <td>5</td>\n",
       "      <td>[kid friendly, easy, inexpensive, halloween, b...</td>\n",
       "    </tr>\n",
       "    <tr>\n",
       "      <th>...</th>\n",
       "      <td>...</td>\n",
       "      <td>...</td>\n",
       "      <td>...</td>\n",
       "      <td>...</td>\n",
       "      <td>...</td>\n",
       "    </tr>\n",
       "    <tr>\n",
       "      <th>864105</th>\n",
       "      <td>600105</td>\n",
       "      <td>76616</td>\n",
       "      <td>1</td>\n",
       "      <td>5</td>\n",
       "      <td>[ham, burger, easy, meatballs, taco, stew, meat]</td>\n",
       "    </tr>\n",
       "    <tr>\n",
       "      <th>473116</th>\n",
       "      <td>55578</td>\n",
       "      <td>52799</td>\n",
       "      <td>-1</td>\n",
       "      <td>4</td>\n",
       "      <td>[cheese, oven]</td>\n",
       "    </tr>\n",
       "    <tr>\n",
       "      <th>1058849</th>\n",
       "      <td>145125</td>\n",
       "      <td>39900</td>\n",
       "      <td>1</td>\n",
       "      <td>5</td>\n",
       "      <td>[chicken, european, meat, poultry]</td>\n",
       "    </tr>\n",
       "    <tr>\n",
       "      <th>662373</th>\n",
       "      <td>526810</td>\n",
       "      <td>14409</td>\n",
       "      <td>1</td>\n",
       "      <td>5</td>\n",
       "      <td>[fruit, berries, no cook, easy, greens, vegeta...</td>\n",
       "    </tr>\n",
       "    <tr>\n",
       "      <th>798926</th>\n",
       "      <td>189475</td>\n",
       "      <td>8674</td>\n",
       "      <td>1</td>\n",
       "      <td>5</td>\n",
       "      <td>[cabbage, easy, deep fried, asian, chinese, meat]</td>\n",
       "    </tr>\n",
       "  </tbody>\n",
       "</table>\n",
       "<p>106810 rows × 5 columns</p>\n",
       "</div>"
      ],
      "text/plain": [
       "          UserId  RecipeId  Rating  Rating_old  \\\n",
       "ReviewId                                         \n",
       "193829    160974    119804       1           5   \n",
       "741876    765437     32607       1           5   \n",
       "497583    467341    141789       1           5   \n",
       "965678    140132      3294       1           5   \n",
       "1158117   253706     43850       1           5   \n",
       "...          ...       ...     ...         ...   \n",
       "864105    600105     76616       1           5   \n",
       "473116     55578     52799      -1           4   \n",
       "1058849   145125     39900       1           5   \n",
       "662373    526810     14409       1           5   \n",
       "798926    189475      8674       1           5   \n",
       "\n",
       "                                                   Keywords  \n",
       "ReviewId                                                     \n",
       "193829    [fruit, brunch, tropical fruits, easy, lunch/s...  \n",
       "741876    [healthy, kid friendly, weeknight, inexpensive...  \n",
       "497583            [pork, easy, vegetable, rice, oven, meat]  \n",
       "965678          [chicken, fried, deep fried, meat, poultry]  \n",
       "1158117   [kid friendly, easy, inexpensive, halloween, b...  \n",
       "...                                                     ...  \n",
       "864105     [ham, burger, easy, meatballs, taco, stew, meat]  \n",
       "473116                                       [cheese, oven]  \n",
       "1058849                  [chicken, european, meat, poultry]  \n",
       "662373    [fruit, berries, no cook, easy, greens, vegeta...  \n",
       "798926    [cabbage, easy, deep fried, asian, chinese, meat]  \n",
       "\n",
       "[106810 rows x 5 columns]"
      ]
     },
     "execution_count": 183,
     "metadata": {},
     "output_type": "execute_result"
    }
   ],
   "source": [
    "rev_train"
   ]
  },
  {
   "cell_type": "code",
   "execution_count": null,
   "metadata": {},
   "outputs": [],
   "source": [
    "keywords_w_rep = []\n",
    "for kws in rev_train.Keywords:\n",
    "    keywords_w_rep+=list(kws)\n",
    "\n",
    "keyword_counts = {word:0 for word in set(keywords_w_rep)}\n",
    "for word in keywords_w_rep:\n",
    "    keyword_counts[word]+=1\n",
    "\n",
    "keyword_list_master = list(keyword_counts.keys())\n",
    "keyword_index = {keyword_list_master[i]:i for \n",
    "                 i in range(len(keyword_list_master))}\n",
    "\n",
    "def kwlist_to_vec(keywordlist:list)->list:\n",
    "    vec = np.zeros(len(keyword_list_master))\n",
    "    for w in keywordlist:\n",
    "        vec[keyword_index[w]]+=1\n",
    "    return vec"
   ]
  },
  {
   "cell_type": "code",
   "execution_count": null,
   "metadata": {},
   "outputs": [],
   "source": [
    "rec_mat = [kwlist_to_vec(kwl) for kwl in rev_train.Keywords]\n",
    "keyword_vec_mean = sum(rec_mat)/len(rec_mat)"
   ]
  },
  {
   "cell_type": "code",
   "execution_count": null,
   "metadata": {},
   "outputs": [],
   "source": [
    "user_kw_vecs = {}\n",
    "user_kw_vecs_0 = {}\n",
    "for user in user_list:\n",
    "    kw_vecs_user = [kwlist_to_vec(kwl) for kwl in rev_train.loc[rev_train.UserId==user].Keywords]\n",
    "    user_mean_kwvec = sum(kw_vecs_user)/len(kw_vecs_user)\n",
    "    user_kw_vecs[user]=user_mean_kwvec\n",
    "    user_kw_vecs_0[user] = user_mean_kwvec-keyword_vec_mean\n",
    "\n",
    "user_kw_vecs_0_ls = {user:np.sqrt(np.dot(user_kw_vecs_0[user],user_kw_vecs_0[user])) for user in user_list}"
   ]
  },
  {
   "cell_type": "code",
   "execution_count": null,
   "metadata": {},
   "outputs": [
    {
     "data": {
      "text/plain": [
       "1.100965365306682"
      ]
     },
     "execution_count": 193,
     "metadata": {},
     "output_type": "execute_result"
    }
   ],
   "source": [
    "max(list(user_kw_vecs_0_ls.values()))"
   ]
  },
  {
   "cell_type": "code",
   "execution_count": null,
   "metadata": {},
   "outputs": [],
   "source": []
  },
  {
   "cell_type": "code",
   "execution_count": null,
   "metadata": {},
   "outputs": [
    {
     "data": {
      "text/html": [
       "<div>\n",
       "<style scoped>\n",
       "    .dataframe tbody tr th:only-of-type {\n",
       "        vertical-align: middle;\n",
       "    }\n",
       "\n",
       "    .dataframe tbody tr th {\n",
       "        vertical-align: top;\n",
       "    }\n",
       "\n",
       "    .dataframe thead th {\n",
       "        text-align: right;\n",
       "    }\n",
       "</style>\n",
       "<table border=\"1\" class=\"dataframe\">\n",
       "  <thead>\n",
       "    <tr style=\"text-align: right;\">\n",
       "      <th></th>\n",
       "      <th>UserId</th>\n",
       "      <th>RecipeId</th>\n",
       "      <th>Keywords</th>\n",
       "    </tr>\n",
       "    <tr>\n",
       "      <th>ReviewId</th>\n",
       "      <th></th>\n",
       "      <th></th>\n",
       "      <th></th>\n",
       "    </tr>\n",
       "  </thead>\n",
       "  <tbody>\n",
       "    <tr>\n",
       "      <th>829</th>\n",
       "      <td>7802</td>\n",
       "      <td>8782</td>\n",
       "      <td>[ham, chicken, easy, weeknight, roast, oven, m...</td>\n",
       "    </tr>\n",
       "    <tr>\n",
       "      <th>1179</th>\n",
       "      <td>9869</td>\n",
       "      <td>8754</td>\n",
       "      <td>[peanut butter, sweet, for large groups, oven,...</td>\n",
       "    </tr>\n",
       "    <tr>\n",
       "      <th>1399</th>\n",
       "      <td>6357</td>\n",
       "      <td>9841</td>\n",
       "      <td>[easy, oven]</td>\n",
       "    </tr>\n",
       "    <tr>\n",
       "      <th>1642</th>\n",
       "      <td>11297</td>\n",
       "      <td>5478</td>\n",
       "      <td>[healthy, chicken, sweet, easy, baking, potato...</td>\n",
       "    </tr>\n",
       "    <tr>\n",
       "      <th>1771</th>\n",
       "      <td>4470</td>\n",
       "      <td>8739</td>\n",
       "      <td>[southwestern u.s., mexican, easy, avocado, th...</td>\n",
       "    </tr>\n",
       "    <tr>\n",
       "      <th>...</th>\n",
       "      <td>...</td>\n",
       "      <td>...</td>\n",
       "      <td>...</td>\n",
       "    </tr>\n",
       "    <tr>\n",
       "      <th>2090011</th>\n",
       "      <td>395981</td>\n",
       "      <td>116266</td>\n",
       "      <td>[potluck, chicken, spicy, for large groups, me...</td>\n",
       "    </tr>\n",
       "    <tr>\n",
       "      <th>2090051</th>\n",
       "      <td>137477</td>\n",
       "      <td>12591</td>\n",
       "      <td>[healthy, for large groups, oven]</td>\n",
       "    </tr>\n",
       "    <tr>\n",
       "      <th>2090149</th>\n",
       "      <td>3288</td>\n",
       "      <td>261889</td>\n",
       "      <td>[kid friendly, sweet, christmas, easy, for lar...</td>\n",
       "    </tr>\n",
       "    <tr>\n",
       "      <th>2090199</th>\n",
       "      <td>128473</td>\n",
       "      <td>18458</td>\n",
       "      <td>[healthy, easy, weeknight, russian]</td>\n",
       "    </tr>\n",
       "    <tr>\n",
       "      <th>2090259</th>\n",
       "      <td>894666</td>\n",
       "      <td>43023</td>\n",
       "      <td>[healthy, kid friendly, pasta, potluck, easy, ...</td>\n",
       "    </tr>\n",
       "  </tbody>\n",
       "</table>\n",
       "<p>133513 rows × 3 columns</p>\n",
       "</div>"
      ],
      "text/plain": [
       "          UserId  RecipeId                                           Keywords\n",
       "ReviewId                                                                     \n",
       "829         7802      8782  [ham, chicken, easy, weeknight, roast, oven, m...\n",
       "1179        9869      8754  [peanut butter, sweet, for large groups, oven,...\n",
       "1399        6357      9841                                       [easy, oven]\n",
       "1642       11297      5478  [healthy, chicken, sweet, easy, baking, potato...\n",
       "1771        4470      8739  [southwestern u.s., mexican, easy, avocado, th...\n",
       "...          ...       ...                                                ...\n",
       "2090011   395981    116266  [potluck, chicken, spicy, for large groups, me...\n",
       "2090051   137477     12591                  [healthy, for large groups, oven]\n",
       "2090149     3288    261889  [kid friendly, sweet, christmas, easy, for lar...\n",
       "2090199   128473     18458                [healthy, easy, weeknight, russian]\n",
       "2090259   894666     43023  [healthy, kid friendly, pasta, potluck, easy, ...\n",
       "\n",
       "[133513 rows x 3 columns]"
      ]
     },
     "execution_count": 195,
     "metadata": {},
     "output_type": "execute_result"
    }
   ],
   "source": [
    "rev_df[['UserId','RecipeId','Keywords']]"
   ]
  },
  {
   "cell_type": "code",
   "execution_count": null,
   "metadata": {},
   "outputs": [
    {
     "data": {
      "text/plain": [
       "UserId\n",
       "140132     2137\n",
       "37449      1362\n",
       "176615     1161\n",
       "383346     1129\n",
       "126440     1097\n",
       "           ... \n",
       "1026228       2\n",
       "371096        2\n",
       "443407        2\n",
       "279205        2\n",
       "1422300       2\n",
       "Name: count, Length: 4895, dtype: int64"
      ]
     },
     "execution_count": 59,
     "metadata": {},
     "output_type": "execute_result"
    }
   ],
   "source": [
    "rev_df.UserId.value_counts()"
   ]
  },
  {
   "cell_type": "code",
   "execution_count": null,
   "metadata": {},
   "outputs": [
    {
     "data": {
      "text/plain": [
       "13031"
      ]
     },
     "execution_count": 58,
     "metadata": {},
     "output_type": "execute_result"
    }
   ],
   "source": [
    "len(rev_df.RecipeId.unique())"
   ]
  },
  {
   "cell_type": "code",
   "execution_count": null,
   "metadata": {},
   "outputs": [
    {
     "data": {
      "text/plain": [
       "array([[<Axes: title={'center': 'Rating'}>]], dtype=object)"
      ]
     },
     "execution_count": 51,
     "metadata": {},
     "output_type": "execute_result"
    },
    {
     "data": {
      "image/png": "[encoded data removed]",
      "text/plain": [
       "<Figure size 640x480 with 1 Axes>"
      ]
     },
     "metadata": {},
     "output_type": "display_data"
    }
   ],
   "source": [
    "rev_df.hist('Rating')"
   ]
  },
  {
   "cell_type": "code",
   "execution_count": null,
   "metadata": {},
   "outputs": [
    {
     "data": {
      "text/plain": [
       "['vietnamese',\n",
       " 'filipino',\n",
       " 'japanese',\n",
       " 'lebanese',\n",
       " 'mexican',\n",
       " 'moroccan',\n",
       " 'chinese',\n",
       " 'cheesecake',\n",
       " 'canadian',\n",
       " 'african',\n",
       " 'portuguese',\n",
       " 'south american',\n",
       " 'canning',\n",
       " 'scandinavian',\n",
       " 'puerto rican',\n",
       " 'south african',\n",
       " 'candy',\n",
       " 'cheese',\n",
       " 'costa rican']"
      ]
     },
     "execution_count": 202,
     "metadata": {},
     "output_type": "execute_result"
    }
   ],
   "source": [
    "[w for w in keyword_list_master if 'ese' in w or 'can' in w or 'ese' in w or 'ino' in w]"
   ]
  },
  {
   "cell_type": "code",
   "execution_count": null,
   "metadata": {},
   "outputs": [],
   "source": []
  }
 ],
 "metadata": {
  "kernelspec": {
   "display_name": "Python 3",
   "language": "python",
   "name": "python3"
  },
  "language_info": {
   "codemirror_mode": {
    "name": "ipython",
    "version": 3
   },
   "file_extension": ".py",
   "mimetype": "text/x-python",
   "name": "python",
   "nbconvert_exporter": "python",
   "pygments_lexer": "ipython3",
   "version": "3.11.3"
  }
 },
 "nbformat": 4,
 "nbformat_minor": 2
}
