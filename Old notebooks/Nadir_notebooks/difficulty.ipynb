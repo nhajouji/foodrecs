{
 "cells": [
  {
   "cell_type": "code",
   "execution_count": 1,
   "metadata": {},
   "outputs": [],
   "source": [
    "import numpy as np\n",
    "import pandas as pd\n",
    "import matplotlib.pyplot as plt\n",
    "import seaborn as sns"
   ]
  },
  {
   "cell_type": "code",
   "execution_count": 2,
   "metadata": {},
   "outputs": [],
   "source": [
    "reviews = pd.read_pickle('../data/revdense.pk')\n",
    "keywords =  pd.read_pickle('../data/keywords.pk')\n",
    "recipe_ids = list(set(keywords.index).intersection(set(reviews.RecipeId.values)))\n",
    "keywords = keywords[keywords.index.isin(recipe_ids)]\n",
    "reviews = reviews[reviews['RecipeId'].isin(recipe_ids)]\n",
    "reviews['Keywords'] = [keywords['Keywords'][recipe] for recipe in reviews.RecipeId]"
   ]
  },
  {
   "cell_type": "code",
   "execution_count": 3,
   "metadata": {},
   "outputs": [
    {
     "data": {
      "text/html": [
       "<div>\n",
       "<style scoped>\n",
       "    .dataframe tbody tr th:only-of-type {\n",
       "        vertical-align: middle;\n",
       "    }\n",
       "\n",
       "    .dataframe tbody tr th {\n",
       "        vertical-align: top;\n",
       "    }\n",
       "\n",
       "    .dataframe thead th {\n",
       "        text-align: right;\n",
       "    }\n",
       "</style>\n",
       "<table border=\"1\" class=\"dataframe\">\n",
       "  <thead>\n",
       "    <tr style=\"text-align: right;\">\n",
       "      <th></th>\n",
       "      <th>Name</th>\n",
       "      <th>KeywordsTitle</th>\n",
       "      <th>Keywords</th>\n",
       "    </tr>\n",
       "    <tr>\n",
       "      <th>RecipeId</th>\n",
       "      <th></th>\n",
       "      <th></th>\n",
       "      <th></th>\n",
       "    </tr>\n",
       "  </thead>\n",
       "  <tbody>\n",
       "    <tr>\n",
       "      <th>56</th>\n",
       "      <td>buttermilk pie</td>\n",
       "      <td>[pie]</td>\n",
       "      <td>[pie, bear, dessert, sweet, easy, oven]</td>\n",
       "    </tr>\n",
       "    <tr>\n",
       "      <th>76</th>\n",
       "      <td>alfredo sauce</td>\n",
       "      <td>[sauce]</td>\n",
       "      <td>[microwave, sauce, european, sauces, birthday,...</td>\n",
       "    </tr>\n",
       "    <tr>\n",
       "      <th>220</th>\n",
       "      <td>chocolate zucchini bread</td>\n",
       "      <td>[chocolate]</td>\n",
       "      <td>[breads, vegetable, chocolate, sweet, weeknigh...</td>\n",
       "    </tr>\n",
       "    <tr>\n",
       "      <th>246</th>\n",
       "      <td>lee's hot crab dip</td>\n",
       "      <td>[crab]</td>\n",
       "      <td>[crab, oven]</td>\n",
       "    </tr>\n",
       "    <tr>\n",
       "      <th>468</th>\n",
       "      <td>maple salmon</td>\n",
       "      <td>[]</td>\n",
       "      <td>[chard, potato, healthy, easy, roast, spring, ...</td>\n",
       "    </tr>\n",
       "    <tr>\n",
       "      <th>...</th>\n",
       "      <td>...</td>\n",
       "      <td>...</td>\n",
       "      <td>...</td>\n",
       "    </tr>\n",
       "    <tr>\n",
       "      <th>413122</th>\n",
       "      <td>my thai sesame noodles</td>\n",
       "      <td>[thai, noodle]</td>\n",
       "      <td>[noodle, thai, spaghetti, chicken, sweet, easy...</td>\n",
       "    </tr>\n",
       "    <tr>\n",
       "      <th>413638</th>\n",
       "      <td>decadent twice baked potatoes</td>\n",
       "      <td>[potato]</td>\n",
       "      <td>[baking, easy, potato, &lt; 4 hours]</td>\n",
       "    </tr>\n",
       "    <tr>\n",
       "      <th>420398</th>\n",
       "      <td>ice cubes</td>\n",
       "      <td>[]</td>\n",
       "      <td>[beverages, freezer, egg free, weeknight, easy...</td>\n",
       "    </tr>\n",
       "    <tr>\n",
       "      <th>428116</th>\n",
       "      <td>swedish scrambled eggs</td>\n",
       "      <td>[egg, swedish]</td>\n",
       "      <td>[egg, swedish, breakfast, european, easy, scan...</td>\n",
       "    </tr>\n",
       "    <tr>\n",
       "      <th>434275</th>\n",
       "      <td>tub and shower magic</td>\n",
       "      <td>[]</td>\n",
       "      <td>[&lt; 15 mins, inexpensive, easy, cheap]</td>\n",
       "    </tr>\n",
       "  </tbody>\n",
       "</table>\n",
       "<p>2585 rows × 3 columns</p>\n",
       "</div>"
      ],
      "text/plain": [
       "                                   Name   KeywordsTitle  \\\n",
       "RecipeId                                                  \n",
       "56                       buttermilk pie           [pie]   \n",
       "76                        alfredo sauce         [sauce]   \n",
       "220            chocolate zucchini bread     [chocolate]   \n",
       "246                  lee's hot crab dip          [crab]   \n",
       "468                        maple salmon              []   \n",
       "...                                 ...             ...   \n",
       "413122           my thai sesame noodles  [thai, noodle]   \n",
       "413638    decadent twice baked potatoes        [potato]   \n",
       "420398                        ice cubes              []   \n",
       "428116           swedish scrambled eggs  [egg, swedish]   \n",
       "434275             tub and shower magic              []   \n",
       "\n",
       "                                                   Keywords  \n",
       "RecipeId                                                     \n",
       "56                  [pie, bear, dessert, sweet, easy, oven]  \n",
       "76        [microwave, sauce, european, sauces, birthday,...  \n",
       "220       [breads, vegetable, chocolate, sweet, weeknigh...  \n",
       "246                                            [crab, oven]  \n",
       "468       [chard, potato, healthy, easy, roast, spring, ...  \n",
       "...                                                     ...  \n",
       "413122    [noodle, thai, spaghetti, chicken, sweet, easy...  \n",
       "413638                    [baking, easy, potato, < 4 hours]  \n",
       "420398    [beverages, freezer, egg free, weeknight, easy...  \n",
       "428116    [egg, swedish, breakfast, european, easy, scan...  \n",
       "434275                [< 15 mins, inexpensive, easy, cheap]  \n",
       "\n",
       "[2585 rows x 3 columns]"
      ]
     },
     "execution_count": 3,
     "metadata": {},
     "output_type": "execute_result"
    }
   ],
   "source": [
    "keywords"
   ]
  },
  {
   "cell_type": "code",
   "execution_count": 3,
   "metadata": {},
   "outputs": [],
   "source": [
    "easy_words= [ 'beginner cook', 'easy','simple'\n",
    "]\n",
    "reviews['diff_words'] = reviews['Keywords'].apply(lambda x:list(set(x).intersection(set(easy_words))))\n",
    "reviews['Difficulty'] = reviews['diff_words'].apply(len).apply(lambda x:min(x,1))"
   ]
  },
  {
   "cell_type": "code",
   "execution_count": 4,
   "metadata": {},
   "outputs": [
    {
     "data": {
      "text/plain": [
       "array([[<Axes: title={'center': 'Difficulty'}>]], dtype=object)"
      ]
     },
     "execution_count": 4,
     "metadata": {},
     "output_type": "execute_result"
    },
    {
     "data": {
      "image/png": "[encoded data removed]",
      "text/plain": [
       "<Figure size 640x480 with 1 Axes>"
      ]
     },
     "metadata": {},
     "output_type": "display_data"
    }
   ],
   "source": [
    "reviews[['UserId','Difficulty']].groupby('UserId').mean().hist()"
   ]
  },
  {
   "cell_type": "code",
   "execution_count": null,
   "metadata": {},
   "outputs": [],
   "source": []
  }
 ],
 "metadata": {
  "kernelspec": {
   "display_name": "Python 3",
   "language": "python",
   "name": "python3"
  },
  "language_info": {
   "codemirror_mode": {
    "name": "ipython",
    "version": 3
   },
   "file_extension": ".py",
   "mimetype": "text/x-python",
   "name": "python",
   "nbconvert_exporter": "python",
   "pygments_lexer": "ipython3",
   "version": "3.11.3"
  }
 },
 "nbformat": 4,
 "nbformat_minor": 2
}
