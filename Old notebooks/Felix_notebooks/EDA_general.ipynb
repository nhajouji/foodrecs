{
 "cells": [
  {
   "cell_type": "code",
   "execution_count": 68,
   "metadata": {},
   "outputs": [],
   "source": [
    "# Loading packages\n",
    "import pandas as pd\n",
    "import numpy as np\n",
    "import seaborn as sns\n",
    "import matplotlib.pyplot as plt\n",
    "from functools import reduce"
   ]
  },
  {
   "cell_type": "code",
   "execution_count": 18,
   "metadata": {},
   "outputs": [],
   "source": [
    "# Loading raw data \n",
    "recipes_raw = pd.read_parquet(\"../data/recipes.parquet\")\n",
    "recipes_raw['RecipeId'] = recipes_raw['RecipeId'].astype(int)\n",
    "recipes_raw.set_index('RecipeId', inplace=True)\n",
    "\n",
    "reviews_raw = pd.read_parquet(\"../data/reviews.parquet\")\n",
    "reviews_raw.set_index('ReviewId', inplace=True)"
   ]
  },
  {
   "cell_type": "code",
   "execution_count": 69,
   "metadata": {},
   "outputs": [
    {
     "data": {
      "text/html": [
       "<div>\n",
       "<style scoped>\n",
       "    .dataframe tbody tr th:only-of-type {\n",
       "        vertical-align: middle;\n",
       "    }\n",
       "\n",
       "    .dataframe tbody tr th {\n",
       "        vertical-align: top;\n",
       "    }\n",
       "\n",
       "    .dataframe thead th {\n",
       "        text-align: right;\n",
       "    }\n",
       "</style>\n",
       "<table border=\"1\" class=\"dataframe\">\n",
       "  <thead>\n",
       "    <tr style=\"text-align: right;\">\n",
       "      <th></th>\n",
       "      <th>Name</th>\n",
       "      <th>RegionKeywords</th>\n",
       "      <th>Continents</th>\n",
       "      <th>Regions</th>\n",
       "    </tr>\n",
       "    <tr>\n",
       "      <th>RecipeId</th>\n",
       "      <th></th>\n",
       "      <th></th>\n",
       "      <th></th>\n",
       "      <th></th>\n",
       "    </tr>\n",
       "  </thead>\n",
       "  <tbody>\n",
       "    <tr>\n",
       "      <th>49</th>\n",
       "      <td>chicken breasts lombardi</td>\n",
       "      <td>[italian, european]</td>\n",
       "      <td>[european]</td>\n",
       "      <td>[italian]</td>\n",
       "    </tr>\n",
       "    <tr>\n",
       "      <th>55</th>\n",
       "      <td>betty crocker's southwestern guacamole dip</td>\n",
       "      <td>[southwestern u.s., mexican]</td>\n",
       "      <td>[north american]</td>\n",
       "      <td>[southwestern u.s., mexican]</td>\n",
       "    </tr>\n",
       "    <tr>\n",
       "      <th>58</th>\n",
       "      <td>low-fat burgundy beef &amp; vegetable stew</td>\n",
       "      <td>[french]</td>\n",
       "      <td>[european]</td>\n",
       "      <td>[french]</td>\n",
       "    </tr>\n",
       "    <tr>\n",
       "      <th>59</th>\n",
       "      <td>lou's fabulous bruschetta</td>\n",
       "      <td>[italian, european]</td>\n",
       "      <td>[european]</td>\n",
       "      <td>[italian]</td>\n",
       "    </tr>\n",
       "    <tr>\n",
       "      <th>62</th>\n",
       "      <td>black bean, corn, and tomato salad</td>\n",
       "      <td>[polish]</td>\n",
       "      <td>[european]</td>\n",
       "      <td>[polish]</td>\n",
       "    </tr>\n",
       "    <tr>\n",
       "      <th>...</th>\n",
       "      <td>...</td>\n",
       "      <td>...</td>\n",
       "      <td>...</td>\n",
       "      <td>...</td>\n",
       "    </tr>\n",
       "    <tr>\n",
       "      <th>539115</th>\n",
       "      <td>dutch fried potatoes (gebakken aardappelen)</td>\n",
       "      <td>[dutch, european]</td>\n",
       "      <td>[european]</td>\n",
       "      <td>[dutch]</td>\n",
       "    </tr>\n",
       "    <tr>\n",
       "      <th>539152</th>\n",
       "      <td>stir fried noodles (mie goreng)</td>\n",
       "      <td>[indonesian, asian, dutch, european]</td>\n",
       "      <td>[asian, european]</td>\n",
       "      <td>[indonesian, dutch]</td>\n",
       "    </tr>\n",
       "    <tr>\n",
       "      <th>539182</th>\n",
       "      <td>cinnamony sweet moroccan orange salad</td>\n",
       "      <td>[moroccan, african]</td>\n",
       "      <td>[african]</td>\n",
       "      <td>[moroccan]</td>\n",
       "    </tr>\n",
       "    <tr>\n",
       "      <th>539184</th>\n",
       "      <td>belgian chocolate-fudge sauce</td>\n",
       "      <td>[belgian, european]</td>\n",
       "      <td>[european]</td>\n",
       "      <td>[belgian]</td>\n",
       "    </tr>\n",
       "    <tr>\n",
       "      <th>540263</th>\n",
       "      <td>ho chi minh limeade</td>\n",
       "      <td>[vietnamese]</td>\n",
       "      <td>[asian]</td>\n",
       "      <td>[vietnamese]</td>\n",
       "    </tr>\n",
       "  </tbody>\n",
       "</table>\n",
       "<p>43612 rows × 4 columns</p>\n",
       "</div>"
      ],
      "text/plain": [
       "                                                 Name  \\\n",
       "RecipeId                                                \n",
       "49                           chicken breasts lombardi   \n",
       "55         betty crocker's southwestern guacamole dip   \n",
       "58             low-fat burgundy beef & vegetable stew   \n",
       "59                          lou's fabulous bruschetta   \n",
       "62                 black bean, corn, and tomato salad   \n",
       "...                                               ...   \n",
       "539115    dutch fried potatoes (gebakken aardappelen)   \n",
       "539152                stir fried noodles (mie goreng)   \n",
       "539182          cinnamony sweet moroccan orange salad   \n",
       "539184                  belgian chocolate-fudge sauce   \n",
       "540263                            ho chi minh limeade   \n",
       "\n",
       "                                RegionKeywords         Continents  \\\n",
       "RecipeId                                                            \n",
       "49                         [italian, european]         [european]   \n",
       "55                [southwestern u.s., mexican]   [north american]   \n",
       "58                                    [french]         [european]   \n",
       "59                         [italian, european]         [european]   \n",
       "62                                    [polish]         [european]   \n",
       "...                                        ...                ...   \n",
       "539115                       [dutch, european]         [european]   \n",
       "539152    [indonesian, asian, dutch, european]  [asian, european]   \n",
       "539182                     [moroccan, african]          [african]   \n",
       "539184                     [belgian, european]         [european]   \n",
       "540263                            [vietnamese]            [asian]   \n",
       "\n",
       "                               Regions  \n",
       "RecipeId                                \n",
       "49                           [italian]  \n",
       "55        [southwestern u.s., mexican]  \n",
       "58                            [french]  \n",
       "59                           [italian]  \n",
       "62                            [polish]  \n",
       "...                                ...  \n",
       "539115                         [dutch]  \n",
       "539152             [indonesian, dutch]  \n",
       "539182                      [moroccan]  \n",
       "539184                       [belgian]  \n",
       "540263                    [vietnamese]  \n",
       "\n",
       "[43612 rows x 4 columns]"
      ]
     },
     "execution_count": 69,
     "metadata": {},
     "output_type": "execute_result"
    }
   ],
   "source": [
    "# Retrieving only clean data \n",
    "# TODO In the future do the same but using all of the columns that have been cleaned. Not only mine (Felix's)\n",
    "\n",
    "# Retrieving parquet files with clean columns\n",
    "continuous_attr = pd.read_parquet(\"../data/clean_columns/continuous_attr_clean.parquet\")\n",
    "cook_times = pd.read_parquet(\"../data/clean_columns/cooktimesclean.parquet\")\n",
    "main_ingredients = pd.read_parquet(\"../data/clean_columns/main_ingredients_clean.parquet\")\n",
    "meal_types = pd.read_parquet(\"../data/clean_columns/mealtype_clean.parquet\")\n",
    "baking = pd.read_parquet(\"../data/clean_columns/baking.parquet\")\n",
    "\n",
    "# Retrieving pickle files with clean columns\n",
    "regions = pd.read_pickle(\"../data/clean_columns/regiondatav0.pk\")\n",
    "appliances = pd.read_pickle(\"../data/clean_columns/appliance_clean.pk\")\n",
    "\n",
    "\n",
    "\n",
    "regions\n",
    "\n",
    "# # Assuming dfs is a list containing your 10 DataFrames\n",
    "# dfs = [df1, df2, df3, df4, df5, df6, df7, df8, df9, df10]  # Replace with your actual DataFrames\n",
    "\n",
    "# # Perform inner join on all DataFrames\n",
    "# result_df = reduce(lambda left, right: pd.merge(left, right, on='index', how='inner'), dfs)\n",
    "\n",
    "# print(result_df)\n"
   ]
  },
  {
   "cell_type": "code",
   "execution_count": null,
   "metadata": {},
   "outputs": [],
   "source": [
    "import pandas as pd\n",
    "\n",
    "def left_join_multiple_dfs_by_index(df_base, dfs_list):\n",
    "  \"\"\"\n",
    "  Performs a left join on a base dataframe with multiple dataframes using indexes.\n",
    "\n",
    "  Args:\n",
    "      df_base: The base dataframe to left-join with.\n",
    "      dfs_list: A list of dataframes to be left-joined with df_base.\n",
    "\n",
    "  Returns:\n",
    "      A new dataframe resulting from the left join operation.\n",
    "  \"\"\"\n",
    "\n",
    "  # Set base dataframe index for efficient joining\n",
    "  df_base = df_base.set_index('join_col')  # Replace 'join_col' if needed\n",
    "\n",
    "  result = df_base\n",
    "\n",
    "  for df in dfs_list:\n",
    "    # Ensure indexes are set and compatible\n",
    "    if not df.index.name == 'join_col':\n",
    "      df = df.set_index('join_col')  # Replace 'join_col' if needed\n",
    "    if not df.index.dtype == df_base.index.dtype:\n",
    "      raise ValueError(\"Dataframe indexes must have compatible data types\")\n",
    "    result = result.join(df, how='left', sort=False)  # Avoid unnecessary sorting\n",
    "\n",
    "  return result.reset_index()  # Reset index for easier use\n",
    "\n",
    "# Example usage (replace with your actual dataframes)\n",
    "df_base = pd.DataFrame({'data': ['a', 'b', 'c']}, index=[1, 2, 3])\n",
    "df_a = pd.DataFrame({'data_a': ['x', 'y']}, index=[1, 4])\n",
    "df_b = pd.DataFrame({'data_b': [10, 20]}, index=[2, 5])\n",
    "df_j = pd.DataFrame({'data_j': ['z', None]}, index=[3, 6])  # Include None to test handling\n",
    "\n",
    "dfs_list = [df_a, df_b, df_j]\n",
    "\n",
    "joined_df = left_join_multiple_dfs_by_index(df_base.copy(), dfs_list)\n",
    "print(joined_df)\n"
   ]
  },
  {
   "cell_type": "markdown",
   "metadata": {},
   "source": [
    "### Understanding the `AgregatedRating` and `ReviewCount` columns."
   ]
  },
  {
   "cell_type": "markdown",
   "metadata": {},
   "source": [
    "First we check the integrity of the `AgregatedRating` and `ReviewCount` columns. This is to make sure we understand what they are. To do so, we will create new columns called `Rating_avg` and `Review_count` that will compute the average rating and review count per recipe. Then we compare `AgregatedRating` vs `Rating_avg` and `ReviewCount` vs `Review_count` so see if they are actually very different or not. If not, we can conlude that it is okat to use the `AgregatedRating` and `ReviewCount` columns."
   ]
  },
  {
   "cell_type": "code",
   "execution_count": 55,
   "metadata": {},
   "outputs": [
    {
     "name": "stdout",
     "output_type": "stream",
     "text": [
      "The following is the number of recipes that has null values in the respective column.\n",
      "\n",
      "AggregatedRating    253223\n",
      "ReviewCount         247489\n",
      "Rating_avg          250843\n",
      "Review_count        250843\n",
      "dtype: int64\n"
     ]
    }
   ],
   "source": [
    "# We retrieve the `Rating_avg` and `Review_count` from the reviews dataframe\n",
    "aggregate_data = reviews_raw.groupby('RecipeId')['Rating'].agg(Rating_avg='mean', Review_count='count').round(2)\n",
    "aggregate_data \n",
    "\n",
    "recipes_comparison = pd.merge(recipes_raw, aggregate_data, left_index=True, right_index=True, how='left')\n",
    "\n",
    "print(\"The following is the number of recipes that has null values in the respective column.\\n\")\n",
    "print(recipes_comparison[['AggregatedRating', 'ReviewCount', 'Rating_avg', 'Review_count']].isnull().sum())"
   ]
  },
  {
   "cell_type": "markdown",
   "metadata": {},
   "source": [
    "Analyzing the difference between `AggregatedRating` and `Rating_avg` columns."
   ]
  },
  {
   "cell_type": "code",
   "execution_count": 67,
   "metadata": {},
   "outputs": [
    {
     "data": {
      "image/png": "[encoded data removed]",
      "text/plain": [
       "<Figure size 640x480 with 1 Axes>"
      ]
     },
     "metadata": {},
     "output_type": "display_data"
    },
    {
     "name": "stdout",
     "output_type": "stream",
     "text": [
      "Only 0.157% of the recipes have a difference > 4 between ReviewCount and Review_count\n"
     ]
    }
   ],
   "source": [
    "recipes_comparison['Difference'] = recipes_comparison['ReviewCount'] - recipes_comparison['Review_count']\n",
    "\n",
    "sns.histplot(data=recipes_comparison, x='Difference', bins=25)\n",
    "plt.xlabel('Difference (ReviewCount - Review_count)')\n",
    "plt.ylabel('Frequency')\n",
    "plt.title('Distribution of Difference')\n",
    "plt.show()\n",
    "\n",
    "percentage = 100 * (len(recipes_comparison[abs(recipes_comparison['Difference'] > 4)]) / len(recipes_comparison))\n",
    "print(f\"Only {round(percentage, 3)}% of the recipes have a difference > 4 between ReviewCount and Review_count\")\n"
   ]
  },
  {
   "cell_type": "markdown",
   "metadata": {},
   "source": [
    "Analyzing the difference between `ReviewCount` and `Review_count` columns."
   ]
  },
  {
   "cell_type": "code",
   "execution_count": 52,
   "metadata": {},
   "outputs": [
    {
     "data": {
      "image/png": "[encoded data removed]",
      "text/plain": [
       "<Figure size 640x480 with 1 Axes>"
      ]
     },
     "metadata": {},
     "output_type": "display_data"
    },
    {
     "name": "stdout",
     "output_type": "stream",
     "text": [
      "Only 3.098% of the recipes have a difference > 1 between AggregatedRating and Rating_avg\n"
     ]
    }
   ],
   "source": [
    "recipes_comparison['Difference'] = recipes_comparison['AggregatedRating'] - recipes_comparison['Rating_avg']\n",
    "\n",
    "sns.histplot(data=recipes_comparison, x='Difference', bins=25)\n",
    "plt.xlabel('Difference (AggregatedRating - Rating_avg)')\n",
    "plt.ylabel('Frequency')\n",
    "plt.title('Distribution of Difference')\n",
    "plt.show()\n",
    "\n",
    "percentage = 100 * (len(recipes_comparison[abs(recipes_comparison['Difference'] > 1)]) / len(recipes_comparison))\n",
    "print(f\"Only {round(percentage, 3)}% of the recipes have a difference > 1 between AggregatedRating and Rating_avg\")"
   ]
  },
  {
   "cell_type": "markdown",
   "metadata": {},
   "source": [
    "We can conclude that both the `AgregatedRating` and `ReviewCount` columns are okay to use as they are. They only thing that needs to be decided is whether we will use either of this two columns for our model. This will be discussed in our Google Doc."
   ]
  }
 ],
 "metadata": {
  "kernelspec": {
   "display_name": "erdos_sp_2024",
   "language": "python",
   "name": "python3"
  },
  "language_info": {
   "codemirror_mode": {
    "name": "ipython",
    "version": 3
   },
   "file_extension": ".py",
   "mimetype": "text/x-python",
   "name": "python",
   "nbconvert_exporter": "python",
   "pygments_lexer": "ipython3",
   "version": "3.11.7"
  }
 },
 "nbformat": 4,
 "nbformat_minor": 2
}
