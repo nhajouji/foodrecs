{
 "cells": [
  {
   "cell_type": "code",
   "execution_count": 1,
   "metadata": {},
   "outputs": [],
   "source": [
    "import pandas as pd\n",
    "import numpy as np\n",
    "import matplotlib.pyplot as plt\n",
    "import seaborn as sns"
   ]
  },
  {
   "cell_type": "markdown",
   "metadata": {},
   "source": [
    "We now use the full dataset to create our final model."
   ]
  },
  {
   "cell_type": "markdown",
   "metadata": {},
   "source": [
    "## Loading/formatting data\n",
    "First, we load our data and format/normalize it so that it can be plugged directly into sklearn."
   ]
  },
  {
   "cell_type": "code",
   "execution_count": 4,
   "metadata": {},
   "outputs": [],
   "source": [
    "reviews = pd.read_parquet('../data/clean_columns/reviews_clean_dense.parquet')\n",
    "reviews['AffinityMatrixValue'] = 1\n",
    "mat_df = pd.pivot_table(data=reviews,index='AuthorId',columns='RecipeId',values='AffinityMatrixValue',fill_value = 0)\n",
    "affinity_matrix = mat_df.values\n",
    "userids_ordered = list(mat_df.index)\n",
    "recipeids_ordered = list(mat_df.columns)\n",
    "affinity_matrix_mean_zero = [r - np.mean(r) for r in affinity_matrix]"
   ]
  },
  {
   "cell_type": "markdown",
   "metadata": {},
   "source": [
    "## Fitting final model\n",
    "We fit the SVD model to the complete affinity matrix."
   ]
  },
  {
   "cell_type": "code",
   "execution_count": 5,
   "metadata": {},
   "outputs": [],
   "source": [
    "from sklearn.decomposition import TruncatedSVD\n",
    "svd = TruncatedSVD(n_components=2)\n",
    "user_matrix = svd.fit_transform(affinity_matrix_mean_zero)\n",
    "recipe_matrix = svd.components_"
   ]
  },
  {
   "cell_type": "code",
   "execution_count": 17,
   "metadata": {},
   "outputs": [],
   "source": [
    "mean_score_on_df = ((np.matmul(user_matrix,recipe_matrix)*affinity_matrix).sum())/(affinity_matrix.sum())"
   ]
  },
  {
   "cell_type": "code",
   "execution_count": 18,
   "metadata": {},
   "outputs": [
    {
     "data": {
      "text/plain": [
       "0.021931745566139416"
      ]
     },
     "execution_count": 18,
     "metadata": {},
     "output_type": "execute_result"
    }
   ],
   "source": [
    "mean_score_on_df"
   ]
  },
  {
   "cell_type": "markdown",
   "metadata": {},
   "source": [
    "This score is actually higher than the raw score we had on the training set."
   ]
  },
  {
   "cell_type": "markdown",
   "metadata": {},
   "source": [
    "## Storing final model\n",
    "\n",
    "We will store the user and recipe vectors in a dataframe.\n",
    "\n",
    "The user vectors will go in their own dataframe"
   ]
  },
  {
   "cell_type": "code",
   "execution_count": 12,
   "metadata": {},
   "outputs": [],
   "source": [
    "uservectors = pd.DataFrame({'AuthorId':userids_ordered,\n",
    "                            'SVD_component0':user_matrix[::,0],\n",
    "                            'SVD_component1':user_matrix[::,1]})\n",
    "uservectors.set_index('AuthorId',inplace=True)"
   ]
  },
  {
   "cell_type": "code",
   "execution_count": 21,
   "metadata": {},
   "outputs": [],
   "source": [
    "uservectors.to_pickle('UserVectors.pk')"
   ]
  },
  {
   "cell_type": "markdown",
   "metadata": {},
   "source": [
    "We will store the recipe vectors obtained from SVD in a dataframe that also contains semantic information about the recipes."
   ]
  },
  {
   "cell_type": "code",
   "execution_count": 19,
   "metadata": {},
   "outputs": [],
   "source": [
    "recipevectors = pd.DataFrame({'RecipeId':recipeids_ordered,\n",
    "                            'SVD_component0':recipe_matrix[0]/mean_score_on_df,\n",
    "                            'SVD_component1':recipe_matrix[1]/mean_score_on_df})\n",
    "recipevectors.set_index('RecipeId',inplace=True)"
   ]
  },
  {
   "cell_type": "code",
   "execution_count": 24,
   "metadata": {},
   "outputs": [],
   "source": [
    "recipe_names = pd.read_parquet('../data/clean_columns/RCnames.parquet')"
   ]
  },
  {
   "cell_type": "code",
   "execution_count": 30,
   "metadata": {},
   "outputs": [],
   "source": [
    "recipe_names['SVDvec'] = [recipevectors.loc[recipevectors.index==recipe_id].values[0]\n",
    "                          for recipe_id in recipe_names.index]"
   ]
  },
  {
   "cell_type": "code",
   "execution_count": 35,
   "metadata": {},
   "outputs": [],
   "source": [
    "recipe_names.to_pickle('RecipeVectorsFull.pk')"
   ]
  },
  {
   "cell_type": "code",
   "execution_count": 33,
   "metadata": {},
   "outputs": [],
   "source": [
    "recipe_names=recipe_names.rename(columns = {'EmbeddedVector':'SemanticVector'})"
   ]
  },
  {
   "cell_type": "code",
   "execution_count": 34,
   "metadata": {},
   "outputs": [
    {
     "data": {
      "text/html": [
       "<div>\n",
       "<style scoped>\n",
       "    .dataframe tbody tr th:only-of-type {\n",
       "        vertical-align: middle;\n",
       "    }\n",
       "\n",
       "    .dataframe tbody tr th {\n",
       "        vertical-align: top;\n",
       "    }\n",
       "\n",
       "    .dataframe thead th {\n",
       "        text-align: right;\n",
       "    }\n",
       "</style>\n",
       "<table border=\"1\" class=\"dataframe\">\n",
       "  <thead>\n",
       "    <tr style=\"text-align: right;\">\n",
       "      <th></th>\n",
       "      <th>Name</th>\n",
       "      <th>Description</th>\n",
       "      <th>SemanticVector</th>\n",
       "      <th>SVDvec</th>\n",
       "    </tr>\n",
       "    <tr>\n",
       "      <th>RecipeId</th>\n",
       "      <th></th>\n",
       "      <th></th>\n",
       "      <th></th>\n",
       "      <th></th>\n",
       "    </tr>\n",
       "  </thead>\n",
       "  <tbody>\n",
       "    <tr>\n",
       "      <th>44</th>\n",
       "      <td>Warm Chicken A La King</td>\n",
       "      <td>I copied this one out of a friend's book so ma...</td>\n",
       "      <td>[-0.054756664, -0.022292135, -0.044101328, 0.0...</td>\n",
       "      <td>[-0.1431959040401045, -0.20815050512749772]</td>\n",
       "    </tr>\n",
       "    <tr>\n",
       "      <th>49</th>\n",
       "      <td>Chicken Breasts Lombardi</td>\n",
       "      <td>Make and share this Chicken Breasts Lombardi r...</td>\n",
       "      <td>[-0.08216415, -0.008401718, 0.013638962, 0.048...</td>\n",
       "      <td>[-0.0924041681197167, -0.2040940378876749]</td>\n",
       "    </tr>\n",
       "    <tr>\n",
       "      <th>54</th>\n",
       "      <td>Carrot Cake</td>\n",
       "      <td>This is one of the few recipes my husband ever...</td>\n",
       "      <td>[-0.10484946, 0.0059982915, 0.004569068, 0.029...</td>\n",
       "      <td>[-0.17736505764494923, -0.19279416904364508]</td>\n",
       "    </tr>\n",
       "    <tr>\n",
       "      <th>56</th>\n",
       "      <td>Buttermilk Pie</td>\n",
       "      <td>This recipe was originally noted by my wife on...</td>\n",
       "      <td>[-0.011826418, 0.018390462, 0.06946771, 0.0831...</td>\n",
       "      <td>[0.6088236073865996, -0.18224591391038716]</td>\n",
       "    </tr>\n",
       "    <tr>\n",
       "      <th>102</th>\n",
       "      <td>Cheesy Scalloped Potato Side Dish</td>\n",
       "      <td>--Adopted Recipe--\\r\\nThis is a simple scallop...</td>\n",
       "      <td>[0.060337774, -0.009301879, -0.07051247, -0.04...</td>\n",
       "      <td>[0.16648108370330122, -0.1342798339332645]</td>\n",
       "    </tr>\n",
       "    <tr>\n",
       "      <th>...</th>\n",
       "      <td>...</td>\n",
       "      <td>...</td>\n",
       "      <td>...</td>\n",
       "      <td>...</td>\n",
       "    </tr>\n",
       "    <tr>\n",
       "      <th>518151</th>\n",
       "      <td>A.1. Pot Stickers With Chili Pineapple Dipping...</td>\n",
       "      <td>A.1. Original Sauce Recipe Contest Entry.  Thi...</td>\n",
       "      <td>[-0.12612435, 0.019836454, 0.0010187336, 0.077...</td>\n",
       "      <td>[-0.193720940401693, -0.23454767279647917]</td>\n",
       "    </tr>\n",
       "    <tr>\n",
       "      <th>518229</th>\n",
       "      <td>Charge Me up A1 Steak &amp;amp; Egg Veggie Breakfa...</td>\n",
       "      <td>A.1. Original Sauce Recipe Contest Entry.  Thi...</td>\n",
       "      <td>[-0.14142397, 0.08370191, 0.011463637, 0.04493...</td>\n",
       "      <td>[-0.19349314077959917, -0.23125625124209565]</td>\n",
       "    </tr>\n",
       "    <tr>\n",
       "      <th>522889</th>\n",
       "      <td>Swiss Eggs</td>\n",
       "      <td>Make and share this Swiss Eggs recipe from Foo...</td>\n",
       "      <td>[-0.058231372, 0.050148107, 0.01968276, 0.0231...</td>\n",
       "      <td>[-0.13180838866567351, 0.5251048551065447]</td>\n",
       "    </tr>\n",
       "    <tr>\n",
       "      <th>536051</th>\n",
       "      <td>Hawaiian Shrimp Truck Special (Garlic Lemon Bu...</td>\n",
       "      <td>Caramelized garlic and lemon with a little spi...</td>\n",
       "      <td>[-0.119834416, 0.049414597, 0.036506254, 0.074...</td>\n",
       "      <td>[-0.1341045063725916, 0.5971410490939244]</td>\n",
       "    </tr>\n",
       "    <tr>\n",
       "      <th>536119</th>\n",
       "      <td>Hawaiian Slaw</td>\n",
       "      <td>Make and share this Hawaiian Slaw recipe from ...</td>\n",
       "      <td>[-0.06413592, 0.0111657465, -0.047110878, 0.09...</td>\n",
       "      <td>[-0.13746701806888578, 0.1960651807672425]</td>\n",
       "    </tr>\n",
       "  </tbody>\n",
       "</table>\n",
       "<p>18994 rows × 4 columns</p>\n",
       "</div>"
      ],
      "text/plain": [
       "                                                       Name  \\\n",
       "RecipeId                                                      \n",
       "44                                   Warm Chicken A La King   \n",
       "49                                 Chicken Breasts Lombardi   \n",
       "54                                              Carrot Cake   \n",
       "56                                           Buttermilk Pie   \n",
       "102                       Cheesy Scalloped Potato Side Dish   \n",
       "...                                                     ...   \n",
       "518151    A.1. Pot Stickers With Chili Pineapple Dipping...   \n",
       "518229    Charge Me up A1 Steak &amp; Egg Veggie Breakfa...   \n",
       "522889                                           Swiss Eggs   \n",
       "536051    Hawaiian Shrimp Truck Special (Garlic Lemon Bu...   \n",
       "536119                                        Hawaiian Slaw   \n",
       "\n",
       "                                                Description  \\\n",
       "RecipeId                                                      \n",
       "44        I copied this one out of a friend's book so ma...   \n",
       "49        Make and share this Chicken Breasts Lombardi r...   \n",
       "54        This is one of the few recipes my husband ever...   \n",
       "56        This recipe was originally noted by my wife on...   \n",
       "102       --Adopted Recipe--\\r\\nThis is a simple scallop...   \n",
       "...                                                     ...   \n",
       "518151    A.1. Original Sauce Recipe Contest Entry.  Thi...   \n",
       "518229    A.1. Original Sauce Recipe Contest Entry.  Thi...   \n",
       "522889    Make and share this Swiss Eggs recipe from Foo...   \n",
       "536051    Caramelized garlic and lemon with a little spi...   \n",
       "536119    Make and share this Hawaiian Slaw recipe from ...   \n",
       "\n",
       "                                             SemanticVector  \\\n",
       "RecipeId                                                      \n",
       "44        [-0.054756664, -0.022292135, -0.044101328, 0.0...   \n",
       "49        [-0.08216415, -0.008401718, 0.013638962, 0.048...   \n",
       "54        [-0.10484946, 0.0059982915, 0.004569068, 0.029...   \n",
       "56        [-0.011826418, 0.018390462, 0.06946771, 0.0831...   \n",
       "102       [0.060337774, -0.009301879, -0.07051247, -0.04...   \n",
       "...                                                     ...   \n",
       "518151    [-0.12612435, 0.019836454, 0.0010187336, 0.077...   \n",
       "518229    [-0.14142397, 0.08370191, 0.011463637, 0.04493...   \n",
       "522889    [-0.058231372, 0.050148107, 0.01968276, 0.0231...   \n",
       "536051    [-0.119834416, 0.049414597, 0.036506254, 0.074...   \n",
       "536119    [-0.06413592, 0.0111657465, -0.047110878, 0.09...   \n",
       "\n",
       "                                                SVDvec  \n",
       "RecipeId                                                \n",
       "44         [-0.1431959040401045, -0.20815050512749772]  \n",
       "49          [-0.0924041681197167, -0.2040940378876749]  \n",
       "54        [-0.17736505764494923, -0.19279416904364508]  \n",
       "56          [0.6088236073865996, -0.18224591391038716]  \n",
       "102         [0.16648108370330122, -0.1342798339332645]  \n",
       "...                                                ...  \n",
       "518151      [-0.193720940401693, -0.23454767279647917]  \n",
       "518229    [-0.19349314077959917, -0.23125625124209565]  \n",
       "522889      [-0.13180838866567351, 0.5251048551065447]  \n",
       "536051       [-0.1341045063725916, 0.5971410490939244]  \n",
       "536119      [-0.13746701806888578, 0.1960651807672425]  \n",
       "\n",
       "[18994 rows x 4 columns]"
      ]
     },
     "execution_count": 34,
     "metadata": {},
     "output_type": "execute_result"
    }
   ],
   "source": [
    "recipe_names"
   ]
  },
  {
   "cell_type": "code",
   "execution_count": null,
   "metadata": {},
   "outputs": [],
   "source": [
    "recipe_names = pd.read_parquet('../data/clean_columns/RCnames.parquet')\n",
    "recipe_names['SVDvec'] = [np.transpose(rmat)[recipe_id_to_index[rec_id]]\n",
    "                          for rec_id in recipe_names.index]\n",
    "mean_length = recipe_names['SVDvec'].apply(lambda x:np.linalg.norm(x)).mean()\n",
    "recipe_names['SVDvec_norm'] = recipe_names.SVDvec/mean_length\n",
    "recipe_names = recipe_names[['Name','SVDvec_norm']]"
   ]
  },
  {
   "cell_type": "markdown",
   "metadata": {},
   "source": [
    "## Visualizing the final model\n",
    "\n",
    "Our final embeddings live in $\\mathbb{R}^2$ so we can visualize the result without needing to do any additional dimension reduction."
   ]
  },
  {
   "cell_type": "code",
   "execution_count": 83,
   "metadata": {},
   "outputs": [],
   "source": [
    "import matplotlib as mpl\n",
    "cmap = mpl.colormaps['hsv']\n"
   ]
  },
  {
   "cell_type": "code",
   "execution_count": 86,
   "metadata": {},
   "outputs": [
    {
     "data": {
      "image/png": "[encoded data removed]",
      "text/plain": [
       "<Figure size 640x480 with 1 Axes>"
      ]
     },
     "metadata": {},
     "output_type": "display_data"
    }
   ],
   "source": [
    "df0 = recipe_names.sample(7,random_state=3)\n",
    "pts = df0.SVDvec.values\n",
    "xs = np.transpose(list(pts))[0]\n",
    "ys = np.transpose(list(pts))[1]\n",
    "names = list(df0.Name)\n",
    "\n",
    "fig,ax = plt.subplots()\n",
    "ax.scatter(xs,ys)\n",
    "for i, txt in enumerate(names):\n",
    "    ax.annotate(txt, (xs[i], ys[i]))\n",
    "    plt.arrow(x=0,y=0,dx = xs[i],dy=ys[i],head_width = 0.008,color=cmap(i/len(names)))\n",
    "\n",
    "\n",
    "ax.axis('off')\n",
    "plt.gca().set_aspect('equal')\n",
    "plt.title('Final embedding in R^2 using SVD',loc='right')\n",
    "plt.show()"
   ]
  },
  {
   "cell_type": "code",
   "execution_count": null,
   "metadata": {},
   "outputs": [],
   "source": [
    "\n",
    "plt.arrow(x=0,y=0,dx = xs[i],dy=ys[i],head_width = 0.04)\n",
    "plt.arrow(x=0,y=0,dx = -np.sqrt(3/4),dy=-0.5,head_width = 0.04)"
   ]
  }
 ],
 "metadata": {
  "kernelspec": {
   "display_name": "Python 3",
   "language": "python",
   "name": "python3"
  },
  "language_info": {
   "codemirror_mode": {
    "name": "ipython",
    "version": 3
   },
   "file_extension": ".py",
   "mimetype": "text/x-python",
   "name": "python",
   "nbconvert_exporter": "python",
   "pygments_lexer": "ipython3",
   "version": "3.11.3"
  }
 },
 "nbformat": 4,
 "nbformat_minor": 2
}
