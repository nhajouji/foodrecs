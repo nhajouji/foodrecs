{
 "cells": [
  {
   "cell_type": "code",
   "execution_count": 1,
   "metadata": {},
   "outputs": [],
   "source": [
    "import pandas as pd\n",
    "import numpy as np\n",
    "import matplotlib.pyplot as plt\n",
    "import seaborn as sns"
   ]
  },
  {
   "cell_type": "markdown",
   "metadata": {},
   "source": [
    "# Matrix Factorizations from SVD\n",
    "\n",
    "We can obtain a matrix factorization directly from the review data by using singular value decompositions: all we need to do is specify a rank.\n",
    "\n",
    "We will use a kfold CV to find the rank."
   ]
  },
  {
   "cell_type": "markdown",
   "metadata": {},
   "source": [
    "## Set-up\n",
    "To begin, we load our data and do our splits."
   ]
  },
  {
   "cell_type": "code",
   "execution_count": 3,
   "metadata": {},
   "outputs": [],
   "source": [
    "reviews = pd.read_parquet('../data/clean_columns/reviews_clean_dense.parquet')"
   ]
  },
  {
   "cell_type": "code",
   "execution_count": 4,
   "metadata": {},
   "outputs": [],
   "source": [
    "from sklearn.model_selection import train_test_split\n",
    "rev_train, rev_test = train_test_split(reviews,test_size=0.2,random_state=202456,stratify = reviews.AuthorId)"
   ]
  },
  {
   "cell_type": "code",
   "execution_count": 5,
   "metadata": {},
   "outputs": [],
   "source": [
    "from sklearn.model_selection import StratifiedKFold\n",
    "\n",
    "n_splits = 4\n",
    "\n",
    "## Make the kfold object\n",
    "kfold = StratifiedKFold(n_splits,\n",
    "                        random_state=202456, \n",
    "                        shuffle=True)"
   ]
  },
  {
   "cell_type": "markdown",
   "metadata": {},
   "source": [
    "We will need to turn each split into an affinity matrix, and keep track of the order of authors/recipes in each matrix."
   ]
  },
  {
   "cell_type": "code",
   "execution_count": 6,
   "metadata": {},
   "outputs": [],
   "source": [
    "dfs = {}\n",
    "for i, (tti, hoi) in enumerate(kfold.split(rev_train, rev_train.AuthorId)):\n",
    "    rtt = rev_train.iloc[tti].copy()\n",
    "    rho = rev_train.iloc[hoi].copy()\n",
    "    dfs[i] = {'Train':rtt,'Holdout':rho}\n",
    "\n",
    "matrices = {}\n",
    "userlists_ordered = {}\n",
    "recipelists = {}\n",
    "userdics= {}\n",
    "recipedics = {}\n",
    "for i in dfs:\n",
    "    dfi_train = dfs[i]['Train']\n",
    "    dfi_train['InTraining'] = 1\n",
    "    mat_df_train = pd.pivot_table(data=dfi_train,index='AuthorId',columns='RecipeId',values='InTraining',fill_value = 0)\n",
    "    user_ids_ordered = list(mat_df_train.index)\n",
    "    recipe_ids_ordered = list(mat_df_train.columns)\n",
    "    userlists_ordered[i] = user_ids_ordered\n",
    "    recipelists[i] = recipe_ids_ordered\n",
    "    userdics[i] = {user_ids_ordered[i]:i for i in range(len(user_ids_ordered))}\n",
    "    recipedics[i] = {recipe_ids_ordered[i]:i for i in range(len(recipe_ids_ordered))}\n",
    "    matrices[i] = mat_df_train.values\n",
    "\n",
    "holdout_matrices = {}\n",
    "\n",
    "for i in range(4):\n",
    "    user_to_inds = userdics[i]\n",
    "    recipe_to_inds = recipedics[i]\n",
    "    mat_holdout = 0 * matrices[i]\n",
    "    dfi = dfs[i]['Holdout']\n",
    "    for review in dfi.index:\n",
    "        user = dfi['AuthorId'][review]\n",
    "        recipe = dfi['RecipeId'][review]\n",
    "        user_index = user_to_inds[user]\n",
    "        if recipe in recipe_to_inds:\n",
    "            recipe_index = recipe_to_inds[recipe]\n",
    "            mat_holdout[user_index][recipe_index] +=1\n",
    "    holdout_matrices[i] = mat_holdout\n"
   ]
  },
  {
   "cell_type": "markdown",
   "metadata": {},
   "source": [
    "When we compute the factorizations, we will need to translate the rows so that they have mean 0. To avoid having to repeat this computation, we store those matrices in a dictionary."
   ]
  },
  {
   "cell_type": "code",
   "execution_count": 13,
   "metadata": {},
   "outputs": [],
   "source": [
    "matrices_0meanrows = {i:np.array([r-np.mean(r) for r in matrices[i]])\n",
    "                      for i in matrices}"
   ]
  },
  {
   "cell_type": "markdown",
   "metadata": {},
   "source": [
    "## SVD hyperparameter tuning"
   ]
  },
  {
   "cell_type": "code",
   "execution_count": 5,
   "metadata": {},
   "outputs": [],
   "source": [
    "from sklearn.decomposition import TruncatedSVD"
   ]
  },
  {
   "cell_type": "markdown",
   "metadata": {},
   "source": [
    "We're going to use the 'TruncatedSVD' tool to obtain a factorization. There are two hyperparameters we will adjust: the number of iterations, and the rank of the factorization. \n",
    "\n",
    "We will start with a small set of parameters to get a sense of where we should invest our computing resources."
   ]
  },
  {
   "cell_type": "code",
   "execution_count": 15,
   "metadata": {},
   "outputs": [
    {
     "name": "stdout",
     "output_type": "stream",
     "text": [
      "n = 5, r = 4 finished\n",
      "n = 5, r = 8 finished\n",
      "n = 5, r = 16 finished\n",
      "n = 5, r = 32 finished\n",
      "n = 20, r = 4 finished\n",
      "n = 20, r = 8 finished\n",
      "n = 20, r = 16 finished\n",
      "n = 20, r = 32 finished\n"
     ]
    }
   ],
   "source": [
    "num_iterations = [5,20]\n",
    "ranks = [4,8,16,32]\n",
    "\n",
    "matrix_facs = {}\n",
    "for n in num_iterations:\n",
    "    for r in ranks:\n",
    "        svd = TruncatedSVD(n_components=r,n_iter=n)\n",
    "        for i in matrices:\n",
    "            matrix = matrices_0meanrows[i]\n",
    "            umat = svd.fit_transform(matrix)\n",
    "            rmat=svd.components_\n",
    "            matrix_facs[(n,r,i)] = (umat,rmat)\n",
    "        print('n = '+str(n)+', r = '+str(r)+' finished')\n",
    "            \n",
    "            "
   ]
  },
  {
   "cell_type": "markdown",
   "metadata": {},
   "source": [
    "The following function returns a summary of the important information for each pair of parameters $n,r$."
   ]
  },
  {
   "cell_type": "code",
   "execution_count": 28,
   "metadata": {},
   "outputs": [],
   "source": [
    "def score(n,r):\n",
    "    summary = {'mean_train':[],\n",
    "               'mean_holdout':[],\n",
    "               'global_mean':[],\n",
    "               'holdout_norm':[],\n",
    "               'global_mean_norm':[]}\n",
    "    for i in range(4):\n",
    "        U,R = matrix_facs[(n,r,i)]\n",
    "        mat_approx = np.matmul(U,R)\n",
    "        mean_train = sum([sum(r) for r in (mat_approx*matrices[i])])/len(dfs[i]['Train'])\n",
    "        mean_holdout = sum([sum(r) for r in (mat_approx*holdout_matrices[i])])/len(dfs[i]['Holdout'])\n",
    "        global_mean = np.mean([np.mean(r) for r in mat_approx])\n",
    "        summary['mean_train'].append(mean_train)\n",
    "        summary['mean_holdout'].append(mean_holdout)\n",
    "        summary['global_mean'].append(global_mean)\n",
    "        summary['holdout_norm'].append(mean_holdout/mean_train)\n",
    "        summary['global_mean_norm'].append(global_mean/mean_train)\n",
    "    for cat in summary:\n",
    "        summary[cat] = np.mean(summary[cat])\n",
    "    return summary"
   ]
  },
  {
   "cell_type": "code",
   "execution_count": 31,
   "metadata": {},
   "outputs": [
    {
     "name": "stdout",
     "output_type": "stream",
     "text": [
      "n = 5, r = 4 summarized\n",
      "n = 5, r = 8 summarized\n",
      "n = 5, r = 16 summarized\n",
      "n = 5, r = 32 summarized\n",
      "n = 20, r = 4 summarized\n",
      "n = 20, r = 8 summarized\n",
      "n = 20, r = 16 summarized\n",
      "n = 20, r = 32 summarized\n"
     ]
    }
   ],
   "source": [
    "data = {'parameters':[],'mean_train':[],'mean_holdout':[],'global_mean':[],\n",
    "        'holdout_norm':[],'global_mean_norm':[]}\n",
    "\n",
    "for n in num_iterations:\n",
    "    for r in ranks:\n",
    "        summary = score(n,r)\n",
    "        data['parameters'].append((n,r))\n",
    "        for cat in summary:\n",
    "            data[cat].append(summary[cat])\n",
    "        print('n = '+str(n)+', r = '+str(r)+' summarized')"
   ]
  },
  {
   "cell_type": "code",
   "execution_count": 34,
   "metadata": {},
   "outputs": [],
   "source": [
    "summaries = pd.DataFrame(data=data)\n",
    "summaries.set_index('parameters',inplace=True)"
   ]
  },
  {
   "cell_type": "code",
   "execution_count": 35,
   "metadata": {},
   "outputs": [
    {
     "data": {
      "text/html": [
       "<div>\n",
       "<style scoped>\n",
       "    .dataframe tbody tr th:only-of-type {\n",
       "        vertical-align: middle;\n",
       "    }\n",
       "\n",
       "    .dataframe tbody tr th {\n",
       "        vertical-align: top;\n",
       "    }\n",
       "\n",
       "    .dataframe thead th {\n",
       "        text-align: right;\n",
       "    }\n",
       "</style>\n",
       "<table border=\"1\" class=\"dataframe\">\n",
       "  <thead>\n",
       "    <tr style=\"text-align: right;\">\n",
       "      <th></th>\n",
       "      <th>mean_train</th>\n",
       "      <th>mean_holdout</th>\n",
       "      <th>global_mean</th>\n",
       "      <th>holdout_norm</th>\n",
       "      <th>global_mean_norm</th>\n",
       "    </tr>\n",
       "    <tr>\n",
       "      <th>parameters</th>\n",
       "      <th></th>\n",
       "      <th></th>\n",
       "      <th></th>\n",
       "      <th></th>\n",
       "      <th></th>\n",
       "    </tr>\n",
       "  </thead>\n",
       "  <tbody>\n",
       "    <tr>\n",
       "      <th>(5, 4)</th>\n",
       "      <td>0.021738</td>\n",
       "      <td>0.009860</td>\n",
       "      <td>7.556346e-22</td>\n",
       "      <td>0.453581</td>\n",
       "      <td>4.092739e-20</td>\n",
       "    </tr>\n",
       "    <tr>\n",
       "      <th>(5, 8)</th>\n",
       "      <td>0.033104</td>\n",
       "      <td>0.009245</td>\n",
       "      <td>6.983127e-21</td>\n",
       "      <td>0.279263</td>\n",
       "      <td>2.145394e-19</td>\n",
       "    </tr>\n",
       "    <tr>\n",
       "      <th>(5, 16)</th>\n",
       "      <td>0.052434</td>\n",
       "      <td>0.008597</td>\n",
       "      <td>-2.160812e-22</td>\n",
       "      <td>0.163950</td>\n",
       "      <td>-4.672367e-21</td>\n",
       "    </tr>\n",
       "    <tr>\n",
       "      <th>(5, 32)</th>\n",
       "      <td>0.083046</td>\n",
       "      <td>0.007634</td>\n",
       "      <td>6.654104e-21</td>\n",
       "      <td>0.091929</td>\n",
       "      <td>7.857791e-20</td>\n",
       "    </tr>\n",
       "    <tr>\n",
       "      <th>(20, 4)</th>\n",
       "      <td>0.021777</td>\n",
       "      <td>0.009822</td>\n",
       "      <td>2.250509e-22</td>\n",
       "      <td>0.451016</td>\n",
       "      <td>8.763513e-21</td>\n",
       "    </tr>\n",
       "    <tr>\n",
       "      <th>(20, 8)</th>\n",
       "      <td>0.033273</td>\n",
       "      <td>0.009261</td>\n",
       "      <td>-7.404996e-20</td>\n",
       "      <td>0.278352</td>\n",
       "      <td>-2.230325e-18</td>\n",
       "    </tr>\n",
       "    <tr>\n",
       "      <th>(20, 16)</th>\n",
       "      <td>0.052870</td>\n",
       "      <td>0.008693</td>\n",
       "      <td>-6.409499e-21</td>\n",
       "      <td>0.164413</td>\n",
       "      <td>-1.212418e-19</td>\n",
       "    </tr>\n",
       "    <tr>\n",
       "      <th>(20, 32)</th>\n",
       "      <td>0.083961</td>\n",
       "      <td>0.007582</td>\n",
       "      <td>-2.232477e-20</td>\n",
       "      <td>0.090307</td>\n",
       "      <td>-2.651777e-19</td>\n",
       "    </tr>\n",
       "  </tbody>\n",
       "</table>\n",
       "</div>"
      ],
      "text/plain": [
       "            mean_train  mean_holdout   global_mean  holdout_norm  \\\n",
       "parameters                                                         \n",
       "(5, 4)        0.021738      0.009860  7.556346e-22      0.453581   \n",
       "(5, 8)        0.033104      0.009245  6.983127e-21      0.279263   \n",
       "(5, 16)       0.052434      0.008597 -2.160812e-22      0.163950   \n",
       "(5, 32)       0.083046      0.007634  6.654104e-21      0.091929   \n",
       "(20, 4)       0.021777      0.009822  2.250509e-22      0.451016   \n",
       "(20, 8)       0.033273      0.009261 -7.404996e-20      0.278352   \n",
       "(20, 16)      0.052870      0.008693 -6.409499e-21      0.164413   \n",
       "(20, 32)      0.083961      0.007582 -2.232477e-20      0.090307   \n",
       "\n",
       "            global_mean_norm  \n",
       "parameters                    \n",
       "(5, 4)          4.092739e-20  \n",
       "(5, 8)          2.145394e-19  \n",
       "(5, 16)        -4.672367e-21  \n",
       "(5, 32)         7.857791e-20  \n",
       "(20, 4)         8.763513e-21  \n",
       "(20, 8)        -2.230325e-18  \n",
       "(20, 16)       -1.212418e-19  \n",
       "(20, 32)       -2.651777e-19  "
      ]
     },
     "execution_count": 35,
     "metadata": {},
     "output_type": "execute_result"
    }
   ],
   "source": [
    "summaries"
   ]
  },
  {
   "cell_type": "markdown",
   "metadata": {},
   "source": [
    "It looks like we do significantly better when the rank is low. Increasing the number of iterations doesn't appear to help, so we will keep the number of iterations at 5 and do a second batch of testing where we only vary the rank."
   ]
  },
  {
   "cell_type": "code",
   "execution_count": 38,
   "metadata": {},
   "outputs": [
    {
     "name": "stdout",
     "output_type": "stream",
     "text": [
      "rank = 2 finished\n",
      "rank = 3 finished\n",
      "rank = 4 finished\n",
      "rank = 5 finished\n",
      "rank = 6 finished\n",
      "rank = 7 finished\n",
      "rank = 8 finished\n",
      "rank = 9 finished\n",
      "rank = 10 finished\n",
      "rank = 11 finished\n"
     ]
    }
   ],
   "source": [
    "n = 5\n",
    "ranks = [r for r in range(2,12)]\n",
    "\n",
    "matrix_facs_by_rank = {}\n",
    "for r in ranks:\n",
    "    svd = TruncatedSVD(n_components=r,n_iter=n)\n",
    "    for i in matrices:\n",
    "        matrix = matrices_0meanrows[i]\n",
    "        umat = svd.fit_transform(matrix)\n",
    "        rmat=svd.components_\n",
    "        matrix_facs[(n,r,i)] = (umat,rmat)\n",
    "    print('rank = '+str(r)+' finished')\n",
    "            \n",
    "            "
   ]
  },
  {
   "cell_type": "code",
   "execution_count": 40,
   "metadata": {},
   "outputs": [
    {
     "name": "stdout",
     "output_type": "stream",
     "text": [
      "rank r = 2 summarized\n",
      "rank r = 3 summarized\n",
      "rank r = 4 summarized\n",
      "rank r = 5 summarized\n",
      "rank r = 6 summarized\n",
      "rank r = 7 summarized\n",
      "rank r = 8 summarized\n",
      "rank r = 9 summarized\n",
      "rank r = 10 summarized\n",
      "rank r = 11 summarized\n"
     ]
    }
   ],
   "source": [
    "data2 = {'rank':[],'mean_train':[],'mean_holdout':[],'global_mean':[],\n",
    "        'holdout_norm':[],'global_mean_norm':[]}\n",
    "\n",
    "n = 5\n",
    "for r in ranks:\n",
    "    summary = score(n,r)\n",
    "    data2['rank'].append(r)\n",
    "    for cat in summary:\n",
    "        data2[cat].append(summary[cat])\n",
    "    print('rank r = '+str(r)+' summarized')\n",
    "\n",
    "summaries2 = pd.DataFrame(data=data2)\n",
    "summaries2.set_index('rank',inplace=True)"
   ]
  },
  {
   "cell_type": "code",
   "execution_count": 41,
   "metadata": {},
   "outputs": [
    {
     "data": {
      "text/html": [
       "<div>\n",
       "<style scoped>\n",
       "    .dataframe tbody tr th:only-of-type {\n",
       "        vertical-align: middle;\n",
       "    }\n",
       "\n",
       "    .dataframe tbody tr th {\n",
       "        vertical-align: top;\n",
       "    }\n",
       "\n",
       "    .dataframe thead th {\n",
       "        text-align: right;\n",
       "    }\n",
       "</style>\n",
       "<table border=\"1\" class=\"dataframe\">\n",
       "  <thead>\n",
       "    <tr style=\"text-align: right;\">\n",
       "      <th></th>\n",
       "      <th>mean_train</th>\n",
       "      <th>mean_holdout</th>\n",
       "      <th>global_mean</th>\n",
       "      <th>holdout_norm</th>\n",
       "      <th>global_mean_norm</th>\n",
       "    </tr>\n",
       "    <tr>\n",
       "      <th>rank</th>\n",
       "      <th></th>\n",
       "      <th></th>\n",
       "      <th></th>\n",
       "      <th></th>\n",
       "      <th></th>\n",
       "    </tr>\n",
       "  </thead>\n",
       "  <tbody>\n",
       "    <tr>\n",
       "      <th>2</th>\n",
       "      <td>0.014645</td>\n",
       "      <td>0.010408</td>\n",
       "      <td>-4.860716e-20</td>\n",
       "      <td>0.710705</td>\n",
       "      <td>-3.310218e-18</td>\n",
       "    </tr>\n",
       "    <tr>\n",
       "      <th>3</th>\n",
       "      <td>0.018501</td>\n",
       "      <td>0.010120</td>\n",
       "      <td>1.040355e-20</td>\n",
       "      <td>0.547055</td>\n",
       "      <td>5.513498e-19</td>\n",
       "    </tr>\n",
       "    <tr>\n",
       "      <th>4</th>\n",
       "      <td>0.021738</td>\n",
       "      <td>0.009771</td>\n",
       "      <td>9.283791e-21</td>\n",
       "      <td>0.449466</td>\n",
       "      <td>4.255885e-19</td>\n",
       "    </tr>\n",
       "    <tr>\n",
       "      <th>5</th>\n",
       "      <td>0.024862</td>\n",
       "      <td>0.009481</td>\n",
       "      <td>1.432915e-20</td>\n",
       "      <td>0.381349</td>\n",
       "      <td>5.752802e-19</td>\n",
       "    </tr>\n",
       "    <tr>\n",
       "      <th>6</th>\n",
       "      <td>0.027635</td>\n",
       "      <td>0.009417</td>\n",
       "      <td>3.327774e-20</td>\n",
       "      <td>0.340780</td>\n",
       "      <td>1.204686e-18</td>\n",
       "    </tr>\n",
       "    <tr>\n",
       "      <th>7</th>\n",
       "      <td>0.030425</td>\n",
       "      <td>0.009374</td>\n",
       "      <td>-2.056244e-20</td>\n",
       "      <td>0.308106</td>\n",
       "      <td>-6.754354e-19</td>\n",
       "    </tr>\n",
       "    <tr>\n",
       "      <th>8</th>\n",
       "      <td>0.033107</td>\n",
       "      <td>0.009279</td>\n",
       "      <td>1.333833e-20</td>\n",
       "      <td>0.280270</td>\n",
       "      <td>4.025914e-19</td>\n",
       "    </tr>\n",
       "    <tr>\n",
       "      <th>9</th>\n",
       "      <td>0.035729</td>\n",
       "      <td>0.009122</td>\n",
       "      <td>-4.764648e-20</td>\n",
       "      <td>0.255306</td>\n",
       "      <td>-1.337654e-18</td>\n",
       "    </tr>\n",
       "    <tr>\n",
       "      <th>10</th>\n",
       "      <td>0.038312</td>\n",
       "      <td>0.008909</td>\n",
       "      <td>4.377792e-20</td>\n",
       "      <td>0.232537</td>\n",
       "      <td>1.142063e-18</td>\n",
       "    </tr>\n",
       "    <tr>\n",
       "      <th>11</th>\n",
       "      <td>0.040894</td>\n",
       "      <td>0.008907</td>\n",
       "      <td>-4.984089e-20</td>\n",
       "      <td>0.217815</td>\n",
       "      <td>-1.221240e-18</td>\n",
       "    </tr>\n",
       "  </tbody>\n",
       "</table>\n",
       "</div>"
      ],
      "text/plain": [
       "      mean_train  mean_holdout   global_mean  holdout_norm  global_mean_norm\n",
       "rank                                                                        \n",
       "2       0.014645      0.010408 -4.860716e-20      0.710705     -3.310218e-18\n",
       "3       0.018501      0.010120  1.040355e-20      0.547055      5.513498e-19\n",
       "4       0.021738      0.009771  9.283791e-21      0.449466      4.255885e-19\n",
       "5       0.024862      0.009481  1.432915e-20      0.381349      5.752802e-19\n",
       "6       0.027635      0.009417  3.327774e-20      0.340780      1.204686e-18\n",
       "7       0.030425      0.009374 -2.056244e-20      0.308106     -6.754354e-19\n",
       "8       0.033107      0.009279  1.333833e-20      0.280270      4.025914e-19\n",
       "9       0.035729      0.009122 -4.764648e-20      0.255306     -1.337654e-18\n",
       "10      0.038312      0.008909  4.377792e-20      0.232537      1.142063e-18\n",
       "11      0.040894      0.008907 -4.984089e-20      0.217815     -1.221240e-18"
      ]
     },
     "execution_count": 41,
     "metadata": {},
     "output_type": "execute_result"
    }
   ],
   "source": [
    "summaries2"
   ]
  },
  {
   "cell_type": "markdown",
   "metadata": {},
   "source": [
    "Surprisingly, the models with the smallest ranks perform best."
   ]
  },
  {
   "cell_type": "markdown",
   "metadata": {},
   "source": [
    "## Final score \n",
    "We use our whole training set and compute the score for the $r = 2$ model."
   ]
  },
  {
   "cell_type": "code",
   "execution_count": 7,
   "metadata": {},
   "outputs": [],
   "source": [
    "rev_train['InTraining'] = 1\n",
    "mat_df_train = pd.pivot_table(data=rev_train,index='AuthorId',columns='RecipeId',values='InTraining',fill_value = 0)\n",
    "user_ids_ordered = list(mat_df_train.index)\n",
    "recipe_ids_ordered = list(mat_df_train.columns)\n",
    "mat_train = mat_df_train.values\n",
    "user_to_inds = {user_ids_ordered[i]:i for i in range(len(user_ids_ordered))}\n",
    "recipe_to_inds = {recipe_ids_ordered[i]:i for i in range(len(recipe_ids_ordered))}\n",
    "mat_holdout = 0 * mat_train\n",
    "for review in rev_test.index:\n",
    "    user = rev_test['AuthorId'][review]\n",
    "    recipe = rev_test['RecipeId'][review]\n",
    "    user_index = user_to_inds[user]\n",
    "    recipe_index = recipe_to_inds[recipe]\n",
    "    mat_holdout[user_index][recipe_index] +=1"
   ]
  },
  {
   "cell_type": "code",
   "execution_count": 8,
   "metadata": {},
   "outputs": [
    {
     "name": "stdout",
     "output_type": "stream",
     "text": [
      "Normalized test mean:0.8028411103761666\n",
      "Normalized global mean:4.84123336078485e-18\n"
     ]
    }
   ],
   "source": [
    "mat_train_mean0 = [r - np.mean(r) for r in mat_train]\n",
    "svd = TruncatedSVD(n_components=2,n_iter=5)\n",
    "umat = svd.fit_transform(mat_train_mean0)\n",
    "rmat = svd.components_\n",
    "mat_approx = np.matmul(umat,rmat)\n",
    "mean_train = sum([sum(r) for r in (mat_approx*mat_train)])/len(rev_train)\n",
    "mean_holdout = sum([sum(r) for r in (mat_approx*mat_holdout)])/len(rev_test)\n",
    "global_mean = np.mean([np.mean(r) for r in mat_approx])\n",
    "holdout_norm = mean_holdout/mean_train\n",
    "global_norm = global_mean/mean_train\n",
    "print('Normalized test mean:'+str(holdout_norm))\n",
    "print('Normalized global mean:'+str(global_norm))"
   ]
  },
  {
   "cell_type": "markdown",
   "metadata": {},
   "source": [
    "## Exploring final model"
   ]
  },
  {
   "cell_type": "code",
   "execution_count": null,
   "metadata": {},
   "outputs": [],
   "source": [
    "rev_train['InTraining'] = 1\n",
    "mat_df_train = pd.pivot_table(data=rev_train,index='AuthorId',columns='RecipeId',values='InTraining',fill_value = 0)\n",
    "user_ids_ordered = list(mat_df_train.index)\n",
    "recipe_ids_ordered = list(mat_df_train.columns)\n",
    "user_id_to_index = {user_ids_ordered[i]:i for i in range(len(user_ids_ordered))}\n",
    "recipe_id_to_index = {recipe_ids_ordered[i]:i for i in range(len(recipe_ids_ordered))}\n",
    "mat_train = mat_df_train.values\n",
    "\n",
    "holdout_matrix = 0*mat_train\n",
    "\n",
    "for review in rev_test.index:\n",
    "    user = rev_test['AuthorId'][review]\n",
    "    recipe = rev_test['RecipeId'][review]\n",
    "    holdout_matrix[user_id_to_index[user]][recipe_id_to_index[recipe]]+=1\n"
   ]
  },
  {
   "cell_type": "code",
   "execution_count": 10,
   "metadata": {},
   "outputs": [],
   "source": [
    "svd = TruncatedSVD(n_components=2)\n",
    "umat = svd.fit_transform([r-np.mean(r) for r in mat_train])\n",
    "rmat=svd.components_"
   ]
  },
  {
   "cell_type": "code",
   "execution_count": 13,
   "metadata": {},
   "outputs": [],
   "source": [
    "recipe_names = pd.read_parquet('../data/clean_columns/RCnames.parquet')\n",
    "recipe_names['SVDvec'] = [np.transpose(rmat)[recipe_id_to_index[rec_id]]\n",
    "                          for rec_id in recipe_names.index]\n",
    "mean_length = recipe_names['SVDvec'].apply(lambda x:np.linalg.norm(x)).mean()\n",
    "recipe_names['SVDvec_norm'] = recipe_names.SVDvec/mean_length\n",
    "recipe_names = recipe_names[['Name','SVDvec_norm']]"
   ]
  },
  {
   "cell_type": "code",
   "execution_count": 65,
   "metadata": {},
   "outputs": [
    {
     "data": {
      "image/png": "[encoded data removed]",
      "text/plain": [
       "<Figure size 640x480 with 1 Axes>"
      ]
     },
     "metadata": {},
     "output_type": "display_data"
    }
   ],
   "source": [
    "df0 = recipe_names.sample(6,random_state=3)\n",
    "pts = df0.SVDvec_norm.values\n",
    "xs = np.transpose(list(pts))[0]\n",
    "ys = np.transpose(list(pts))[1]\n",
    "names = list(df0.Name)\n",
    "\n",
    "fig,ax = plt.subplots()\n",
    "ax.scatter(xs,ys)\n",
    "for i, txt in enumerate(names):\n",
    "    ax.annotate(txt, (xs[i], ys[i]))\n",
    "\n",
    "plt.arrow(x=0,y=0,dx = 0.5,dy=np.sqrt(3/4),head_width = 0.04)\n",
    "plt.arrow(x=0,y=0,dx = -np.sqrt(3/4),dy=-0.5,head_width = 0.04)\n",
    "ax.axis('off')\n",
    "plt.gca().set_aspect('equal')\n",
    "plt.title('Recipes embedded in R^2 using SVD',loc='right')\n",
    "plt.show()"
   ]
  },
  {
   "cell_type": "code",
   "execution_count": null,
   "metadata": {},
   "outputs": [],
   "source": []
  }
 ],
 "metadata": {
  "kernelspec": {
   "display_name": "Python 3",
   "language": "python",
   "name": "python3"
  },
  "language_info": {
   "codemirror_mode": {
    "name": "ipython",
    "version": 3
   },
   "file_extension": ".py",
   "mimetype": "text/x-python",
   "name": "python",
   "nbconvert_exporter": "python",
   "pygments_lexer": "ipython3",
   "version": "3.11.3"
  }
 },
 "nbformat": 4,
 "nbformat_minor": 2
}
