{
 "cells": [
  {
   "cell_type": "code",
   "execution_count": 3,
   "metadata": {},
   "outputs": [],
   "source": [
    "import pandas as pd\n",
    "import numpy as np\n",
    "import matplotlib.pyplot as plt"
   ]
  },
  {
   "cell_type": "code",
   "execution_count": 4,
   "metadata": {},
   "outputs": [],
   "source": [
    "keyword_df = pd.read_pickle('../data/keywords.pk')\n"
   ]
  },
  {
   "cell_type": "code",
   "execution_count": 5,
   "metadata": {},
   "outputs": [
    {
     "data": {
      "text/html": [
       "<div>\n",
       "<style scoped>\n",
       "    .dataframe tbody tr th:only-of-type {\n",
       "        vertical-align: middle;\n",
       "    }\n",
       "\n",
       "    .dataframe tbody tr th {\n",
       "        vertical-align: top;\n",
       "    }\n",
       "\n",
       "    .dataframe thead th {\n",
       "        text-align: right;\n",
       "    }\n",
       "</style>\n",
       "<table border=\"1\" class=\"dataframe\">\n",
       "  <thead>\n",
       "    <tr style=\"text-align: right;\">\n",
       "      <th></th>\n",
       "      <th>Name</th>\n",
       "      <th>KeywordsTitle</th>\n",
       "      <th>Keywords</th>\n",
       "    </tr>\n",
       "    <tr>\n",
       "      <th>RecipeId</th>\n",
       "      <th></th>\n",
       "      <th></th>\n",
       "      <th></th>\n",
       "    </tr>\n",
       "  </thead>\n",
       "  <tbody>\n",
       "    <tr>\n",
       "      <th>38</th>\n",
       "      <td>low-fat berry blue frozen dessert</td>\n",
       "      <td>[dessert]</td>\n",
       "      <td>[frozen desserts, healthy, freezer, dessert, s...</td>\n",
       "    </tr>\n",
       "    <tr>\n",
       "      <th>40</th>\n",
       "      <td>best lemonade</td>\n",
       "      <td>[lemon]</td>\n",
       "      <td>[healthy, summer, lemon, beverages]</td>\n",
       "    </tr>\n",
       "    <tr>\n",
       "      <th>42</th>\n",
       "      <td>cabbage soup</td>\n",
       "      <td>[cabbage, soup]</td>\n",
       "      <td>[healthy, vegetable, winter, vegan, cabbage, e...</td>\n",
       "    </tr>\n",
       "    <tr>\n",
       "      <th>44</th>\n",
       "      <td>warm chicken a la king</td>\n",
       "      <td>[chicken]</td>\n",
       "      <td>[noodle, pie, potato, rice, chicken, meat, pou...</td>\n",
       "    </tr>\n",
       "    <tr>\n",
       "      <th>45</th>\n",
       "      <td>buttermilk pie with gingersnap crumb crust</td>\n",
       "      <td>[pie]</td>\n",
       "      <td>[pie, healthy, dessert, weeknight, oven]</td>\n",
       "    </tr>\n",
       "    <tr>\n",
       "      <th>...</th>\n",
       "      <td>...</td>\n",
       "      <td>...</td>\n",
       "      <td>...</td>\n",
       "    </tr>\n",
       "    <tr>\n",
       "      <th>539182</th>\n",
       "      <td>cinnamony sweet moroccan orange salad</td>\n",
       "      <td>[salad, moroccan, sweet]</td>\n",
       "      <td>[citrus, healthy, fruit, oranges, sweet, salad...</td>\n",
       "    </tr>\n",
       "    <tr>\n",
       "      <th>539184</th>\n",
       "      <td>belgian chocolate-fudge sauce</td>\n",
       "      <td>[chocolate, belgian, sauce]</td>\n",
       "      <td>[waffle, sauce, chocolate, sauces, belgian, de...</td>\n",
       "    </tr>\n",
       "    <tr>\n",
       "      <th>539304</th>\n",
       "      <td>pork tenderloin with bacon-onion jam</td>\n",
       "      <td>[pork]</td>\n",
       "      <td>[pork, meat]</td>\n",
       "    </tr>\n",
       "    <tr>\n",
       "      <th>540263</th>\n",
       "      <td>ho chi minh limeade</td>\n",
       "      <td>[lime]</td>\n",
       "      <td>[vietnamese, lime, beverages, healthy, sweet, ...</td>\n",
       "    </tr>\n",
       "    <tr>\n",
       "      <th>540370</th>\n",
       "      <td>call me a cab (lemonade vodka wine cocktail)</td>\n",
       "      <td>[lemon]</td>\n",
       "      <td>[beverages, sweet, summer, lemon, easy]</td>\n",
       "    </tr>\n",
       "  </tbody>\n",
       "</table>\n",
       "<p>114744 rows × 3 columns</p>\n",
       "</div>"
      ],
      "text/plain": [
       "                                                  Name  \\\n",
       "RecipeId                                                 \n",
       "38                   low-fat berry blue frozen dessert   \n",
       "40                                       best lemonade   \n",
       "42                                        cabbage soup   \n",
       "44                              warm chicken a la king   \n",
       "45          buttermilk pie with gingersnap crumb crust   \n",
       "...                                                ...   \n",
       "539182           cinnamony sweet moroccan orange salad   \n",
       "539184                   belgian chocolate-fudge sauce   \n",
       "539304            pork tenderloin with bacon-onion jam   \n",
       "540263                             ho chi minh limeade   \n",
       "540370    call me a cab (lemonade vodka wine cocktail)   \n",
       "\n",
       "                        KeywordsTitle  \\\n",
       "RecipeId                                \n",
       "38                          [dessert]   \n",
       "40                            [lemon]   \n",
       "42                    [cabbage, soup]   \n",
       "44                          [chicken]   \n",
       "45                              [pie]   \n",
       "...                               ...   \n",
       "539182       [salad, moroccan, sweet]   \n",
       "539184    [chocolate, belgian, sauce]   \n",
       "539304                         [pork]   \n",
       "540263                         [lime]   \n",
       "540370                        [lemon]   \n",
       "\n",
       "                                                   Keywords  \n",
       "RecipeId                                                     \n",
       "38        [frozen desserts, healthy, freezer, dessert, s...  \n",
       "40                      [healthy, summer, lemon, beverages]  \n",
       "42        [healthy, vegetable, winter, vegan, cabbage, e...  \n",
       "44        [noodle, pie, potato, rice, chicken, meat, pou...  \n",
       "45                 [pie, healthy, dessert, weeknight, oven]  \n",
       "...                                                     ...  \n",
       "539182    [citrus, healthy, fruit, oranges, sweet, salad...  \n",
       "539184    [waffle, sauce, chocolate, sauces, belgian, de...  \n",
       "539304                                         [pork, meat]  \n",
       "540263    [vietnamese, lime, beverages, healthy, sweet, ...  \n",
       "540370              [beverages, sweet, summer, lemon, easy]  \n",
       "\n",
       "[114744 rows x 3 columns]"
      ]
     },
     "execution_count": 5,
     "metadata": {},
     "output_type": "execute_result"
    }
   ],
   "source": [
    "keyword_df"
   ]
  },
  {
   "cell_type": "code",
   "execution_count": 3,
   "metadata": {},
   "outputs": [],
   "source": [
    "keyword_list_orig = []\n",
    "for kwl in keyword_df.Keywords:\n",
    "    keyword_list_orig+=list(kwl)\n",
    "\n",
    "keyword_list_orig_nr = list(set(keyword_list_orig))"
   ]
  },
  {
   "cell_type": "code",
   "execution_count": 19,
   "metadata": {},
   "outputs": [],
   "source": [
    "appliances=['microwave', 'blender','air fryer', 'oven', 'stove','toaster', 'mixer','pot',\n",
    "          'pan', 'kettle', 'rice cooker','cutting board', 'processor', 'peeler',\n",
    "          'spatula','tongs','colander','baking sheet','grater', 'cup','meat grinder','juicer',\n",
    "          'bowl', 'freezer', 'whisk', 'electric', 'grill', 'bread machine', 'convection oven', 'dutch oven'\n",
    "          'deep fryer', 'crepe maker', 'roaster', 'steamer', 'griddle', 'hot plate', \n",
    "          'instant pot', 'pressure cooker', 'crock pot', 'flattop grill', 'slow cooker', \n",
    "          'sous-vide cooker', 'stove', 'waffle iron', 'baster', 'blow torch', 'can opener', \n",
    "          'shredder', 'cheesecloth', 'clay pot', 'corkscrew', 'poacher', 'funnel', 'mill', \n",
    "          'sifter', 'garlic press', 'strainer', 'ladle', 'mandoline', 'tenderiser', 'meat thermometer'\n",
    "          'microplane', 'mortar', 'pestle', 'frother', 'pastry brush', 'masher', 'shears', 'rolling pin',\n",
    "          'scale', 'sieve', 'spider', 'thermometer', 'twine', 'zester']"
   ]
  },
  {
   "cell_type": "code",
   "execution_count": 20,
   "metadata": {},
   "outputs": [
    {
     "data": {
      "text/plain": [
       "2388"
      ]
     },
     "execution_count": 20,
     "metadata": {},
     "output_type": "execute_result"
    }
   ],
   "source": [
    "len([r for r in keyword_df.index if 'pan' in keyword_df['Name'][r]])"
   ]
  },
  {
   "cell_type": "markdown",
   "metadata": {},
   "source": [
    "This seems small for a very common word in recipes. It must not be listed as a keyword as frequently as it is mentioned in a recipe."
   ]
  },
  {
   "cell_type": "code",
   "execution_count": 11,
   "metadata": {},
   "outputs": [
    {
     "data": {
      "text/plain": [
       "886"
      ]
     },
     "execution_count": 11,
     "metadata": {},
     "output_type": "execute_result"
    }
   ],
   "source": [
    "len([r for r in keyword_df.index if 'oven' in keyword_df['Name'][r]])"
   ]
  },
  {
   "cell_type": "code",
   "execution_count": 36,
   "metadata": {},
   "outputs": [
    {
     "data": {
      "text/plain": [
       "13"
      ]
     },
     "execution_count": 36,
     "metadata": {},
     "output_type": "execute_result"
    }
   ],
   "source": [
    "len([r for r in keyword_df.index if 'dutch oven' in keyword_df['Name'][r]])"
   ]
  },
  {
   "cell_type": "code",
   "execution_count": 12,
   "metadata": {},
   "outputs": [
    {
     "data": {
      "text/plain": [
       "2096"
      ]
     },
     "execution_count": 12,
     "metadata": {},
     "output_type": "execute_result"
    }
   ],
   "source": [
    "len([r for r in keyword_df.index if 'crock pot' in keyword_df['Name'][r]])"
   ]
  },
  {
   "cell_type": "markdown",
   "metadata": {},
   "source": [
    "Most of the appliance keywords indicate basic items like oven and pan. I want to find a way to make sure the appliance list includes every appliance actually in the recipe, not just these basic items."
   ]
  },
  {
   "cell_type": "code",
   "execution_count": 21,
   "metadata": {},
   "outputs": [],
   "source": [
    "keyword_df['ApplianceList'] = [set(appliances).intersection(set(kws)) for kws in keyword_df.Keywords]"
   ]
  },
  {
   "cell_type": "code",
   "execution_count": 22,
   "metadata": {},
   "outputs": [],
   "source": [
    "appliances_df = keyword_df.loc[keyword_df['ApplianceList'].apply(len)>0][['Name','ApplianceList']].copy()"
   ]
  },
  {
   "cell_type": "code",
   "execution_count": 24,
   "metadata": {},
   "outputs": [
    {
     "data": {
      "text/html": [
       "<div>\n",
       "<style scoped>\n",
       "    .dataframe tbody tr th:only-of-type {\n",
       "        vertical-align: middle;\n",
       "    }\n",
       "\n",
       "    .dataframe tbody tr th {\n",
       "        vertical-align: top;\n",
       "    }\n",
       "\n",
       "    .dataframe thead th {\n",
       "        text-align: right;\n",
       "    }\n",
       "</style>\n",
       "<table border=\"1\" class=\"dataframe\">\n",
       "  <thead>\n",
       "    <tr style=\"text-align: right;\">\n",
       "      <th></th>\n",
       "      <th>Name</th>\n",
       "      <th>ApplianceList</th>\n",
       "    </tr>\n",
       "    <tr>\n",
       "      <th>RecipeId</th>\n",
       "      <th></th>\n",
       "      <th></th>\n",
       "    </tr>\n",
       "  </thead>\n",
       "  <tbody>\n",
       "    <tr>\n",
       "      <th>38</th>\n",
       "      <td>low-fat berry blue frozen dessert</td>\n",
       "      <td>{freezer}</td>\n",
       "    </tr>\n",
       "    <tr>\n",
       "      <th>45</th>\n",
       "      <td>buttermilk pie with gingersnap crumb crust</td>\n",
       "      <td>{oven}</td>\n",
       "    </tr>\n",
       "    <tr>\n",
       "      <th>49</th>\n",
       "      <td>chicken breasts lombardi</td>\n",
       "      <td>{oven}</td>\n",
       "    </tr>\n",
       "    <tr>\n",
       "      <th>54</th>\n",
       "      <td>carrot cake</td>\n",
       "      <td>{oven}</td>\n",
       "    </tr>\n",
       "    <tr>\n",
       "      <th>56</th>\n",
       "      <td>buttermilk pie</td>\n",
       "      <td>{oven}</td>\n",
       "    </tr>\n",
       "    <tr>\n",
       "      <th>...</th>\n",
       "      <td>...</td>\n",
       "      <td>...</td>\n",
       "    </tr>\n",
       "    <tr>\n",
       "      <th>528649</th>\n",
       "      <td>jack-o-lantern cake</td>\n",
       "      <td>{oven}</td>\n",
       "    </tr>\n",
       "    <tr>\n",
       "      <th>533244</th>\n",
       "      <td>johnny cakes / journey cakes</td>\n",
       "      <td>{oven}</td>\n",
       "    </tr>\n",
       "    <tr>\n",
       "      <th>536843</th>\n",
       "      <td>sheet pan turkey caprese meatballs with rosema...</td>\n",
       "      <td>{oven}</td>\n",
       "    </tr>\n",
       "    <tr>\n",
       "      <th>536845</th>\n",
       "      <td>sheet pan shrimp scampi</td>\n",
       "      <td>{oven}</td>\n",
       "    </tr>\n",
       "    <tr>\n",
       "      <th>538642</th>\n",
       "      <td>sheet pan breakfast fried rice</td>\n",
       "      <td>{oven}</td>\n",
       "    </tr>\n",
       "  </tbody>\n",
       "</table>\n",
       "<p>26115 rows × 2 columns</p>\n",
       "</div>"
      ],
      "text/plain": [
       "                                                       Name ApplianceList\n",
       "RecipeId                                                                 \n",
       "38                        low-fat berry blue frozen dessert     {freezer}\n",
       "45               buttermilk pie with gingersnap crumb crust        {oven}\n",
       "49                                 chicken breasts lombardi        {oven}\n",
       "54                                              carrot cake        {oven}\n",
       "56                                           buttermilk pie        {oven}\n",
       "...                                                     ...           ...\n",
       "528649                                  jack-o-lantern cake        {oven}\n",
       "533244                         johnny cakes / journey cakes        {oven}\n",
       "536843    sheet pan turkey caprese meatballs with rosema...        {oven}\n",
       "536845                              sheet pan shrimp scampi        {oven}\n",
       "538642                       sheet pan breakfast fried rice        {oven}\n",
       "\n",
       "[26115 rows x 2 columns]"
      ]
     },
     "execution_count": 24,
     "metadata": {},
     "output_type": "execute_result"
    }
   ],
   "source": [
    "appliances_df"
   ]
  },
  {
   "cell_type": "markdown",
   "metadata": {},
   "source": [
    "I am not sure why this is choosing just one appliance for each recipe. It is possible that very few appliances are appearing in the keyword file."
   ]
  },
  {
   "cell_type": "code",
   "execution_count": 25,
   "metadata": {},
   "outputs": [],
   "source": [
    "keyword_df['ApplianceExt'] = [set(appliances).intersection(set(kws)) for kws in keyword_df.Keywords]"
   ]
  },
  {
   "cell_type": "code",
   "execution_count": 26,
   "metadata": {},
   "outputs": [
    {
     "data": {
      "text/plain": [
       "RecipeId\n",
       "38        {freezer}\n",
       "40               {}\n",
       "42               {}\n",
       "44               {}\n",
       "45           {oven}\n",
       "            ...    \n",
       "539182           {}\n",
       "539184           {}\n",
       "539304           {}\n",
       "540263           {}\n",
       "540370           {}\n",
       "Name: ApplianceExt, Length: 114744, dtype: object"
      ]
     },
     "execution_count": 26,
     "metadata": {},
     "output_type": "execute_result"
    }
   ],
   "source": [
    "keyword_df['ApplianceExt']"
   ]
  },
  {
   "cell_type": "code",
   "execution_count": 27,
   "metadata": {},
   "outputs": [
    {
     "data": {
      "text/plain": [
       "RecipeId\n",
       "38        {freezer}\n",
       "40               {}\n",
       "42               {}\n",
       "44               {}\n",
       "45           {oven}\n",
       "            ...    \n",
       "539182           {}\n",
       "539184           {}\n",
       "539304           {}\n",
       "540263           {}\n",
       "540370           {}\n",
       "Name: ApplianceList, Length: 114744, dtype: object"
      ]
     },
     "execution_count": 27,
     "metadata": {},
     "output_type": "execute_result"
    }
   ],
   "source": [
    "keyword_df['ApplianceList']"
   ]
  },
  {
   "cell_type": "code",
   "execution_count": 29,
   "metadata": {},
   "outputs": [],
   "source": [
    "unknown_appliances = keyword_df.loc[keyword_df['ApplianceList'].apply(len)==0][['Name']].copy()"
   ]
  },
  {
   "cell_type": "code",
   "execution_count": 30,
   "metadata": {},
   "outputs": [],
   "source": [
    "appliances_df['ApplianceKeywords'] = [list(set(appliances_df['ApplianceList'][r])) for r in appliances_df.index]"
   ]
  },
  {
   "cell_type": "code",
   "execution_count": 31,
   "metadata": {},
   "outputs": [],
   "source": [
    "def appliance_vec(rkwl:list)->list:\n",
    "    vec = [0]*len(appliances)\n",
    "    for i in range(len(appliances)):\n",
    "        if appliances[i] in rkwl:\n",
    "            vec[i]+=1\n",
    "    return vec\n"
   ]
  },
  {
   "cell_type": "code",
   "execution_count": 32,
   "metadata": {},
   "outputs": [
    {
     "data": {
      "text/html": [
       "<div>\n",
       "<style scoped>\n",
       "    .dataframe tbody tr th:only-of-type {\n",
       "        vertical-align: middle;\n",
       "    }\n",
       "\n",
       "    .dataframe tbody tr th {\n",
       "        vertical-align: top;\n",
       "    }\n",
       "\n",
       "    .dataframe thead th {\n",
       "        text-align: right;\n",
       "    }\n",
       "</style>\n",
       "<table border=\"1\" class=\"dataframe\">\n",
       "  <thead>\n",
       "    <tr style=\"text-align: right;\">\n",
       "      <th></th>\n",
       "      <th>Name</th>\n",
       "      <th>KeywordsTitle</th>\n",
       "      <th>Keywords</th>\n",
       "      <th>ApplianceList</th>\n",
       "      <th>ApplianceExt</th>\n",
       "    </tr>\n",
       "    <tr>\n",
       "      <th>RecipeId</th>\n",
       "      <th></th>\n",
       "      <th></th>\n",
       "      <th></th>\n",
       "      <th></th>\n",
       "      <th></th>\n",
       "    </tr>\n",
       "  </thead>\n",
       "  <tbody>\n",
       "    <tr>\n",
       "      <th>38</th>\n",
       "      <td>low-fat berry blue frozen dessert</td>\n",
       "      <td>[dessert]</td>\n",
       "      <td>[frozen desserts, healthy, freezer, dessert, s...</td>\n",
       "      <td>{freezer}</td>\n",
       "      <td>{freezer}</td>\n",
       "    </tr>\n",
       "    <tr>\n",
       "      <th>45</th>\n",
       "      <td>buttermilk pie with gingersnap crumb crust</td>\n",
       "      <td>[pie]</td>\n",
       "      <td>[pie, healthy, dessert, weeknight, oven]</td>\n",
       "      <td>{oven}</td>\n",
       "      <td>{oven}</td>\n",
       "    </tr>\n",
       "    <tr>\n",
       "      <th>49</th>\n",
       "      <td>chicken breasts lombardi</td>\n",
       "      <td>[chicken breast, chicken]</td>\n",
       "      <td>[poultry, chicken breast, chicken, weeknight, ...</td>\n",
       "      <td>{oven}</td>\n",
       "      <td>{oven}</td>\n",
       "    </tr>\n",
       "    <tr>\n",
       "      <th>54</th>\n",
       "      <td>carrot cake</td>\n",
       "      <td>[cake]</td>\n",
       "      <td>[vegetable, cake, dessert, weeknight, oven]</td>\n",
       "      <td>{oven}</td>\n",
       "      <td>{oven}</td>\n",
       "    </tr>\n",
       "    <tr>\n",
       "      <th>56</th>\n",
       "      <td>buttermilk pie</td>\n",
       "      <td>[pie]</td>\n",
       "      <td>[pie, bear, dessert, sweet, easy, oven]</td>\n",
       "      <td>{oven}</td>\n",
       "      <td>{oven}</td>\n",
       "    </tr>\n",
       "    <tr>\n",
       "      <th>...</th>\n",
       "      <td>...</td>\n",
       "      <td>...</td>\n",
       "      <td>...</td>\n",
       "      <td>...</td>\n",
       "      <td>...</td>\n",
       "    </tr>\n",
       "    <tr>\n",
       "      <th>528649</th>\n",
       "      <td>jack-o-lantern cake</td>\n",
       "      <td>[cake]</td>\n",
       "      <td>[for large groups, pie, cake, baking, hallowee...</td>\n",
       "      <td>{oven}</td>\n",
       "      <td>{oven}</td>\n",
       "    </tr>\n",
       "    <tr>\n",
       "      <th>533244</th>\n",
       "      <td>johnny cakes / journey cakes</td>\n",
       "      <td>[cake]</td>\n",
       "      <td>[deep fried, breads, coconut, cake, fried, bak...</td>\n",
       "      <td>{oven}</td>\n",
       "      <td>{oven}</td>\n",
       "    </tr>\n",
       "    <tr>\n",
       "      <th>536843</th>\n",
       "      <td>sheet pan turkey caprese meatballs with rosema...</td>\n",
       "      <td>[meat, potato, meatballs]</td>\n",
       "      <td>[potato, meatballs, vegetable, poultry, mashed...</td>\n",
       "      <td>{oven}</td>\n",
       "      <td>{oven}</td>\n",
       "    </tr>\n",
       "    <tr>\n",
       "      <th>536845</th>\n",
       "      <td>sheet pan shrimp scampi</td>\n",
       "      <td>[]</td>\n",
       "      <td>[cauliflower, rice, &lt; 30 mins, easy, oven]</td>\n",
       "      <td>{oven}</td>\n",
       "      <td>{oven}</td>\n",
       "    </tr>\n",
       "    <tr>\n",
       "      <th>538642</th>\n",
       "      <td>sheet pan breakfast fried rice</td>\n",
       "      <td>[fried, rice, breakfast]</td>\n",
       "      <td>[chinese, rice, fried, breakfast, asian, oven]</td>\n",
       "      <td>{oven}</td>\n",
       "      <td>{oven}</td>\n",
       "    </tr>\n",
       "  </tbody>\n",
       "</table>\n",
       "<p>26115 rows × 5 columns</p>\n",
       "</div>"
      ],
      "text/plain": [
       "                                                       Name  \\\n",
       "RecipeId                                                      \n",
       "38                        low-fat berry blue frozen dessert   \n",
       "45               buttermilk pie with gingersnap crumb crust   \n",
       "49                                 chicken breasts lombardi   \n",
       "54                                              carrot cake   \n",
       "56                                           buttermilk pie   \n",
       "...                                                     ...   \n",
       "528649                                  jack-o-lantern cake   \n",
       "533244                         johnny cakes / journey cakes   \n",
       "536843    sheet pan turkey caprese meatballs with rosema...   \n",
       "536845                              sheet pan shrimp scampi   \n",
       "538642                       sheet pan breakfast fried rice   \n",
       "\n",
       "                      KeywordsTitle  \\\n",
       "RecipeId                              \n",
       "38                        [dessert]   \n",
       "45                            [pie]   \n",
       "49        [chicken breast, chicken]   \n",
       "54                           [cake]   \n",
       "56                            [pie]   \n",
       "...                             ...   \n",
       "528649                       [cake]   \n",
       "533244                       [cake]   \n",
       "536843    [meat, potato, meatballs]   \n",
       "536845                           []   \n",
       "538642     [fried, rice, breakfast]   \n",
       "\n",
       "                                                   Keywords ApplianceList  \\\n",
       "RecipeId                                                                    \n",
       "38        [frozen desserts, healthy, freezer, dessert, s...     {freezer}   \n",
       "45                 [pie, healthy, dessert, weeknight, oven]        {oven}   \n",
       "49        [poultry, chicken breast, chicken, weeknight, ...        {oven}   \n",
       "54              [vegetable, cake, dessert, weeknight, oven]        {oven}   \n",
       "56                  [pie, bear, dessert, sweet, easy, oven]        {oven}   \n",
       "...                                                     ...           ...   \n",
       "528649    [for large groups, pie, cake, baking, hallowee...        {oven}   \n",
       "533244    [deep fried, breads, coconut, cake, fried, bak...        {oven}   \n",
       "536843    [potato, meatballs, vegetable, poultry, mashed...        {oven}   \n",
       "536845           [cauliflower, rice, < 30 mins, easy, oven]        {oven}   \n",
       "538642       [chinese, rice, fried, breakfast, asian, oven]        {oven}   \n",
       "\n",
       "         ApplianceExt  \n",
       "RecipeId               \n",
       "38          {freezer}  \n",
       "45             {oven}  \n",
       "49             {oven}  \n",
       "54             {oven}  \n",
       "56             {oven}  \n",
       "...               ...  \n",
       "528649         {oven}  \n",
       "533244         {oven}  \n",
       "536843         {oven}  \n",
       "536845         {oven}  \n",
       "538642         {oven}  \n",
       "\n",
       "[26115 rows x 5 columns]"
      ]
     },
     "execution_count": 32,
     "metadata": {},
     "output_type": "execute_result"
    }
   ],
   "source": [
    "keyword_df.loc[keyword_df['ApplianceExt'].apply(len)>0]"
   ]
  },
  {
   "cell_type": "code",
   "execution_count": 33,
   "metadata": {},
   "outputs": [],
   "source": [
    "keyword_df['ApplianceKeywords']=keyword_df['ApplianceList']\n",
    "appliance_df = keyword_df.loc[keyword_df['ApplianceKeywords'].apply(len)>0][['Name','ApplianceKeywords']].copy()"
   ]
  },
  {
   "cell_type": "code",
   "execution_count": 34,
   "metadata": {},
   "outputs": [
    {
     "data": {
      "text/html": [
       "<div>\n",
       "<style scoped>\n",
       "    .dataframe tbody tr th:only-of-type {\n",
       "        vertical-align: middle;\n",
       "    }\n",
       "\n",
       "    .dataframe tbody tr th {\n",
       "        vertical-align: top;\n",
       "    }\n",
       "\n",
       "    .dataframe thead th {\n",
       "        text-align: right;\n",
       "    }\n",
       "</style>\n",
       "<table border=\"1\" class=\"dataframe\">\n",
       "  <thead>\n",
       "    <tr style=\"text-align: right;\">\n",
       "      <th></th>\n",
       "      <th>Name</th>\n",
       "      <th>ApplianceKeywords</th>\n",
       "    </tr>\n",
       "    <tr>\n",
       "      <th>RecipeId</th>\n",
       "      <th></th>\n",
       "      <th></th>\n",
       "    </tr>\n",
       "  </thead>\n",
       "  <tbody>\n",
       "    <tr>\n",
       "      <th>38</th>\n",
       "      <td>low-fat berry blue frozen dessert</td>\n",
       "      <td>{freezer}</td>\n",
       "    </tr>\n",
       "    <tr>\n",
       "      <th>45</th>\n",
       "      <td>buttermilk pie with gingersnap crumb crust</td>\n",
       "      <td>{oven}</td>\n",
       "    </tr>\n",
       "    <tr>\n",
       "      <th>49</th>\n",
       "      <td>chicken breasts lombardi</td>\n",
       "      <td>{oven}</td>\n",
       "    </tr>\n",
       "    <tr>\n",
       "      <th>54</th>\n",
       "      <td>carrot cake</td>\n",
       "      <td>{oven}</td>\n",
       "    </tr>\n",
       "    <tr>\n",
       "      <th>56</th>\n",
       "      <td>buttermilk pie</td>\n",
       "      <td>{oven}</td>\n",
       "    </tr>\n",
       "    <tr>\n",
       "      <th>...</th>\n",
       "      <td>...</td>\n",
       "      <td>...</td>\n",
       "    </tr>\n",
       "    <tr>\n",
       "      <th>528649</th>\n",
       "      <td>jack-o-lantern cake</td>\n",
       "      <td>{oven}</td>\n",
       "    </tr>\n",
       "    <tr>\n",
       "      <th>533244</th>\n",
       "      <td>johnny cakes / journey cakes</td>\n",
       "      <td>{oven}</td>\n",
       "    </tr>\n",
       "    <tr>\n",
       "      <th>536843</th>\n",
       "      <td>sheet pan turkey caprese meatballs with rosema...</td>\n",
       "      <td>{oven}</td>\n",
       "    </tr>\n",
       "    <tr>\n",
       "      <th>536845</th>\n",
       "      <td>sheet pan shrimp scampi</td>\n",
       "      <td>{oven}</td>\n",
       "    </tr>\n",
       "    <tr>\n",
       "      <th>538642</th>\n",
       "      <td>sheet pan breakfast fried rice</td>\n",
       "      <td>{oven}</td>\n",
       "    </tr>\n",
       "  </tbody>\n",
       "</table>\n",
       "<p>26115 rows × 2 columns</p>\n",
       "</div>"
      ],
      "text/plain": [
       "                                                       Name ApplianceKeywords\n",
       "RecipeId                                                                     \n",
       "38                        low-fat berry blue frozen dessert         {freezer}\n",
       "45               buttermilk pie with gingersnap crumb crust            {oven}\n",
       "49                                 chicken breasts lombardi            {oven}\n",
       "54                                              carrot cake            {oven}\n",
       "56                                           buttermilk pie            {oven}\n",
       "...                                                     ...               ...\n",
       "528649                                  jack-o-lantern cake            {oven}\n",
       "533244                         johnny cakes / journey cakes            {oven}\n",
       "536843    sheet pan turkey caprese meatballs with rosema...            {oven}\n",
       "536845                              sheet pan shrimp scampi            {oven}\n",
       "538642                       sheet pan breakfast fried rice            {oven}\n",
       "\n",
       "[26115 rows x 2 columns]"
      ]
     },
     "execution_count": 34,
     "metadata": {},
     "output_type": "execute_result"
    }
   ],
   "source": [
    "appliance_df"
   ]
  },
  {
   "cell_type": "code",
   "execution_count": 35,
   "metadata": {},
   "outputs": [],
   "source": [
    "appliance_df.to_pickle('../data/clean_columns/appliance_clean.pk')"
   ]
  }
 ],
 "metadata": {
  "kernelspec": {
   "display_name": "Python 3",
   "language": "python",
   "name": "python3"
  },
  "language_info": {
   "codemirror_mode": {
    "name": "ipython",
    "version": 3
   },
   "file_extension": ".py",
   "mimetype": "text/x-python",
   "name": "python",
   "nbconvert_exporter": "python",
   "pygments_lexer": "ipython3",
   "version": "3.11.5"
  }
 },
 "nbformat": 4,
 "nbformat_minor": 2
}
