{
 "cells": [
  {
   "cell_type": "code",
   "execution_count": 1,
   "metadata": {},
   "outputs": [],
   "source": [
    "import os\n",
    "os.chdir('../code/')\n",
    "from dataclasses import *"
   ]
  },
  {
   "cell_type": "code",
   "execution_count": 2,
   "metadata": {},
   "outputs": [],
   "source": [
    "import pandas as pd\n",
    "import numpy as np\n",
    "import matplotlib.pyplot as plt"
   ]
  },
  {
   "cell_type": "code",
   "execution_count": 3,
   "metadata": {},
   "outputs": [],
   "source": [
    "reviewsdf = pd.read_pickle('../data/reviews.pk')\n",
    "cooktimes = pd.read_pickle('../data/cooktimesclean.pk')\n",
    "keywords =  pd.read_pickle('../data/keywords.pk')"
   ]
  },
  {
   "cell_type": "code",
   "execution_count": 130,
   "metadata": {},
   "outputs": [],
   "source": [
    "nutrition = pd.read_pickle('../data/nutrition.pk')"
   ]
  },
  {
   "cell_type": "code",
   "execution_count": 117,
   "metadata": {},
   "outputs": [],
   "source": [
    "common_recs =set(keywords.index).intersection(set(reviewsdf['RecipeId'].values))\n",
    "keywords = keywords[keywords.index.isin(common_recs)]\n",
    "reviewsdf = reviewsdf[reviewsdf['RecipeId'].isin(common_recs)]"
   ]
  },
  {
   "cell_type": "code",
   "execution_count": 71,
   "metadata": {},
   "outputs": [],
   "source": [
    "keywordlist_full = []\n",
    "for l in keywords.Keywords:\n",
    "    keywordlist_full+=l\n",
    "keywordlist_full = list(set(keywordlist_full))"
   ]
  },
  {
   "cell_type": "code",
   "execution_count": 79,
   "metadata": {},
   "outputs": [],
   "source": [
    "def get_user_dataframe(reviewsdf,featuredf,usercol,itemcol,featurecols, user):\n",
    "    userdf = reviewsdf.loc[reviewsdf[usercol]==user].copy()\n",
    "    for feature in featurecols:\n",
    "        userdf[feature]=[featuredf[feature][item]\n",
    "                         for item in userdf[itemcol].values]\n",
    "    return userdf\n",
    "\n",
    "\n",
    "def gen_keyword_df(user):\n",
    "    userdf = get_user_dataframe(reviewsdf,\n",
    "                                keywords,\n",
    "                                'UserId',\n",
    "                                'RecipeId',\n",
    "                                ['Keywords'],\n",
    "                                user)\n",
    "    keywordlistoflists = userdf['Keywords'].values\n",
    "    keywordlist_user = []\n",
    "    for l in keywordlistoflists:\n",
    "        keywordlist_user+=l\n",
    "    keywordlist_user_nr = list(set(keywordlist_user))\n",
    "    mat = []\n",
    "    for kwl in keywordlistoflists:\n",
    "        counts = {w:0 for w in keywordlist_user_nr}\n",
    "        for w in kwl:\n",
    "            counts[w]+=1\n",
    "        mat.append([counts[w] for w in keywordlist_user_nr])\n",
    "    cols = np.transpose(mat)\n",
    "    newdf = pd.DataFrame({keywordlist_user_nr[i]:cols[i] for i in range(len(cols))})\n",
    "    newdf['RecipeId']=userdf.RecipeId.values\n",
    "    newdf=newdf.set_index('RecipeId')\n",
    "    newdf['Rating']=userdf.Rating.values\n",
    "    return newdf   \n",
    "\n",
    "def get_rating_vecs(user):\n",
    "    userdf = gen_keyword_df(user)\n",
    "    counts = {r:{w:0 for w in keywordlist_full} for r in [-1,0,1]}\n",
    "    keywords_in_df = [w for w in keywordlist_full if w in userdf.columns]\n",
    "    for r in [-1,0,1]:\n",
    "        dfr = userdf.loc[userdf.Rating==r]\n",
    "        for word in keywords_in_df:\n",
    "            counts[r][word] = sum(dfr[word].values)\n",
    "    return [np.array([counts[r][word] for word in keywordlist_full])\n",
    "                     for r in [-1,0,1]]\n",
    "    \n",
    "\n",
    "\n",
    "\n",
    "def get_dictionaries(ratingsdf:pd.core.frame.DataFrame,usercol:str,itemcol:str,ratingcol:str):\n",
    "    users = list(set(ratingsdf[usercol].values))\n",
    "    items = list(set(ratingsdf[itemcol].values))\n",
    "    ratings_by_user = {user_id:{} for user_id in users}\n",
    "    users_by_item = {item_id:[] for item_id in items}\n",
    "    for review_index in ratingsdf.index:\n",
    "        user_id = ratingsdf[usercol][review_index]\n",
    "        item_id = ratingsdf[itemcol][review_index]\n",
    "        rating = ratingsdf[ratingcol][review_index]\n",
    "        ratings_by_user[user_id][item_id] = rating\n",
    "        users_by_item[item_id].append(user_id)\n",
    "    return ratings_by_user,users_by_item"
   ]
  },
  {
   "cell_type": "code",
   "execution_count": 118,
   "metadata": {},
   "outputs": [],
   "source": [
    "user_ratings_all,items_to_users = get_dictionaries(reviewsdf,\n",
    "                                                   'UserId',\n",
    "                                                   'RecipeId',\n",
    "                                                   'Rating')"
   ]
  },
  {
   "cell_type": "code",
   "execution_count": 119,
   "metadata": {},
   "outputs": [],
   "source": [
    "userlist = list(user_ratings_all.keys())\n",
    "users_50revs = [user for user in userlist if len(user_ratings_all[user])>49]\n",
    "users_100revs = [user for user in userlist if len(user_ratings_all[user])>99]\n",
    "users_100revs_x = [user for user in users_100revs\n",
    "                   if np.mean(list(user_ratings_all[user].values()))<0.5]"
   ]
  },
  {
   "cell_type": "code",
   "execution_count": 126,
   "metadata": {},
   "outputs": [
    {
     "data": {
      "text/plain": [
       "Rating\n",
       " 1    97\n",
       "-1     1\n",
       "Name: count, dtype: int64"
      ]
     },
     "execution_count": 126,
     "metadata": {},
     "output_type": "execute_result"
    }
   ],
   "source": [
    "reviewsdf.loc[reviewsdf.UserId==users_50revs[1]]['Rating'].value_counts()"
   ]
  },
  {
   "cell_type": "code",
   "execution_count": 98,
   "metadata": {},
   "outputs": [
    {
     "data": {
      "text/plain": [
       "828"
      ]
     },
     "execution_count": 98,
     "metadata": {},
     "output_type": "execute_result"
    }
   ],
   "source": [
    "len(users_100revs_x)"
   ]
  },
  {
   "cell_type": "code",
   "execution_count": 84,
   "metadata": {},
   "outputs": [
    {
     "data": {
      "text/plain": [
       "265"
      ]
     },
     "execution_count": 84,
     "metadata": {},
     "output_type": "execute_result"
    }
   ],
   "source": [
    "users_100revs_x[0]"
   ]
  },
  {
   "cell_type": "code",
   "execution_count": 127,
   "metadata": {},
   "outputs": [
    {
     "data": {
      "text/plain": [
       "251934"
      ]
     },
     "execution_count": 127,
     "metadata": {},
     "output_type": "execute_result"
    }
   ],
   "source": [
    "len(keywords)"
   ]
  },
  {
   "cell_type": "code",
   "execution_count": 111,
   "metadata": {},
   "outputs": [
    {
     "data": {
      "text/plain": [
       "0.8808481865659471"
      ]
     },
     "execution_count": 111,
     "metadata": {},
     "output_type": "execute_result"
    }
   ],
   "source": [
    "user_0 = users_100revs[1]\n",
    "user_0_kwdf = gen_keyword_df(user_0)\n",
    "user0_vecpos = sum(user_0_kwdf.loc[user_0_kwdf.Rating==1].values)\n",
    "user0_vecneg = sum(user_0_kwdf.loc[user_0_kwdf.Rating==-1].values)\n",
    "lneg = np.dot(user0_vecneg[:-1],user0_vecneg[:-1])\n",
    "lpos = np.dot(user0_vecpos[:-1],user0_vecpos[:-1])\n",
    "np.dot(user0_vecneg[:-1],user0_vecpos[:-1])/np.sqrt(lneg*lpos)"
   ]
  },
  {
   "cell_type": "code",
   "execution_count": 120,
   "metadata": {},
   "outputs": [],
   "source": [
    "keywordcounts = {word:0 for word in keywordlist_full}\n",
    "keywordcounts_var = {word:0 for word in keywordlist_full}\n",
    "\n",
    "for recipe in keywords.index:\n",
    "    kwl = keywords['Keywords'][recipe]\n",
    "    for w in kwl:\n",
    "        keywordcounts[w]+=1\n",
    "        keywordcounts_var[w]+=len(items_to_users[recipe])"
   ]
  },
  {
   "cell_type": "code",
   "execution_count": 86,
   "metadata": {},
   "outputs": [],
   "source": [
    "users_50revs.sort(key=lambda x: np.mean(list(user_ratings_all[x].values())))"
   ]
  },
  {
   "cell_type": "code",
   "execution_count": 122,
   "metadata": {},
   "outputs": [],
   "source": [
    "keyword_probs = {word:keywordcounts[word]/len(keywords)\n",
    "                 for word in keywordcounts}"
   ]
  },
  {
   "cell_type": "code",
   "execution_count": 125,
   "metadata": {},
   "outputs": [],
   "source": [
    "wts = []\n",
    "for w in keywordlist_full:\n",
    "    if w in keyword_probs and keyword_probs[w]!=0:\n",
    "        wts.append(1/keyword_probs[w])\n",
    "    else:\n",
    "        wts.append(0)"
   ]
  },
  {
   "cell_type": "code",
   "execution_count": 39,
   "metadata": {},
   "outputs": [
    {
     "data": {
      "text/plain": [
       "array([-0.        ,  0.00169779,  0.01018676,  0.01018676,  0.04414261,\n",
       "        0.06791171, -0.        ,  0.00339559,  0.05602716,  0.00509338,\n",
       "        0.00848896, -0.        ,  0.00339559, -0.        , -0.        ,\n",
       "        0.00848896, -0.        ,  0.00339559,  0.04074703,  0.03225806,\n",
       "        0.01188455,  0.00509338, -0.        ,  0.01697793,  0.00169779,\n",
       "        0.02546689,  0.00339559,  0.09847199,  0.00679117,  0.00169779,\n",
       "        0.00679117, -0.        , -0.        ,  0.08319185,  0.01528014,\n",
       "       -0.        ,  0.00339559, -0.        ,  0.00169779,  0.00509338,\n",
       "        0.02037351,  0.00169779,  0.01697793, -0.        ,  0.03056027,\n",
       "        0.00169779,  0.00848896,  0.00339559, -0.        ,  0.10526316,\n",
       "        0.03056027,  0.02037351, -0.        ,  0.00339559,  0.00339559,\n",
       "        0.00169779, -0.        , -0.        , -0.        , -0.        ,\n",
       "        0.01867572, -0.        ,  0.00509338,  0.02716469, -0.        ,\n",
       "        0.01528014, -0.        ,  0.10016978,  0.00339559, -0.        ,\n",
       "        0.00848896,  0.03735144, -0.        ,  0.04923599,  0.00848896,\n",
       "        0.03056027,  0.03565365, -0.        ,  0.00339559,  0.06791171,\n",
       "        0.09847199,  0.00169779, -0.        ,  0.10526316,  0.00679117,\n",
       "       -0.        , -0.        ,  0.00169779, -0.        ,  0.00169779,\n",
       "        0.01188455,  0.00339559,  0.01018676,  0.00339559, -0.        ,\n",
       "        0.00339559, -0.        ,  0.00169779,  0.00169779, -0.        ,\n",
       "        0.05093379,  0.00169779,  0.01188455,  0.00339559, -0.        ,\n",
       "        0.00169779,  0.0237691 ,  0.01358234, -0.        , -0.        ,\n",
       "        0.00509338,  0.5721562 ,  0.00169779,  0.01867572,  0.00339559,\n",
       "       -0.        , -0.        ,  0.05093379,  0.00169779, -0.        ,\n",
       "        0.01358234, -0.        ,  0.00169779,  0.02716469,  0.19864177,\n",
       "        0.00339559, -0.        ,  0.00509338,  0.06451613,  0.00339559,\n",
       "        0.00679117,  0.00339559, -0.        ,  0.02037351,  0.00169779,\n",
       "        0.00339559,  0.00169779,  0.00848896,  0.03565365,  0.01867572,\n",
       "        0.0237691 ,  0.00339559,  0.01188455,  0.00169779,  0.02037351,\n",
       "        0.00679117,  0.04244482,  0.03735144,  0.10356537,  0.03395586,\n",
       "        0.00169779,  0.07470289,  0.00848896,  0.00169779,  0.02037351,\n",
       "        0.29711375,  0.01188455,  0.00339559,  0.00509338, -0.        ,\n",
       "        0.03735144,  0.01018676,  0.03056027,  0.01867572,  0.0475382 ,\n",
       "        0.01528014,  0.00339559,  0.00509338,  0.01358234, -0.        ,\n",
       "        0.16977929,  0.00339559,  0.00169779,  0.01528014,  0.02886248,\n",
       "       -0.        , -0.        ,  0.00169779,  0.02037351,  0.00509338,\n",
       "        0.00848896,  0.05602716,  0.01358234, -0.        , -0.        ,\n",
       "        0.01188455,  0.00169779,  0.01018676,  0.00169779, -0.        ,\n",
       "        0.14770798,  0.01528014,  0.00339559,  0.01528014,  0.10356537,\n",
       "       -0.        ,  0.00848896,  0.00169779,  0.16808149, -0.        ,\n",
       "       -0.        ,  0.00169779,  0.00339559,  0.00169779,  0.03056027,\n",
       "        0.17657046,  0.01018676,  0.02037351,  0.01867572, -0.        ,\n",
       "        0.01358234, -0.        ,  0.00848896, -0.        ,  0.01358234,\n",
       "        0.10696095,  0.06791171,  0.02716469,  0.00169779, -0.        ,\n",
       "        0.00169779,  0.10016978,  0.00169779,  0.01358234,  0.01697793,\n",
       "        0.04414261,  0.00169779, -0.        ,  0.12224109, -0.        ,\n",
       "        0.04584041, -0.        ,  0.00509338, -0.        ,  0.02037351,\n",
       "        0.00679117,  0.00169779,  0.00339559,  0.00339559, -0.        ,\n",
       "        0.00339559,  0.00509338,  0.0237691 ])"
      ]
     },
     "execution_count": 39,
     "metadata": {},
     "output_type": "execute_result"
    }
   ],
   "source": [
    "user0_vecneg_norm"
   ]
  },
  {
   "cell_type": "code",
   "execution_count": 60,
   "metadata": {},
   "outputs": [],
   "source": []
  },
  {
   "cell_type": "code",
   "execution_count": 43,
   "metadata": {},
   "outputs": [
    {
     "data": {
      "text/plain": [
       "-0.25489966197403113"
      ]
     },
     "execution_count": 43,
     "metadata": {},
     "output_type": "execute_result"
    }
   ],
   "source": [
    "cossim"
   ]
  },
  {
   "cell_type": "code",
   "execution_count": 47,
   "metadata": {},
   "outputs": [
    {
     "data": {
      "text/plain": [
       "243"
      ]
     },
     "execution_count": 47,
     "metadata": {},
     "output_type": "execute_result"
    }
   ],
   "source": [
    "len(user0_vecneg[:-1])"
   ]
  },
  {
   "cell_type": "code",
   "execution_count": 46,
   "metadata": {},
   "outputs": [
    {
     "data": {
      "text/plain": [
       "243"
      ]
     },
     "execution_count": 46,
     "metadata": {},
     "output_type": "execute_result"
    }
   ],
   "source": [
    "len(user0_vecpos[:-1])"
   ]
  },
  {
   "cell_type": "code",
   "execution_count": 67,
   "metadata": {},
   "outputs": [
    {
     "data": {
      "text/plain": [
       "0.891480143187728"
      ]
     },
     "execution_count": 67,
     "metadata": {},
     "output_type": "execute_result"
    }
   ],
   "source": []
  },
  {
   "cell_type": "code",
   "execution_count": 49,
   "metadata": {},
   "outputs": [
    {
     "data": {
      "text/plain": [
       "264185"
      ]
     },
     "execution_count": 49,
     "metadata": {},
     "output_type": "execute_result"
    }
   ],
   "source": [
    "lneg"
   ]
  },
  {
   "cell_type": "code",
   "execution_count": 50,
   "metadata": {},
   "outputs": [
    {
     "data": {
      "text/plain": [
       "2870112"
      ]
     },
     "execution_count": 50,
     "metadata": {},
     "output_type": "execute_result"
    }
   ],
   "source": [
    "lpos"
   ]
  },
  {
   "cell_type": "code",
   "execution_count": 72,
   "metadata": {},
   "outputs": [
    {
     "data": {
      "text/plain": [
       "303"
      ]
     },
     "execution_count": 72,
     "metadata": {},
     "output_type": "execute_result"
    }
   ],
   "source": [
    "len(keywordlist_full)"
   ]
  },
  {
   "cell_type": "code",
   "execution_count": 73,
   "metadata": {},
   "outputs": [
    {
     "data": {
      "text/plain": [
       "['korean',\n",
       " 'polynesian',\n",
       " 'bass',\n",
       " 'eggs breakfast',\n",
       " 'cookie & brownie',\n",
       " 'deep fried',\n",
       " 'breads',\n",
       " 'brunch',\n",
       " 'pork loin',\n",
       " 'duck',\n",
       " 'savory',\n",
       " 'turkish',\n",
       " 'toddler friendly',\n",
       " 'creole',\n",
       " 'homeopathy/remedies',\n",
       " 'somalian',\n",
       " 'polish',\n",
       " 'cuban',\n",
       " 'scottish',\n",
       " 'southwest asia (middle east)',\n",
       " 'moose',\n",
       " 'dutch',\n",
       " 'nuts',\n",
       " 'onions',\n",
       " 'grains',\n",
       " 'beverages',\n",
       " 'bath/beauty',\n",
       " 'southwestern u.s.',\n",
       " 'mixer',\n",
       " 'small appliance',\n",
       " 'roast beef',\n",
       " 'cambodian',\n",
       " 'spicy',\n",
       " 'from scratch',\n",
       " 'cajun',\n",
       " 'beef sauces',\n",
       " 'pumpkin',\n",
       " 'savory pies',\n",
       " 'chard',\n",
       " 'medium grain rice',\n",
       " 'potato',\n",
       " 'caribbean',\n",
       " 'breakfast potatoes',\n",
       " 'ethiopian',\n",
       " 'filipino',\n",
       " 'colombian',\n",
       " 'indonesian',\n",
       " 'chicken stews',\n",
       " 'hawaiian',\n",
       " 'coconut',\n",
       " 'curries',\n",
       " 'tuna',\n",
       " 'gelatin',\n",
       " 'whole duck',\n",
       " 'roast',\n",
       " 'salad dressings',\n",
       " 'elk',\n",
       " 'black beans',\n",
       " 'mahi mahi',\n",
       " 'swedish',\n",
       " 'pressure cooker',\n",
       " 'sweet',\n",
       " 'pineapple',\n",
       " 'chinese',\n",
       " 'marinara sauce',\n",
       " 'frozen desserts',\n",
       " 'dairy free foods',\n",
       " 'sauces',\n",
       " 'chocolate chip cookies',\n",
       " 'new zealand',\n",
       " 'pakistani',\n",
       " 'stocks',\n",
       " 'orange roughy',\n",
       " 'czech',\n",
       " 'finnish',\n",
       " 'lunch/snacks',\n",
       " 'szechuan',\n",
       " 'oatmeal',\n",
       " 'pie',\n",
       " 'malaysian',\n",
       " 'baking',\n",
       " 'chilean',\n",
       " 'stove top',\n",
       " 'russian',\n",
       " 'bear',\n",
       " 'australian',\n",
       " 'breakfast',\n",
       " 'hummus',\n",
       " 'veggie',\n",
       " 'stir fry',\n",
       " 'lemon',\n",
       " 'african',\n",
       " 'beef barley soup',\n",
       " 'welsh',\n",
       " 'wild game',\n",
       " 'european',\n",
       " 'kid friendly',\n",
       " 'puerto rican',\n",
       " 'sudanese',\n",
       " 'brazilian',\n",
       " 'plums',\n",
       " 'whole turkey',\n",
       " 'fruit',\n",
       " 'portuguese',\n",
       " 'peruvian',\n",
       " 'belgian',\n",
       " 'breakfast eggs',\n",
       " 'white rice',\n",
       " 'duck breasts',\n",
       " 'yeast breads',\n",
       " 'greek',\n",
       " 'for large groups holiday/event',\n",
       " 'vietnamese',\n",
       " 'brown rice',\n",
       " 'mashed potatoes',\n",
       " 'ramadan',\n",
       " 'costa rican',\n",
       " 'halibut',\n",
       " 'ecuadorean',\n",
       " 'pheasant',\n",
       " 'chicken thigh & leg',\n",
       " 'crab',\n",
       " 'smoothies',\n",
       " 'nepalese',\n",
       " 'potluck',\n",
       " 'south american',\n",
       " 'german',\n",
       " 'cheesecake',\n",
       " 'hanukkah',\n",
       " 'rabbit',\n",
       " 'tropical fruits',\n",
       " 'jellies',\n",
       " 'chinese new year',\n",
       " 'egg free',\n",
       " 'candy',\n",
       " 'mongolian',\n",
       " 'tex mex',\n",
       " 'easy',\n",
       " 'pudding',\n",
       " 'christmas',\n",
       " 'soy/tofu',\n",
       " 'pasta shells',\n",
       " 'spreads',\n",
       " 'labor day',\n",
       " 'octopus',\n",
       " 'reynolds wrap contest',\n",
       " 'pork',\n",
       " 'chicken livers',\n",
       " 'kiwifruit',\n",
       " 'steam',\n",
       " 'tempeh',\n",
       " 'melons',\n",
       " 'burger',\n",
       " 'vegetable',\n",
       " 'household cleaner',\n",
       " 'lentil',\n",
       " 'japanese',\n",
       " 'swiss',\n",
       " 'weeknight',\n",
       " 'egyptian',\n",
       " 'punch beverage',\n",
       " 'oranges',\n",
       " 'bean soup',\n",
       " 'austrian',\n",
       " 'stew',\n",
       " 'squid',\n",
       " 'baked beans',\n",
       " 'pennsylvania dutch',\n",
       " 'broil/grill',\n",
       " 'guatemalan',\n",
       " 'peppers',\n",
       " 'greens',\n",
       " 'spring',\n",
       " 'goose',\n",
       " 'mango',\n",
       " 'oysters',\n",
       " 'scandinavian',\n",
       " 'native american',\n",
       " 'meatloaf',\n",
       " 'yam/sweet potato',\n",
       " 'beans',\n",
       " 'winter',\n",
       " 'dessert',\n",
       " 'sauce',\n",
       " 'lactose free',\n",
       " 'asian',\n",
       " 'norwegian',\n",
       " 'pears',\n",
       " 'mussels',\n",
       " 'beef crock pot',\n",
       " 'served hot new years',\n",
       " 'desserts easy',\n",
       " 'thai',\n",
       " 'meat',\n",
       " 'peanut butter',\n",
       " 'venezuelan',\n",
       " 'icelandic',\n",
       " 'chowders',\n",
       " 'freezer',\n",
       " 'short grain rice',\n",
       " 'corn',\n",
       " 'chocolate',\n",
       " 'pasta elbow',\n",
       " 'citrus',\n",
       " 'indian',\n",
       " 'chicken stew',\n",
       " 'simple',\n",
       " 'kosher',\n",
       " 'deer',\n",
       " 'georgian',\n",
       " 'tilapia',\n",
       " 'bread machine',\n",
       " 'gumbo',\n",
       " 'no shell fish',\n",
       " 'healthy',\n",
       " 'cherries',\n",
       " 'turkey breasts',\n",
       " 'cabbage',\n",
       " 'pasta',\n",
       " 'strawberry',\n",
       " 'collard greens',\n",
       " \"st. patrick's day\",\n",
       " 'no cook',\n",
       " 'berries',\n",
       " 'spaghetti',\n",
       " 'for large groups',\n",
       " 'meatballs',\n",
       " 'memorial day',\n",
       " 'cantonese',\n",
       " 'taco',\n",
       " 'veal',\n",
       " 'cheap',\n",
       " 'south african',\n",
       " 'raspberries',\n",
       " 'beginner cook',\n",
       " 'nigerian',\n",
       " 'lime',\n",
       " 'canning',\n",
       " 'steak',\n",
       " 'cheese',\n",
       " 'college food',\n",
       " 'palestinian',\n",
       " 'clear soup',\n",
       " 'ice cream',\n",
       " 'shakes',\n",
       " 'lamb/sheep',\n",
       " 'inexpensive',\n",
       " 'iraqi',\n",
       " 'danish',\n",
       " 'penne',\n",
       " 'lebanese',\n",
       " 'halloween cocktail',\n",
       " 'tortilla soup',\n",
       " 'vegan',\n",
       " 'trout',\n",
       " 'chicken',\n",
       " 'camping',\n",
       " 'refrigerator',\n",
       " 'microwave',\n",
       " 'navy bean soup',\n",
       " 'quail',\n",
       " 'thanksgiving',\n",
       " 'moroccan',\n",
       " 'lobster',\n",
       " 'artichoke',\n",
       " 'dehydrator',\n",
       " 'chicken breast',\n",
       " 'bar cookie',\n",
       " 'manicotti',\n",
       " 'oven',\n",
       " 'summer',\n",
       " 'spinach',\n",
       " 'papaya',\n",
       " 'crawfish',\n",
       " 'halloween',\n",
       " 'rice',\n",
       " 'birthday',\n",
       " 'avocado',\n",
       " 'apple',\n",
       " 'quick breads',\n",
       " 'canadian',\n",
       " 'whole chicken',\n",
       " 'poultry',\n",
       " 'perch',\n",
       " 'beef kidney',\n",
       " 'mexican',\n",
       " 'honduran',\n",
       " 'beef organ meats',\n",
       " 'crock pot slow cooker',\n",
       " 'whitefish',\n",
       " 'long grain rice',\n",
       " 'grapes',\n",
       " 'fried',\n",
       " 'pork crock pot',\n",
       " 'spanish',\n",
       " 'one dish meal',\n",
       " 'catfish',\n",
       " 'hungarian',\n",
       " 'cranberry sauce',\n",
       " 'hunan',\n",
       " 'beef liver',\n",
       " 'cauliflower',\n",
       " 'ham']"
      ]
     },
     "execution_count": 73,
     "metadata": {},
     "output_type": "execute_result"
    }
   ],
   "source": [
    "keywordlist_full"
   ]
  },
  {
   "cell_type": "code",
   "execution_count": 131,
   "metadata": {},
   "outputs": [
    {
     "data": {
      "text/plain": [
       "173683"
      ]
     },
     "execution_count": 131,
     "metadata": {},
     "output_type": "execute_result"
    }
   ],
   "source": [
    "len(nutrition)"
   ]
  },
  {
   "cell_type": "code",
   "execution_count": 136,
   "metadata": {},
   "outputs": [
    {
     "data": {
      "text/html": [
       "<div>\n",
       "<style scoped>\n",
       "    .dataframe tbody tr th:only-of-type {\n",
       "        vertical-align: middle;\n",
       "    }\n",
       "\n",
       "    .dataframe tbody tr th {\n",
       "        vertical-align: top;\n",
       "    }\n",
       "\n",
       "    .dataframe thead th {\n",
       "        text-align: right;\n",
       "    }\n",
       "</style>\n",
       "<table border=\"1\" class=\"dataframe\">\n",
       "  <thead>\n",
       "    <tr style=\"text-align: right;\">\n",
       "      <th></th>\n",
       "      <th>Name</th>\n",
       "      <th>Calories</th>\n",
       "      <th>FatContent</th>\n",
       "      <th>SaturatedFatContent</th>\n",
       "      <th>CholesterolContent</th>\n",
       "      <th>SodiumContent</th>\n",
       "      <th>CarbohydrateContent</th>\n",
       "      <th>FiberContent</th>\n",
       "      <th>SugarContent</th>\n",
       "      <th>ProteinContent</th>\n",
       "      <th>RecipeServings</th>\n",
       "    </tr>\n",
       "    <tr>\n",
       "      <th>RecipeId</th>\n",
       "      <th></th>\n",
       "      <th></th>\n",
       "      <th></th>\n",
       "      <th></th>\n",
       "      <th></th>\n",
       "      <th></th>\n",
       "      <th></th>\n",
       "      <th></th>\n",
       "      <th></th>\n",
       "      <th></th>\n",
       "      <th></th>\n",
       "    </tr>\n",
       "  </thead>\n",
       "  <tbody>\n",
       "    <tr>\n",
       "      <th>141</th>\n",
       "      <td>Carrie's Pizza Rolls</td>\n",
       "      <td>3521.8</td>\n",
       "      <td>108.1</td>\n",
       "      <td>39.0</td>\n",
       "      <td>183.9</td>\n",
       "      <td>2905.4</td>\n",
       "      <td>548.4</td>\n",
       "      <td>96.2</td>\n",
       "      <td>29.7</td>\n",
       "      <td>134.2</td>\n",
       "      <td>1.0</td>\n",
       "    </tr>\n",
       "    <tr>\n",
       "      <th>180</th>\n",
       "      <td>Chocolate Pound Cake</td>\n",
       "      <td>2905.2</td>\n",
       "      <td>168.7</td>\n",
       "      <td>101.2</td>\n",
       "      <td>1031.4</td>\n",
       "      <td>1092.8</td>\n",
       "      <td>321.9</td>\n",
       "      <td>9.2</td>\n",
       "      <td>178.0</td>\n",
       "      <td>38.2</td>\n",
       "      <td>1.0</td>\n",
       "    </tr>\n",
       "    <tr>\n",
       "      <th>273</th>\n",
       "      <td>Winter Pear Butter</td>\n",
       "      <td>2059.7</td>\n",
       "      <td>2.2</td>\n",
       "      <td>0.1</td>\n",
       "      <td>0.0</td>\n",
       "      <td>23.5</td>\n",
       "      <td>484.4</td>\n",
       "      <td>57.0</td>\n",
       "      <td>379.9</td>\n",
       "      <td>7.0</td>\n",
       "      <td>1.0</td>\n",
       "    </tr>\n",
       "    <tr>\n",
       "      <th>396</th>\n",
       "      <td>Linda'a Guadalajara - Style Burritos</td>\n",
       "      <td>5890.2</td>\n",
       "      <td>215.8</td>\n",
       "      <td>86.7</td>\n",
       "      <td>541.8</td>\n",
       "      <td>12001.9</td>\n",
       "      <td>698.1</td>\n",
       "      <td>74.0</td>\n",
       "      <td>40.7</td>\n",
       "      <td>273.4</td>\n",
       "      <td>1.0</td>\n",
       "    </tr>\n",
       "    <tr>\n",
       "      <th>401</th>\n",
       "      <td>Banana Marshmallow Ice Cream (Still-Freeze)</td>\n",
       "      <td>4680.1</td>\n",
       "      <td>319.1</td>\n",
       "      <td>198.0</td>\n",
       "      <td>1175.4</td>\n",
       "      <td>608.6</td>\n",
       "      <td>458.5</td>\n",
       "      <td>11.9</td>\n",
       "      <td>326.8</td>\n",
       "      <td>33.8</td>\n",
       "      <td>1.0</td>\n",
       "    </tr>\n",
       "    <tr>\n",
       "      <th>...</th>\n",
       "      <td>...</td>\n",
       "      <td>...</td>\n",
       "      <td>...</td>\n",
       "      <td>...</td>\n",
       "      <td>...</td>\n",
       "      <td>...</td>\n",
       "      <td>...</td>\n",
       "      <td>...</td>\n",
       "      <td>...</td>\n",
       "      <td>...</td>\n",
       "      <td>...</td>\n",
       "    </tr>\n",
       "    <tr>\n",
       "      <th>513593</th>\n",
       "      <td>Kfc Copycat Chicken</td>\n",
       "      <td>2006.5</td>\n",
       "      <td>175.5</td>\n",
       "      <td>24.8</td>\n",
       "      <td>156.4</td>\n",
       "      <td>1877.7</td>\n",
       "      <td>83.9</td>\n",
       "      <td>8.3</td>\n",
       "      <td>2.2</td>\n",
       "      <td>30.8</td>\n",
       "      <td>4.0</td>\n",
       "    </tr>\n",
       "    <tr>\n",
       "      <th>514104</th>\n",
       "      <td>Popeye's Popcorn Shrimp and Chicken</td>\n",
       "      <td>12571.5</td>\n",
       "      <td>1332.7</td>\n",
       "      <td>176.0</td>\n",
       "      <td>994.8</td>\n",
       "      <td>8752.9</td>\n",
       "      <td>80.0</td>\n",
       "      <td>8.1</td>\n",
       "      <td>1.4</td>\n",
       "      <td>110.8</td>\n",
       "      <td>1.0</td>\n",
       "    </tr>\n",
       "    <tr>\n",
       "      <th>522194</th>\n",
       "      <td>Haleem</td>\n",
       "      <td>2484.8</td>\n",
       "      <td>74.0</td>\n",
       "      <td>35.7</td>\n",
       "      <td>250.3</td>\n",
       "      <td>2783.3</td>\n",
       "      <td>384.9</td>\n",
       "      <td>64.7</td>\n",
       "      <td>6.3</td>\n",
       "      <td>97.0</td>\n",
       "      <td>6.0</td>\n",
       "    </tr>\n",
       "    <tr>\n",
       "      <th>522517</th>\n",
       "      <td>Lettuce Wrap Fish Tacos</td>\n",
       "      <td>3041.6</td>\n",
       "      <td>284.2</td>\n",
       "      <td>29.2</td>\n",
       "      <td>177.5</td>\n",
       "      <td>2460.3</td>\n",
       "      <td>84.1</td>\n",
       "      <td>18.0</td>\n",
       "      <td>9.2</td>\n",
       "      <td>54.9</td>\n",
       "      <td>2.0</td>\n",
       "    </tr>\n",
       "    <tr>\n",
       "      <th>522775</th>\n",
       "      <td>Deep Dish Watermelon Ice Cream Cake</td>\n",
       "      <td>3123.0</td>\n",
       "      <td>204.2</td>\n",
       "      <td>126.5</td>\n",
       "      <td>790.5</td>\n",
       "      <td>935.6</td>\n",
       "      <td>285.7</td>\n",
       "      <td>7.4</td>\n",
       "      <td>253.6</td>\n",
       "      <td>41.8</td>\n",
       "      <td>1.0</td>\n",
       "    </tr>\n",
       "  </tbody>\n",
       "</table>\n",
       "<p>945 rows × 11 columns</p>\n",
       "</div>"
      ],
      "text/plain": [
       "                                                 Name Calories FatContent  \\\n",
       "RecipeId                                                                    \n",
       "141                              Carrie's Pizza Rolls   3521.8      108.1   \n",
       "180                              Chocolate Pound Cake   2905.2      168.7   \n",
       "273                                Winter Pear Butter   2059.7        2.2   \n",
       "396              Linda'a Guadalajara - Style Burritos   5890.2      215.8   \n",
       "401       Banana Marshmallow Ice Cream (Still-Freeze)   4680.1      319.1   \n",
       "...                                               ...      ...        ...   \n",
       "513593                            Kfc Copycat Chicken   2006.5      175.5   \n",
       "514104            Popeye's Popcorn Shrimp and Chicken  12571.5     1332.7   \n",
       "522194                                         Haleem   2484.8       74.0   \n",
       "522517                        Lettuce Wrap Fish Tacos   3041.6      284.2   \n",
       "522775            Deep Dish Watermelon Ice Cream Cake   3123.0      204.2   \n",
       "\n",
       "         SaturatedFatContent CholesterolContent SodiumContent  \\\n",
       "RecipeId                                                        \n",
       "141                     39.0              183.9        2905.4   \n",
       "180                    101.2             1031.4        1092.8   \n",
       "273                      0.1                0.0          23.5   \n",
       "396                     86.7              541.8       12001.9   \n",
       "401                    198.0             1175.4         608.6   \n",
       "...                      ...                ...           ...   \n",
       "513593                  24.8              156.4        1877.7   \n",
       "514104                 176.0              994.8        8752.9   \n",
       "522194                  35.7              250.3        2783.3   \n",
       "522517                  29.2              177.5        2460.3   \n",
       "522775                 126.5              790.5         935.6   \n",
       "\n",
       "         CarbohydrateContent FiberContent SugarContent ProteinContent  \\\n",
       "RecipeId                                                                \n",
       "141                    548.4         96.2         29.7          134.2   \n",
       "180                    321.9          9.2        178.0           38.2   \n",
       "273                    484.4         57.0        379.9            7.0   \n",
       "396                    698.1         74.0         40.7          273.4   \n",
       "401                    458.5         11.9        326.8           33.8   \n",
       "...                      ...          ...          ...            ...   \n",
       "513593                  83.9          8.3          2.2           30.8   \n",
       "514104                  80.0          8.1          1.4          110.8   \n",
       "522194                 384.9         64.7          6.3           97.0   \n",
       "522517                  84.1         18.0          9.2           54.9   \n",
       "522775                 285.7          7.4        253.6           41.8   \n",
       "\n",
       "         RecipeServings  \n",
       "RecipeId                 \n",
       "141                 1.0  \n",
       "180                 1.0  \n",
       "273                 1.0  \n",
       "396                 1.0  \n",
       "401                 1.0  \n",
       "...                 ...  \n",
       "513593              4.0  \n",
       "514104              1.0  \n",
       "522194              6.0  \n",
       "522517              2.0  \n",
       "522775              1.0  \n",
       "\n",
       "[945 rows x 11 columns]"
      ]
     },
     "execution_count": 136,
     "metadata": {},
     "output_type": "execute_result"
    }
   ],
   "source": [
    "nutrition.loc[nutrition.Calories>2000]"
   ]
  },
  {
   "cell_type": "code",
   "execution_count": null,
   "metadata": {},
   "outputs": [],
   "source": []
  }
 ],
 "metadata": {
  "kernelspec": {
   "display_name": "Python 3",
   "language": "python",
   "name": "python3"
  },
  "language_info": {
   "codemirror_mode": {
    "name": "ipython",
    "version": 3
   },
   "file_extension": ".py",
   "mimetype": "text/x-python",
   "name": "python",
   "nbconvert_exporter": "python",
   "pygments_lexer": "ipython3",
   "version": "3.11.3"
  }
 },
 "nbformat": 4,
 "nbformat_minor": 2
}
