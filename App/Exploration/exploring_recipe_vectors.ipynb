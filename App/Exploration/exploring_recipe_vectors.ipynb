{
 "cells": [
  {
   "cell_type": "code",
   "execution_count": 9,
   "metadata": {},
   "outputs": [],
   "source": [
    "import pandas as pd\n",
    "import numpy as np"
   ]
  },
  {
   "cell_type": "code",
   "execution_count": 22,
   "metadata": {},
   "outputs": [],
   "source": [
    "recipes_df = pd.read_pickle(\"../../data/clean_columns/regiondatav0.pk\")"
   ]
  },
  {
   "cell_type": "code",
   "execution_count": 23,
   "metadata": {},
   "outputs": [
    {
     "data": {
      "text/html": [
       "<div>\n",
       "<style scoped>\n",
       "    .dataframe tbody tr th:only-of-type {\n",
       "        vertical-align: middle;\n",
       "    }\n",
       "\n",
       "    .dataframe tbody tr th {\n",
       "        vertical-align: top;\n",
       "    }\n",
       "\n",
       "    .dataframe thead th {\n",
       "        text-align: right;\n",
       "    }\n",
       "</style>\n",
       "<table border=\"1\" class=\"dataframe\">\n",
       "  <thead>\n",
       "    <tr style=\"text-align: right;\">\n",
       "      <th></th>\n",
       "      <th>Name</th>\n",
       "      <th>RegionKeywords</th>\n",
       "      <th>Regions</th>\n",
       "      <th>Countries</th>\n",
       "    </tr>\n",
       "    <tr>\n",
       "      <th>RecipeId</th>\n",
       "      <th></th>\n",
       "      <th></th>\n",
       "      <th></th>\n",
       "      <th></th>\n",
       "    </tr>\n",
       "  </thead>\n",
       "  <tbody>\n",
       "    <tr>\n",
       "      <th>49</th>\n",
       "      <td>chicken breasts lombardi</td>\n",
       "      <td>[italian, european]</td>\n",
       "      <td>[italian]</td>\n",
       "      <td>[italian]</td>\n",
       "    </tr>\n",
       "    <tr>\n",
       "      <th>55</th>\n",
       "      <td>betty crocker's southwestern guacamole dip</td>\n",
       "      <td>[southwestern u.s., mexican]</td>\n",
       "      <td>[southwestern u.s., mexican]</td>\n",
       "      <td>[southwestern u.s., mexican]</td>\n",
       "    </tr>\n",
       "    <tr>\n",
       "      <th>58</th>\n",
       "      <td>low-fat burgundy beef &amp; vegetable stew</td>\n",
       "      <td>[french]</td>\n",
       "      <td>[french]</td>\n",
       "      <td>[french]</td>\n",
       "    </tr>\n",
       "    <tr>\n",
       "      <th>59</th>\n",
       "      <td>lou's fabulous bruschetta</td>\n",
       "      <td>[italian, european]</td>\n",
       "      <td>[italian]</td>\n",
       "      <td>[italian]</td>\n",
       "    </tr>\n",
       "    <tr>\n",
       "      <th>62</th>\n",
       "      <td>black bean, corn, and tomato salad</td>\n",
       "      <td>[polish]</td>\n",
       "      <td>[polish]</td>\n",
       "      <td>[polish]</td>\n",
       "    </tr>\n",
       "    <tr>\n",
       "      <th>...</th>\n",
       "      <td>...</td>\n",
       "      <td>...</td>\n",
       "      <td>...</td>\n",
       "      <td>...</td>\n",
       "    </tr>\n",
       "    <tr>\n",
       "      <th>539115</th>\n",
       "      <td>dutch fried potatoes (gebakken aardappelen)</td>\n",
       "      <td>[dutch, european]</td>\n",
       "      <td>[dutch]</td>\n",
       "      <td>[dutch]</td>\n",
       "    </tr>\n",
       "    <tr>\n",
       "      <th>539152</th>\n",
       "      <td>stir fried noodles (mie goreng)</td>\n",
       "      <td>[dutch, asian, european, indonesian]</td>\n",
       "      <td>[dutch, indonesian]</td>\n",
       "      <td>[dutch, indonesian]</td>\n",
       "    </tr>\n",
       "    <tr>\n",
       "      <th>539182</th>\n",
       "      <td>cinnamony sweet moroccan orange salad</td>\n",
       "      <td>[african, moroccan]</td>\n",
       "      <td>[moroccan]</td>\n",
       "      <td>[moroccan]</td>\n",
       "    </tr>\n",
       "    <tr>\n",
       "      <th>539184</th>\n",
       "      <td>belgian chocolate-fudge sauce</td>\n",
       "      <td>[european, belgian]</td>\n",
       "      <td>[belgian]</td>\n",
       "      <td>[belgian]</td>\n",
       "    </tr>\n",
       "    <tr>\n",
       "      <th>540263</th>\n",
       "      <td>ho chi minh limeade</td>\n",
       "      <td>[vietnamese]</td>\n",
       "      <td>[vietnamese]</td>\n",
       "      <td>[vietnamese]</td>\n",
       "    </tr>\n",
       "  </tbody>\n",
       "</table>\n",
       "<p>42836 rows × 4 columns</p>\n",
       "</div>"
      ],
      "text/plain": [
       "                                                 Name  \\\n",
       "RecipeId                                                \n",
       "49                           chicken breasts lombardi   \n",
       "55         betty crocker's southwestern guacamole dip   \n",
       "58             low-fat burgundy beef & vegetable stew   \n",
       "59                          lou's fabulous bruschetta   \n",
       "62                 black bean, corn, and tomato salad   \n",
       "...                                               ...   \n",
       "539115    dutch fried potatoes (gebakken aardappelen)   \n",
       "539152                stir fried noodles (mie goreng)   \n",
       "539182          cinnamony sweet moroccan orange salad   \n",
       "539184                  belgian chocolate-fudge sauce   \n",
       "540263                            ho chi minh limeade   \n",
       "\n",
       "                                RegionKeywords                       Regions  \\\n",
       "RecipeId                                                                       \n",
       "49                         [italian, european]                     [italian]   \n",
       "55                [southwestern u.s., mexican]  [southwestern u.s., mexican]   \n",
       "58                                    [french]                      [french]   \n",
       "59                         [italian, european]                     [italian]   \n",
       "62                                    [polish]                      [polish]   \n",
       "...                                        ...                           ...   \n",
       "539115                       [dutch, european]                       [dutch]   \n",
       "539152    [dutch, asian, european, indonesian]           [dutch, indonesian]   \n",
       "539182                     [african, moroccan]                    [moroccan]   \n",
       "539184                     [european, belgian]                     [belgian]   \n",
       "540263                            [vietnamese]                  [vietnamese]   \n",
       "\n",
       "                             Countries  \n",
       "RecipeId                                \n",
       "49                           [italian]  \n",
       "55        [southwestern u.s., mexican]  \n",
       "58                            [french]  \n",
       "59                           [italian]  \n",
       "62                            [polish]  \n",
       "...                                ...  \n",
       "539115                         [dutch]  \n",
       "539152             [dutch, indonesian]  \n",
       "539182                      [moroccan]  \n",
       "539184                       [belgian]  \n",
       "540263                    [vietnamese]  \n",
       "\n",
       "[42836 rows x 4 columns]"
      ]
     },
     "execution_count": 23,
     "metadata": {},
     "output_type": "execute_result"
    }
   ],
   "source": [
    "recipes_df"
   ]
  },
  {
   "cell_type": "code",
   "execution_count": 13,
   "metadata": {},
   "outputs": [],
   "source": [
    "rvs = pd.read_pickle(\"../../Models/RecipeVectorsFull.pk\")"
   ]
  },
  {
   "cell_type": "code",
   "execution_count": 5,
   "metadata": {},
   "outputs": [
    {
     "data": {
      "text/plain": [
       "array([-0.1431959 , -0.20815051])"
      ]
     },
     "execution_count": 5,
     "metadata": {},
     "output_type": "execute_result"
    }
   ],
   "source": [
    "dict = rvs.SVDvec.to_dict()\n",
    "dict[44]"
   ]
  },
  {
   "cell_type": "code",
   "execution_count": 11,
   "metadata": {},
   "outputs": [],
   "source": [
    "# User 1533\n",
    "user_svd_vec = np.array([0.091493, -0.148748])"
   ]
  },
  {
   "cell_type": "code",
   "execution_count": 12,
   "metadata": {},
   "outputs": [
    {
     "data": {
      "text/plain": [
       "0.01786054848836375"
      ]
     },
     "execution_count": 12,
     "metadata": {},
     "output_type": "execute_result"
    }
   ],
   "source": [
    "np.dot(user_svd_vec, dict[44])"
   ]
  },
  {
   "cell_type": "code",
   "execution_count": 18,
   "metadata": {},
   "outputs": [
    {
     "data": {
      "text/html": [
       "<div>\n",
       "<style scoped>\n",
       "    .dataframe tbody tr th:only-of-type {\n",
       "        vertical-align: middle;\n",
       "    }\n",
       "\n",
       "    .dataframe tbody tr th {\n",
       "        vertical-align: top;\n",
       "    }\n",
       "\n",
       "    .dataframe thead th {\n",
       "        text-align: right;\n",
       "    }\n",
       "</style>\n",
       "<table border=\"1\" class=\"dataframe\">\n",
       "  <thead>\n",
       "    <tr style=\"text-align: right;\">\n",
       "      <th></th>\n",
       "      <th>Name</th>\n",
       "      <th>Description</th>\n",
       "      <th>SemanticVector</th>\n",
       "      <th>SVDvec</th>\n",
       "    </tr>\n",
       "    <tr>\n",
       "      <th>RecipeId</th>\n",
       "      <th></th>\n",
       "      <th></th>\n",
       "      <th></th>\n",
       "      <th></th>\n",
       "    </tr>\n",
       "  </thead>\n",
       "  <tbody>\n",
       "    <tr>\n",
       "      <th>10870</th>\n",
       "      <td>Boozy Bourbon Chicken</td>\n",
       "      <td>\" A favorite named after Bourbon Street in New...</td>\n",
       "      <td>[-0.01816513, -0.058726396, -0.012852045, -0.0...</td>\n",
       "      <td>[-0.147580775353232, -0.20917873918974497]</td>\n",
       "    </tr>\n",
       "    <tr>\n",
       "      <th>39808</th>\n",
       "      <td>Cajun Bourbon Chicken Bites</td>\n",
       "      <td>This is a copycat recipe for the cajun chicken...</td>\n",
       "      <td>[-0.07492201, 0.011060461, 0.0020915207, 0.006...</td>\n",
       "      <td>[0.06823288893969903, -0.06699110572053375]</td>\n",
       "    </tr>\n",
       "    <tr>\n",
       "      <th>45809</th>\n",
       "      <td>Bourbon Chicken</td>\n",
       "      <td>I searched and finally found this recipe on th...</td>\n",
       "      <td>[-0.063377045, 0.004806086, -0.01305519, 0.008...</td>\n",
       "      <td>[11.957829949361233, 2.048545436526544]</td>\n",
       "    </tr>\n",
       "    <tr>\n",
       "      <th>160446</th>\n",
       "      <td>The Best Bourbon Chicken!</td>\n",
       "      <td>This chicken tastes just like the stuff that t...</td>\n",
       "      <td>[-0.007864329, -0.10293491, -0.004225886, -0.0...</td>\n",
       "      <td>[-0.0072653180103917905, -0.11320104901127875]</td>\n",
       "    </tr>\n",
       "    <tr>\n",
       "      <th>365827</th>\n",
       "      <td>Incredible Bourbon Chicken</td>\n",
       "      <td>Make and share this Incredible Bourbon Chicken...</td>\n",
       "      <td>[-0.05376751, -0.07079572, 0.006915495, 0.0635...</td>\n",
       "      <td>[-0.1331658269013031, -0.14495898109591848]</td>\n",
       "    </tr>\n",
       "  </tbody>\n",
       "</table>\n",
       "</div>"
      ],
      "text/plain": [
       "                                 Name  \\\n",
       "RecipeId                                \n",
       "10870           Boozy Bourbon Chicken   \n",
       "39808     Cajun Bourbon Chicken Bites   \n",
       "45809                 Bourbon Chicken   \n",
       "160446      The Best Bourbon Chicken!   \n",
       "365827     Incredible Bourbon Chicken   \n",
       "\n",
       "                                                Description  \\\n",
       "RecipeId                                                      \n",
       "10870     \" A favorite named after Bourbon Street in New...   \n",
       "39808     This is a copycat recipe for the cajun chicken...   \n",
       "45809     I searched and finally found this recipe on th...   \n",
       "160446    This chicken tastes just like the stuff that t...   \n",
       "365827    Make and share this Incredible Bourbon Chicken...   \n",
       "\n",
       "                                             SemanticVector  \\\n",
       "RecipeId                                                      \n",
       "10870     [-0.01816513, -0.058726396, -0.012852045, -0.0...   \n",
       "39808     [-0.07492201, 0.011060461, 0.0020915207, 0.006...   \n",
       "45809     [-0.063377045, 0.004806086, -0.01305519, 0.008...   \n",
       "160446    [-0.007864329, -0.10293491, -0.004225886, -0.0...   \n",
       "365827    [-0.05376751, -0.07079572, 0.006915495, 0.0635...   \n",
       "\n",
       "                                                  SVDvec  \n",
       "RecipeId                                                  \n",
       "10870         [-0.147580775353232, -0.20917873918974497]  \n",
       "39808        [0.06823288893969903, -0.06699110572053375]  \n",
       "45809            [11.957829949361233, 2.048545436526544]  \n",
       "160446    [-0.0072653180103917905, -0.11320104901127875]  \n",
       "365827       [-0.1331658269013031, -0.14495898109591848]  "
      ]
     },
     "execution_count": 18,
     "metadata": {},
     "output_type": "execute_result"
    }
   ],
   "source": [
    "rvs[rvs.Name.str.contains(\"Bourbon Chicken\")]"
   ]
  },
  {
   "cell_type": "markdown",
   "metadata": {},
   "source": [
    "Wrong kind of vectors. We need sentiment analysis vectors. "
   ]
  }
 ],
 "metadata": {
  "kernelspec": {
   "display_name": "Python 3",
   "language": "python",
   "name": "python3"
  },
  "language_info": {
   "codemirror_mode": {
    "name": "ipython",
    "version": 3
   },
   "file_extension": ".py",
   "mimetype": "text/x-python",
   "name": "python",
   "nbconvert_exporter": "python",
   "pygments_lexer": "ipython3",
   "version": "3.12.0"
  }
 },
 "nbformat": 4,
 "nbformat_minor": 2
}
